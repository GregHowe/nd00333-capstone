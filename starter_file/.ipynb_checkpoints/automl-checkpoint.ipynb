{
 "cells": [
  {
   "cell_type": "markdown",
   "metadata": {},
   "source": [
    "# Automated ML\n",
    "\n",
    "TODO: Import Dependencies. In the cell below, import all the dependencies that you will need to complete the project."
   ]
  },
  {
   "cell_type": "code",
   "execution_count": 1,
   "metadata": {
    "gather": {
     "logged": 1598423888013
    },
    "jupyter": {
     "outputs_hidden": false,
     "source_hidden": false
    },
    "nteract": {
     "transient": {
      "deleting": false
     }
    },
    "scrolled": true
   },
   "outputs": [],
   "source": [
    "from azureml.core import Workspace, Experiment\n",
    "from azureml.core.compute import ComputeTarget, AmlCompute\n",
    "from azureml.core.compute_target import ComputeTargetException\n",
    "from azureml.widgets import RunDetails\n",
    "from azureml.train.automl import AutoMLConfig\n",
    "from azureml.core.dataset import Dataset"
   ]
  },
  {
   "cell_type": "markdown",
   "metadata": {},
   "source": [
    "## Dataset\n",
    "\n",
    "### Overview\n",
    "TODO: In this markdown cell, give an overview of the dataset you are using. Also mention the task you will be performing.\n",
    "\n",
    "\n",
    "TODO: Get data. In the cell below, write code to access the data you will be using in this project. Remember that the dataset needs to be external."
   ]
  },
  {
   "cell_type": "code",
   "execution_count": 2,
   "metadata": {
    "gather": {
     "logged": 1598423890461
    },
    "jupyter": {
     "outputs_hidden": false,
     "source_hidden": false
    },
    "nteract": {
     "transient": {
      "deleting": false
     }
    },
    "scrolled": true
   },
   "outputs": [
    {
     "name": "stdout",
     "output_type": "stream",
     "text": [
      "Workspace name: quick-starts-ws-134240\n",
      "Azure region: southcentralus\n",
      "Subscription id: a24a24d5-8d87-4c8a-99b6-91ed2d2df51f\n",
      "Resource group: aml-quickstarts-134240\n"
     ]
    }
   ],
   "source": [
    "ws = Workspace.from_config()\n",
    "\n",
    "# choose a name for experiment\n",
    "experiment_name = 'heart-failure-prediction-automl'\n",
    "\n",
    "experiment=Experiment(ws, experiment_name)\n",
    "\n",
    "print('Workspace name: ' + ws.name, \n",
    "      'Azure region: ' + ws.location, \n",
    "      'Subscription id: ' + ws.subscription_id, \n",
    "      'Resource group: ' + ws.resource_group, sep = '\\n')\n",
    "\n",
    "run = experiment.start_logging()\n",
    "\n",
    "path = \"https://raw.githubusercontent.com/jhonatantirado/nd00333-capstone/master/starter_file/heart_failure_clinical_records_dataset.csv\"\n",
    "dataset = Dataset.Tabular.from_delimited_files(path)"
   ]
  },
  {
   "cell_type": "code",
   "execution_count": 3,
   "metadata": {
    "scrolled": true
   },
   "outputs": [
    {
     "name": "stdout",
     "output_type": "stream",
     "text": [
      "Use existing cluster.\n",
      "Succeeded\n",
      "AmlCompute wait for completion finished\n",
      "\n",
      "Minimum number of nodes requested have been provisioned\n"
     ]
    }
   ],
   "source": [
    "cpu_cluster_name = \"simba-cluster\"\n",
    "\n",
    "try:\n",
    "    cpu_cluster = ComputeTarget(workspace=ws, name=cpu_cluster_name)\n",
    "    print('Use existing cluster.')\n",
    "except ComputeTargetException:\n",
    "    compute_config = AmlCompute.provisioning_configuration(vm_size='Standard_D2_V2',\n",
    "                                                           max_nodes=4)\n",
    "    cpu_cluster = ComputeTarget.create(ws, cpu_cluster_name, compute_config)\n",
    "\n",
    "cpu_cluster.wait_for_completion(show_output=True)"
   ]
  },
  {
   "cell_type": "markdown",
   "metadata": {},
   "source": [
    "## AutoML Configuration\n",
    "\n",
    "TODO: Explain why you chose the automl settings and cofiguration you used below."
   ]
  },
  {
   "cell_type": "code",
   "execution_count": 4,
   "metadata": {
    "gather": {
     "logged": 1598429217746
    },
    "jupyter": {
     "outputs_hidden": false,
     "source_hidden": false
    },
    "nteract": {
     "transient": {
      "deleting": false
     }
    },
    "scrolled": true
   },
   "outputs": [],
   "source": [
    "# TODO: Put your automl settings here\n",
    "automl_settings = {\"experiment_timeout_minutes\": 20,\n",
    "    \"max_concurrent_iterations\": 4,\n",
    "    \"primary_metric\" : 'accuracy'}\n",
    "\n",
    "# TODO: Put your automl config here\n",
    "automl_config = AutoMLConfig(compute_target=cpu_cluster,\n",
    "                             task = \"classification\",\n",
    "                             training_data=dataset,\n",
    "                             label_column_name=\"DEATH_EVENT\",   \n",
    "                             enable_early_stopping= True,\n",
    "                             featurization= 'auto',\n",
    "                             debug_log = \"automl_errors.log\",\n",
    "                             **automl_settings)"
   ]
  },
  {
   "cell_type": "code",
   "execution_count": 5,
   "metadata": {
    "gather": {
     "logged": 1598431107951
    },
    "jupyter": {
     "outputs_hidden": false,
     "source_hidden": false
    },
    "nteract": {
     "transient": {
      "deleting": false
     }
    },
    "scrolled": true
   },
   "outputs": [
    {
     "name": "stdout",
     "output_type": "stream",
     "text": [
      "Running on remote.\n",
      "No run_configuration provided, running on simba-cluster with default configuration\n",
      "Running on remote compute: simba-cluster\n",
      "Parent Run ID: AutoML_a1d5996a-6c2e-4b16-b83d-406b66c606ee\n",
      "\n",
      "Current status: FeaturesGeneration. Generating features for the dataset.\n",
      "Current status: DatasetCrossValidationSplit. Generating individually featurized CV splits.\n",
      "Current status: ModelSelection. Beginning model selection.\n",
      "\n",
      "****************************************************************************************************\n",
      "DATA GUARDRAILS: \n",
      "\n",
      "TYPE:         Cross validation\n",
      "STATUS:       DONE\n",
      "DESCRIPTION:  Each iteration of the trained model was validated through cross-validation.\n",
      "              \n",
      "DETAILS:      \n",
      "+---------------------------------+\n",
      "|Number of folds                  |\n",
      "+=================================+\n",
      "|10                               |\n",
      "+---------------------------------+\n",
      "\n",
      "****************************************************************************************************\n",
      "\n",
      "TYPE:         Class balancing detection\n",
      "STATUS:       PASSED\n",
      "DESCRIPTION:  Your inputs were analyzed, and all classes are balanced in your training data.\n",
      "              Learn more about imbalanced data: https://aka.ms/AutomatedMLImbalancedData\n",
      "\n",
      "****************************************************************************************************\n",
      "\n",
      "TYPE:         Missing feature values imputation\n",
      "STATUS:       PASSED\n",
      "DESCRIPTION:  No feature missing values were detected in the training data.\n",
      "              Learn more about missing value imputation: https://aka.ms/AutomatedMLFeaturization\n",
      "\n",
      "****************************************************************************************************\n",
      "\n",
      "TYPE:         High cardinality feature detection\n",
      "STATUS:       PASSED\n",
      "DESCRIPTION:  Your inputs were analyzed, and no high cardinality features were detected.\n",
      "              Learn more about high cardinality feature handling: https://aka.ms/AutomatedMLFeaturization\n",
      "\n",
      "****************************************************************************************************\n",
      "\n",
      "****************************************************************************************************\n",
      "ITERATION: The iteration being evaluated.\n",
      "PIPELINE: A summary description of the pipeline being evaluated.\n",
      "DURATION: Time taken for the current iteration.\n",
      "METRIC: The result of computing score on the fitted pipeline.\n",
      "BEST: The best observed score thus far.\n",
      "****************************************************************************************************\n",
      "\n",
      " ITERATION   PIPELINE                                       DURATION      METRIC      BEST\n",
      "         3                                                  0:00:03          nan       nan\n",
      "         0   MaxAbsScaler LightGBM                          0:00:42       0.8360    0.8360\n",
      "         2   MinMaxScaler RandomForest                      0:00:48       0.8461    0.8461\n",
      "         6                                                  0:00:03          nan    0.8461\n",
      "         1   MaxAbsScaler XGBoostClassifier                 0:02:01       0.8359    0.8461\n",
      "         8   SparseNormalizer XGBoostClassifier             0:00:49       0.8398    0.8461\n",
      "         9   RobustScaler LightGBM                          0:00:55       0.8224    0.8461\n",
      "         5   StandardScalerWrapper LightGBM                 0:03:21       0.8493    0.8493\n",
      "         4   MinMaxScaler RandomForest                      0:03:23       0.8291    0.8493\n",
      "        10   StandardScalerWrapper LightGBM                 0:00:47       0.7761    0.8493\n",
      "         7   StandardScalerWrapper XGBoostClassifier        0:03:32       0.8462    0.8493\n",
      "        11   RobustScaler LightGBM                          0:00:48       0.7860    0.8493\n",
      "        12   StandardScalerWrapper LightGBM                 0:00:43       0.8192    0.8493\n",
      "        13   RobustScaler KNN                               0:00:46       0.7293    0.8493\n",
      "        14   RobustScaler LightGBM                          0:00:43       0.8392    0.8493\n",
      "        15   MaxAbsScaler LightGBM                          0:00:43       0.7893    0.8493\n",
      "        16   RobustScaler ExtremeRandomTrees                0:00:43       0.8257    0.8493\n",
      "        17   TruncatedSVDWrapper XGBoostClassifier          0:00:46       0.7589    0.8493\n",
      "        18   MinMaxScaler LightGBM                          0:00:42       0.8361    0.8493\n",
      "        19   SparseNormalizer ExtremeRandomTrees            0:00:43       0.7790    0.8493\n",
      "        20   SparseNormalizer XGBoostClassifier             0:00:46       0.8461    0.8493\n",
      "        22   SparseNormalizer XGBoostClassifier             0:00:42       0.8197    0.8493\n",
      "        21   SparseNormalizer XGBoostClassifier             0:00:54       0.8229    0.8493\n",
      "        24   MaxAbsScaler LightGBM                          0:00:43       0.6792    0.8493\n",
      "        25   MaxAbsScaler ExtremeRandomTrees                0:00:42       0.8461    0.8493\n",
      "        23   StandardScalerWrapper LightGBM                 0:01:01       0.8361    0.8493\n",
      "        26   StandardScalerWrapper LightGBM                 0:00:46       0.8093    0.8493\n",
      "        27   SparseNormalizer XGBoostClassifier             0:00:44       0.8429    0.8493\n",
      "        28   StandardScalerWrapper RandomForest             0:00:40       0.8356    0.8493\n",
      "        29   SparseNormalizer XGBoostClassifier             0:00:47       0.8362    0.8493\n",
      "        30   StandardScalerWrapper LightGBM                 0:00:43       0.6792    0.8493\n",
      "        31   StandardScalerWrapper LogisticRegression       0:00:49       0.8059    0.8493\n",
      "        32   TruncatedSVDWrapper XGBoostClassifier          0:00:45       0.7820    0.8493\n",
      "        33   TruncatedSVDWrapper XGBoostClassifier          0:00:40       0.7890    0.8493\n",
      "        34   SparseNormalizer LightGBM                      0:00:42       0.8395    0.8493\n",
      "        36    StackEnsemble                                 0:01:51       0.8529    0.8529\n",
      "        35    VotingEnsemble                                0:01:48       0.8730    0.8730\n"
     ]
    }
   ],
   "source": [
    "# TODO: Submit your experiment\n",
    "remote_run = experiment.submit(automl_config, show_output=True)"
   ]
  },
  {
   "cell_type": "markdown",
   "metadata": {},
   "source": [
    "## Run Details\n",
    "\n",
    "OPTIONAL: Write about the different models trained and their performance. Why do you think some models did better than others?\n",
    "\n",
    "TODO: In the cell below, use the `RunDetails` widget to show the different experiments."
   ]
  },
  {
   "cell_type": "code",
   "execution_count": 6,
   "metadata": {
    "gather": {
     "logged": 1598431121770
    },
    "jupyter": {
     "outputs_hidden": false,
     "source_hidden": false
    },
    "nteract": {
     "transient": {
      "deleting": false
     }
    },
    "scrolled": true
   },
   "outputs": [
    {
     "data": {
      "application/vnd.jupyter.widget-view+json": {
       "model_id": "7ec7ffe9162945ab962a1bba85c1b2b1",
       "version_major": 2,
       "version_minor": 0
      },
      "text/plain": [
       "_AutoMLWidget(widget_settings={'childWidgetDisplay': 'popup', 'send_telemetry': False, 'log_level': 'INFO', 's…"
      ]
     },
     "metadata": {},
     "output_type": "display_data"
    },
    {
     "data": {
      "application/aml.mini.widget.v1": "{\"status\": \"Completed\", \"workbench_run_details_uri\": \"https://ml.azure.com/experiments/heart-failure-prediction-automl/runs/AutoML_a1d5996a-6c2e-4b16-b83d-406b66c606ee?wsid=/subscriptions/a24a24d5-8d87-4c8a-99b6-91ed2d2df51f/resourcegroups/aml-quickstarts-134240/workspaces/quick-starts-ws-134240\", \"run_id\": \"AutoML_a1d5996a-6c2e-4b16-b83d-406b66c606ee\", \"run_properties\": {\"run_id\": \"AutoML_a1d5996a-6c2e-4b16-b83d-406b66c606ee\", \"created_utc\": \"2021-01-10T16:19:21.319989Z\", \"properties\": {\"num_iterations\": \"1000\", \"training_type\": \"TrainFull\", \"acquisition_function\": \"EI\", \"primary_metric\": \"accuracy\", \"train_split\": \"0\", \"acquisition_parameter\": \"0\", \"num_cross_validation\": null, \"target\": \"simba-cluster\", \"AMLSettingsJsonString\": \"{\\\"path\\\":null,\\\"name\\\":\\\"heart-failure-prediction-automl\\\",\\\"subscription_id\\\":\\\"a24a24d5-8d87-4c8a-99b6-91ed2d2df51f\\\",\\\"resource_group\\\":\\\"aml-quickstarts-134240\\\",\\\"workspace_name\\\":\\\"quick-starts-ws-134240\\\",\\\"region\\\":\\\"southcentralus\\\",\\\"compute_target\\\":\\\"simba-cluster\\\",\\\"spark_service\\\":null,\\\"azure_service\\\":\\\"remote\\\",\\\"many_models\\\":false,\\\"pipeline_fetch_max_batch_size\\\":1,\\\"iterations\\\":1000,\\\"primary_metric\\\":\\\"accuracy\\\",\\\"task_type\\\":\\\"classification\\\",\\\"data_script\\\":null,\\\"validation_size\\\":0.0,\\\"n_cross_validations\\\":null,\\\"y_min\\\":null,\\\"y_max\\\":null,\\\"num_classes\\\":null,\\\"featurization\\\":\\\"auto\\\",\\\"_ignore_package_version_incompatibilities\\\":false,\\\"is_timeseries\\\":false,\\\"max_cores_per_iteration\\\":1,\\\"max_concurrent_iterations\\\":4,\\\"iteration_timeout_minutes\\\":null,\\\"mem_in_mb\\\":null,\\\"enforce_time_on_windows\\\":false,\\\"experiment_timeout_minutes\\\":20,\\\"experiment_exit_score\\\":null,\\\"whitelist_models\\\":null,\\\"blacklist_algos\\\":[\\\"TensorFlowLinearClassifier\\\",\\\"TensorFlowDNN\\\"],\\\"supported_models\\\":[\\\"MultinomialNaiveBayes\\\",\\\"LogisticRegression\\\",\\\"SGD\\\",\\\"GradientBoosting\\\",\\\"XGBoostClassifier\\\",\\\"SVM\\\",\\\"DecisionTree\\\",\\\"LightGBM\\\",\\\"RandomForest\\\",\\\"LinearSVM\\\",\\\"TensorFlowDNN\\\",\\\"AveragedPerceptronClassifier\\\",\\\"BernoulliNaiveBayes\\\",\\\"TensorFlowLinearClassifier\\\",\\\"KNN\\\",\\\"ExtremeRandomTrees\\\"],\\\"auto_blacklist\\\":true,\\\"blacklist_samples_reached\\\":false,\\\"exclude_nan_labels\\\":true,\\\"verbosity\\\":20,\\\"_debug_log\\\":\\\"azureml_automl.log\\\",\\\"show_warnings\\\":false,\\\"model_explainability\\\":true,\\\"service_url\\\":null,\\\"sdk_url\\\":null,\\\"sdk_packages\\\":null,\\\"enable_onnx_compatible_models\\\":false,\\\"enable_split_onnx_featurizer_estimator_models\\\":false,\\\"vm_type\\\":\\\"STANDARD_D2_V2\\\",\\\"telemetry_verbosity\\\":20,\\\"send_telemetry\\\":true,\\\"enable_dnn\\\":false,\\\"scenario\\\":\\\"SDK-1.13.0\\\",\\\"environment_label\\\":null,\\\"force_text_dnn\\\":false,\\\"enable_feature_sweeping\\\":true,\\\"enable_early_stopping\\\":true,\\\"early_stopping_n_iters\\\":10,\\\"metrics\\\":null,\\\"enable_ensembling\\\":true,\\\"enable_stack_ensembling\\\":true,\\\"ensemble_iterations\\\":15,\\\"enable_tf\\\":false,\\\"enable_subsampling\\\":null,\\\"subsample_seed\\\":null,\\\"enable_nimbusml\\\":false,\\\"enable_streaming\\\":false,\\\"force_streaming\\\":false,\\\"track_child_runs\\\":true,\\\"allowed_private_models\\\":[],\\\"label_column_name\\\":\\\"DEATH_EVENT\\\",\\\"weight_column_name\\\":null,\\\"cv_split_column_names\\\":null,\\\"enable_local_managed\\\":false,\\\"_local_managed_run_id\\\":null,\\\"cost_mode\\\":1,\\\"lag_length\\\":0,\\\"metric_operation\\\":\\\"maximize\\\",\\\"preprocess\\\":true}\", \"DataPrepJsonString\": \"{\\\\\\\"training_data\\\\\\\": \\\\\\\"{\\\\\\\\\\\\\\\"blocks\\\\\\\\\\\\\\\": [{\\\\\\\\\\\\\\\"id\\\\\\\\\\\\\\\": \\\\\\\\\\\\\\\"c4582f11-4fe3-480d-b342-92be05325ed4\\\\\\\\\\\\\\\", \\\\\\\\\\\\\\\"type\\\\\\\\\\\\\\\": \\\\\\\\\\\\\\\"Microsoft.DPrep.GetFilesBlock\\\\\\\\\\\\\\\", \\\\\\\\\\\\\\\"arguments\\\\\\\\\\\\\\\": {\\\\\\\\\\\\\\\"isArchive\\\\\\\\\\\\\\\": false, \\\\\\\\\\\\\\\"path\\\\\\\\\\\\\\\": {\\\\\\\\\\\\\\\"target\\\\\\\\\\\\\\\": 4, \\\\\\\\\\\\\\\"resourceDetails\\\\\\\\\\\\\\\": [{\\\\\\\\\\\\\\\"path\\\\\\\\\\\\\\\": \\\\\\\\\\\\\\\"https://raw.githubusercontent.com/jhonatantirado/nd00333-capstone/master/starter_file/heart_failure_clinical_records_dataset.csv\\\\\\\\\\\\\\\"}]}}, \\\\\\\\\\\\\\\"localData\\\\\\\\\\\\\\\": {}, \\\\\\\\\\\\\\\"isEnabled\\\\\\\\\\\\\\\": true, \\\\\\\\\\\\\\\"name\\\\\\\\\\\\\\\": null, \\\\\\\\\\\\\\\"annotation\\\\\\\\\\\\\\\": null}, {\\\\\\\\\\\\\\\"id\\\\\\\\\\\\\\\": \\\\\\\\\\\\\\\"3e986c2d-8fdc-4731-9e15-a3348a176728\\\\\\\\\\\\\\\", \\\\\\\\\\\\\\\"type\\\\\\\\\\\\\\\": \\\\\\\\\\\\\\\"Microsoft.DPrep.ParseDelimitedBlock\\\\\\\\\\\\\\\", \\\\\\\\\\\\\\\"arguments\\\\\\\\\\\\\\\": {\\\\\\\\\\\\\\\"columnHeadersMode\\\\\\\\\\\\\\\": 3, \\\\\\\\\\\\\\\"fileEncoding\\\\\\\\\\\\\\\": 0, \\\\\\\\\\\\\\\"handleQuotedLineBreaks\\\\\\\\\\\\\\\": false, \\\\\\\\\\\\\\\"preview\\\\\\\\\\\\\\\": false, \\\\\\\\\\\\\\\"separator\\\\\\\\\\\\\\\": \\\\\\\\\\\\\\\",\\\\\\\\\\\\\\\", \\\\\\\\\\\\\\\"skipRows\\\\\\\\\\\\\\\": 0, \\\\\\\\\\\\\\\"skipRowsMode\\\\\\\\\\\\\\\": 0}, \\\\\\\\\\\\\\\"localData\\\\\\\\\\\\\\\": {}, \\\\\\\\\\\\\\\"isEnabled\\\\\\\\\\\\\\\": true, \\\\\\\\\\\\\\\"name\\\\\\\\\\\\\\\": null, \\\\\\\\\\\\\\\"annotation\\\\\\\\\\\\\\\": null}, {\\\\\\\\\\\\\\\"id\\\\\\\\\\\\\\\": \\\\\\\\\\\\\\\"ef251583-8b57-422d-ad5c-fb7b024c3638\\\\\\\\\\\\\\\", \\\\\\\\\\\\\\\"type\\\\\\\\\\\\\\\": \\\\\\\\\\\\\\\"Microsoft.DPrep.DropColumnsBlock\\\\\\\\\\\\\\\", \\\\\\\\\\\\\\\"arguments\\\\\\\\\\\\\\\": {\\\\\\\\\\\\\\\"columns\\\\\\\\\\\\\\\": {\\\\\\\\\\\\\\\"type\\\\\\\\\\\\\\\": 0, \\\\\\\\\\\\\\\"details\\\\\\\\\\\\\\\": {\\\\\\\\\\\\\\\"selectedColumns\\\\\\\\\\\\\\\": [\\\\\\\\\\\\\\\"Path\\\\\\\\\\\\\\\"]}}}, \\\\\\\\\\\\\\\"localData\\\\\\\\\\\\\\\": {}, \\\\\\\\\\\\\\\"isEnabled\\\\\\\\\\\\\\\": true, \\\\\\\\\\\\\\\"name\\\\\\\\\\\\\\\": null, \\\\\\\\\\\\\\\"annotation\\\\\\\\\\\\\\\": null}, {\\\\\\\\\\\\\\\"id\\\\\\\\\\\\\\\": \\\\\\\\\\\\\\\"aaf28032-3ea3-412c-9861-a8642cfe7afa\\\\\\\\\\\\\\\", \\\\\\\\\\\\\\\"type\\\\\\\\\\\\\\\": \\\\\\\\\\\\\\\"Microsoft.DPrep.SetColumnTypesBlock\\\\\\\\\\\\\\\", \\\\\\\\\\\\\\\"arguments\\\\\\\\\\\\\\\": {\\\\\\\\\\\\\\\"columnConversion\\\\\\\\\\\\\\\": [{\\\\\\\\\\\\\\\"column\\\\\\\\\\\\\\\": {\\\\\\\\\\\\\\\"type\\\\\\\\\\\\\\\": 2, \\\\\\\\\\\\\\\"details\\\\\\\\\\\\\\\": {\\\\\\\\\\\\\\\"selectedColumn\\\\\\\\\\\\\\\": \\\\\\\\\\\\\\\"age\\\\\\\\\\\\\\\"}}, \\\\\\\\\\\\\\\"typeProperty\\\\\\\\\\\\\\\": 3}, {\\\\\\\\\\\\\\\"column\\\\\\\\\\\\\\\": {\\\\\\\\\\\\\\\"type\\\\\\\\\\\\\\\": 2, \\\\\\\\\\\\\\\"details\\\\\\\\\\\\\\\": {\\\\\\\\\\\\\\\"selectedColumn\\\\\\\\\\\\\\\": \\\\\\\\\\\\\\\"anaemia\\\\\\\\\\\\\\\"}}, \\\\\\\\\\\\\\\"typeProperty\\\\\\\\\\\\\\\": 2}, {\\\\\\\\\\\\\\\"column\\\\\\\\\\\\\\\": {\\\\\\\\\\\\\\\"type\\\\\\\\\\\\\\\": 2, \\\\\\\\\\\\\\\"details\\\\\\\\\\\\\\\": {\\\\\\\\\\\\\\\"selectedColumn\\\\\\\\\\\\\\\": \\\\\\\\\\\\\\\"creatinine_phosphokinase\\\\\\\\\\\\\\\"}}, \\\\\\\\\\\\\\\"typeProperty\\\\\\\\\\\\\\\": 2}, {\\\\\\\\\\\\\\\"column\\\\\\\\\\\\\\\": {\\\\\\\\\\\\\\\"type\\\\\\\\\\\\\\\": 2, \\\\\\\\\\\\\\\"details\\\\\\\\\\\\\\\": {\\\\\\\\\\\\\\\"selectedColumn\\\\\\\\\\\\\\\": \\\\\\\\\\\\\\\"diabetes\\\\\\\\\\\\\\\"}}, \\\\\\\\\\\\\\\"typeProperty\\\\\\\\\\\\\\\": 2}, {\\\\\\\\\\\\\\\"column\\\\\\\\\\\\\\\": {\\\\\\\\\\\\\\\"type\\\\\\\\\\\\\\\": 2, \\\\\\\\\\\\\\\"details\\\\\\\\\\\\\\\": {\\\\\\\\\\\\\\\"selectedColumn\\\\\\\\\\\\\\\": \\\\\\\\\\\\\\\"ejection_fraction\\\\\\\\\\\\\\\"}}, \\\\\\\\\\\\\\\"typeProperty\\\\\\\\\\\\\\\": 2}, {\\\\\\\\\\\\\\\"column\\\\\\\\\\\\\\\": {\\\\\\\\\\\\\\\"type\\\\\\\\\\\\\\\": 2, \\\\\\\\\\\\\\\"details\\\\\\\\\\\\\\\": {\\\\\\\\\\\\\\\"selectedColumn\\\\\\\\\\\\\\\": \\\\\\\\\\\\\\\"high_blood_pressure\\\\\\\\\\\\\\\"}}, \\\\\\\\\\\\\\\"typeProperty\\\\\\\\\\\\\\\": 2}, {\\\\\\\\\\\\\\\"column\\\\\\\\\\\\\\\": {\\\\\\\\\\\\\\\"type\\\\\\\\\\\\\\\": 2, \\\\\\\\\\\\\\\"details\\\\\\\\\\\\\\\": {\\\\\\\\\\\\\\\"selectedColumn\\\\\\\\\\\\\\\": \\\\\\\\\\\\\\\"platelets\\\\\\\\\\\\\\\"}}, \\\\\\\\\\\\\\\"typeProperty\\\\\\\\\\\\\\\": 3}, {\\\\\\\\\\\\\\\"column\\\\\\\\\\\\\\\": {\\\\\\\\\\\\\\\"type\\\\\\\\\\\\\\\": 2, \\\\\\\\\\\\\\\"details\\\\\\\\\\\\\\\": {\\\\\\\\\\\\\\\"selectedColumn\\\\\\\\\\\\\\\": \\\\\\\\\\\\\\\"serum_creatinine\\\\\\\\\\\\\\\"}}, \\\\\\\\\\\\\\\"typeProperty\\\\\\\\\\\\\\\": 3}, {\\\\\\\\\\\\\\\"column\\\\\\\\\\\\\\\": {\\\\\\\\\\\\\\\"type\\\\\\\\\\\\\\\": 2, \\\\\\\\\\\\\\\"details\\\\\\\\\\\\\\\": {\\\\\\\\\\\\\\\"selectedColumn\\\\\\\\\\\\\\\": \\\\\\\\\\\\\\\"serum_sodium\\\\\\\\\\\\\\\"}}, \\\\\\\\\\\\\\\"typeProperty\\\\\\\\\\\\\\\": 2}, {\\\\\\\\\\\\\\\"column\\\\\\\\\\\\\\\": {\\\\\\\\\\\\\\\"type\\\\\\\\\\\\\\\": 2, \\\\\\\\\\\\\\\"details\\\\\\\\\\\\\\\": {\\\\\\\\\\\\\\\"selectedColumn\\\\\\\\\\\\\\\": \\\\\\\\\\\\\\\"sex\\\\\\\\\\\\\\\"}}, \\\\\\\\\\\\\\\"typeProperty\\\\\\\\\\\\\\\": 2}, {\\\\\\\\\\\\\\\"column\\\\\\\\\\\\\\\": {\\\\\\\\\\\\\\\"type\\\\\\\\\\\\\\\": 2, \\\\\\\\\\\\\\\"details\\\\\\\\\\\\\\\": {\\\\\\\\\\\\\\\"selectedColumn\\\\\\\\\\\\\\\": \\\\\\\\\\\\\\\"smoking\\\\\\\\\\\\\\\"}}, \\\\\\\\\\\\\\\"typeProperty\\\\\\\\\\\\\\\": 2}, {\\\\\\\\\\\\\\\"column\\\\\\\\\\\\\\\": {\\\\\\\\\\\\\\\"type\\\\\\\\\\\\\\\": 2, \\\\\\\\\\\\\\\"details\\\\\\\\\\\\\\\": {\\\\\\\\\\\\\\\"selectedColumn\\\\\\\\\\\\\\\": \\\\\\\\\\\\\\\"time\\\\\\\\\\\\\\\"}}, \\\\\\\\\\\\\\\"typeProperty\\\\\\\\\\\\\\\": 2}, {\\\\\\\\\\\\\\\"column\\\\\\\\\\\\\\\": {\\\\\\\\\\\\\\\"type\\\\\\\\\\\\\\\": 2, \\\\\\\\\\\\\\\"details\\\\\\\\\\\\\\\": {\\\\\\\\\\\\\\\"selectedColumn\\\\\\\\\\\\\\\": \\\\\\\\\\\\\\\"DEATH_EVENT\\\\\\\\\\\\\\\"}}, \\\\\\\\\\\\\\\"typeProperty\\\\\\\\\\\\\\\": 2}]}, \\\\\\\\\\\\\\\"localData\\\\\\\\\\\\\\\": {}, \\\\\\\\\\\\\\\"isEnabled\\\\\\\\\\\\\\\": true, \\\\\\\\\\\\\\\"name\\\\\\\\\\\\\\\": null, \\\\\\\\\\\\\\\"annotation\\\\\\\\\\\\\\\": null}], \\\\\\\\\\\\\\\"inspectors\\\\\\\\\\\\\\\": [], \\\\\\\\\\\\\\\"meta\\\\\\\\\\\\\\\": {\\\\\\\\\\\\\\\"savedDatasetId\\\\\\\\\\\\\\\": \\\\\\\\\\\\\\\"2390e7c3-2972-4848-bbfe-3f2f0620a09c\\\\\\\\\\\\\\\", \\\\\\\\\\\\\\\"datasetType\\\\\\\\\\\\\\\": \\\\\\\\\\\\\\\"tabular\\\\\\\\\\\\\\\", \\\\\\\\\\\\\\\"subscriptionId\\\\\\\\\\\\\\\": \\\\\\\\\\\\\\\"a24a24d5-8d87-4c8a-99b6-91ed2d2df51f\\\\\\\\\\\\\\\", \\\\\\\\\\\\\\\"workspaceId\\\\\\\\\\\\\\\": \\\\\\\\\\\\\\\"3e30245b-d51b-4659-93dd-cbe123a126af\\\\\\\\\\\\\\\", \\\\\\\\\\\\\\\"workspaceLocation\\\\\\\\\\\\\\\": \\\\\\\\\\\\\\\"southcentralus\\\\\\\\\\\\\\\"}}\\\\\\\", \\\\\\\"activities\\\\\\\": 0}\", \"EnableSubsampling\": null, \"runTemplate\": \"AutoML\", \"azureml.runsource\": \"automl\", \"display_task_type\": \"classification\", \"dependencies_versions\": \"{\\\"azureml-widgets\\\": \\\"1.19.0\\\", \\\"azureml-train\\\": \\\"1.19.0\\\", \\\"azureml-train-restclients-hyperdrive\\\": \\\"1.19.0\\\", \\\"azureml-train-core\\\": \\\"1.19.0\\\", \\\"azureml-train-automl\\\": \\\"1.19.0\\\", \\\"azureml-train-automl-runtime\\\": \\\"1.19.0\\\", \\\"azureml-train-automl-client\\\": \\\"1.19.0\\\", \\\"azureml-tensorboard\\\": \\\"1.19.0\\\", \\\"azureml-telemetry\\\": \\\"1.19.0\\\", \\\"azureml-sdk\\\": \\\"1.19.0\\\", \\\"azureml-samples\\\": \\\"0+unknown\\\", \\\"azureml-pipeline\\\": \\\"1.19.0\\\", \\\"azureml-pipeline-steps\\\": \\\"1.19.0\\\", \\\"azureml-pipeline-core\\\": \\\"1.19.0\\\", \\\"azureml-opendatasets\\\": \\\"1.19.0\\\", \\\"azureml-model-management-sdk\\\": \\\"1.0.1b6.post1\\\", \\\"azureml-mlflow\\\": \\\"1.19.0\\\", \\\"azureml-interpret\\\": \\\"1.19.0\\\", \\\"azureml-explain-model\\\": \\\"1.19.0\\\", \\\"azureml-defaults\\\": \\\"1.19.0\\\", \\\"azureml-dataset-runtime\\\": \\\"1.19.0\\\", \\\"azureml-dataprep\\\": \\\"2.6.1\\\", \\\"azureml-dataprep-rslex\\\": \\\"1.4.0\\\", \\\"azureml-dataprep-native\\\": \\\"26.0.0\\\", \\\"azureml-datadrift\\\": \\\"1.19.0\\\", \\\"azureml-core\\\": \\\"1.19.0\\\", \\\"azureml-contrib-services\\\": \\\"1.19.0\\\", \\\"azureml-contrib-server\\\": \\\"1.19.0\\\", \\\"azureml-contrib-reinforcementlearning\\\": \\\"1.19.0\\\", \\\"azureml-contrib-pipeline-steps\\\": \\\"1.19.0\\\", \\\"azureml-contrib-notebook\\\": \\\"1.19.0\\\", \\\"azureml-contrib-interpret\\\": \\\"1.19.0\\\", \\\"azureml-contrib-gbdt\\\": \\\"1.19.0\\\", \\\"azureml-contrib-fairness\\\": \\\"1.19.0\\\", \\\"azureml-contrib-dataset\\\": \\\"1.19.0\\\", \\\"azureml-cli-common\\\": \\\"1.19.0\\\", \\\"azureml-automl-runtime\\\": \\\"1.19.0\\\", \\\"azureml-automl-core\\\": \\\"1.19.0\\\", \\\"azureml-accel-models\\\": \\\"1.19.0\\\"}\", \"_aml_system_scenario_identification\": \"Remote.Parent\", \"ClientType\": \"SDK\", \"environment_cpu_name\": \"AzureML-AutoML\", \"environment_cpu_label\": \"prod\", \"environment_gpu_name\": \"AzureML-AutoML-GPU\", \"environment_gpu_label\": \"prod\", \"root_attribution\": \"automl\", \"attribution\": \"AutoML\", \"Orchestrator\": \"AutoML\", \"CancelUri\": \"https://southcentralus.experiments.azureml.net/jasmine/v1.0/subscriptions/a24a24d5-8d87-4c8a-99b6-91ed2d2df51f/resourceGroups/aml-quickstarts-134240/providers/Microsoft.MachineLearningServices/workspaces/quick-starts-ws-134240/experimentids/435efb4a-d8c7-4843-9a3b-58a97287c860/cancel/AutoML_a1d5996a-6c2e-4b16-b83d-406b66c606ee\", \"ClientSdkVersion\": \"1.19.0\", \"snapshotId\": \"00000000-0000-0000-0000-000000000000\", \"SetupRunId\": \"AutoML_a1d5996a-6c2e-4b16-b83d-406b66c606ee_setup\", \"SetupRunContainerId\": \"dcid.AutoML_a1d5996a-6c2e-4b16-b83d-406b66c606ee_setup\", \"FeaturizationRunJsonPath\": \"featurizer_container.json\", \"FeaturizationRunId\": \"AutoML_a1d5996a-6c2e-4b16-b83d-406b66c606ee_featurize\", \"ProblemInfoJsonString\": \"{\\\"dataset_num_categorical\\\": 0, \\\"is_sparse\\\": false, \\\"subsampling\\\": false, \\\"dataset_classes\\\": 2, \\\"dataset_features\\\": 12, \\\"dataset_samples\\\": 299, \\\"single_frequency_class_detected\\\": false}\", \"ModelExplainRunId\": \"AutoML_a1d5996a-6c2e-4b16-b83d-406b66c606ee_ModelExplain\", \"azureml.git.repository_uri\": \"https://github.com/jhonatantirado/nd00333-capstone.git\", \"mlflow.source.git.repoURL\": \"https://github.com/jhonatantirado/nd00333-capstone.git\", \"azureml.git.branch\": \"master\", \"mlflow.source.git.branch\": \"master\", \"azureml.git.commit\": \"7133ff73f1ce9d11863ec6dad5870b27865c98f4\", \"mlflow.source.git.commit\": \"7133ff73f1ce9d11863ec6dad5870b27865c98f4\", \"azureml.git.dirty\": \"True\"}, \"tags\": {\"model_explain_run\": \"best_run\", \"_aml_system_azureml.automlComponent\": \"AutoML\", \"pipeline_id\": \"\", \"score\": \"\", \"predicted_cost\": \"\", \"fit_time\": \"\", \"training_percent\": \"\", \"iteration\": \"\", \"run_preprocessor\": \"\", \"run_algorithm\": \"\", \"dynamic_whitelisting_iterations\": \"<24>;<30>;\", \"automl_best_child_run_id\": \"AutoML_a1d5996a-6c2e-4b16-b83d-406b66c606ee_35\", \"model_explain_best_run_child_id\": \"AutoML_a1d5996a-6c2e-4b16-b83d-406b66c606ee_35\"}, \"end_time_utc\": \"2021-01-10T16:44:10.369234Z\", \"status\": \"Completed\", \"log_files\": {}, \"log_groups\": [], \"run_duration\": \"0:24:49\"}, \"child_runs\": [{\"run_id\": \"AutoML_a1d5996a-6c2e-4b16-b83d-406b66c606ee_0\", \"run_number\": 6, \"metric\": null, \"status\": \"Completed\", \"run_type\": \"azureml.scriptrun\", \"training_percent\": \"100\", \"start_time\": \"2021-01-10T16:28:45.888069Z\", \"end_time\": \"2021-01-10T16:29:27.598087Z\", \"created_time\": \"2021-01-10T16:28:35.891457Z\", \"created_time_dt\": \"2021-01-10T16:28:35.891457Z\", \"duration\": \"0:00:51\", \"iteration\": \"0\", \"goal\": \"accuracy_max\", \"run_name\": \"MaxAbsScaler, LightGBM\", \"run_properties\": \"copy=True\", \"primary_metric\": 0.83597701, \"best_metric\": 0.83597701}, {\"run_id\": \"AutoML_a1d5996a-6c2e-4b16-b83d-406b66c606ee_3\", \"run_number\": 7, \"metric\": null, \"status\": \"Failed\", \"run_type\": null, \"training_percent\": \"100\", \"start_time\": \"2021-01-10T16:28:36.04791Z\", \"end_time\": \"2021-01-10T16:28:39.075028Z\", \"created_time\": \"2021-01-10T16:28:36.04791Z\", \"created_time_dt\": \"2021-01-10T16:28:36.04791Z\", \"duration\": \"0:00:03\", \"iteration\": \"3\", \"goal\": null, \"run_name\": \"Failed\", \"run_properties\": null}, {\"run_id\": \"AutoML_a1d5996a-6c2e-4b16-b83d-406b66c606ee_2\", \"run_number\": 8, \"metric\": null, \"status\": \"Completed\", \"run_type\": \"azureml.scriptrun\", \"training_percent\": \"100\", \"start_time\": \"2021-01-10T16:29:30.967054Z\", \"end_time\": \"2021-01-10T16:30:19.197812Z\", \"created_time\": \"2021-01-10T16:28:36.049454Z\", \"created_time_dt\": \"2021-01-10T16:28:36.049454Z\", \"duration\": \"0:01:43\", \"iteration\": \"2\", \"goal\": \"accuracy_max\", \"run_name\": \"MinMaxScaler, RandomForest\", \"run_properties\": \"copy=True, feature_range=(0, 1\", \"primary_metric\": 0.84609195, \"best_metric\": 0.84609195}, {\"run_id\": \"AutoML_a1d5996a-6c2e-4b16-b83d-406b66c606ee_1\", \"run_number\": 9, \"metric\": null, \"status\": \"Completed\", \"run_type\": \"azureml.scriptrun\", \"training_percent\": \"100\", \"start_time\": \"2021-01-10T16:30:20.631785Z\", \"end_time\": \"2021-01-10T16:32:21.286604Z\", \"created_time\": \"2021-01-10T16:28:36.049716Z\", \"created_time_dt\": \"2021-01-10T16:28:36.049716Z\", \"duration\": \"0:03:45\", \"iteration\": \"1\", \"goal\": \"accuracy_max\", \"run_name\": \"MaxAbsScaler, XGBoostClassifier\", \"run_properties\": \"copy=True\", \"primary_metric\": 0.83586207, \"best_metric\": 0.83597701}, {\"run_id\": \"AutoML_a1d5996a-6c2e-4b16-b83d-406b66c606ee_4\", \"run_number\": 10, \"metric\": null, \"status\": \"Completed\", \"run_type\": \"azureml.scriptrun\", \"training_percent\": \"100\", \"start_time\": \"2021-01-10T16:32:05.73959Z\", \"end_time\": \"2021-01-10T16:35:28.800279Z\", \"created_time\": \"2021-01-10T16:28:43.659312Z\", \"created_time_dt\": \"2021-01-10T16:28:43.659312Z\", \"duration\": \"0:06:45\", \"iteration\": \"4\", \"goal\": \"accuracy_max\", \"run_name\": \"MinMaxScaler, RandomForest\", \"run_properties\": \"copy=True, feature_range=(0, 1\", \"primary_metric\": 0.82908046, \"best_metric\": 0.84609195}, {\"run_id\": \"AutoML_a1d5996a-6c2e-4b16-b83d-406b66c606ee_5\", \"run_number\": 11, \"metric\": null, \"status\": \"Completed\", \"run_type\": \"azureml.scriptrun\", \"training_percent\": \"100\", \"start_time\": \"2021-01-10T16:32:03.932653Z\", \"end_time\": \"2021-01-10T16:35:25.218291Z\", \"created_time\": \"2021-01-10T16:29:30.790881Z\", \"created_time_dt\": \"2021-01-10T16:29:30.790881Z\", \"duration\": \"0:05:54\", \"iteration\": \"5\", \"goal\": \"accuracy_max\", \"run_name\": \"StandardScalerWrapper, LightGBM\", \"run_properties\": \"<azureml.automl.runtime.shared.model_wrappers.StandardScalerWrapper object at 0x7f827b0bac18\", \"primary_metric\": 0.84931034, \"best_metric\": 0.84931034}, {\"run_id\": \"AutoML_a1d5996a-6c2e-4b16-b83d-406b66c606ee_6\", \"run_number\": 12, \"metric\": null, \"status\": \"Failed\", \"run_type\": null, \"training_percent\": \"100\", \"start_time\": \"2021-01-10T16:30:21.94703Z\", \"end_time\": \"2021-01-10T16:30:25.157743Z\", \"created_time\": \"2021-01-10T16:30:21.94703Z\", \"created_time_dt\": \"2021-01-10T16:30:21.94703Z\", \"duration\": \"0:00:03\", \"iteration\": \"6\", \"goal\": null, \"run_name\": \"Failed\", \"run_properties\": null}, {\"run_id\": \"AutoML_a1d5996a-6c2e-4b16-b83d-406b66c606ee_7\", \"run_number\": 13, \"metric\": null, \"status\": \"Completed\", \"run_type\": \"azureml.scriptrun\", \"training_percent\": \"100\", \"start_time\": \"2021-01-10T16:32:08.508607Z\", \"end_time\": \"2021-01-10T16:35:40.502776Z\", \"created_time\": \"2021-01-10T16:30:52.72162Z\", \"created_time_dt\": \"2021-01-10T16:30:52.72162Z\", \"duration\": \"0:04:47\", \"iteration\": \"7\", \"goal\": \"accuracy_max\", \"run_name\": \"StandardScalerWrapper, XGBoostClassifier\", \"run_properties\": \"<azureml.automl.runtime.shared.model_wrappers.StandardScalerWrapper object at 0x7f7351056d30\", \"primary_metric\": 0.8462069, \"best_metric\": 0.84931034}, {\"run_id\": \"AutoML_a1d5996a-6c2e-4b16-b83d-406b66c606ee_8\", \"run_number\": 14, \"metric\": null, \"status\": \"Completed\", \"run_type\": \"azureml.scriptrun\", \"training_percent\": \"100\", \"start_time\": \"2021-01-10T16:32:40.188897Z\", \"end_time\": \"2021-01-10T16:33:29.35518Z\", \"created_time\": \"2021-01-10T16:32:24.375337Z\", \"created_time_dt\": \"2021-01-10T16:32:24.375337Z\", \"duration\": \"0:01:04\", \"iteration\": \"8\", \"goal\": \"accuracy_max\", \"run_name\": \"SparseNormalizer, XGBoostClassifier\", \"run_properties\": \"<azureml.automl.runtime.shared.model_wrappers.SparseNormalizer object at 0x7f9ac4ce6f60\", \"primary_metric\": 0.83977011, \"best_metric\": 0.84931034}, {\"run_id\": \"AutoML_a1d5996a-6c2e-4b16-b83d-406b66c606ee_9\", \"run_number\": 15, \"metric\": null, \"status\": \"Completed\", \"run_type\": \"azureml.scriptrun\", \"training_percent\": \"100\", \"start_time\": \"2021-01-10T16:33:49.58007Z\", \"end_time\": \"2021-01-10T16:34:44.675352Z\", \"created_time\": \"2021-01-10T16:33:35.090221Z\", \"created_time_dt\": \"2021-01-10T16:33:35.090221Z\", \"duration\": \"0:01:09\", \"iteration\": \"9\", \"goal\": \"accuracy_max\", \"run_name\": \"RobustScaler, LightGBM\", \"run_properties\": \"copy=True, quantile_range=[10, 90], with_centering=True,\\n             with_scaling=False\", \"primary_metric\": 0.82241379, \"best_metric\": 0.84931034}, {\"run_id\": \"AutoML_a1d5996a-6c2e-4b16-b83d-406b66c606ee_10\", \"run_number\": 16, \"metric\": null, \"status\": \"Completed\", \"run_type\": \"azureml.scriptrun\", \"training_percent\": \"100\", \"start_time\": \"2021-01-10T16:34:58.577333Z\", \"end_time\": \"2021-01-10T16:35:45.983117Z\", \"created_time\": \"2021-01-10T16:34:48.291935Z\", \"created_time_dt\": \"2021-01-10T16:34:48.291935Z\", \"duration\": \"0:00:57\", \"iteration\": \"10\", \"goal\": \"accuracy_max\", \"run_name\": \"StandardScalerWrapper, LightGBM\", \"run_properties\": \"<azureml.automl.runtime.shared.model_wrappers.StandardScalerWrapper object at 0x7f04a5470d30\", \"primary_metric\": 0.77609195, \"best_metric\": 0.84931034}, {\"run_id\": \"AutoML_a1d5996a-6c2e-4b16-b83d-406b66c606ee_11\", \"run_number\": 17, \"metric\": null, \"status\": \"Completed\", \"run_type\": \"azureml.scriptrun\", \"training_percent\": \"100\", \"start_time\": \"2021-01-10T16:35:41.679656Z\", \"end_time\": \"2021-01-10T16:36:30.054335Z\", \"created_time\": \"2021-01-10T16:35:28.988918Z\", \"created_time_dt\": \"2021-01-10T16:35:28.988918Z\", \"duration\": \"0:01:01\", \"iteration\": \"11\", \"goal\": \"accuracy_max\", \"run_name\": \"RobustScaler, LightGBM\", \"run_properties\": \"copy=True, quantile_range=[10, 90], with_centering=True,\\n             with_scaling=True\", \"primary_metric\": 0.78597701, \"best_metric\": 0.84931034}, {\"run_id\": \"AutoML_a1d5996a-6c2e-4b16-b83d-406b66c606ee_12\", \"run_number\": 18, \"metric\": null, \"status\": \"Completed\", \"run_type\": \"azureml.scriptrun\", \"training_percent\": \"100\", \"start_time\": \"2021-01-10T16:35:49.594985Z\", \"end_time\": \"2021-01-10T16:36:32.425815Z\", \"created_time\": \"2021-01-10T16:35:36.084574Z\", \"created_time_dt\": \"2021-01-10T16:35:36.084574Z\", \"duration\": \"0:00:56\", \"iteration\": \"12\", \"goal\": \"accuracy_max\", \"run_name\": \"StandardScalerWrapper, LightGBM\", \"run_properties\": \"<azureml.automl.runtime.shared.model_wrappers.StandardScalerWrapper object at 0x7f4b19872e80\", \"primary_metric\": 0.8191954, \"best_metric\": 0.84931034}, {\"run_id\": \"AutoML_a1d5996a-6c2e-4b16-b83d-406b66c606ee_13\", \"run_number\": 19, \"metric\": null, \"status\": \"Completed\", \"run_type\": \"azureml.scriptrun\", \"training_percent\": \"100\", \"start_time\": \"2021-01-10T16:35:55.624385Z\", \"end_time\": \"2021-01-10T16:36:41.478917Z\", \"created_time\": \"2021-01-10T16:35:43.464188Z\", \"created_time_dt\": \"2021-01-10T16:35:43.464188Z\", \"duration\": \"0:00:58\", \"iteration\": \"13\", \"goal\": \"accuracy_max\", \"run_name\": \"RobustScaler, KNN\", \"run_properties\": \"copy=True, quantile_range=[25, 75], with_centering=True,\\n             with_scaling=True\", \"primary_metric\": 0.72931034, \"best_metric\": 0.84931034}, {\"run_id\": \"AutoML_a1d5996a-6c2e-4b16-b83d-406b66c606ee_14\", \"run_number\": 20, \"metric\": null, \"status\": \"Completed\", \"run_type\": \"azureml.scriptrun\", \"training_percent\": \"100\", \"start_time\": \"2021-01-10T16:36:01.288426Z\", \"end_time\": \"2021-01-10T16:36:44.04433Z\", \"created_time\": \"2021-01-10T16:35:49.060701Z\", \"created_time_dt\": \"2021-01-10T16:35:49.060701Z\", \"duration\": \"0:00:54\", \"iteration\": \"14\", \"goal\": \"accuracy_max\", \"run_name\": \"RobustScaler, LightGBM\", \"run_properties\": \"copy=True, quantile_range=[10, 90], with_centering=True,\\n             with_scaling=False\", \"primary_metric\": 0.8391954, \"best_metric\": 0.84931034}, {\"run_id\": \"AutoML_a1d5996a-6c2e-4b16-b83d-406b66c606ee_15\", \"run_number\": 21, \"metric\": null, \"status\": \"Completed\", \"run_type\": \"azureml.scriptrun\", \"training_percent\": \"100\", \"start_time\": \"2021-01-10T16:36:46.309078Z\", \"end_time\": \"2021-01-10T16:37:29.292392Z\", \"created_time\": \"2021-01-10T16:36:33.323716Z\", \"created_time_dt\": \"2021-01-10T16:36:33.323716Z\", \"duration\": \"0:00:55\", \"iteration\": \"15\", \"goal\": \"accuracy_max\", \"run_name\": \"MaxAbsScaler, LightGBM\", \"run_properties\": \"copy=True\", \"primary_metric\": 0.78931034, \"best_metric\": 0.84931034}, {\"run_id\": \"AutoML_a1d5996a-6c2e-4b16-b83d-406b66c606ee_16\", \"run_number\": 22, \"metric\": null, \"status\": \"Completed\", \"run_type\": \"azureml.scriptrun\", \"training_percent\": \"100\", \"start_time\": \"2021-01-10T16:36:53.412984Z\", \"end_time\": \"2021-01-10T16:37:36.557935Z\", \"created_time\": \"2021-01-10T16:36:39.626853Z\", \"created_time_dt\": \"2021-01-10T16:36:39.626853Z\", \"duration\": \"0:00:56\", \"iteration\": \"16\", \"goal\": \"accuracy_max\", \"run_name\": \"RobustScaler, ExtremeRandomTrees\", \"run_properties\": \"copy=True, quantile_range=[25, 75], with_centering=True,\\n             with_scaling=True\", \"primary_metric\": 0.82574713, \"best_metric\": 0.84931034}, {\"run_id\": \"AutoML_a1d5996a-6c2e-4b16-b83d-406b66c606ee_17\", \"run_number\": 23, \"metric\": null, \"status\": \"Completed\", \"run_type\": \"azureml.scriptrun\", \"training_percent\": \"100\", \"start_time\": \"2021-01-10T16:36:57.484008Z\", \"end_time\": \"2021-01-10T16:37:43.055917Z\", \"created_time\": \"2021-01-10T16:36:45.330712Z\", \"created_time_dt\": \"2021-01-10T16:36:45.330712Z\", \"duration\": \"0:00:57\", \"iteration\": \"17\", \"goal\": \"accuracy_max\", \"run_name\": \"TruncatedSVDWrapper, XGBoostClassifier\", \"run_properties\": \"n_components=0.6036842105263158, random_state=None\", \"primary_metric\": 0.75885057, \"best_metric\": 0.84931034}, {\"run_id\": \"AutoML_a1d5996a-6c2e-4b16-b83d-406b66c606ee_18\", \"run_number\": 24, \"metric\": null, \"status\": \"Completed\", \"run_type\": \"azureml.scriptrun\", \"training_percent\": \"100\", \"start_time\": \"2021-01-10T16:37:01.735817Z\", \"end_time\": \"2021-01-10T16:37:43.448815Z\", \"created_time\": \"2021-01-10T16:36:50.933568Z\", \"created_time_dt\": \"2021-01-10T16:36:50.933568Z\", \"duration\": \"0:00:52\", \"iteration\": \"18\", \"goal\": \"accuracy_max\", \"run_name\": \"MinMaxScaler, LightGBM\", \"run_properties\": \"copy=True, feature_range=(0, 1\", \"primary_metric\": 0.83609195, \"best_metric\": 0.84931034}, {\"run_id\": \"AutoML_a1d5996a-6c2e-4b16-b83d-406b66c606ee_19\", \"run_number\": 25, \"metric\": null, \"status\": \"Completed\", \"run_type\": \"azureml.scriptrun\", \"training_percent\": \"100\", \"start_time\": \"2021-01-10T16:37:43.2872Z\", \"end_time\": \"2021-01-10T16:38:25.818089Z\", \"created_time\": \"2021-01-10T16:37:32.082074Z\", \"created_time_dt\": \"2021-01-10T16:37:32.082074Z\", \"duration\": \"0:00:53\", \"iteration\": \"19\", \"goal\": \"accuracy_max\", \"run_name\": \"SparseNormalizer, ExtremeRandomTrees\", \"run_properties\": \"<azureml.automl.runtime.shared.model_wrappers.SparseNormalizer object at 0x7f8199d98320\", \"primary_metric\": 0.77896552, \"best_metric\": 0.84931034}, {\"run_id\": \"AutoML_a1d5996a-6c2e-4b16-b83d-406b66c606ee_20\", \"run_number\": 26, \"metric\": null, \"status\": \"Completed\", \"run_type\": \"azureml.scriptrun\", \"training_percent\": \"100\", \"start_time\": \"2021-01-10T16:37:52.78301Z\", \"end_time\": \"2021-01-10T16:38:38.34013Z\", \"created_time\": \"2021-01-10T16:37:38.735693Z\", \"created_time_dt\": \"2021-01-10T16:37:38.735693Z\", \"duration\": \"0:00:59\", \"iteration\": \"20\", \"goal\": \"accuracy_max\", \"run_name\": \"SparseNormalizer, XGBoostClassifier\", \"run_properties\": \"<azureml.automl.runtime.shared.model_wrappers.SparseNormalizer object at 0x7f4eaa054ba8\", \"primary_metric\": 0.84609195, \"best_metric\": 0.84931034}, {\"run_id\": \"AutoML_a1d5996a-6c2e-4b16-b83d-406b66c606ee_21\", \"run_number\": 27, \"metric\": null, \"status\": \"Completed\", \"run_type\": \"azureml.scriptrun\", \"training_percent\": \"100\", \"start_time\": \"2021-01-10T16:37:57.086485Z\", \"end_time\": \"2021-01-10T16:38:51.53808Z\", \"created_time\": \"2021-01-10T16:37:45.373875Z\", \"created_time_dt\": \"2021-01-10T16:37:45.373875Z\", \"duration\": \"0:01:06\", \"iteration\": \"21\", \"goal\": \"accuracy_max\", \"run_name\": \"SparseNormalizer, XGBoostClassifier\", \"run_properties\": \"<azureml.automl.runtime.shared.model_wrappers.SparseNormalizer object at 0x7fad1d3fd518\", \"primary_metric\": 0.82287356, \"best_metric\": 0.84931034}, {\"run_id\": \"AutoML_a1d5996a-6c2e-4b16-b83d-406b66c606ee_22\", \"run_number\": 28, \"metric\": null, \"status\": \"Completed\", \"run_type\": \"azureml.scriptrun\", \"training_percent\": \"100\", \"start_time\": \"2021-01-10T16:37:56.202196Z\", \"end_time\": \"2021-01-10T16:38:37.861018Z\", \"created_time\": \"2021-01-10T16:37:45.38237Z\", \"created_time_dt\": \"2021-01-10T16:37:45.38237Z\", \"duration\": \"0:00:52\", \"iteration\": \"22\", \"goal\": \"accuracy_max\", \"run_name\": \"SparseNormalizer, XGBoostClassifier\", \"run_properties\": \"<azureml.automl.runtime.shared.model_wrappers.SparseNormalizer object at 0x7f8d81769da0\", \"primary_metric\": 0.81965517, \"best_metric\": 0.84931034}, {\"run_id\": \"AutoML_a1d5996a-6c2e-4b16-b83d-406b66c606ee_23\", \"run_number\": 29, \"metric\": null, \"status\": \"Completed\", \"run_type\": \"azureml.scriptrun\", \"training_percent\": \"100\", \"start_time\": \"2021-01-10T16:38:42.39699Z\", \"end_time\": \"2021-01-10T16:39:43.301575Z\", \"created_time\": \"2021-01-10T16:38:28.375081Z\", \"created_time_dt\": \"2021-01-10T16:38:28.375081Z\", \"duration\": \"0:01:14\", \"iteration\": \"23\", \"goal\": \"accuracy_max\", \"run_name\": \"StandardScalerWrapper, LightGBM\", \"run_properties\": \"<azureml.automl.runtime.shared.model_wrappers.StandardScalerWrapper object at 0x7ff8306917f0\", \"primary_metric\": 0.83609195, \"best_metric\": 0.84931034}, {\"run_id\": \"AutoML_a1d5996a-6c2e-4b16-b83d-406b66c606ee_25\", \"run_number\": 30, \"metric\": null, \"status\": \"Completed\", \"run_type\": \"azureml.scriptrun\", \"training_percent\": \"100\", \"start_time\": \"2021-01-10T16:38:51.154248Z\", \"end_time\": \"2021-01-10T16:39:33.434165Z\", \"created_time\": \"2021-01-10T16:38:41.131467Z\", \"created_time_dt\": \"2021-01-10T16:38:41.131467Z\", \"duration\": \"0:00:52\", \"iteration\": \"25\", \"goal\": \"accuracy_max\", \"run_name\": \"MaxAbsScaler, ExtremeRandomTrees\", \"run_properties\": \"copy=True\", \"primary_metric\": 0.84609195, \"best_metric\": 0.84931034}, {\"run_id\": \"AutoML_a1d5996a-6c2e-4b16-b83d-406b66c606ee_24\", \"run_number\": 31, \"metric\": null, \"status\": \"Completed\", \"run_type\": \"azureml.scriptrun\", \"training_percent\": \"100\", \"start_time\": \"2021-01-10T16:38:55.561158Z\", \"end_time\": \"2021-01-10T16:39:38.598389Z\", \"created_time\": \"2021-01-10T16:38:41.135846Z\", \"created_time_dt\": \"2021-01-10T16:38:41.135846Z\", \"duration\": \"0:00:57\", \"iteration\": \"24\", \"goal\": \"accuracy_max\", \"run_name\": \"MaxAbsScaler, LightGBM\", \"run_properties\": \"copy=True\", \"primary_metric\": 0.6791954, \"best_metric\": 0.84931034}, {\"run_id\": \"AutoML_a1d5996a-6c2e-4b16-b83d-406b66c606ee_26\", \"run_number\": 32, \"metric\": null, \"status\": \"Completed\", \"run_type\": \"azureml.scriptrun\", \"training_percent\": \"100\", \"start_time\": \"2021-01-10T16:39:06.287035Z\", \"end_time\": \"2021-01-10T16:39:52.048676Z\", \"created_time\": \"2021-01-10T16:38:53.757085Z\", \"created_time_dt\": \"2021-01-10T16:38:53.757085Z\", \"duration\": \"0:00:58\", \"iteration\": \"26\", \"goal\": \"accuracy_max\", \"run_name\": \"StandardScalerWrapper, LightGBM\", \"run_properties\": \"<azureml.automl.runtime.shared.model_wrappers.StandardScalerWrapper object at 0x7f1046f3e9b0\", \"primary_metric\": 0.80931034, \"best_metric\": 0.84931034}, {\"run_id\": \"AutoML_a1d5996a-6c2e-4b16-b83d-406b66c606ee_27\", \"run_number\": 33, \"metric\": null, \"status\": \"Completed\", \"run_type\": \"azureml.scriptrun\", \"training_percent\": \"100\", \"start_time\": \"2021-01-10T16:39:49.76321Z\", \"end_time\": \"2021-01-10T16:40:33.984532Z\", \"created_time\": \"2021-01-10T16:39:36.048176Z\", \"created_time_dt\": \"2021-01-10T16:39:36.048176Z\", \"duration\": \"0:00:57\", \"iteration\": \"27\", \"goal\": \"accuracy_max\", \"run_name\": \"SparseNormalizer, XGBoostClassifier\", \"run_properties\": \"<azureml.automl.runtime.shared.model_wrappers.SparseNormalizer object at 0x7f2cfd0d5630\", \"primary_metric\": 0.84287356, \"best_metric\": 0.84931034}, {\"run_id\": \"AutoML_a1d5996a-6c2e-4b16-b83d-406b66c606ee_28\", \"run_number\": 34, \"metric\": null, \"status\": \"Completed\", \"run_type\": \"azureml.scriptrun\", \"training_percent\": \"100\", \"start_time\": \"2021-01-10T16:39:54.803045Z\", \"end_time\": \"2021-01-10T16:40:34.849164Z\", \"created_time\": \"2021-01-10T16:39:41.437974Z\", \"created_time_dt\": \"2021-01-10T16:39:41.437974Z\", \"duration\": \"0:00:53\", \"iteration\": \"28\", \"goal\": \"accuracy_max\", \"run_name\": \"StandardScalerWrapper, RandomForest\", \"run_properties\": \"<azureml.automl.runtime.shared.model_wrappers.StandardScalerWrapper object at 0x7ff2d4401128\", \"primary_metric\": 0.83563218, \"best_metric\": 0.84931034}, {\"run_id\": \"AutoML_a1d5996a-6c2e-4b16-b83d-406b66c606ee_29\", \"run_number\": 35, \"metric\": null, \"status\": \"Completed\", \"run_type\": \"azureml.scriptrun\", \"training_percent\": \"100\", \"start_time\": \"2021-01-10T16:40:01.364641Z\", \"end_time\": \"2021-01-10T16:40:47.892626Z\", \"created_time\": \"2021-01-10T16:39:47.166047Z\", \"created_time_dt\": \"2021-01-10T16:39:47.166047Z\", \"duration\": \"0:01:00\", \"iteration\": \"29\", \"goal\": \"accuracy_max\", \"run_name\": \"SparseNormalizer, XGBoostClassifier\", \"run_properties\": \"<azureml.automl.runtime.shared.model_wrappers.SparseNormalizer object at 0x7f2955d9cba8\", \"primary_metric\": 0.8362069, \"best_metric\": 0.84931034}, {\"run_id\": \"AutoML_a1d5996a-6c2e-4b16-b83d-406b66c606ee_30\", \"run_number\": 36, \"metric\": null, \"status\": \"Completed\", \"run_type\": \"azureml.scriptrun\", \"training_percent\": \"100\", \"start_time\": \"2021-01-10T16:40:08.278171Z\", \"end_time\": \"2021-01-10T16:40:50.990204Z\", \"created_time\": \"2021-01-10T16:39:55.379551Z\", \"created_time_dt\": \"2021-01-10T16:39:55.379551Z\", \"duration\": \"0:00:55\", \"iteration\": \"30\", \"goal\": \"accuracy_max\", \"run_name\": \"StandardScalerWrapper, LightGBM\", \"run_properties\": \"<azureml.automl.runtime.shared.model_wrappers.StandardScalerWrapper object at 0x7f96a736b828\", \"primary_metric\": 0.6791954, \"best_metric\": 0.84931034}, {\"run_id\": \"AutoML_a1d5996a-6c2e-4b16-b83d-406b66c606ee_31\", \"run_number\": 37, \"metric\": null, \"status\": \"Completed\", \"run_type\": \"azureml.scriptrun\", \"training_percent\": \"100\", \"start_time\": \"2021-01-10T16:40:49.896195Z\", \"end_time\": \"2021-01-10T16:41:38.607043Z\", \"created_time\": \"2021-01-10T16:40:36.357253Z\", \"created_time_dt\": \"2021-01-10T16:40:36.357253Z\", \"duration\": \"0:01:02\", \"iteration\": \"31\", \"goal\": \"accuracy_max\", \"run_name\": \"StandardScalerWrapper, LogisticRegression\", \"run_properties\": \"<azureml.automl.runtime.shared.model_wrappers.StandardScalerWrapper object at 0x7fbcd94eacf8\", \"primary_metric\": 0.80586207, \"best_metric\": 0.84931034}, {\"run_id\": \"AutoML_a1d5996a-6c2e-4b16-b83d-406b66c606ee_32\", \"run_number\": 38, \"metric\": null, \"status\": \"Completed\", \"run_type\": \"azureml.scriptrun\", \"training_percent\": \"100\", \"start_time\": \"2021-01-10T16:40:53.719343Z\", \"end_time\": \"2021-01-10T16:41:39.150675Z\", \"created_time\": \"2021-01-10T16:40:42.138699Z\", \"created_time_dt\": \"2021-01-10T16:40:42.138699Z\", \"duration\": \"0:00:57\", \"iteration\": \"32\", \"goal\": \"accuracy_max\", \"run_name\": \"TruncatedSVDWrapper, XGBoostClassifier\", \"run_properties\": \"n_components=0.6036842105263158, random_state=None\", \"primary_metric\": 0.78195402, \"best_metric\": 0.84931034}, {\"run_id\": \"AutoML_a1d5996a-6c2e-4b16-b83d-406b66c606ee_33\", \"run_number\": 39, \"metric\": null, \"status\": \"Completed\", \"run_type\": \"azureml.scriptrun\", \"training_percent\": \"100\", \"start_time\": \"2021-01-10T16:41:00.235823Z\", \"end_time\": \"2021-01-10T16:41:40.000348Z\", \"created_time\": \"2021-01-10T16:40:50.073978Z\", \"created_time_dt\": \"2021-01-10T16:40:50.073978Z\", \"duration\": \"0:00:49\", \"iteration\": \"33\", \"goal\": \"accuracy_max\", \"run_name\": \"TruncatedSVDWrapper, XGBoostClassifier\", \"run_properties\": \"n_components=0.7026315789473684, random_state=None\", \"primary_metric\": 0.78896552, \"best_metric\": 0.84931034}, {\"run_id\": \"AutoML_a1d5996a-6c2e-4b16-b83d-406b66c606ee_34\", \"run_number\": 40, \"metric\": null, \"status\": \"Canceled\", \"run_type\": \"azureml.scriptrun\", \"training_percent\": \"100\", \"start_time\": \"2021-01-10T16:41:05.850594Z\", \"end_time\": \"2021-01-10T16:41:47.435816Z\", \"created_time\": \"2021-01-10T16:40:54.510282Z\", \"created_time_dt\": \"2021-01-10T16:40:54.510282Z\", \"duration\": \"0:00:52\", \"iteration\": \"34\", \"goal\": \"accuracy_max\", \"run_name\": \"SparseNormalizer, LightGBM\", \"run_properties\": \"<azureml.automl.runtime.shared.model_wrappers.SparseNormalizer object at 0x7f4200becfd0\", \"primary_metric\": 0.83954023, \"best_metric\": 0.84931034}, {\"run_id\": \"AutoML_a1d5996a-6c2e-4b16-b83d-406b66c606ee_35\", \"run_number\": 41, \"metric\": null, \"status\": \"Completed\", \"run_type\": \"azureml.scriptrun\", \"training_percent\": \"100\", \"start_time\": \"2021-01-10T16:42:08.192208Z\", \"end_time\": \"2021-01-10T16:43:56.140761Z\", \"created_time\": \"2021-01-10T16:41:48.611006Z\", \"created_time_dt\": \"2021-01-10T16:41:48.611006Z\", \"duration\": \"0:02:07\", \"iteration\": \"35\", \"goal\": \"accuracy_max\", \"run_name\": \"VotingEnsemble\", \"run_properties\": \"classification_labels=None,\\n                              estimators=[('5',\\n                                           Pipeline(memory=None,\\n                                                    steps=[('standardscalerwrapper',\\n                                                            <azureml.automl.runtime.shared.model_wrappers.StandardScalerWrapper object at 0x7f6a242dcf28>\", \"primary_metric\": 0.87298851, \"best_metric\": 0.87298851}, {\"run_id\": \"AutoML_a1d5996a-6c2e-4b16-b83d-406b66c606ee_36\", \"run_number\": 42, \"metric\": null, \"status\": \"Completed\", \"run_type\": \"azureml.scriptrun\", \"training_percent\": \"100\", \"start_time\": \"2021-01-10T16:42:01.268579Z\", \"end_time\": \"2021-01-10T16:43:52.181423Z\", \"created_time\": \"2021-01-10T16:41:48.61445Z\", \"created_time_dt\": \"2021-01-10T16:41:48.61445Z\", \"duration\": \"0:02:03\", \"iteration\": \"36\", \"goal\": \"accuracy_max\", \"run_name\": \"StackEnsemble\", \"run_properties\": \"base_learners=[('5',\\n                                        Pipeline(memory=None,\\n                                                 steps=[('standardscalerwrapper',\\n                                                         <azureml.automl.runtime.shared.model_wrappers.StandardScalerWrapper object at 0x7f8597ee7b70>\", \"primary_metric\": 0.85287356, \"best_metric\": 0.87298851}], \"children_metrics\": {\"categories\": [0], \"series\": {\"average_precision_score_micro\": [{\"categories\": [\"0\", \"1\", \"2\", \"4\", \"5\", \"7\", \"8\", \"9\", \"10\", \"11\", \"12\", \"13\", \"14\", \"15\", \"16\", \"17\", \"18\", \"19\", \"20\", \"21\", \"22\", \"23\", \"24\", \"25\", \"26\", \"27\", \"28\", \"29\", \"30\", \"31\", \"32\", \"33\", \"34\", \"35\", \"36\"], \"mode\": \"markers\", \"name\": \"average_precision_score_micro\", \"stepped\": false, \"type\": \"scatter\", \"data\": [0.9020054536251629, 0.9033793522124445, 0.9017762787787825, 0.9100604687769247, 0.9168307062086827, 0.9188597370055076, 0.9008531244924047, 0.9104414129213859, 0.8801587956509145, 0.8773238529828541, 0.9069161352703843, 0.8059234230665098, 0.9113201326110751, 0.8871711098946442, 0.8810788746582958, 0.8773072498048042, 0.881695108123869, 0.8478768645402596, 0.8954222297952672, 0.8807362640488915, 0.8722121250258457, 0.8890870245299718, 0.7577999703436333, 0.9022522876989847, 0.900586202677671, 0.9053348932517773, 0.909187962011778, 0.9024774159552431, 0.8584437721352304, 0.8886704555795628, 0.8775645613992376, 0.8693487254664483, 0.903652197147745, 0.9175338716371687, 0.912414550016831]}, {\"categories\": [\"0\", \"1\", \"2\", \"4\", \"5\", \"7\", \"8\", \"9\", \"10\", \"11\", \"12\", \"13\", \"14\", \"15\", \"16\", \"17\", \"18\", \"19\", \"20\", \"21\", \"22\", \"23\", \"24\", \"25\", \"26\", \"27\", \"28\", \"29\", \"30\", \"31\", \"32\", \"33\", \"34\", \"35\", \"36\"], \"mode\": \"lines\", \"name\": \"average_precision_score_micro_max\", \"stepped\": true, \"type\": \"scatter\", \"data\": [0.9020054536251629, 0.9033793522124445, 0.9033793522124445, 0.9100604687769247, 0.9168307062086827, 0.9188597370055076, 0.9188597370055076, 0.9188597370055076, 0.9188597370055076, 0.9188597370055076, 0.9188597370055076, 0.9188597370055076, 0.9188597370055076, 0.9188597370055076, 0.9188597370055076, 0.9188597370055076, 0.9188597370055076, 0.9188597370055076, 0.9188597370055076, 0.9188597370055076, 0.9188597370055076, 0.9188597370055076, 0.9188597370055076, 0.9188597370055076, 0.9188597370055076, 0.9188597370055076, 0.9188597370055076, 0.9188597370055076, 0.9188597370055076, 0.9188597370055076, 0.9188597370055076, 0.9188597370055076, 0.9188597370055076, 0.9188597370055076, 0.9188597370055076]}], \"f1_score_macro\": [{\"categories\": [\"0\", \"1\", \"2\", \"4\", \"5\", \"7\", \"8\", \"9\", \"10\", \"11\", \"12\", \"13\", \"14\", \"15\", \"16\", \"17\", \"18\", \"19\", \"20\", \"21\", \"22\", \"23\", \"24\", \"25\", \"26\", \"27\", \"28\", \"29\", \"30\", \"31\", \"32\", \"33\", \"34\", \"35\", \"36\"], \"mode\": \"markers\", \"name\": \"f1_score_macro\", \"stepped\": false, \"type\": \"scatter\", \"data\": [0.8043314151248963, 0.8078501228997539, 0.8121952234042402, 0.8011917971829053, 0.819843279855742, 0.8108473004874608, 0.8028418819733663, 0.7867534028114382, 0.6822028570652432, 0.6866902449933623, 0.7844418692565458, 0.5952699994817927, 0.8094582631464148, 0.6920962835873997, 0.7981642886652106, 0.7122545141957463, 0.7911355513978208, 0.7547205400012071, 0.8074611292651607, 0.7802737763799146, 0.7694361312212097, 0.7955626719209166, 0.4024893878511494, 0.8067334498761541, 0.7449214744222736, 0.8166930876569726, 0.8111044596327466, 0.8049638496453462, 0.4024893878511494, 0.7602613062010702, 0.7397254249519696, 0.7544529641379885, 0.8010500685125918, 0.845956078818683, 0.8244330131869051]}, {\"categories\": [\"0\", \"1\", \"2\", \"4\", \"5\", \"7\", \"8\", \"9\", \"10\", \"11\", \"12\", \"13\", \"14\", \"15\", \"16\", \"17\", \"18\", \"19\", \"20\", \"21\", \"22\", \"23\", \"24\", \"25\", \"26\", \"27\", \"28\", \"29\", \"30\", \"31\", \"32\", \"33\", \"34\", \"35\", \"36\"], \"mode\": \"lines\", \"name\": \"f1_score_macro_max\", \"stepped\": true, \"type\": \"scatter\", \"data\": [0.8043314151248963, 0.8078501228997539, 0.8121952234042402, 0.8121952234042402, 0.819843279855742, 0.819843279855742, 0.819843279855742, 0.819843279855742, 0.819843279855742, 0.819843279855742, 0.819843279855742, 0.819843279855742, 0.819843279855742, 0.819843279855742, 0.819843279855742, 0.819843279855742, 0.819843279855742, 0.819843279855742, 0.819843279855742, 0.819843279855742, 0.819843279855742, 0.819843279855742, 0.819843279855742, 0.819843279855742, 0.819843279855742, 0.819843279855742, 0.819843279855742, 0.819843279855742, 0.819843279855742, 0.819843279855742, 0.819843279855742, 0.819843279855742, 0.819843279855742, 0.845956078818683, 0.845956078818683]}], \"average_precision_score_macro\": [{\"categories\": [\"0\", \"1\", \"2\", \"4\", \"5\", \"7\", \"8\", \"9\", \"10\", \"11\", \"12\", \"13\", \"14\", \"15\", \"16\", \"17\", \"18\", \"19\", \"20\", \"21\", \"22\", \"23\", \"24\", \"25\", \"26\", \"27\", \"28\", \"29\", \"30\", \"31\", \"32\", \"33\", \"34\", \"35\", \"36\"], \"mode\": \"markers\", \"name\": \"average_precision_score_macro\", \"stepped\": false, \"type\": \"scatter\", \"data\": [0.8807888197525153, 0.8807340475847678, 0.8834095713956561, 0.8951668260546946, 0.889248934829624, 0.8979309582621321, 0.8757013748515746, 0.8822002456484934, 0.8825838540377348, 0.8766563475988873, 0.8815122571055921, 0.7591075289559706, 0.8849023100542057, 0.8794444685330026, 0.8738235411866396, 0.842209519749775, 0.8678218518923091, 0.8363971887708743, 0.8732722581941633, 0.8652705220800249, 0.8511071272946976, 0.861539552436439, 0.7030263410984231, 0.8843941508063056, 0.8804015907786727, 0.8903634774199043, 0.8997809258268716, 0.8915298684329473, 0.8836599412431851, 0.8571178507782798, 0.8454925742736441, 0.830092363525409, 0.8878443820792171, 0.8999411337980614, 0.8960255245705655]}, {\"categories\": [\"0\", \"1\", \"2\", \"4\", \"5\", \"7\", \"8\", \"9\", \"10\", \"11\", \"12\", \"13\", \"14\", \"15\", \"16\", \"17\", \"18\", \"19\", \"20\", \"21\", \"22\", \"23\", \"24\", \"25\", \"26\", \"27\", \"28\", \"29\", \"30\", \"31\", \"32\", \"33\", \"34\", \"35\", \"36\"], \"mode\": \"lines\", \"name\": \"average_precision_score_macro_max\", \"stepped\": true, \"type\": \"scatter\", \"data\": [0.8807888197525153, 0.8807888197525153, 0.8834095713956561, 0.8951668260546946, 0.8951668260546946, 0.8979309582621321, 0.8979309582621321, 0.8979309582621321, 0.8979309582621321, 0.8979309582621321, 0.8979309582621321, 0.8979309582621321, 0.8979309582621321, 0.8979309582621321, 0.8979309582621321, 0.8979309582621321, 0.8979309582621321, 0.8979309582621321, 0.8979309582621321, 0.8979309582621321, 0.8979309582621321, 0.8979309582621321, 0.8979309582621321, 0.8979309582621321, 0.8979309582621321, 0.8979309582621321, 0.8997809258268716, 0.8997809258268716, 0.8997809258268716, 0.8997809258268716, 0.8997809258268716, 0.8997809258268716, 0.8997809258268716, 0.8999411337980614, 0.8999411337980614]}], \"AUC_micro\": [{\"categories\": [\"0\", \"1\", \"2\", \"4\", \"5\", \"7\", \"8\", \"9\", \"10\", \"11\", \"12\", \"13\", \"14\", \"15\", \"16\", \"17\", \"18\", \"19\", \"20\", \"21\", \"22\", \"23\", \"24\", \"25\", \"26\", \"27\", \"28\", \"29\", \"30\", \"31\", \"32\", \"33\", \"34\", \"35\", \"36\"], \"mode\": \"markers\", \"name\": \"AUC_micro\", \"stepped\": false, \"type\": \"scatter\", \"data\": [0.9035422116527941, 0.9042166732725592, 0.9031991015986259, 0.9109886378649754, 0.9139710661910424, 0.9168404016382613, 0.8972009512485137, 0.905160126833135, 0.8697878187343111, 0.8720276126304662, 0.9015168450257629, 0.823938036728762, 0.9084388954947814, 0.8797332540626238, 0.8842304135288677, 0.866331880036993, 0.8855655965120887, 0.84603157616594, 0.8938793764037521, 0.8819163694015062, 0.8767974633372969, 0.8871835116924297, 0.7620627559783326, 0.8991659400184966, 0.8933043995243757, 0.9041853613423173, 0.9106806711586735, 0.9025830360681727, 0.8448677500330295, 0.8840276126304664, 0.868602853745541, 0.8637041881358172, 0.8992049147839873, 0.9159729158409302, 0.9107916501519355]}, {\"categories\": [\"0\", \"1\", \"2\", \"4\", \"5\", \"7\", \"8\", \"9\", \"10\", \"11\", \"12\", \"13\", \"14\", \"15\", \"16\", \"17\", \"18\", \"19\", \"20\", \"21\", \"22\", \"23\", \"24\", \"25\", \"26\", \"27\", \"28\", \"29\", \"30\", \"31\", \"32\", \"33\", \"34\", \"35\", \"36\"], \"mode\": \"lines\", \"name\": \"AUC_micro_max\", \"stepped\": true, \"type\": \"scatter\", \"data\": [0.9035422116527941, 0.9042166732725592, 0.9042166732725592, 0.9109886378649754, 0.9139710661910424, 0.9168404016382613, 0.9168404016382613, 0.9168404016382613, 0.9168404016382613, 0.9168404016382613, 0.9168404016382613, 0.9168404016382613, 0.9168404016382613, 0.9168404016382613, 0.9168404016382613, 0.9168404016382613, 0.9168404016382613, 0.9168404016382613, 0.9168404016382613, 0.9168404016382613, 0.9168404016382613, 0.9168404016382613, 0.9168404016382613, 0.9168404016382613, 0.9168404016382613, 0.9168404016382613, 0.9168404016382613, 0.9168404016382613, 0.9168404016382613, 0.9168404016382613, 0.9168404016382613, 0.9168404016382613, 0.9168404016382613, 0.9168404016382613, 0.9168404016382613]}], \"recall_score_macro\": [{\"categories\": [\"0\", \"1\", \"2\", \"4\", \"5\", \"7\", \"8\", \"9\", \"10\", \"11\", \"12\", \"13\", \"14\", \"15\", \"16\", \"17\", \"18\", \"19\", \"20\", \"21\", \"22\", \"23\", \"24\", \"25\", \"26\", \"27\", \"28\", \"29\", \"30\", \"31\", \"32\", \"33\", \"34\", \"35\", \"36\"], \"mode\": \"markers\", \"name\": \"recall_score_macro\", \"stepped\": false, \"type\": \"scatter\", \"data\": [0.8077082895810014, 0.8130249020938379, 0.8130018549337772, 0.8129162307943772, 0.8246717910553724, 0.8026829421214432, 0.7958218850816104, 0.7861121182402647, 0.6757216905901116, 0.6817262854104958, 0.787413078975436, 0.6048390615867733, 0.8143141384422847, 0.6883636999283452, 0.8143988520378681, 0.7220146623970994, 0.7802536805617468, 0.7811223245036174, 0.8045520438117693, 0.7692166722801734, 0.7534821531760891, 0.7888068285007644, 0.5, 0.7961266964347629, 0.7328352955841514, 0.8207359410548769, 0.83060568829848, 0.8070785370871183, 0.5, 0.7599148827272397, 0.7467557290789556, 0.7645102479518956, 0.7967905947345306, 0.8377727689612702, 0.823802319121255]}, {\"categories\": [\"0\", \"1\", \"2\", \"4\", \"5\", \"7\", \"8\", \"9\", \"10\", \"11\", \"12\", \"13\", \"14\", \"15\", \"16\", \"17\", \"18\", \"19\", \"20\", \"21\", \"22\", \"23\", \"24\", \"25\", \"26\", \"27\", \"28\", \"29\", \"30\", \"31\", \"32\", \"33\", \"34\", \"35\", \"36\"], \"mode\": \"lines\", \"name\": \"recall_score_macro_max\", \"stepped\": true, \"type\": \"scatter\", \"data\": [0.8077082895810014, 0.8130249020938379, 0.8130249020938379, 0.8130249020938379, 0.8246717910553724, 0.8246717910553724, 0.8246717910553724, 0.8246717910553724, 0.8246717910553724, 0.8246717910553724, 0.8246717910553724, 0.8246717910553724, 0.8246717910553724, 0.8246717910553724, 0.8246717910553724, 0.8246717910553724, 0.8246717910553724, 0.8246717910553724, 0.8246717910553724, 0.8246717910553724, 0.8246717910553724, 0.8246717910553724, 0.8246717910553724, 0.8246717910553724, 0.8246717910553724, 0.8246717910553724, 0.83060568829848, 0.83060568829848, 0.83060568829848, 0.83060568829848, 0.83060568829848, 0.83060568829848, 0.83060568829848, 0.8377727689612702, 0.8377727689612702]}], \"weighted_accuracy\": [{\"categories\": [\"0\", \"1\", \"2\", \"4\", \"5\", \"7\", \"8\", \"9\", \"10\", \"11\", \"12\", \"13\", \"14\", \"15\", \"16\", \"17\", \"18\", \"19\", \"20\", \"21\", \"22\", \"23\", \"24\", \"25\", \"26\", \"27\", \"28\", \"29\", \"30\", \"31\", \"32\", \"33\", \"34\", \"35\", \"36\"], \"mode\": \"markers\", \"name\": \"weighted_accuracy\", \"stepped\": false, \"type\": \"scatter\", \"data\": [0.8541321922200625, 0.8502962163535492, 0.8665944197617043, 0.8386354094321582, 0.8653807646705982, 0.8748656472181644, 0.868699754408437, 0.8450677149703315, 0.8404641196527335, 0.852158222434927, 0.8406393201281184, 0.8078522880428401, 0.8552373417266474, 0.8529828057730615, 0.8334703807448649, 0.7824457652839937, 0.8724246527918398, 0.7764763659117792, 0.8731489052846187, 0.858684699019548, 0.859222506626226, 0.8649544624483084, 0.7931711479234276, 0.8793173504550117, 0.8581328242741622, 0.8569165869859734, 0.8375861626577047, 0.8557848393384866, 0.7931711479234276, 0.8372855236312118, 0.8054327901434414, 0.8033545633459538, 0.8664102640637354, 0.8952028279615145, 0.8710040554468652]}, {\"categories\": [\"0\", \"1\", \"2\", \"4\", \"5\", \"7\", \"8\", \"9\", \"10\", \"11\", \"12\", \"13\", \"14\", \"15\", \"16\", \"17\", \"18\", \"19\", \"20\", \"21\", \"22\", \"23\", \"24\", \"25\", \"26\", \"27\", \"28\", \"29\", \"30\", \"31\", \"32\", \"33\", \"34\", \"35\", \"36\"], \"mode\": \"lines\", \"name\": \"weighted_accuracy_max\", \"stepped\": true, \"type\": \"scatter\", \"data\": [0.8541321922200625, 0.8541321922200625, 0.8665944197617043, 0.8665944197617043, 0.8665944197617043, 0.8748656472181644, 0.8748656472181644, 0.8748656472181644, 0.8748656472181644, 0.8748656472181644, 0.8748656472181644, 0.8748656472181644, 0.8748656472181644, 0.8748656472181644, 0.8748656472181644, 0.8748656472181644, 0.8748656472181644, 0.8748656472181644, 0.8748656472181644, 0.8748656472181644, 0.8748656472181644, 0.8748656472181644, 0.8748656472181644, 0.8793173504550117, 0.8793173504550117, 0.8793173504550117, 0.8793173504550117, 0.8793173504550117, 0.8793173504550117, 0.8793173504550117, 0.8793173504550117, 0.8793173504550117, 0.8793173504550117, 0.8952028279615145, 0.8952028279615145]}], \"AUC_weighted\": [{\"categories\": [\"0\", \"1\", \"2\", \"4\", \"5\", \"7\", \"8\", \"9\", \"10\", \"11\", \"12\", \"13\", \"14\", \"15\", \"16\", \"17\", \"18\", \"19\", \"20\", \"21\", \"22\", \"23\", \"24\", \"25\", \"26\", \"27\", \"28\", \"29\", \"30\", \"31\", \"32\", \"33\", \"34\", \"35\", \"36\"], \"mode\": \"markers\", \"name\": \"AUC_weighted\", \"stepped\": false, \"type\": \"scatter\", \"data\": [0.8840955354735103, 0.8847369443591411, 0.8871596024536528, 0.9037785462778597, 0.8957417125928566, 0.9054157961603615, 0.891587869679689, 0.8938127346528377, 0.8894912688781682, 0.8840300304175018, 0.8873558867799713, 0.7986011485812688, 0.8958844125300075, 0.8894474108663181, 0.8740099113065932, 0.8488613329546967, 0.8876962570292661, 0.8409485998978562, 0.887424456150257, 0.8676648856165446, 0.8542019970463048, 0.8621733037578574, 0.6893506025163921, 0.8884878713582374, 0.8956995765104461, 0.8985030728996403, 0.9051133023599842, 0.901850090393969, 0.8959755391443036, 0.8693964808816068, 0.8543934813152777, 0.8548425475331941, 0.8932182872640537, 0.9107098680770876, 0.9060803764186488]}, {\"categories\": [\"0\", \"1\", \"2\", \"4\", \"5\", \"7\", \"8\", \"9\", \"10\", \"11\", \"12\", \"13\", \"14\", \"15\", \"16\", \"17\", \"18\", \"19\", \"20\", \"21\", \"22\", \"23\", \"24\", \"25\", \"26\", \"27\", \"28\", \"29\", \"30\", \"31\", \"32\", \"33\", \"34\", \"35\", \"36\"], \"mode\": \"lines\", \"name\": \"AUC_weighted_max\", \"stepped\": true, \"type\": \"scatter\", \"data\": [0.8840955354735103, 0.8847369443591411, 0.8871596024536528, 0.9037785462778597, 0.9037785462778597, 0.9054157961603615, 0.9054157961603615, 0.9054157961603615, 0.9054157961603615, 0.9054157961603615, 0.9054157961603615, 0.9054157961603615, 0.9054157961603615, 0.9054157961603615, 0.9054157961603615, 0.9054157961603615, 0.9054157961603615, 0.9054157961603615, 0.9054157961603615, 0.9054157961603615, 0.9054157961603615, 0.9054157961603615, 0.9054157961603615, 0.9054157961603615, 0.9054157961603615, 0.9054157961603615, 0.9054157961603615, 0.9054157961603615, 0.9054157961603615, 0.9054157961603615, 0.9054157961603615, 0.9054157961603615, 0.9054157961603615, 0.9107098680770876, 0.9107098680770876]}], \"log_loss\": [{\"categories\": [\"0\", \"1\", \"2\", \"4\", \"5\", \"7\", \"8\", \"9\", \"10\", \"11\", \"12\", \"13\", \"14\", \"15\", \"16\", \"17\", \"18\", \"19\", \"20\", \"21\", \"22\", \"23\", \"24\", \"25\", \"26\", \"27\", \"28\", \"29\", \"30\", \"31\", \"32\", \"33\", \"34\", \"35\", \"36\"], \"mode\": \"markers\", \"name\": \"log_loss\", \"stepped\": false, \"type\": \"scatter\", \"data\": [0.4772179826627182, 0.41764279466886123, 0.38966617814402643, 0.384551763883796, 0.3718348523776846, 0.3797331659484905, 0.40153210284116697, 0.40019160369677487, 0.48308327551219465, 0.48125478654413173, 0.39009669381482814, 0.8155854683210582, 0.3782968959765872, 0.46217731663487216, 0.4869250679413014, 0.4422509667409589, 0.4562704100706318, 0.6138133555480517, 0.4082331920054044, 0.4451146851414588, 0.5089793770028423, 0.4190771218045669, 0.6101410565080675, 0.40631309282684736, 0.4500625296063684, 0.38980181548995413, 0.43794592570248697, 0.4396629966934137, 0.6301254689283221, 0.42216492574678793, 0.4355836903680103, 0.49821909285345123, 0.4009913774523529, 0.3775412952496465, 0.38538043643637937]}, {\"categories\": [\"0\", \"1\", \"2\", \"4\", \"5\", \"7\", \"8\", \"9\", \"10\", \"11\", \"12\", \"13\", \"14\", \"15\", \"16\", \"17\", \"18\", \"19\", \"20\", \"21\", \"22\", \"23\", \"24\", \"25\", \"26\", \"27\", \"28\", \"29\", \"30\", \"31\", \"32\", \"33\", \"34\", \"35\", \"36\"], \"mode\": \"lines\", \"name\": \"log_loss_min\", \"stepped\": true, \"type\": \"scatter\", \"data\": [0.4772179826627182, 0.41764279466886123, 0.38966617814402643, 0.384551763883796, 0.3718348523776846, 0.3718348523776846, 0.3718348523776846, 0.3718348523776846, 0.3718348523776846, 0.3718348523776846, 0.3718348523776846, 0.3718348523776846, 0.3718348523776846, 0.3718348523776846, 0.3718348523776846, 0.3718348523776846, 0.3718348523776846, 0.3718348523776846, 0.3718348523776846, 0.3718348523776846, 0.3718348523776846, 0.3718348523776846, 0.3718348523776846, 0.3718348523776846, 0.3718348523776846, 0.3718348523776846, 0.3718348523776846, 0.3718348523776846, 0.3718348523776846, 0.3718348523776846, 0.3718348523776846, 0.3718348523776846, 0.3718348523776846, 0.3718348523776846, 0.3718348523776846]}], \"norm_macro_recall\": [{\"categories\": [\"0\", \"1\", \"2\", \"4\", \"5\", \"7\", \"8\", \"9\", \"10\", \"11\", \"12\", \"13\", \"14\", \"15\", \"16\", \"17\", \"18\", \"19\", \"20\", \"21\", \"22\", \"23\", \"24\", \"25\", \"26\", \"27\", \"28\", \"29\", \"30\", \"31\", \"32\", \"33\", \"34\", \"35\", \"36\"], \"mode\": \"markers\", \"name\": \"norm_macro_recall\", \"stepped\": false, \"type\": \"scatter\", \"data\": [0.6154165791620023, 0.626049804187676, 0.6260037098675542, 0.6258324615887545, 0.6493435821107445, 0.6053658842428865, 0.5916437701632209, 0.5722242364805294, 0.3514433811802232, 0.3634525708209918, 0.574826157950872, 0.22163984566158473, 0.6286282768845698, 0.37672739985669046, 0.6287977040757362, 0.44792542869030283, 0.5605073611234939, 0.5622446490072348, 0.6091040876235385, 0.5384333445603469, 0.5069643063521782, 0.5776136570015289, 0.0, 0.5922533928695255, 0.46567059116830284, 0.6414718821097539, 0.6612113765969603, 0.6141570741742367, 0.0, 0.5198297654544793, 0.5064984711449242, 0.5290204959037912, 0.5935811894690612, 0.6755455379225402, 0.6476046382425101]}, {\"categories\": [\"0\", \"1\", \"2\", \"4\", \"5\", \"7\", \"8\", \"9\", \"10\", \"11\", \"12\", \"13\", \"14\", \"15\", \"16\", \"17\", \"18\", \"19\", \"20\", \"21\", \"22\", \"23\", \"24\", \"25\", \"26\", \"27\", \"28\", \"29\", \"30\", \"31\", \"32\", \"33\", \"34\", \"35\", \"36\"], \"mode\": \"lines\", \"name\": \"norm_macro_recall_max\", \"stepped\": true, \"type\": \"scatter\", \"data\": [0.6154165791620023, 0.626049804187676, 0.626049804187676, 0.626049804187676, 0.6493435821107445, 0.6493435821107445, 0.6493435821107445, 0.6493435821107445, 0.6493435821107445, 0.6493435821107445, 0.6493435821107445, 0.6493435821107445, 0.6493435821107445, 0.6493435821107445, 0.6493435821107445, 0.6493435821107445, 0.6493435821107445, 0.6493435821107445, 0.6493435821107445, 0.6493435821107445, 0.6493435821107445, 0.6493435821107445, 0.6493435821107445, 0.6493435821107445, 0.6493435821107445, 0.6493435821107445, 0.6612113765969603, 0.6612113765969603, 0.6612113765969603, 0.6612113765969603, 0.6612113765969603, 0.6612113765969603, 0.6612113765969603, 0.6755455379225402, 0.6755455379225402]}], \"precision_score_micro\": [{\"categories\": [\"0\", \"1\", \"2\", \"4\", \"5\", \"7\", \"8\", \"9\", \"10\", \"11\", \"12\", \"13\", \"14\", \"15\", \"16\", \"17\", \"18\", \"19\", \"20\", \"21\", \"22\", \"23\", \"24\", \"25\", \"26\", \"27\", \"28\", \"29\", \"30\", \"31\", \"32\", \"33\", \"34\", \"35\", \"36\"], \"mode\": \"markers\", \"name\": \"precision_score_micro\", \"stepped\": false, \"type\": \"scatter\", \"data\": [0.8359770114942527, 0.8358620689655172, 0.8460919540229884, 0.829080459770115, 0.8493103448275863, 0.8462068965517242, 0.8397701149425287, 0.8224137931034482, 0.7760919540229885, 0.7859770114942529, 0.8191954022988506, 0.7293103448275863, 0.8391954022988506, 0.7893103448275862, 0.8257471264367815, 0.7588505747126437, 0.8360919540229885, 0.7789655172413793, 0.8460919540229884, 0.8228735632183908, 0.8196551724137932, 0.8360919540229885, 0.6791954022988507, 0.8460919540229886, 0.8093103448275862, 0.8428735632183908, 0.835632183908046, 0.8362068965517242, 0.6791954022988507, 0.8058620689655172, 0.7819540229885058, 0.7889655172413793, 0.8395402298850575, 0.8729885057471265, 0.8528735632183908]}, {\"categories\": [\"0\", \"1\", \"2\", \"4\", \"5\", \"7\", \"8\", \"9\", \"10\", \"11\", \"12\", \"13\", \"14\", \"15\", \"16\", \"17\", \"18\", \"19\", \"20\", \"21\", \"22\", \"23\", \"24\", \"25\", \"26\", \"27\", \"28\", \"29\", \"30\", \"31\", \"32\", \"33\", \"34\", \"35\", \"36\"], \"mode\": \"lines\", \"name\": \"precision_score_micro_max\", \"stepped\": true, \"type\": \"scatter\", \"data\": [0.8359770114942527, 0.8359770114942527, 0.8460919540229884, 0.8460919540229884, 0.8493103448275863, 0.8493103448275863, 0.8493103448275863, 0.8493103448275863, 0.8493103448275863, 0.8493103448275863, 0.8493103448275863, 0.8493103448275863, 0.8493103448275863, 0.8493103448275863, 0.8493103448275863, 0.8493103448275863, 0.8493103448275863, 0.8493103448275863, 0.8493103448275863, 0.8493103448275863, 0.8493103448275863, 0.8493103448275863, 0.8493103448275863, 0.8493103448275863, 0.8493103448275863, 0.8493103448275863, 0.8493103448275863, 0.8493103448275863, 0.8493103448275863, 0.8493103448275863, 0.8493103448275863, 0.8493103448275863, 0.8493103448275863, 0.8729885057471265, 0.8729885057471265]}], \"matthews_correlation\": [{\"categories\": [\"0\", \"1\", \"2\", \"4\", \"5\", \"7\", \"8\", \"9\", \"10\", \"11\", \"12\", \"13\", \"14\", \"15\", \"16\", \"17\", \"18\", \"19\", \"20\", \"21\", \"22\", \"23\", \"24\", \"25\", \"26\", \"27\", \"28\", \"29\", \"30\", \"31\", \"32\", \"33\", \"34\", \"35\", \"36\"], \"mode\": \"markers\", \"name\": \"matthews_correlation\", \"stepped\": false, \"type\": \"scatter\", \"data\": [0.6231314496952846, 0.6345538749068885, 0.6417451314547666, 0.6143816171128533, 0.65195039494131, 0.6465598412468306, 0.6339679692792288, 0.5995988757231816, 0.47115272256338053, 0.4868705521612653, 0.5889712099478915, 0.30979693136999487, 0.6331512171873306, 0.4865043288809896, 0.6107670126291953, 0.4409360890000249, 0.6209883465356744, 0.5350036283414378, 0.6458670078595068, 0.5982561558559449, 0.5716791294713903, 0.6273558035662556, 0.0, 0.6464993868865988, 0.5497637997682412, 0.6555689941058482, 0.6354991143440827, 0.6435493030722409, 0.0, 0.5606427593059455, 0.49907293280599296, 0.5300744140982487, 0.633180134205708, 0.7204942959665503, 0.672489826916831]}, {\"categories\": [\"0\", \"1\", \"2\", \"4\", \"5\", \"7\", \"8\", \"9\", \"10\", \"11\", \"12\", \"13\", \"14\", \"15\", \"16\", \"17\", \"18\", \"19\", \"20\", \"21\", \"22\", \"23\", \"24\", \"25\", \"26\", \"27\", \"28\", \"29\", \"30\", \"31\", \"32\", \"33\", \"34\", \"35\", \"36\"], \"mode\": \"lines\", \"name\": \"matthews_correlation_max\", \"stepped\": true, \"type\": \"scatter\", \"data\": [0.6231314496952846, 0.6345538749068885, 0.6417451314547666, 0.6417451314547666, 0.65195039494131, 0.65195039494131, 0.65195039494131, 0.65195039494131, 0.65195039494131, 0.65195039494131, 0.65195039494131, 0.65195039494131, 0.65195039494131, 0.65195039494131, 0.65195039494131, 0.65195039494131, 0.65195039494131, 0.65195039494131, 0.65195039494131, 0.65195039494131, 0.65195039494131, 0.65195039494131, 0.65195039494131, 0.65195039494131, 0.65195039494131, 0.6555689941058482, 0.6555689941058482, 0.6555689941058482, 0.6555689941058482, 0.6555689941058482, 0.6555689941058482, 0.6555689941058482, 0.6555689941058482, 0.7204942959665503, 0.7204942959665503]}], \"precision_score_weighted\": [{\"categories\": [\"0\", \"1\", \"2\", \"4\", \"5\", \"7\", \"8\", \"9\", \"10\", \"11\", \"12\", \"13\", \"14\", \"15\", \"16\", \"17\", \"18\", \"19\", \"20\", \"21\", \"22\", \"23\", \"24\", \"25\", \"26\", \"27\", \"28\", \"29\", \"30\", \"31\", \"32\", \"33\", \"34\", \"35\", \"36\"], \"mode\": \"markers\", \"name\": \"precision_score_weighted\", \"stepped\": false, \"type\": \"scatter\", \"data\": [0.8443308716969533, 0.8506678986628277, 0.8554741586833924, 0.8424729116061453, 0.8584691256179457, 0.8578842721496395, 0.8551231857015216, 0.8392705157604483, 0.8076618811371684, 0.8216576193283089, 0.8336046172440474, 0.7487746995448146, 0.8502832304987479, 0.8185920284779356, 0.8439002658236463, 0.7671338984709438, 0.851598738725875, 0.8107141806709229, 0.8637015006898816, 0.8398714082019929, 0.829216887587952, 0.8544727842187612, 0.47055053507728895, 0.860241975440851, 0.8293092136979944, 0.8585071397020817, 0.8552778336382746, 0.8585570644150499, 0.47055053507728895, 0.8268833868779895, 0.7956060444563167, 0.8089003389566004, 0.8565609565763239, 0.8885232929378356, 0.8674560067757218]}, {\"categories\": [\"0\", \"1\", \"2\", \"4\", \"5\", \"7\", \"8\", \"9\", \"10\", \"11\", \"12\", \"13\", \"14\", \"15\", \"16\", \"17\", \"18\", \"19\", \"20\", \"21\", \"22\", \"23\", \"24\", \"25\", \"26\", \"27\", \"28\", \"29\", \"30\", \"31\", \"32\", \"33\", \"34\", \"35\", \"36\"], \"mode\": \"lines\", \"name\": \"precision_score_weighted_max\", \"stepped\": true, \"type\": \"scatter\", \"data\": [0.8443308716969533, 0.8506678986628277, 0.8554741586833924, 0.8554741586833924, 0.8584691256179457, 0.8584691256179457, 0.8584691256179457, 0.8584691256179457, 0.8584691256179457, 0.8584691256179457, 0.8584691256179457, 0.8584691256179457, 0.8584691256179457, 0.8584691256179457, 0.8584691256179457, 0.8584691256179457, 0.8584691256179457, 0.8584691256179457, 0.8637015006898816, 0.8637015006898816, 0.8637015006898816, 0.8637015006898816, 0.8637015006898816, 0.8637015006898816, 0.8637015006898816, 0.8637015006898816, 0.8637015006898816, 0.8637015006898816, 0.8637015006898816, 0.8637015006898816, 0.8637015006898816, 0.8637015006898816, 0.8637015006898816, 0.8885232929378356, 0.8885232929378356]}], \"precision_score_macro\": [{\"categories\": [\"0\", \"1\", \"2\", \"4\", \"5\", \"7\", \"8\", \"9\", \"10\", \"11\", \"12\", \"13\", \"14\", \"15\", \"16\", \"17\", \"18\", \"19\", \"20\", \"21\", \"22\", \"23\", \"24\", \"25\", \"26\", \"27\", \"28\", \"29\", \"30\", \"31\", \"32\", \"33\", \"34\", \"35\", \"36\"], \"mode\": \"markers\", \"name\": \"precision_score_macro\", \"stepped\": false, \"type\": \"scatter\", \"data\": [0.8167365852764965, 0.8232986049897815, 0.8308426435741014, 0.8022824639670614, 0.82819888736994, 0.846361801242236, 0.8412314605684171, 0.8174044149129962, 0.8224982702482702, 0.8399789377289377, 0.8034919578260539, 0.7430963468204848, 0.819845238095238, 0.828713612474482, 0.7978448839490029, 0.7199115827282302, 0.8464114906832299, 0.7555217981081153, 0.8459910697616648, 0.8338090894612632, 0.8264792960662526, 0.8449427609427609, 0.33959770114942534, 0.8551909937888198, 0.8280189830298526, 0.8368826536418069, 0.8059926455553391, 0.8404725902752219, 0.33959770114942534, 0.8058505123150432, 0.7541382623224729, 0.7671140117192748, 0.8401450494585505, 0.8869844611909828, 0.851209569416091]}, {\"categories\": [\"0\", \"1\", \"2\", \"4\", \"5\", \"7\", \"8\", \"9\", \"10\", \"11\", \"12\", \"13\", \"14\", \"15\", \"16\", \"17\", \"18\", \"19\", \"20\", \"21\", \"22\", \"23\", \"24\", \"25\", \"26\", \"27\", \"28\", \"29\", \"30\", \"31\", \"32\", \"33\", \"34\", \"35\", \"36\"], \"mode\": \"lines\", \"name\": \"precision_score_macro_max\", \"stepped\": true, \"type\": \"scatter\", \"data\": [0.8167365852764965, 0.8232986049897815, 0.8308426435741014, 0.8308426435741014, 0.8308426435741014, 0.846361801242236, 0.846361801242236, 0.846361801242236, 0.846361801242236, 0.846361801242236, 0.846361801242236, 0.846361801242236, 0.846361801242236, 0.846361801242236, 0.846361801242236, 0.846361801242236, 0.8464114906832299, 0.8464114906832299, 0.8464114906832299, 0.8464114906832299, 0.8464114906832299, 0.8464114906832299, 0.8464114906832299, 0.8551909937888198, 0.8551909937888198, 0.8551909937888198, 0.8551909937888198, 0.8551909937888198, 0.8551909937888198, 0.8551909937888198, 0.8551909937888198, 0.8551909937888198, 0.8551909937888198, 0.8869844611909828, 0.8869844611909828]}], \"accuracy\": [{\"categories\": [\"0\", \"1\", \"2\", \"4\", \"5\", \"7\", \"8\", \"9\", \"10\", \"11\", \"12\", \"13\", \"14\", \"15\", \"16\", \"17\", \"18\", \"19\", \"20\", \"21\", \"22\", \"23\", \"24\", \"25\", \"26\", \"27\", \"28\", \"29\", \"30\", \"31\", \"32\", \"33\", \"34\", \"35\", \"36\"], \"mode\": \"markers\", \"name\": \"accuracy\", \"stepped\": false, \"type\": \"scatter\", \"data\": [0.8359770114942527, 0.8358620689655172, 0.8460919540229884, 0.829080459770115, 0.8493103448275863, 0.8462068965517242, 0.8397701149425287, 0.8224137931034482, 0.7760919540229885, 0.7859770114942529, 0.8191954022988506, 0.7293103448275863, 0.8391954022988506, 0.7893103448275862, 0.8257471264367815, 0.7588505747126437, 0.8360919540229885, 0.7789655172413793, 0.8460919540229884, 0.8228735632183908, 0.8196551724137932, 0.8360919540229885, 0.6791954022988507, 0.8460919540229886, 0.8093103448275862, 0.8428735632183908, 0.835632183908046, 0.8362068965517242, 0.6791954022988507, 0.8058620689655172, 0.7819540229885058, 0.7889655172413793, 0.8395402298850575, 0.8729885057471265, 0.8528735632183908]}, {\"categories\": [\"0\", \"1\", \"2\", \"4\", \"5\", \"7\", \"8\", \"9\", \"10\", \"11\", \"12\", \"13\", \"14\", \"15\", \"16\", \"17\", \"18\", \"19\", \"20\", \"21\", \"22\", \"23\", \"24\", \"25\", \"26\", \"27\", \"28\", \"29\", \"30\", \"31\", \"32\", \"33\", \"34\", \"35\", \"36\"], \"mode\": \"lines\", \"name\": \"accuracy_max\", \"stepped\": true, \"type\": \"scatter\", \"data\": [0.8359770114942527, 0.8359770114942527, 0.8460919540229884, 0.8460919540229884, 0.8493103448275863, 0.8493103448275863, 0.8493103448275863, 0.8493103448275863, 0.8493103448275863, 0.8493103448275863, 0.8493103448275863, 0.8493103448275863, 0.8493103448275863, 0.8493103448275863, 0.8493103448275863, 0.8493103448275863, 0.8493103448275863, 0.8493103448275863, 0.8493103448275863, 0.8493103448275863, 0.8493103448275863, 0.8493103448275863, 0.8493103448275863, 0.8493103448275863, 0.8493103448275863, 0.8493103448275863, 0.8493103448275863, 0.8493103448275863, 0.8493103448275863, 0.8493103448275863, 0.8493103448275863, 0.8493103448275863, 0.8493103448275863, 0.8729885057471265, 0.8729885057471265]}], \"f1_score_micro\": [{\"categories\": [\"0\", \"1\", \"2\", \"4\", \"5\", \"7\", \"8\", \"9\", \"10\", \"11\", \"12\", \"13\", \"14\", \"15\", \"16\", \"17\", \"18\", \"19\", \"20\", \"21\", \"22\", \"23\", \"24\", \"25\", \"26\", \"27\", \"28\", \"29\", \"30\", \"31\", \"32\", \"33\", \"34\", \"35\", \"36\"], \"mode\": \"markers\", \"name\": \"f1_score_micro\", \"stepped\": false, \"type\": \"scatter\", \"data\": [0.8359770114942527, 0.8358620689655172, 0.8460919540229884, 0.829080459770115, 0.8493103448275863, 0.8462068965517242, 0.8397701149425287, 0.8224137931034482, 0.7760919540229885, 0.7859770114942529, 0.8191954022988506, 0.7293103448275863, 0.8391954022988506, 0.7893103448275862, 0.8257471264367817, 0.7588505747126437, 0.8360919540229885, 0.7789655172413793, 0.8460919540229884, 0.8228735632183908, 0.8196551724137932, 0.8360919540229885, 0.6791954022988507, 0.8460919540229886, 0.8093103448275862, 0.8428735632183908, 0.835632183908046, 0.8362068965517242, 0.6791954022988507, 0.8058620689655172, 0.7819540229885058, 0.7889655172413793, 0.8395402298850575, 0.8729885057471265, 0.8528735632183908]}, {\"categories\": [\"0\", \"1\", \"2\", \"4\", \"5\", \"7\", \"8\", \"9\", \"10\", \"11\", \"12\", \"13\", \"14\", \"15\", \"16\", \"17\", \"18\", \"19\", \"20\", \"21\", \"22\", \"23\", \"24\", \"25\", \"26\", \"27\", \"28\", \"29\", \"30\", \"31\", \"32\", \"33\", \"34\", \"35\", \"36\"], \"mode\": \"lines\", \"name\": \"f1_score_micro_max\", \"stepped\": true, \"type\": \"scatter\", \"data\": [0.8359770114942527, 0.8359770114942527, 0.8460919540229884, 0.8460919540229884, 0.8493103448275863, 0.8493103448275863, 0.8493103448275863, 0.8493103448275863, 0.8493103448275863, 0.8493103448275863, 0.8493103448275863, 0.8493103448275863, 0.8493103448275863, 0.8493103448275863, 0.8493103448275863, 0.8493103448275863, 0.8493103448275863, 0.8493103448275863, 0.8493103448275863, 0.8493103448275863, 0.8493103448275863, 0.8493103448275863, 0.8493103448275863, 0.8493103448275863, 0.8493103448275863, 0.8493103448275863, 0.8493103448275863, 0.8493103448275863, 0.8493103448275863, 0.8493103448275863, 0.8493103448275863, 0.8493103448275863, 0.8493103448275863, 0.8729885057471265, 0.8729885057471265]}], \"f1_score_weighted\": [{\"categories\": [\"0\", \"1\", \"2\", \"4\", \"5\", \"7\", \"8\", \"9\", \"10\", \"11\", \"12\", \"13\", \"14\", \"15\", \"16\", \"17\", \"18\", \"19\", \"20\", \"21\", \"22\", \"23\", \"24\", \"25\", \"26\", \"27\", \"28\", \"29\", \"30\", \"31\", \"32\", \"33\", \"34\", \"35\", \"36\"], \"mode\": \"markers\", \"name\": \"f1_score_weighted\", \"stepped\": false, \"type\": \"scatter\", \"data\": [0.8333388901455894, 0.8342588560383983, 0.8428421235894563, 0.8302621001295704, 0.8480731678245551, 0.8397254867996011, 0.8331223482270577, 0.8185185416781519, 0.7414658803120642, 0.7506775442437094, 0.81653961937934, 0.6836827287580041, 0.8377629949492583, 0.7565676923477958, 0.8285833670315604, 0.7554623746252107, 0.8251337611307757, 0.7838086160719052, 0.8396349476709364, 0.8126444656149656, 0.8105582048990996, 0.8284905734790742, 0.5534120288954022, 0.8374630152100299, 0.790505266294711, 0.839619485616922, 0.8397551602133821, 0.8305539769932553, 0.5534120288954022, 0.7960087602225838, 0.7796930847779108, 0.7893120534407062, 0.8328674337905815, 0.8671677425562481, 0.8485879587673667]}, {\"categories\": [\"0\", \"1\", \"2\", \"4\", \"5\", \"7\", \"8\", \"9\", \"10\", \"11\", \"12\", \"13\", \"14\", \"15\", \"16\", \"17\", \"18\", \"19\", \"20\", \"21\", \"22\", \"23\", \"24\", \"25\", \"26\", \"27\", \"28\", \"29\", \"30\", \"31\", \"32\", \"33\", \"34\", \"35\", \"36\"], \"mode\": \"lines\", \"name\": \"f1_score_weighted_max\", \"stepped\": true, \"type\": \"scatter\", \"data\": [0.8333388901455894, 0.8342588560383983, 0.8428421235894563, 0.8428421235894563, 0.8480731678245551, 0.8480731678245551, 0.8480731678245551, 0.8480731678245551, 0.8480731678245551, 0.8480731678245551, 0.8480731678245551, 0.8480731678245551, 0.8480731678245551, 0.8480731678245551, 0.8480731678245551, 0.8480731678245551, 0.8480731678245551, 0.8480731678245551, 0.8480731678245551, 0.8480731678245551, 0.8480731678245551, 0.8480731678245551, 0.8480731678245551, 0.8480731678245551, 0.8480731678245551, 0.8480731678245551, 0.8480731678245551, 0.8480731678245551, 0.8480731678245551, 0.8480731678245551, 0.8480731678245551, 0.8480731678245551, 0.8480731678245551, 0.8671677425562481, 0.8671677425562481]}], \"AUC_macro\": [{\"categories\": [\"0\", \"1\", \"2\", \"4\", \"5\", \"7\", \"8\", \"9\", \"10\", \"11\", \"12\", \"13\", \"14\", \"15\", \"16\", \"17\", \"18\", \"19\", \"20\", \"21\", \"22\", \"23\", \"24\", \"25\", \"26\", \"27\", \"28\", \"29\", \"30\", \"31\", \"32\", \"33\", \"34\", \"35\", \"36\"], \"mode\": \"markers\", \"name\": \"AUC_macro\", \"stepped\": false, \"type\": \"scatter\", \"data\": [0.8840955354735103, 0.8847369443591411, 0.8871596024536528, 0.9037785462778597, 0.8957417125928566, 0.9054157961603615, 0.891587869679689, 0.8938127346528377, 0.8894912688781682, 0.8840300304175018, 0.8873558867799716, 0.7986011485812687, 0.8958844125300075, 0.8894474108663181, 0.8740099113065931, 0.8488613329546967, 0.8876962570292661, 0.8409485998978562, 0.8874244561502571, 0.8676648856165446, 0.8542019970463048, 0.8621733037578576, 0.6893506025163921, 0.8884878713582374, 0.8956995765104461, 0.8985030728996403, 0.9051133023599842, 0.901850090393969, 0.8959755391443036, 0.8693964808816068, 0.8543934813152777, 0.8548425475331941, 0.8932182872640538, 0.9107098680770879, 0.9060803764186488]}, {\"categories\": [\"0\", \"1\", \"2\", \"4\", \"5\", \"7\", \"8\", \"9\", \"10\", \"11\", \"12\", \"13\", \"14\", \"15\", \"16\", \"17\", \"18\", \"19\", \"20\", \"21\", \"22\", \"23\", \"24\", \"25\", \"26\", \"27\", \"28\", \"29\", \"30\", \"31\", \"32\", \"33\", \"34\", \"35\", \"36\"], \"mode\": \"lines\", \"name\": \"AUC_macro_max\", \"stepped\": true, \"type\": \"scatter\", \"data\": [0.8840955354735103, 0.8847369443591411, 0.8871596024536528, 0.9037785462778597, 0.9037785462778597, 0.9054157961603615, 0.9054157961603615, 0.9054157961603615, 0.9054157961603615, 0.9054157961603615, 0.9054157961603615, 0.9054157961603615, 0.9054157961603615, 0.9054157961603615, 0.9054157961603615, 0.9054157961603615, 0.9054157961603615, 0.9054157961603615, 0.9054157961603615, 0.9054157961603615, 0.9054157961603615, 0.9054157961603615, 0.9054157961603615, 0.9054157961603615, 0.9054157961603615, 0.9054157961603615, 0.9054157961603615, 0.9054157961603615, 0.9054157961603615, 0.9054157961603615, 0.9054157961603615, 0.9054157961603615, 0.9054157961603615, 0.9107098680770879, 0.9107098680770879]}], \"recall_score_weighted\": [{\"categories\": [\"0\", \"1\", \"2\", \"4\", \"5\", \"7\", \"8\", \"9\", \"10\", \"11\", \"12\", \"13\", \"14\", \"15\", \"16\", \"17\", \"18\", \"19\", \"20\", \"21\", \"22\", \"23\", \"24\", \"25\", \"26\", \"27\", \"28\", \"29\", \"30\", \"31\", \"32\", \"33\", \"34\", \"35\", \"36\"], \"mode\": \"markers\", \"name\": \"recall_score_weighted\", \"stepped\": false, \"type\": \"scatter\", \"data\": [0.8359770114942527, 0.8358620689655172, 0.8460919540229884, 0.829080459770115, 0.8493103448275863, 0.8462068965517242, 0.8397701149425287, 0.8224137931034482, 0.7760919540229885, 0.7859770114942529, 0.8191954022988506, 0.7293103448275863, 0.8391954022988506, 0.7893103448275862, 0.8257471264367815, 0.7588505747126437, 0.8360919540229885, 0.7789655172413793, 0.8460919540229884, 0.8228735632183908, 0.8196551724137932, 0.8360919540229885, 0.6791954022988507, 0.8460919540229886, 0.8093103448275862, 0.8428735632183908, 0.835632183908046, 0.8362068965517242, 0.6791954022988507, 0.8058620689655172, 0.7819540229885058, 0.7889655172413793, 0.8395402298850575, 0.8729885057471265, 0.8528735632183908]}, {\"categories\": [\"0\", \"1\", \"2\", \"4\", \"5\", \"7\", \"8\", \"9\", \"10\", \"11\", \"12\", \"13\", \"14\", \"15\", \"16\", \"17\", \"18\", \"19\", \"20\", \"21\", \"22\", \"23\", \"24\", \"25\", \"26\", \"27\", \"28\", \"29\", \"30\", \"31\", \"32\", \"33\", \"34\", \"35\", \"36\"], \"mode\": \"lines\", \"name\": \"recall_score_weighted_max\", \"stepped\": true, \"type\": \"scatter\", \"data\": [0.8359770114942527, 0.8359770114942527, 0.8460919540229884, 0.8460919540229884, 0.8493103448275863, 0.8493103448275863, 0.8493103448275863, 0.8493103448275863, 0.8493103448275863, 0.8493103448275863, 0.8493103448275863, 0.8493103448275863, 0.8493103448275863, 0.8493103448275863, 0.8493103448275863, 0.8493103448275863, 0.8493103448275863, 0.8493103448275863, 0.8493103448275863, 0.8493103448275863, 0.8493103448275863, 0.8493103448275863, 0.8493103448275863, 0.8493103448275863, 0.8493103448275863, 0.8493103448275863, 0.8493103448275863, 0.8493103448275863, 0.8493103448275863, 0.8493103448275863, 0.8493103448275863, 0.8493103448275863, 0.8493103448275863, 0.8729885057471265, 0.8729885057471265]}], \"recall_score_micro\": [{\"categories\": [\"0\", \"1\", \"2\", \"4\", \"5\", \"7\", \"8\", \"9\", \"10\", \"11\", \"12\", \"13\", \"14\", \"15\", \"16\", \"17\", \"18\", \"19\", \"20\", \"21\", \"22\", \"23\", \"24\", \"25\", \"26\", \"27\", \"28\", \"29\", \"30\", \"31\", \"32\", \"33\", \"34\", \"35\", \"36\"], \"mode\": \"markers\", \"name\": \"recall_score_micro\", \"stepped\": false, \"type\": \"scatter\", \"data\": [0.8359770114942527, 0.8358620689655172, 0.8460919540229884, 0.829080459770115, 0.8493103448275863, 0.8462068965517242, 0.8397701149425287, 0.8224137931034482, 0.7760919540229885, 0.7859770114942529, 0.8191954022988506, 0.7293103448275863, 0.8391954022988506, 0.7893103448275862, 0.8257471264367815, 0.7588505747126437, 0.8360919540229885, 0.7789655172413793, 0.8460919540229884, 0.8228735632183908, 0.8196551724137932, 0.8360919540229885, 0.6791954022988507, 0.8460919540229886, 0.8093103448275862, 0.8428735632183908, 0.835632183908046, 0.8362068965517242, 0.6791954022988507, 0.8058620689655172, 0.7819540229885058, 0.7889655172413793, 0.8395402298850575, 0.8729885057471265, 0.8528735632183908]}, {\"categories\": [\"0\", \"1\", \"2\", \"4\", \"5\", \"7\", \"8\", \"9\", \"10\", \"11\", \"12\", \"13\", \"14\", \"15\", \"16\", \"17\", \"18\", \"19\", \"20\", \"21\", \"22\", \"23\", \"24\", \"25\", \"26\", \"27\", \"28\", \"29\", \"30\", \"31\", \"32\", \"33\", \"34\", \"35\", \"36\"], \"mode\": \"lines\", \"name\": \"recall_score_micro_max\", \"stepped\": true, \"type\": \"scatter\", \"data\": [0.8359770114942527, 0.8359770114942527, 0.8460919540229884, 0.8460919540229884, 0.8493103448275863, 0.8493103448275863, 0.8493103448275863, 0.8493103448275863, 0.8493103448275863, 0.8493103448275863, 0.8493103448275863, 0.8493103448275863, 0.8493103448275863, 0.8493103448275863, 0.8493103448275863, 0.8493103448275863, 0.8493103448275863, 0.8493103448275863, 0.8493103448275863, 0.8493103448275863, 0.8493103448275863, 0.8493103448275863, 0.8493103448275863, 0.8493103448275863, 0.8493103448275863, 0.8493103448275863, 0.8493103448275863, 0.8493103448275863, 0.8493103448275863, 0.8493103448275863, 0.8493103448275863, 0.8493103448275863, 0.8493103448275863, 0.8729885057471265, 0.8729885057471265]}], \"average_precision_score_weighted\": [{\"categories\": [\"0\", \"1\", \"2\", \"4\", \"5\", \"7\", \"8\", \"9\", \"10\", \"11\", \"12\", \"13\", \"14\", \"15\", \"16\", \"17\", \"18\", \"19\", \"20\", \"21\", \"22\", \"23\", \"24\", \"25\", \"26\", \"27\", \"28\", \"29\", \"30\", \"31\", \"32\", \"33\", \"34\", \"35\", \"36\"], \"mode\": \"markers\", \"name\": \"average_precision_score_weighted\", \"stepped\": false, \"type\": \"scatter\", \"data\": [0.9061112830231934, 0.907154018724502, 0.9059012298416983, 0.9178093748113353, 0.9164115763830056, 0.9213609025498183, 0.9038391423287149, 0.9124804857473642, 0.9108620745221062, 0.9049099675275242, 0.908459315657298, 0.8126084953786219, 0.9114886270920822, 0.909221133510461, 0.898607635411091, 0.8781236639549977, 0.8947700258439003, 0.8666803772280035, 0.900773901070415, 0.8882641164977259, 0.876339864026562, 0.890063010958896, 0.7630099671421013, 0.909010249532367, 0.9118095282871271, 0.9128109048647373, 0.9216761220409119, 0.9148127279480933, 0.9097279124865458, 0.892221836801804, 0.8808444035041638, 0.8719695965111913, 0.9120311880555606, 0.922720564246009, 0.9202237661048166]}, {\"categories\": [\"0\", \"1\", \"2\", \"4\", \"5\", \"7\", \"8\", \"9\", \"10\", \"11\", \"12\", \"13\", \"14\", \"15\", \"16\", \"17\", \"18\", \"19\", \"20\", \"21\", \"22\", \"23\", \"24\", \"25\", \"26\", \"27\", \"28\", \"29\", \"30\", \"31\", \"32\", \"33\", \"34\", \"35\", \"36\"], \"mode\": \"lines\", \"name\": \"average_precision_score_weighted_max\", \"stepped\": true, \"type\": \"scatter\", \"data\": [0.9061112830231934, 0.907154018724502, 0.907154018724502, 0.9178093748113353, 0.9178093748113353, 0.9213609025498183, 0.9213609025498183, 0.9213609025498183, 0.9213609025498183, 0.9213609025498183, 0.9213609025498183, 0.9213609025498183, 0.9213609025498183, 0.9213609025498183, 0.9213609025498183, 0.9213609025498183, 0.9213609025498183, 0.9213609025498183, 0.9213609025498183, 0.9213609025498183, 0.9213609025498183, 0.9213609025498183, 0.9213609025498183, 0.9213609025498183, 0.9213609025498183, 0.9213609025498183, 0.9216761220409119, 0.9216761220409119, 0.9216761220409119, 0.9216761220409119, 0.9216761220409119, 0.9216761220409119, 0.9216761220409119, 0.922720564246009, 0.922720564246009]}], \"balanced_accuracy\": [{\"categories\": [\"0\", \"1\", \"2\", \"4\", \"5\", \"7\", \"8\", \"9\", \"10\", \"11\", \"12\", \"13\", \"14\", \"15\", \"16\", \"17\", \"18\", \"19\", \"20\", \"21\", \"22\", \"23\", \"24\", \"25\", \"26\", \"27\", \"28\", \"29\", \"30\", \"31\", \"32\", \"33\", \"34\", \"35\", \"36\"], \"mode\": \"markers\", \"name\": \"balanced_accuracy\", \"stepped\": false, \"type\": \"scatter\", \"data\": [0.8077082895810014, 0.8130249020938379, 0.8130018549337772, 0.8129162307943772, 0.8246717910553724, 0.8026829421214432, 0.7958218850816104, 0.7861121182402647, 0.6757216905901116, 0.6817262854104958, 0.787413078975436, 0.6048390615867733, 0.8143141384422847, 0.6883636999283452, 0.8143988520378681, 0.7220146623970994, 0.7802536805617468, 0.7811223245036174, 0.8045520438117693, 0.7692166722801734, 0.7534821531760891, 0.7888068285007644, 0.5, 0.7961266964347629, 0.7328352955841514, 0.8207359410548769, 0.83060568829848, 0.8070785370871183, 0.5, 0.7599148827272397, 0.7467557290789556, 0.7645102479518956, 0.7967905947345306, 0.8377727689612702, 0.823802319121255]}, {\"categories\": [\"0\", \"1\", \"2\", \"4\", \"5\", \"7\", \"8\", \"9\", \"10\", \"11\", \"12\", \"13\", \"14\", \"15\", \"16\", \"17\", \"18\", \"19\", \"20\", \"21\", \"22\", \"23\", \"24\", \"25\", \"26\", \"27\", \"28\", \"29\", \"30\", \"31\", \"32\", \"33\", \"34\", \"35\", \"36\"], \"mode\": \"lines\", \"name\": \"balanced_accuracy_max\", \"stepped\": true, \"type\": \"scatter\", \"data\": [0.8077082895810014, 0.8130249020938379, 0.8130249020938379, 0.8130249020938379, 0.8246717910553724, 0.8246717910553724, 0.8246717910553724, 0.8246717910553724, 0.8246717910553724, 0.8246717910553724, 0.8246717910553724, 0.8246717910553724, 0.8246717910553724, 0.8246717910553724, 0.8246717910553724, 0.8246717910553724, 0.8246717910553724, 0.8246717910553724, 0.8246717910553724, 0.8246717910553724, 0.8246717910553724, 0.8246717910553724, 0.8246717910553724, 0.8246717910553724, 0.8246717910553724, 0.8246717910553724, 0.83060568829848, 0.83060568829848, 0.83060568829848, 0.83060568829848, 0.83060568829848, 0.83060568829848, 0.83060568829848, 0.8377727689612702, 0.8377727689612702]}]}, \"metricName\": null, \"primaryMetricName\": \"accuracy\", \"showLegend\": false}, \"run_metrics\": [{\"name\": \"experiment_status\", \"run_id\": \"AutoML_a1d5996a-6c2e-4b16-b83d-406b66c606ee\", \"categories\": [0, 1, 2, 3, 4, 5, 6, 7, 8, 9, 10, 11, 12, 13], \"series\": [{\"data\": [\"DatasetEvaluation\", \"FeaturesGeneration\", \"DatasetFeaturization\", \"DatasetFeaturizationCompleted\", \"DatasetCrossValidationSplit\", \"ModelSelection\", \"BestRunExplainModel\", \"ModelExplanationDataSetSetup\", \"PickSurrogateModel\", \"EngineeredFeatureExplanations\", \"EngineeredFeatureExplanations\", \"RawFeaturesExplanations\", \"RawFeaturesExplanations\", \"BestRunExplainModel\"]}]}, {\"name\": \"experiment_status_description\", \"run_id\": \"AutoML_a1d5996a-6c2e-4b16-b83d-406b66c606ee\", \"categories\": [0, 1, 2, 3, 4, 5, 6, 7, 8, 9, 10, 11, 12, 13], \"series\": [{\"data\": [\"Gathering dataset statistics.\", \"Generating features for the dataset.\", \"Beginning to fit featurizers and featurize the dataset.\", \"Completed fit featurizers and featurizing the dataset.\", \"Generating individually featurized CV splits.\", \"Beginning model selection.\", \"Best run model explanations started\", \"Model explanations data setup completed\", \"Choosing LightGBM as the surrogate model for explanations\", \"Computation of engineered features started\", \"Computation of engineered features completed\", \"Computation of raw features started\", \"Computation of raw features completed\", \"Best run model explanations completed\"]}]}, {\"name\": \"precision_score_micro\", \"run_id\": \"AutoML_a1d5996a-6c2e-4b16-b83d-406b66c606ee\", \"categories\": [0], \"series\": [{\"data\": [0.8729885057471265]}]}, {\"name\": \"AUC_weighted\", \"run_id\": \"AutoML_a1d5996a-6c2e-4b16-b83d-406b66c606ee\", \"categories\": [0], \"series\": [{\"data\": [0.9107098680770876]}]}, {\"name\": \"log_loss\", \"run_id\": \"AutoML_a1d5996a-6c2e-4b16-b83d-406b66c606ee\", \"categories\": [0], \"series\": [{\"data\": [0.3775412952496465]}]}, {\"name\": \"f1_score_micro\", \"run_id\": \"AutoML_a1d5996a-6c2e-4b16-b83d-406b66c606ee\", \"categories\": [0], \"series\": [{\"data\": [0.8729885057471265]}]}, {\"name\": \"f1_score_macro\", \"run_id\": \"AutoML_a1d5996a-6c2e-4b16-b83d-406b66c606ee\", \"categories\": [0], \"series\": [{\"data\": [0.845956078818683]}]}, {\"name\": \"precision_score_weighted\", \"run_id\": \"AutoML_a1d5996a-6c2e-4b16-b83d-406b66c606ee\", \"categories\": [0], \"series\": [{\"data\": [0.8885232929378356]}]}, {\"name\": \"norm_macro_recall\", \"run_id\": \"AutoML_a1d5996a-6c2e-4b16-b83d-406b66c606ee\", \"categories\": [0], \"series\": [{\"data\": [0.6755455379225402]}]}, {\"name\": \"AUC_micro\", \"run_id\": \"AutoML_a1d5996a-6c2e-4b16-b83d-406b66c606ee\", \"categories\": [0], \"series\": [{\"data\": [0.9159729158409302]}]}, {\"name\": \"average_precision_score_micro\", \"run_id\": \"AutoML_a1d5996a-6c2e-4b16-b83d-406b66c606ee\", \"categories\": [0], \"series\": [{\"data\": [0.9175338716371687]}]}, {\"name\": \"average_precision_score_weighted\", \"run_id\": \"AutoML_a1d5996a-6c2e-4b16-b83d-406b66c606ee\", \"categories\": [0], \"series\": [{\"data\": [0.922720564246009]}]}, {\"name\": \"recall_score_micro\", \"run_id\": \"AutoML_a1d5996a-6c2e-4b16-b83d-406b66c606ee\", \"categories\": [0], \"series\": [{\"data\": [0.8729885057471265]}]}, {\"name\": \"average_precision_score_macro\", \"run_id\": \"AutoML_a1d5996a-6c2e-4b16-b83d-406b66c606ee\", \"categories\": [0], \"series\": [{\"data\": [0.8999411337980614]}]}, {\"name\": \"accuracy\", \"run_id\": \"AutoML_a1d5996a-6c2e-4b16-b83d-406b66c606ee\", \"categories\": [0], \"series\": [{\"data\": [0.8729885057471265]}]}, {\"name\": \"AUC_macro\", \"run_id\": \"AutoML_a1d5996a-6c2e-4b16-b83d-406b66c606ee\", \"categories\": [0], \"series\": [{\"data\": [0.9107098680770879]}]}, {\"name\": \"f1_score_weighted\", \"run_id\": \"AutoML_a1d5996a-6c2e-4b16-b83d-406b66c606ee\", \"categories\": [0], \"series\": [{\"data\": [0.8671677425562481]}]}, {\"name\": \"precision_score_macro\", \"run_id\": \"AutoML_a1d5996a-6c2e-4b16-b83d-406b66c606ee\", \"categories\": [0], \"series\": [{\"data\": [0.8869844611909828]}]}, {\"name\": \"matthews_correlation\", \"run_id\": \"AutoML_a1d5996a-6c2e-4b16-b83d-406b66c606ee\", \"categories\": [0], \"series\": [{\"data\": [0.7204942959665503]}]}, {\"name\": \"balanced_accuracy\", \"run_id\": \"AutoML_a1d5996a-6c2e-4b16-b83d-406b66c606ee\", \"categories\": [0], \"series\": [{\"data\": [0.8377727689612702]}]}, {\"name\": \"recall_score_weighted\", \"run_id\": \"AutoML_a1d5996a-6c2e-4b16-b83d-406b66c606ee\", \"categories\": [0], \"series\": [{\"data\": [0.8729885057471265]}]}, {\"name\": \"weighted_accuracy\", \"run_id\": \"AutoML_a1d5996a-6c2e-4b16-b83d-406b66c606ee\", \"categories\": [0], \"series\": [{\"data\": [0.8952028279615145]}]}, {\"name\": \"recall_score_macro\", \"run_id\": \"AutoML_a1d5996a-6c2e-4b16-b83d-406b66c606ee\", \"categories\": [0], \"series\": [{\"data\": [0.8377727689612702]}]}], \"run_logs\": \"\\nRun is completed.\", \"graph\": {}, \"widget_settings\": {\"childWidgetDisplay\": \"popup\", \"send_telemetry\": false, \"log_level\": \"INFO\", \"sdk_version\": \"1.19.0\"}, \"loading\": false}"
     },
     "metadata": {},
     "output_type": "display_data"
    },
    {
     "name": "stdout",
     "output_type": "stream",
     "text": [
      "\n",
      "\n",
      "****************************************************************************************************\n",
      "DATA GUARDRAILS: \n",
      "\n",
      "TYPE:         Cross validation\n",
      "STATUS:       DONE\n",
      "DESCRIPTION:  Each iteration of the trained model was validated through cross-validation.\n",
      "              \n",
      "DETAILS:      \n",
      "+---------------------------------+\n",
      "|Number of folds                  |\n",
      "+=================================+\n",
      "|10                               |\n",
      "+---------------------------------+\n",
      "\n",
      "****************************************************************************************************\n",
      "\n",
      "TYPE:         Class balancing detection\n",
      "STATUS:       PASSED\n",
      "DESCRIPTION:  Your inputs were analyzed, and all classes are balanced in your training data.\n",
      "              Learn more about imbalanced data: https://aka.ms/AutomatedMLImbalancedData\n",
      "\n",
      "****************************************************************************************************\n",
      "\n",
      "TYPE:         Missing feature values imputation\n",
      "STATUS:       PASSED\n",
      "DESCRIPTION:  No feature missing values were detected in the training data.\n",
      "              Learn more about missing value imputation: https://aka.ms/AutomatedMLFeaturization\n",
      "\n",
      "****************************************************************************************************\n",
      "\n",
      "TYPE:         High cardinality feature detection\n",
      "STATUS:       PASSED\n",
      "DESCRIPTION:  Your inputs were analyzed, and no high cardinality features were detected.\n",
      "              Learn more about high cardinality feature handling: https://aka.ms/AutomatedMLFeaturization\n",
      "\n",
      "****************************************************************************************************\n",
      "\n",
      "****************************************************************************************************\n",
      "ITERATION: The iteration being evaluated.\n",
      "PIPELINE: A summary description of the pipeline being evaluated.\n",
      "DURATION: Time taken for the current iteration.\n",
      "METRIC: The result of computing score on the fitted pipeline.\n",
      "BEST: The best observed score thus far.\n",
      "****************************************************************************************************\n",
      "\n",
      " ITERATION   PIPELINE                                       DURATION      METRIC      BEST\n",
      "         0   MaxAbsScaler LightGBM                          0:00:42       0.8360    0.8360\n",
      "         1   MaxAbsScaler XGBoostClassifier                 0:02:01       0.8359    0.8360\n",
      "         2   MinMaxScaler RandomForest                      0:00:48       0.8461    0.8461\n",
      "         3                                                  0:00:03          nan    0.8461\n",
      "         4   MinMaxScaler RandomForest                      0:03:23       0.8291    0.8461\n",
      "         5   StandardScalerWrapper LightGBM                 0:03:21       0.8493    0.8493\n",
      "         6                                                  0:00:03          nan    0.8493\n",
      "         7   StandardScalerWrapper XGBoostClassifier        0:03:32       0.8462    0.8493\n",
      "        10   StandardScalerWrapper LightGBM                 0:00:47       0.7761    0.8493\n",
      "        11   RobustScaler LightGBM                          0:00:48       0.7860    0.8493\n",
      "         8   SparseNormalizer XGBoostClassifier             0:00:49       0.8398    0.8493\n",
      "         9   RobustScaler LightGBM                          0:00:55       0.8224    0.8493\n",
      "        12   StandardScalerWrapper LightGBM                 0:00:43       0.8192    0.8493\n",
      "        13   RobustScaler KNN                               0:00:46       0.7293    0.8493\n",
      "        14   RobustScaler LightGBM                          0:00:43       0.8392    0.8493\n",
      "        15   MaxAbsScaler LightGBM                          0:00:43       0.7893    0.8493\n",
      "        16   RobustScaler ExtremeRandomTrees                0:00:43       0.8257    0.8493\n",
      "        17   TruncatedSVDWrapper XGBoostClassifier          0:00:46       0.7589    0.8493\n",
      "        18   MinMaxScaler LightGBM                          0:00:42       0.8361    0.8493\n",
      "        19   SparseNormalizer ExtremeRandomTrees            0:00:43       0.7790    0.8493\n",
      "        20   SparseNormalizer XGBoostClassifier             0:00:46       0.8461    0.8493\n",
      "        21   SparseNormalizer XGBoostClassifier             0:00:54       0.8229    0.8493\n",
      "        22   SparseNormalizer XGBoostClassifier             0:00:42       0.8197    0.8493\n",
      "        23   StandardScalerWrapper LightGBM                 0:01:01       0.8361    0.8493\n",
      "        24   MaxAbsScaler LightGBM                          0:00:43       0.6792    0.8493\n",
      "        25   MaxAbsScaler ExtremeRandomTrees                0:00:42       0.8461    0.8493\n",
      "        26   StandardScalerWrapper LightGBM                 0:00:46       0.8093    0.8493\n",
      "        27   SparseNormalizer XGBoostClassifier             0:00:44       0.8429    0.8493\n",
      "        28   StandardScalerWrapper RandomForest             0:00:40       0.8356    0.8493\n",
      "        29   SparseNormalizer XGBoostClassifier             0:00:47       0.8362    0.8493\n",
      "        30   StandardScalerWrapper LightGBM                 0:00:43       0.6792    0.8493\n",
      "        31   StandardScalerWrapper LogisticRegression       0:00:49       0.8059    0.8493\n",
      "        32   TruncatedSVDWrapper XGBoostClassifier          0:00:45       0.7820    0.8493\n",
      "        33   TruncatedSVDWrapper XGBoostClassifier          0:00:40       0.7890    0.8493\n",
      "        34   SparseNormalizer LightGBM                      0:00:42       0.8395    0.8493\n",
      "        35    VotingEnsemble                                0:01:48       0.8730    0.8730\n",
      "        36    StackEnsemble                                 0:01:51       0.8529    0.8730\n"
     ]
    },
    {
     "data": {
      "text/plain": [
       "{'runId': 'AutoML_a1d5996a-6c2e-4b16-b83d-406b66c606ee',\n",
       " 'target': 'simba-cluster',\n",
       " 'status': 'Completed',\n",
       " 'startTimeUtc': '2021-01-10T16:19:39.942768Z',\n",
       " 'endTimeUtc': '2021-01-10T16:44:10.369234Z',\n",
       " 'properties': {'num_iterations': '1000',\n",
       "  'training_type': 'TrainFull',\n",
       "  'acquisition_function': 'EI',\n",
       "  'primary_metric': 'accuracy',\n",
       "  'train_split': '0',\n",
       "  'acquisition_parameter': '0',\n",
       "  'num_cross_validation': None,\n",
       "  'target': 'simba-cluster',\n",
       "  'AMLSettingsJsonString': '{\"path\":null,\"name\":\"heart-failure-prediction-automl\",\"subscription_id\":\"a24a24d5-8d87-4c8a-99b6-91ed2d2df51f\",\"resource_group\":\"aml-quickstarts-134240\",\"workspace_name\":\"quick-starts-ws-134240\",\"region\":\"southcentralus\",\"compute_target\":\"simba-cluster\",\"spark_service\":null,\"azure_service\":\"remote\",\"many_models\":false,\"pipeline_fetch_max_batch_size\":1,\"iterations\":1000,\"primary_metric\":\"accuracy\",\"task_type\":\"classification\",\"data_script\":null,\"validation_size\":0.0,\"n_cross_validations\":null,\"y_min\":null,\"y_max\":null,\"num_classes\":null,\"featurization\":\"auto\",\"_ignore_package_version_incompatibilities\":false,\"is_timeseries\":false,\"max_cores_per_iteration\":1,\"max_concurrent_iterations\":4,\"iteration_timeout_minutes\":null,\"mem_in_mb\":null,\"enforce_time_on_windows\":false,\"experiment_timeout_minutes\":20,\"experiment_exit_score\":null,\"whitelist_models\":null,\"blacklist_algos\":[\"TensorFlowLinearClassifier\",\"TensorFlowDNN\"],\"supported_models\":[\"MultinomialNaiveBayes\",\"LogisticRegression\",\"SGD\",\"GradientBoosting\",\"XGBoostClassifier\",\"SVM\",\"DecisionTree\",\"LightGBM\",\"RandomForest\",\"LinearSVM\",\"TensorFlowDNN\",\"AveragedPerceptronClassifier\",\"BernoulliNaiveBayes\",\"TensorFlowLinearClassifier\",\"KNN\",\"ExtremeRandomTrees\"],\"auto_blacklist\":true,\"blacklist_samples_reached\":false,\"exclude_nan_labels\":true,\"verbosity\":20,\"_debug_log\":\"azureml_automl.log\",\"show_warnings\":false,\"model_explainability\":true,\"service_url\":null,\"sdk_url\":null,\"sdk_packages\":null,\"enable_onnx_compatible_models\":false,\"enable_split_onnx_featurizer_estimator_models\":false,\"vm_type\":\"STANDARD_D2_V2\",\"telemetry_verbosity\":20,\"send_telemetry\":true,\"enable_dnn\":false,\"scenario\":\"SDK-1.13.0\",\"environment_label\":null,\"force_text_dnn\":false,\"enable_feature_sweeping\":true,\"enable_early_stopping\":true,\"early_stopping_n_iters\":10,\"metrics\":null,\"enable_ensembling\":true,\"enable_stack_ensembling\":true,\"ensemble_iterations\":15,\"enable_tf\":false,\"enable_subsampling\":null,\"subsample_seed\":null,\"enable_nimbusml\":false,\"enable_streaming\":false,\"force_streaming\":false,\"track_child_runs\":true,\"allowed_private_models\":[],\"label_column_name\":\"DEATH_EVENT\",\"weight_column_name\":null,\"cv_split_column_names\":null,\"enable_local_managed\":false,\"_local_managed_run_id\":null,\"cost_mode\":1,\"lag_length\":0,\"metric_operation\":\"maximize\",\"preprocess\":true}',\n",
       "  'DataPrepJsonString': '{\\\\\"training_data\\\\\": \\\\\"{\\\\\\\\\\\\\"blocks\\\\\\\\\\\\\": [{\\\\\\\\\\\\\"id\\\\\\\\\\\\\": \\\\\\\\\\\\\"c4582f11-4fe3-480d-b342-92be05325ed4\\\\\\\\\\\\\", \\\\\\\\\\\\\"type\\\\\\\\\\\\\": \\\\\\\\\\\\\"Microsoft.DPrep.GetFilesBlock\\\\\\\\\\\\\", \\\\\\\\\\\\\"arguments\\\\\\\\\\\\\": {\\\\\\\\\\\\\"isArchive\\\\\\\\\\\\\": false, \\\\\\\\\\\\\"path\\\\\\\\\\\\\": {\\\\\\\\\\\\\"target\\\\\\\\\\\\\": 4, \\\\\\\\\\\\\"resourceDetails\\\\\\\\\\\\\": [{\\\\\\\\\\\\\"path\\\\\\\\\\\\\": \\\\\\\\\\\\\"https://raw.githubusercontent.com/jhonatantirado/nd00333-capstone/master/starter_file/heart_failure_clinical_records_dataset.csv\\\\\\\\\\\\\"}]}}, \\\\\\\\\\\\\"localData\\\\\\\\\\\\\": {}, \\\\\\\\\\\\\"isEnabled\\\\\\\\\\\\\": true, \\\\\\\\\\\\\"name\\\\\\\\\\\\\": null, \\\\\\\\\\\\\"annotation\\\\\\\\\\\\\": null}, {\\\\\\\\\\\\\"id\\\\\\\\\\\\\": \\\\\\\\\\\\\"3e986c2d-8fdc-4731-9e15-a3348a176728\\\\\\\\\\\\\", \\\\\\\\\\\\\"type\\\\\\\\\\\\\": \\\\\\\\\\\\\"Microsoft.DPrep.ParseDelimitedBlock\\\\\\\\\\\\\", \\\\\\\\\\\\\"arguments\\\\\\\\\\\\\": {\\\\\\\\\\\\\"columnHeadersMode\\\\\\\\\\\\\": 3, \\\\\\\\\\\\\"fileEncoding\\\\\\\\\\\\\": 0, \\\\\\\\\\\\\"handleQuotedLineBreaks\\\\\\\\\\\\\": false, \\\\\\\\\\\\\"preview\\\\\\\\\\\\\": false, \\\\\\\\\\\\\"separator\\\\\\\\\\\\\": \\\\\\\\\\\\\",\\\\\\\\\\\\\", \\\\\\\\\\\\\"skipRows\\\\\\\\\\\\\": 0, \\\\\\\\\\\\\"skipRowsMode\\\\\\\\\\\\\": 0}, \\\\\\\\\\\\\"localData\\\\\\\\\\\\\": {}, \\\\\\\\\\\\\"isEnabled\\\\\\\\\\\\\": true, \\\\\\\\\\\\\"name\\\\\\\\\\\\\": null, \\\\\\\\\\\\\"annotation\\\\\\\\\\\\\": null}, {\\\\\\\\\\\\\"id\\\\\\\\\\\\\": \\\\\\\\\\\\\"ef251583-8b57-422d-ad5c-fb7b024c3638\\\\\\\\\\\\\", \\\\\\\\\\\\\"type\\\\\\\\\\\\\": \\\\\\\\\\\\\"Microsoft.DPrep.DropColumnsBlock\\\\\\\\\\\\\", \\\\\\\\\\\\\"arguments\\\\\\\\\\\\\": {\\\\\\\\\\\\\"columns\\\\\\\\\\\\\": {\\\\\\\\\\\\\"type\\\\\\\\\\\\\": 0, \\\\\\\\\\\\\"details\\\\\\\\\\\\\": {\\\\\\\\\\\\\"selectedColumns\\\\\\\\\\\\\": [\\\\\\\\\\\\\"Path\\\\\\\\\\\\\"]}}}, \\\\\\\\\\\\\"localData\\\\\\\\\\\\\": {}, \\\\\\\\\\\\\"isEnabled\\\\\\\\\\\\\": true, \\\\\\\\\\\\\"name\\\\\\\\\\\\\": null, \\\\\\\\\\\\\"annotation\\\\\\\\\\\\\": null}, {\\\\\\\\\\\\\"id\\\\\\\\\\\\\": \\\\\\\\\\\\\"aaf28032-3ea3-412c-9861-a8642cfe7afa\\\\\\\\\\\\\", \\\\\\\\\\\\\"type\\\\\\\\\\\\\": \\\\\\\\\\\\\"Microsoft.DPrep.SetColumnTypesBlock\\\\\\\\\\\\\", \\\\\\\\\\\\\"arguments\\\\\\\\\\\\\": {\\\\\\\\\\\\\"columnConversion\\\\\\\\\\\\\": [{\\\\\\\\\\\\\"column\\\\\\\\\\\\\": {\\\\\\\\\\\\\"type\\\\\\\\\\\\\": 2, \\\\\\\\\\\\\"details\\\\\\\\\\\\\": {\\\\\\\\\\\\\"selectedColumn\\\\\\\\\\\\\": \\\\\\\\\\\\\"age\\\\\\\\\\\\\"}}, \\\\\\\\\\\\\"typeProperty\\\\\\\\\\\\\": 3}, {\\\\\\\\\\\\\"column\\\\\\\\\\\\\": {\\\\\\\\\\\\\"type\\\\\\\\\\\\\": 2, \\\\\\\\\\\\\"details\\\\\\\\\\\\\": {\\\\\\\\\\\\\"selectedColumn\\\\\\\\\\\\\": \\\\\\\\\\\\\"anaemia\\\\\\\\\\\\\"}}, \\\\\\\\\\\\\"typeProperty\\\\\\\\\\\\\": 2}, {\\\\\\\\\\\\\"column\\\\\\\\\\\\\": {\\\\\\\\\\\\\"type\\\\\\\\\\\\\": 2, \\\\\\\\\\\\\"details\\\\\\\\\\\\\": {\\\\\\\\\\\\\"selectedColumn\\\\\\\\\\\\\": \\\\\\\\\\\\\"creatinine_phosphokinase\\\\\\\\\\\\\"}}, \\\\\\\\\\\\\"typeProperty\\\\\\\\\\\\\": 2}, {\\\\\\\\\\\\\"column\\\\\\\\\\\\\": {\\\\\\\\\\\\\"type\\\\\\\\\\\\\": 2, \\\\\\\\\\\\\"details\\\\\\\\\\\\\": {\\\\\\\\\\\\\"selectedColumn\\\\\\\\\\\\\": \\\\\\\\\\\\\"diabetes\\\\\\\\\\\\\"}}, \\\\\\\\\\\\\"typeProperty\\\\\\\\\\\\\": 2}, {\\\\\\\\\\\\\"column\\\\\\\\\\\\\": {\\\\\\\\\\\\\"type\\\\\\\\\\\\\": 2, \\\\\\\\\\\\\"details\\\\\\\\\\\\\": {\\\\\\\\\\\\\"selectedColumn\\\\\\\\\\\\\": \\\\\\\\\\\\\"ejection_fraction\\\\\\\\\\\\\"}}, \\\\\\\\\\\\\"typeProperty\\\\\\\\\\\\\": 2}, {\\\\\\\\\\\\\"column\\\\\\\\\\\\\": {\\\\\\\\\\\\\"type\\\\\\\\\\\\\": 2, \\\\\\\\\\\\\"details\\\\\\\\\\\\\": {\\\\\\\\\\\\\"selectedColumn\\\\\\\\\\\\\": \\\\\\\\\\\\\"high_blood_pressure\\\\\\\\\\\\\"}}, \\\\\\\\\\\\\"typeProperty\\\\\\\\\\\\\": 2}, {\\\\\\\\\\\\\"column\\\\\\\\\\\\\": {\\\\\\\\\\\\\"type\\\\\\\\\\\\\": 2, \\\\\\\\\\\\\"details\\\\\\\\\\\\\": {\\\\\\\\\\\\\"selectedColumn\\\\\\\\\\\\\": \\\\\\\\\\\\\"platelets\\\\\\\\\\\\\"}}, \\\\\\\\\\\\\"typeProperty\\\\\\\\\\\\\": 3}, {\\\\\\\\\\\\\"column\\\\\\\\\\\\\": {\\\\\\\\\\\\\"type\\\\\\\\\\\\\": 2, \\\\\\\\\\\\\"details\\\\\\\\\\\\\": {\\\\\\\\\\\\\"selectedColumn\\\\\\\\\\\\\": \\\\\\\\\\\\\"serum_creatinine\\\\\\\\\\\\\"}}, \\\\\\\\\\\\\"typeProperty\\\\\\\\\\\\\": 3}, {\\\\\\\\\\\\\"column\\\\\\\\\\\\\": {\\\\\\\\\\\\\"type\\\\\\\\\\\\\": 2, \\\\\\\\\\\\\"details\\\\\\\\\\\\\": {\\\\\\\\\\\\\"selectedColumn\\\\\\\\\\\\\": \\\\\\\\\\\\\"serum_sodium\\\\\\\\\\\\\"}}, \\\\\\\\\\\\\"typeProperty\\\\\\\\\\\\\": 2}, {\\\\\\\\\\\\\"column\\\\\\\\\\\\\": {\\\\\\\\\\\\\"type\\\\\\\\\\\\\": 2, \\\\\\\\\\\\\"details\\\\\\\\\\\\\": {\\\\\\\\\\\\\"selectedColumn\\\\\\\\\\\\\": \\\\\\\\\\\\\"sex\\\\\\\\\\\\\"}}, \\\\\\\\\\\\\"typeProperty\\\\\\\\\\\\\": 2}, {\\\\\\\\\\\\\"column\\\\\\\\\\\\\": {\\\\\\\\\\\\\"type\\\\\\\\\\\\\": 2, \\\\\\\\\\\\\"details\\\\\\\\\\\\\": {\\\\\\\\\\\\\"selectedColumn\\\\\\\\\\\\\": \\\\\\\\\\\\\"smoking\\\\\\\\\\\\\"}}, \\\\\\\\\\\\\"typeProperty\\\\\\\\\\\\\": 2}, {\\\\\\\\\\\\\"column\\\\\\\\\\\\\": {\\\\\\\\\\\\\"type\\\\\\\\\\\\\": 2, \\\\\\\\\\\\\"details\\\\\\\\\\\\\": {\\\\\\\\\\\\\"selectedColumn\\\\\\\\\\\\\": \\\\\\\\\\\\\"time\\\\\\\\\\\\\"}}, \\\\\\\\\\\\\"typeProperty\\\\\\\\\\\\\": 2}, {\\\\\\\\\\\\\"column\\\\\\\\\\\\\": {\\\\\\\\\\\\\"type\\\\\\\\\\\\\": 2, \\\\\\\\\\\\\"details\\\\\\\\\\\\\": {\\\\\\\\\\\\\"selectedColumn\\\\\\\\\\\\\": \\\\\\\\\\\\\"DEATH_EVENT\\\\\\\\\\\\\"}}, \\\\\\\\\\\\\"typeProperty\\\\\\\\\\\\\": 2}]}, \\\\\\\\\\\\\"localData\\\\\\\\\\\\\": {}, \\\\\\\\\\\\\"isEnabled\\\\\\\\\\\\\": true, \\\\\\\\\\\\\"name\\\\\\\\\\\\\": null, \\\\\\\\\\\\\"annotation\\\\\\\\\\\\\": null}], \\\\\\\\\\\\\"inspectors\\\\\\\\\\\\\": [], \\\\\\\\\\\\\"meta\\\\\\\\\\\\\": {\\\\\\\\\\\\\"savedDatasetId\\\\\\\\\\\\\": \\\\\\\\\\\\\"2390e7c3-2972-4848-bbfe-3f2f0620a09c\\\\\\\\\\\\\", \\\\\\\\\\\\\"datasetType\\\\\\\\\\\\\": \\\\\\\\\\\\\"tabular\\\\\\\\\\\\\", \\\\\\\\\\\\\"subscriptionId\\\\\\\\\\\\\": \\\\\\\\\\\\\"a24a24d5-8d87-4c8a-99b6-91ed2d2df51f\\\\\\\\\\\\\", \\\\\\\\\\\\\"workspaceId\\\\\\\\\\\\\": \\\\\\\\\\\\\"3e30245b-d51b-4659-93dd-cbe123a126af\\\\\\\\\\\\\", \\\\\\\\\\\\\"workspaceLocation\\\\\\\\\\\\\": \\\\\\\\\\\\\"southcentralus\\\\\\\\\\\\\"}}\\\\\", \\\\\"activities\\\\\": 0}',\n",
       "  'EnableSubsampling': None,\n",
       "  'runTemplate': 'AutoML',\n",
       "  'azureml.runsource': 'automl',\n",
       "  'display_task_type': 'classification',\n",
       "  'dependencies_versions': '{\"azureml-widgets\": \"1.19.0\", \"azureml-train\": \"1.19.0\", \"azureml-train-restclients-hyperdrive\": \"1.19.0\", \"azureml-train-core\": \"1.19.0\", \"azureml-train-automl\": \"1.19.0\", \"azureml-train-automl-runtime\": \"1.19.0\", \"azureml-train-automl-client\": \"1.19.0\", \"azureml-tensorboard\": \"1.19.0\", \"azureml-telemetry\": \"1.19.0\", \"azureml-sdk\": \"1.19.0\", \"azureml-samples\": \"0+unknown\", \"azureml-pipeline\": \"1.19.0\", \"azureml-pipeline-steps\": \"1.19.0\", \"azureml-pipeline-core\": \"1.19.0\", \"azureml-opendatasets\": \"1.19.0\", \"azureml-model-management-sdk\": \"1.0.1b6.post1\", \"azureml-mlflow\": \"1.19.0\", \"azureml-interpret\": \"1.19.0\", \"azureml-explain-model\": \"1.19.0\", \"azureml-defaults\": \"1.19.0\", \"azureml-dataset-runtime\": \"1.19.0\", \"azureml-dataprep\": \"2.6.1\", \"azureml-dataprep-rslex\": \"1.4.0\", \"azureml-dataprep-native\": \"26.0.0\", \"azureml-datadrift\": \"1.19.0\", \"azureml-core\": \"1.19.0\", \"azureml-contrib-services\": \"1.19.0\", \"azureml-contrib-server\": \"1.19.0\", \"azureml-contrib-reinforcementlearning\": \"1.19.0\", \"azureml-contrib-pipeline-steps\": \"1.19.0\", \"azureml-contrib-notebook\": \"1.19.0\", \"azureml-contrib-interpret\": \"1.19.0\", \"azureml-contrib-gbdt\": \"1.19.0\", \"azureml-contrib-fairness\": \"1.19.0\", \"azureml-contrib-dataset\": \"1.19.0\", \"azureml-cli-common\": \"1.19.0\", \"azureml-automl-runtime\": \"1.19.0\", \"azureml-automl-core\": \"1.19.0\", \"azureml-accel-models\": \"1.19.0\"}',\n",
       "  '_aml_system_scenario_identification': 'Remote.Parent',\n",
       "  'ClientType': 'SDK',\n",
       "  'environment_cpu_name': 'AzureML-AutoML',\n",
       "  'environment_cpu_label': 'prod',\n",
       "  'environment_gpu_name': 'AzureML-AutoML-GPU',\n",
       "  'environment_gpu_label': 'prod',\n",
       "  'root_attribution': 'automl',\n",
       "  'attribution': 'AutoML',\n",
       "  'Orchestrator': 'AutoML',\n",
       "  'CancelUri': 'https://southcentralus.experiments.azureml.net/jasmine/v1.0/subscriptions/a24a24d5-8d87-4c8a-99b6-91ed2d2df51f/resourceGroups/aml-quickstarts-134240/providers/Microsoft.MachineLearningServices/workspaces/quick-starts-ws-134240/experimentids/435efb4a-d8c7-4843-9a3b-58a97287c860/cancel/AutoML_a1d5996a-6c2e-4b16-b83d-406b66c606ee',\n",
       "  'ClientSdkVersion': '1.19.0',\n",
       "  'snapshotId': '00000000-0000-0000-0000-000000000000',\n",
       "  'SetupRunId': 'AutoML_a1d5996a-6c2e-4b16-b83d-406b66c606ee_setup',\n",
       "  'SetupRunContainerId': 'dcid.AutoML_a1d5996a-6c2e-4b16-b83d-406b66c606ee_setup',\n",
       "  'FeaturizationRunJsonPath': 'featurizer_container.json',\n",
       "  'FeaturizationRunId': 'AutoML_a1d5996a-6c2e-4b16-b83d-406b66c606ee_featurize',\n",
       "  'ProblemInfoJsonString': '{\"dataset_num_categorical\": 0, \"is_sparse\": false, \"subsampling\": false, \"dataset_classes\": 2, \"dataset_features\": 12, \"dataset_samples\": 299, \"single_frequency_class_detected\": false}',\n",
       "  'ModelExplainRunId': 'AutoML_a1d5996a-6c2e-4b16-b83d-406b66c606ee_ModelExplain',\n",
       "  'azureml.git.repository_uri': 'https://github.com/jhonatantirado/nd00333-capstone.git',\n",
       "  'mlflow.source.git.repoURL': 'https://github.com/jhonatantirado/nd00333-capstone.git',\n",
       "  'azureml.git.branch': 'master',\n",
       "  'mlflow.source.git.branch': 'master',\n",
       "  'azureml.git.commit': '7133ff73f1ce9d11863ec6dad5870b27865c98f4',\n",
       "  'mlflow.source.git.commit': '7133ff73f1ce9d11863ec6dad5870b27865c98f4',\n",
       "  'azureml.git.dirty': 'True'},\n",
       " 'inputDatasets': [{'dataset': {'id': '2390e7c3-2972-4848-bbfe-3f2f0620a09c'}, 'consumptionDetails': {'type': 'RunInput', 'inputName': 'training_data', 'mechanism': 'Direct'}}],\n",
       " 'outputDatasets': [],\n",
       " 'logFiles': {}}"
      ]
     },
     "execution_count": 6,
     "metadata": {},
     "output_type": "execute_result"
    }
   ],
   "source": [
    "RunDetails(remote_run).show()\n",
    "remote_run.wait_for_completion(show_output=True)"
   ]
  },
  {
   "cell_type": "markdown",
   "metadata": {},
   "source": [
    "## Best Model\n",
    "\n",
    "TODO: In the cell below, get the best model from the automl experiments and display all the properties of the model.\n",
    "\n"
   ]
  },
  {
   "cell_type": "code",
   "execution_count": 7,
   "metadata": {
    "gather": {
     "logged": 1598431425670
    },
    "jupyter": {
     "outputs_hidden": false,
     "source_hidden": false
    },
    "nteract": {
     "transient": {
      "deleting": false
     }
    },
    "scrolled": true
   },
   "outputs": [
    {
     "name": "stdout",
     "output_type": "stream",
     "text": [
      "Best Run Id:  AutoML_a1d5996a-6c2e-4b16-b83d-406b66c606ee_35\n",
      "Run(Experiment: heart-failure-prediction-automl,\n",
      "Id: AutoML_a1d5996a-6c2e-4b16-b83d-406b66c606ee_35,\n",
      "Type: azureml.scriptrun,\n",
      "Status: Completed)\n",
      "Pipeline(memory=None,\n",
      "         steps=[('datatransformer',\n",
      "                 DataTransformer(enable_dnn=None, enable_feature_sweeping=None,\n",
      "                                 feature_sweeping_config=None,\n",
      "                                 feature_sweeping_timeout=None,\n",
      "                                 featurization_config=None, force_text_dnn=None,\n",
      "                                 is_cross_validation=None,\n",
      "                                 is_onnx_compatible=None, logger=None,\n",
      "                                 observer=None, task=None, working_dir=None)),\n",
      "                ('prefittedsoftvotingclassifier',...\n",
      "                                                                                               min_child_weight=1,\n",
      "                                                                                               missing=nan,\n",
      "                                                                                               n_estimators=25,\n",
      "                                                                                               n_jobs=1,\n",
      "                                                                                               nthread=None,\n",
      "                                                                                               objective='reg:logistic',\n",
      "                                                                                               random_state=0,\n",
      "                                                                                               reg_alpha=1.7708333333333335,\n",
      "                                                                                               reg_lambda=0.625,\n",
      "                                                                                               scale_pos_weight=1,\n",
      "                                                                                               seed=None,\n",
      "                                                                                               silent=None,\n",
      "                                                                                               subsample=0.7,\n",
      "                                                                                               tree_method='hist',\n",
      "                                                                                               verbose=-10,\n",
      "                                                                                               verbosity=0))],\n",
      "                                                                     verbose=False))],\n",
      "                                               flatten_transform=None,\n",
      "                                               weights=[0.1, 0.1, 0.1, 0.1, 0.1,\n",
      "                                                        0.2, 0.2, 0.1]))],\n",
      "         verbose=False)\n",
      "{'average_precision_score_weighted': 0.922720564246009, 'average_precision_score_micro': 0.9175338716371687, 'log_loss': 0.3775412952496465, 'norm_macro_recall': 0.6755455379225402, 'AUC_micro': 0.9159729158409302, 'precision_score_weighted': 0.8885232929378356, 'average_precision_score_macro': 0.8999411337980614, 'precision_score_macro': 0.8869844611909828, 'AUC_weighted': 0.9107098680770876, 'matthews_correlation': 0.7204942959665503, 'weighted_accuracy': 0.8952028279615145, 'AUC_macro': 0.9107098680770879, 'recall_score_macro': 0.8377727689612702, 'accuracy': 0.8729885057471265, 'f1_score_macro': 0.845956078818683, 'recall_score_micro': 0.8729885057471265, 'balanced_accuracy': 0.8377727689612702, 'f1_score_weighted': 0.8671677425562481, 'f1_score_micro': 0.8729885057471265, 'precision_score_micro': 0.8729885057471265, 'recall_score_weighted': 0.8729885057471265, 'accuracy_table': 'aml://artifactId/ExperimentRun/dcid.AutoML_a1d5996a-6c2e-4b16-b83d-406b66c606ee_35/accuracy_table', 'confusion_matrix': 'aml://artifactId/ExperimentRun/dcid.AutoML_a1d5996a-6c2e-4b16-b83d-406b66c606ee_35/confusion_matrix'}\n"
     ]
    }
   ],
   "source": [
    "best_run, fitted_model = remote_run.get_output()\n",
    "print('Best Run Id: ', best_run.id)\n",
    "print(best_run)\n",
    "print(fitted_model)\n",
    "best_run_metrics = best_run.get_metrics()\n",
    "print(best_run_metrics)"
   ]
  },
  {
   "cell_type": "code",
   "execution_count": 8,
   "metadata": {
    "gather": {
     "logged": 1598431426111
    },
    "jupyter": {
     "outputs_hidden": false,
     "source_hidden": false
    },
    "nteract": {
     "transient": {
      "deleting": false
     }
    },
    "scrolled": true
   },
   "outputs": [
    {
     "name": "stdout",
     "output_type": "stream",
     "text": [
      "Model(workspace=Workspace.create(name='quick-starts-ws-134240', subscription_id='a24a24d5-8d87-4c8a-99b6-91ed2d2df51f', resource_group='aml-quickstarts-134240'), name=heart-failure-prediction-automl-model, id=heart-failure-prediction-automl-model:1, version=1, tags={'Method': 'AutoML'}, properties={'accuracy': '0.8729885057471265'})\n"
     ]
    }
   ],
   "source": [
    "#TODO: Save the best model\n",
    "model = best_run.register_model(model_name='heart-failure-prediction-automl-model',model_path='outputs/model.pkl', tags={'Method':'AutoML'}, properties={'accuracy': best_run_metrics['accuracy']})\n",
    "print(model)"
   ]
  },
  {
   "cell_type": "markdown",
   "metadata": {},
   "source": [
    "## Model Deployment\n",
    "\n",
    "Remember you have to deploy only one of the two models you trained.. Perform the steps in the rest of this notebook only if you wish to deploy this model.\n",
    "\n",
    "TODO: In the cell below, register the model, create an inference config and deploy the model as a web service."
   ]
  },
  {
   "cell_type": "code",
   "execution_count": 10,
   "metadata": {
    "gather": {
     "logged": 1598431435189
    },
    "jupyter": {
     "outputs_hidden": false,
     "source_hidden": false
    },
    "nteract": {
     "transient": {
      "deleting": false
     }
    },
    "scrolled": true
   },
   "outputs": [
    {
     "name": "stdout",
     "output_type": "stream",
     "text": [
      "Transitioning\n",
      "Tips: You can try get_logs(): https://aka.ms/debugimage#dockerlog or local deployment: https://aka.ms/debugimage#debug-locally to debug if deployment takes longer than 10 minutes.\n",
      "Running......................................................................................................................................................................................\n",
      "Succeeded\n",
      "ACI service creation operation finished, operation \"Succeeded\"\n",
      "http://a10dc4c0-4353-4824-9eb8-293d64e7fe81.southcentralus.azurecontainer.io/score\n"
     ]
    }
   ],
   "source": [
    "from azureml.core.webservice import AciWebservice, Webservice\n",
    "from azureml.core.model import Model, InferenceConfig\n",
    "from azureml.core import Environment\n",
    "from azureml.core.conda_dependencies import CondaDependencies\n",
    "\n",
    "env = Environment.from_conda_specification(name='automlv2',file_path='conda_env_v_1_0_0.yml')\n",
    "\n",
    "inference_config = InferenceConfig(entry_script='score.py',\n",
    "                                    environment=env)\n",
    "\n",
    "service_name = 'heartfailurepredictionautomlv2'\n",
    "\n",
    "deployment_config = AciWebservice.deploy_configuration(cpu_cores = 1.8, memory_gb = 4)\n",
    "service = Model.deploy(ws, service_name, [model], inference_config, deployment_config)\n",
    "print(service.state)\n",
    "\n",
    "service.wait_for_deployment(show_output = True)\n",
    "url = service.scoring_uri\n",
    "print(url)"
   ]
  },
  {
   "cell_type": "markdown",
   "metadata": {
    "collapsed": true,
    "gather": {
     "logged": 1598431657736
    },
    "jupyter": {
     "outputs_hidden": false,
     "source_hidden": false
    },
    "nteract": {
     "transient": {
      "deleting": false
     }
    }
   },
   "source": [
    "TODO: In the cell below, send a request to the web service you deployed to test it.\n",
    "\n",
    "From experiment\n",
    "http://0878f6f1-158e-481c-9f42-af66bfbea7b1.southcentralus.azurecontainer.io/score\n",
    "gPeQJfR4mzui9qvglQyYvFhhHubcH5hB\n",
    "\n",
    "From model\n",
    "http://48a2179d-06c5-42bb-b937-c4c051f0673b.southcentralus.azurecontainer.io/score\n",
    "iu1pgeSfgs7HbkRFmPgioTapNfOZsiwI\n",
    "\n",
    "From code\n",
    "http://a10dc4c0-4353-4824-9eb8-293d64e7fe81.southcentralus.azurecontainer.io/score"
   ]
  },
  {
   "cell_type": "code",
   "execution_count": 11,
   "metadata": {
    "gather": {
     "logged": 1598432707604
    },
    "jupyter": {
     "outputs_hidden": false,
     "source_hidden": false
    },
    "nteract": {
     "transient": {
      "deleting": false
     }
    },
    "scrolled": true
   },
   "outputs": [
    {
     "ename": "NameError",
     "evalue": "name 'json' is not defined",
     "output_type": "error",
     "traceback": [
      "\u001b[0;31m---------------------------------------------------------------------------\u001b[0m",
      "\u001b[0;31mNameError\u001b[0m                                 Traceback (most recent call last)",
      "\u001b[0;32m<ipython-input-11-0b623744eaf3>\u001b[0m in \u001b[0;36m<module>\u001b[0;34m\u001b[0m\n\u001b[1;32m     32\u001b[0m     }\n\u001b[1;32m     33\u001b[0m \u001b[0;34m\u001b[0m\u001b[0m\n\u001b[0;32m---> 34\u001b[0;31m \u001b[0minput_payload\u001b[0m \u001b[0;34m=\u001b[0m \u001b[0mjson\u001b[0m\u001b[0;34m.\u001b[0m\u001b[0mdumps\u001b[0m\u001b[0;34m(\u001b[0m\u001b[0mdata\u001b[0m\u001b[0;34m)\u001b[0m\u001b[0;34m\u001b[0m\u001b[0;34m\u001b[0m\u001b[0m\n\u001b[0m\u001b[1;32m     35\u001b[0m \u001b[0;34m\u001b[0m\u001b[0m\n\u001b[1;32m     36\u001b[0m \u001b[0moutput\u001b[0m \u001b[0;34m=\u001b[0m \u001b[0mservice\u001b[0m\u001b[0;34m.\u001b[0m\u001b[0mrun\u001b[0m\u001b[0;34m(\u001b[0m\u001b[0minput_payload\u001b[0m\u001b[0;34m)\u001b[0m\u001b[0;34m\u001b[0m\u001b[0;34m\u001b[0m\u001b[0m\n",
      "\u001b[0;31mNameError\u001b[0m: name 'json' is not defined"
     ]
    }
   ],
   "source": [
    "import json\n",
    "\n",
    "data = {\"data\":\n",
    "        [\n",
    "          {\n",
    "            \"age\": 36,\n",
    "            \"anaemia\": 0,\n",
    "            \"creatinine_phosphokinase\": 200,\n",
    "            \"diabetes\": 0,\n",
    "            \"ejection_fraction\": 30,\n",
    "            \"high_blood_pressure\": 0,\n",
    "            \"platelets\": 120000,\n",
    "            \"serum_creatinine\": 1.1,\n",
    "            \"serum_sodium\": 135,\n",
    "            \"sex\": 1,\n",
    "            \"smoking\": 0,\n",
    "            \"time\": 7\n",
    "          },\n",
    "          {\n",
    "            \"age\": 39,\n",
    "            \"anaemia\": 0,\n",
    "            \"creatinine_phosphokinase\": 300,\n",
    "            \"diabetes\": 0,\n",
    "            \"ejection_fraction\": 50,\n",
    "            \"high_blood_pressure\": 0,\n",
    "            \"platelets\": 200000,\n",
    "            \"serum_creatinine\": 0.9,\n",
    "            \"serum_sodium\": 250,\n",
    "            \"sex\": 0,\n",
    "            \"smoking\": 0,\n",
    "            \"time\": 1\n",
    "          }\n",
    "      ]\n",
    "    }\n",
    "\n",
    "input_payload = json.dumps(data)\n",
    "\n",
    "output = service.run(input_payload)\n",
    "\n",
    "print(output)"
   ]
  },
  {
   "cell_type": "markdown",
   "metadata": {
    "collapsed": true,
    "gather": {
     "logged": 1598432765711
    },
    "jupyter": {
     "outputs_hidden": false,
     "source_hidden": false
    },
    "nteract": {
     "transient": {
      "deleting": false
     }
    }
   },
   "source": [
    "TODO: In the cell below, print the logs of the web service and delete the service"
   ]
  },
  {
   "cell_type": "code",
   "execution_count": null,
   "metadata": {
    "jupyter": {
     "outputs_hidden": false,
     "source_hidden": false
    },
    "nteract": {
     "transient": {
      "deleting": false
     }
    },
    "scrolled": true
   },
   "outputs": [],
   "source": [
    "service.delete()"
   ]
  }
 ],
 "metadata": {
  "kernel_info": {
   "name": "python3-azureml"
  },
  "kernelspec": {
   "display_name": "Python 3",
   "language": "python",
   "name": "python3"
  },
  "language_info": {
   "codemirror_mode": {
    "name": "ipython",
    "version": 3
   },
   "file_extension": ".py",
   "mimetype": "text/x-python",
   "name": "python",
   "nbconvert_exporter": "python",
   "pygments_lexer": "ipython3",
   "version": "3.6.9"
  },
  "nteract": {
   "version": "nteract-front-end@1.0.0"
  }
 },
 "nbformat": 4,
 "nbformat_minor": 2
}
