{
 "cells": [
  {
   "cell_type": "markdown",
   "metadata": {},
   "source": [
    "# Automated ML\n",
    "\n",
    "TODO: Import Dependencies. In the cell below, import all the dependencies that you will need to complete the project."
   ]
  },
  {
   "cell_type": "code",
   "execution_count": 1,
   "metadata": {
    "gather": {
     "logged": 1598423888013
    },
    "jupyter": {
     "outputs_hidden": false,
     "source_hidden": false
    },
    "nteract": {
     "transient": {
      "deleting": false
     }
    },
    "scrolled": true
   },
   "outputs": [],
   "source": [
    "from azureml.core import Workspace, Experiment\n",
    "from azureml.core.compute import ComputeTarget, AmlCompute\n",
    "from azureml.core.compute_target import ComputeTargetException\n",
    "from azureml.widgets import RunDetails\n",
    "from azureml.train.automl import AutoMLConfig\n",
    "from azureml.core.dataset import Dataset"
   ]
  },
  {
   "cell_type": "markdown",
   "metadata": {},
   "source": [
    "## Dataset\n",
    "\n",
    "### Overview\n",
    "TODO: In this markdown cell, give an overview of the dataset you are using. Also mention the task you will be performing.\n",
    "\n",
    "\n",
    "TODO: Get data. In the cell below, write code to access the data you will be using in this project. Remember that the dataset needs to be external."
   ]
  },
  {
   "cell_type": "code",
   "execution_count": 2,
   "metadata": {
    "gather": {
     "logged": 1598423890461
    },
    "jupyter": {
     "outputs_hidden": false,
     "source_hidden": false
    },
    "nteract": {
     "transient": {
      "deleting": false
     }
    },
    "scrolled": true
   },
   "outputs": [
    {
     "name": "stdout",
     "output_type": "stream",
     "text": [
      "Workspace name: quick-starts-ws-134387\n",
      "Azure region: southcentralus\n",
      "Subscription id: 3d1a56d2-7c81-4118-9790-f85d1acf0c77\n",
      "Resource group: aml-quickstarts-134387\n"
     ]
    }
   ],
   "source": [
    "ws = Workspace.from_config()\n",
    "\n",
    "# choose a name for experiment\n",
    "experiment_name = 'heart-failure-prediction-automl'\n",
    "\n",
    "experiment=Experiment(ws, experiment_name)\n",
    "\n",
    "print('Workspace name: ' + ws.name, \n",
    "      'Azure region: ' + ws.location, \n",
    "      'Subscription id: ' + ws.subscription_id, \n",
    "      'Resource group: ' + ws.resource_group, sep = '\\n')\n",
    "\n",
    "run = experiment.start_logging()\n",
    "\n",
    "path = \"https://raw.githubusercontent.com/jhonatantirado/nd00333-capstone/master/starter_file/heart_failure_clinical_records_dataset.csv\"\n",
    "dataset = Dataset.Tabular.from_delimited_files(path)"
   ]
  },
  {
   "cell_type": "code",
   "execution_count": 3,
   "metadata": {
    "scrolled": true
   },
   "outputs": [
    {
     "name": "stdout",
     "output_type": "stream",
     "text": [
      "Creating\n",
      "Succeeded\n",
      "AmlCompute wait for completion finished\n",
      "\n",
      "Minimum number of nodes requested have been provisioned\n"
     ]
    }
   ],
   "source": [
    "cpu_cluster_name = \"simba-cluster\"\n",
    "\n",
    "try:\n",
    "    cpu_cluster = ComputeTarget(workspace=ws, name=cpu_cluster_name)\n",
    "    print('Use existing cluster.')\n",
    "except ComputeTargetException:\n",
    "    compute_config = AmlCompute.provisioning_configuration(vm_size='Standard_D2_V2',\n",
    "                                                           max_nodes=4)\n",
    "    cpu_cluster = ComputeTarget.create(ws, cpu_cluster_name, compute_config)\n",
    "\n",
    "cpu_cluster.wait_for_completion(show_output=True)"
   ]
  },
  {
   "cell_type": "markdown",
   "metadata": {},
   "source": [
    "## AutoML Configuration\n",
    "\n",
    "TODO: Explain why you chose the automl settings and cofiguration you used below."
   ]
  },
  {
   "cell_type": "code",
   "execution_count": 4,
   "metadata": {
    "gather": {
     "logged": 1598429217746
    },
    "jupyter": {
     "outputs_hidden": false,
     "source_hidden": false
    },
    "nteract": {
     "transient": {
      "deleting": false
     }
    },
    "scrolled": true
   },
   "outputs": [],
   "source": [
    "# TODO: Put your automl settings here\n",
    "automl_settings = {\"experiment_timeout_minutes\": 20,\n",
    "    \"max_concurrent_iterations\": 4,\n",
    "    \"primary_metric\" : 'accuracy'}\n",
    "\n",
    "# TODO: Put your automl config here\n",
    "automl_config = AutoMLConfig(compute_target=cpu_cluster,\n",
    "                             task = \"classification\",\n",
    "                             training_data=dataset,\n",
    "                             label_column_name=\"DEATH_EVENT\",   \n",
    "                             enable_early_stopping= True,\n",
    "                             featurization= 'auto',\n",
    "                             debug_log = \"automl_errors.log\",\n",
    "                             **automl_settings)"
   ]
  },
  {
   "cell_type": "code",
   "execution_count": 5,
   "metadata": {
    "gather": {
     "logged": 1598431107951
    },
    "jupyter": {
     "outputs_hidden": false,
     "source_hidden": false
    },
    "nteract": {
     "transient": {
      "deleting": false
     }
    },
    "scrolled": true
   },
   "outputs": [
    {
     "name": "stdout",
     "output_type": "stream",
     "text": [
      "Running on remote.\n",
      "No run_configuration provided, running on simba-cluster with default configuration\n",
      "Running on remote compute: simba-cluster\n",
      "Parent Run ID: AutoML_8ec8a7ab-1d94-4e8c-8fad-ebb1d50ee12b\n",
      "\n",
      "Current status: FeaturesGeneration. Generating features for the dataset.\n",
      "Current status: ModelSelection. Beginning model selection.\n",
      "\n",
      "****************************************************************************************************\n",
      "DATA GUARDRAILS: \n",
      "\n",
      "TYPE:         Cross validation\n",
      "STATUS:       DONE\n",
      "DESCRIPTION:  Each iteration of the trained model was validated through cross-validation.\n",
      "              \n",
      "DETAILS:      \n",
      "+---------------------------------+\n",
      "|Number of folds                  |\n",
      "+=================================+\n",
      "|10                               |\n",
      "+---------------------------------+\n",
      "\n",
      "****************************************************************************************************\n",
      "\n",
      "TYPE:         Class balancing detection\n",
      "STATUS:       PASSED\n",
      "DESCRIPTION:  Your inputs were analyzed, and all classes are balanced in your training data.\n",
      "              Learn more about imbalanced data: https://aka.ms/AutomatedMLImbalancedData\n",
      "\n",
      "****************************************************************************************************\n",
      "\n",
      "TYPE:         Missing feature values imputation\n",
      "STATUS:       PASSED\n",
      "DESCRIPTION:  No feature missing values were detected in the training data.\n",
      "              Learn more about missing value imputation: https://aka.ms/AutomatedMLFeaturization\n",
      "\n",
      "****************************************************************************************************\n",
      "\n",
      "TYPE:         High cardinality feature detection\n",
      "STATUS:       PASSED\n",
      "DESCRIPTION:  Your inputs were analyzed, and no high cardinality features were detected.\n",
      "              Learn more about high cardinality feature handling: https://aka.ms/AutomatedMLFeaturization\n",
      "\n",
      "****************************************************************************************************\n",
      "\n",
      "****************************************************************************************************\n",
      "ITERATION: The iteration being evaluated.\n",
      "PIPELINE: A summary description of the pipeline being evaluated.\n",
      "DURATION: Time taken for the current iteration.\n",
      "METRIC: The result of computing score on the fitted pipeline.\n",
      "BEST: The best observed score thus far.\n",
      "****************************************************************************************************\n",
      "\n",
      " ITERATION   PIPELINE                                       DURATION      METRIC      BEST\n",
      "         2   MinMaxScaler RandomForest                      0:00:50       0.8126    0.8126\n",
      "         3   MinMaxScaler RandomForest                      0:00:47       0.8426    0.8426\n",
      "         0   MaxAbsScaler LightGBM                          0:00:45       0.8360    0.8426\n",
      "         6   MinMaxScaler SVM                               0:00:46       0.7128    0.8426\n",
      "         7   MaxAbsScaler GradientBoosting                  0:00:41       0.8426    0.8426\n",
      "         4   MinMaxScaler RandomForest                      0:03:19       0.8223    0.8426\n",
      "         1   MaxAbsScaler XGBoostClassifier                 0:03:32       0.8359    0.8426\n",
      "         5   MinMaxScaler SVM                               0:03:20       0.7260    0.8426\n",
      "        10   RobustScaler GradientBoosting                  0:00:45       0.8495    0.8495\n",
      "         8   SparseNormalizer XGBoostClassifier             0:00:55       0.8328    0.8495\n",
      "         9   MaxAbsScaler LightGBM                          0:00:46       0.8328    0.8495\n",
      "        11   SparseNormalizer XGBoostClassifier             0:00:40       0.8262    0.8495\n",
      "        12   MaxAbsScaler LightGBM                          0:00:46       0.8225    0.8495\n",
      "        13   MinMaxScaler LightGBM                          0:00:46       0.8357    0.8495\n",
      "        14   StandardScalerWrapper ExtremeRandomTrees       0:00:39       0.8430    0.8495\n",
      "        15   SparseNormalizer XGBoostClassifier             0:01:03       0.8294    0.8495\n",
      "        16   MinMaxScaler LightGBM                          0:00:46       0.7960    0.8495\n",
      "        17   StandardScalerWrapper LightGBM                 0:00:37       0.7861    0.8495\n",
      "        18   TruncatedSVDWrapper XGBoostClassifier          0:00:42       0.7822    0.8495\n",
      "        19   RobustScaler LightGBM                          0:00:46       0.8493    0.8495\n",
      "        20   SparseNormalizer XGBoostClassifier             0:00:45       0.8229    0.8495\n",
      "        21   RobustScaler LightGBM                          0:00:40       0.7693    0.8495\n",
      "        22   StandardScalerWrapper LightGBM                 0:00:38       0.8061    0.8495\n",
      "        23   MinMaxScaler RandomForest                      0:00:57       0.8225    0.8495\n",
      "        25   StandardScalerWrapper GradientBoosting         0:00:34       0.6792    0.8495\n",
      "        24   SparseNormalizer ExtremeRandomTrees            0:00:48       0.7856    0.8495\n",
      "        26   StandardScalerWrapper ExtremeRandomTrees       0:00:59       0.6792    0.8495\n",
      "        27   StandardScalerWrapper LightGBM                 0:01:00       0.8293    0.8495\n",
      "        28   MaxAbsScaler LightGBM                          0:00:42       0.8392    0.8495\n",
      "        29   RobustScaler RandomForest                      0:00:45       0.8495    0.8495\n",
      "        30   SparseNormalizer GradientBoosting              0:00:55       0.7794    0.8495\n",
      "        31   StandardScalerWrapper LightGBM                 0:00:46       0.8361    0.8495\n",
      "        33   StandardScalerWrapper LightGBM                 0:00:39       0.8395    0.8495\n",
      "        32   StandardScalerWrapper XGBoostClassifier        0:00:45       0.8426    0.8495\n",
      "        34                                                  0:00:05          nan    0.8495\n",
      "        35    VotingEnsemble                                0:01:59       0.8763    0.8763\n",
      "        36    StackEnsemble                                 0:02:16       0.8629    0.8763\n"
     ]
    }
   ],
   "source": [
    "# TODO: Submit your experiment\n",
    "remote_run = experiment.submit(automl_config, show_output=True)"
   ]
  },
  {
   "cell_type": "markdown",
   "metadata": {},
   "source": [
    "## Run Details\n",
    "\n",
    "OPTIONAL: Write about the different models trained and their performance. Why do you think some models did better than others?\n",
    "\n",
    "TODO: In the cell below, use the `RunDetails` widget to show the different experiments."
   ]
  },
  {
   "cell_type": "code",
   "execution_count": 6,
   "metadata": {
    "gather": {
     "logged": 1598431121770
    },
    "jupyter": {
     "outputs_hidden": false,
     "source_hidden": false
    },
    "nteract": {
     "transient": {
      "deleting": false
     }
    },
    "scrolled": true
   },
   "outputs": [
    {
     "data": {
      "application/vnd.jupyter.widget-view+json": {
       "model_id": "f914a265dd254c68b48e8331c2286ea5",
       "version_major": 2,
       "version_minor": 0
      },
      "text/plain": [
       "_AutoMLWidget(widget_settings={'childWidgetDisplay': 'popup', 'send_telemetry': False, 'log_level': 'INFO', 's…"
      ]
     },
     "metadata": {},
     "output_type": "display_data"
    },
    {
     "data": {
      "application/aml.mini.widget.v1": "{\"status\": \"Completed\", \"workbench_run_details_uri\": \"https://ml.azure.com/experiments/heart-failure-prediction-automl/runs/AutoML_8ec8a7ab-1d94-4e8c-8fad-ebb1d50ee12b?wsid=/subscriptions/3d1a56d2-7c81-4118-9790-f85d1acf0c77/resourcegroups/aml-quickstarts-134387/workspaces/quick-starts-ws-134387\", \"run_id\": \"AutoML_8ec8a7ab-1d94-4e8c-8fad-ebb1d50ee12b\", \"run_properties\": {\"run_id\": \"AutoML_8ec8a7ab-1d94-4e8c-8fad-ebb1d50ee12b\", \"created_utc\": \"2021-01-11T20:55:29.911887Z\", \"properties\": {\"num_iterations\": \"1000\", \"training_type\": \"TrainFull\", \"acquisition_function\": \"EI\", \"primary_metric\": \"accuracy\", \"train_split\": \"0\", \"acquisition_parameter\": \"0\", \"num_cross_validation\": null, \"target\": \"simba-cluster\", \"AMLSettingsJsonString\": \"{\\\"path\\\":null,\\\"name\\\":\\\"heart-failure-prediction-automl\\\",\\\"subscription_id\\\":\\\"3d1a56d2-7c81-4118-9790-f85d1acf0c77\\\",\\\"resource_group\\\":\\\"aml-quickstarts-134387\\\",\\\"workspace_name\\\":\\\"quick-starts-ws-134387\\\",\\\"region\\\":\\\"southcentralus\\\",\\\"compute_target\\\":\\\"simba-cluster\\\",\\\"spark_service\\\":null,\\\"azure_service\\\":\\\"remote\\\",\\\"many_models\\\":false,\\\"pipeline_fetch_max_batch_size\\\":1,\\\"iterations\\\":1000,\\\"primary_metric\\\":\\\"accuracy\\\",\\\"task_type\\\":\\\"classification\\\",\\\"data_script\\\":null,\\\"validation_size\\\":0.0,\\\"n_cross_validations\\\":null,\\\"y_min\\\":null,\\\"y_max\\\":null,\\\"num_classes\\\":null,\\\"featurization\\\":\\\"auto\\\",\\\"_ignore_package_version_incompatibilities\\\":false,\\\"is_timeseries\\\":false,\\\"max_cores_per_iteration\\\":1,\\\"max_concurrent_iterations\\\":4,\\\"iteration_timeout_minutes\\\":null,\\\"mem_in_mb\\\":null,\\\"enforce_time_on_windows\\\":false,\\\"experiment_timeout_minutes\\\":20,\\\"experiment_exit_score\\\":null,\\\"whitelist_models\\\":null,\\\"blacklist_algos\\\":[\\\"TensorFlowLinearClassifier\\\",\\\"TensorFlowDNN\\\"],\\\"supported_models\\\":[\\\"TensorFlowDNN\\\",\\\"AveragedPerceptronClassifier\\\",\\\"TensorFlowLinearClassifier\\\",\\\"GradientBoosting\\\",\\\"BernoulliNaiveBayes\\\",\\\"RandomForest\\\",\\\"KNN\\\",\\\"SVM\\\",\\\"LinearSVM\\\",\\\"ExtremeRandomTrees\\\",\\\"XGBoostClassifier\\\",\\\"DecisionTree\\\",\\\"MultinomialNaiveBayes\\\",\\\"LogisticRegression\\\",\\\"LightGBM\\\",\\\"SGD\\\"],\\\"auto_blacklist\\\":true,\\\"blacklist_samples_reached\\\":false,\\\"exclude_nan_labels\\\":true,\\\"verbosity\\\":20,\\\"_debug_log\\\":\\\"azureml_automl.log\\\",\\\"show_warnings\\\":false,\\\"model_explainability\\\":true,\\\"service_url\\\":null,\\\"sdk_url\\\":null,\\\"sdk_packages\\\":null,\\\"enable_onnx_compatible_models\\\":false,\\\"enable_split_onnx_featurizer_estimator_models\\\":false,\\\"vm_type\\\":\\\"STANDARD_D2_V2\\\",\\\"telemetry_verbosity\\\":20,\\\"send_telemetry\\\":true,\\\"enable_dnn\\\":false,\\\"scenario\\\":\\\"SDK-1.13.0\\\",\\\"environment_label\\\":null,\\\"force_text_dnn\\\":false,\\\"enable_feature_sweeping\\\":true,\\\"enable_early_stopping\\\":true,\\\"early_stopping_n_iters\\\":10,\\\"metrics\\\":null,\\\"enable_ensembling\\\":true,\\\"enable_stack_ensembling\\\":true,\\\"ensemble_iterations\\\":15,\\\"enable_tf\\\":false,\\\"enable_subsampling\\\":null,\\\"subsample_seed\\\":null,\\\"enable_nimbusml\\\":false,\\\"enable_streaming\\\":false,\\\"force_streaming\\\":false,\\\"track_child_runs\\\":true,\\\"allowed_private_models\\\":[],\\\"label_column_name\\\":\\\"DEATH_EVENT\\\",\\\"weight_column_name\\\":null,\\\"cv_split_column_names\\\":null,\\\"enable_local_managed\\\":false,\\\"_local_managed_run_id\\\":null,\\\"cost_mode\\\":1,\\\"lag_length\\\":0,\\\"metric_operation\\\":\\\"maximize\\\",\\\"preprocess\\\":true}\", \"DataPrepJsonString\": \"{\\\\\\\"training_data\\\\\\\": \\\\\\\"{\\\\\\\\\\\\\\\"blocks\\\\\\\\\\\\\\\": [{\\\\\\\\\\\\\\\"id\\\\\\\\\\\\\\\": \\\\\\\\\\\\\\\"eca40a7d-c713-4db6-a187-d9d64b1125f3\\\\\\\\\\\\\\\", \\\\\\\\\\\\\\\"type\\\\\\\\\\\\\\\": \\\\\\\\\\\\\\\"Microsoft.DPrep.GetFilesBlock\\\\\\\\\\\\\\\", \\\\\\\\\\\\\\\"arguments\\\\\\\\\\\\\\\": {\\\\\\\\\\\\\\\"isArchive\\\\\\\\\\\\\\\": false, \\\\\\\\\\\\\\\"path\\\\\\\\\\\\\\\": {\\\\\\\\\\\\\\\"target\\\\\\\\\\\\\\\": 4, \\\\\\\\\\\\\\\"resourceDetails\\\\\\\\\\\\\\\": [{\\\\\\\\\\\\\\\"path\\\\\\\\\\\\\\\": \\\\\\\\\\\\\\\"https://raw.githubusercontent.com/jhonatantirado/nd00333-capstone/master/starter_file/heart_failure_clinical_records_dataset.csv\\\\\\\\\\\\\\\"}]}}, \\\\\\\\\\\\\\\"localData\\\\\\\\\\\\\\\": {}, \\\\\\\\\\\\\\\"isEnabled\\\\\\\\\\\\\\\": true, \\\\\\\\\\\\\\\"name\\\\\\\\\\\\\\\": null, \\\\\\\\\\\\\\\"annotation\\\\\\\\\\\\\\\": null}, {\\\\\\\\\\\\\\\"id\\\\\\\\\\\\\\\": \\\\\\\\\\\\\\\"71f1db04-222f-4e97-ac64-66698fd9b593\\\\\\\\\\\\\\\", \\\\\\\\\\\\\\\"type\\\\\\\\\\\\\\\": \\\\\\\\\\\\\\\"Microsoft.DPrep.ParseDelimitedBlock\\\\\\\\\\\\\\\", \\\\\\\\\\\\\\\"arguments\\\\\\\\\\\\\\\": {\\\\\\\\\\\\\\\"columnHeadersMode\\\\\\\\\\\\\\\": 3, \\\\\\\\\\\\\\\"fileEncoding\\\\\\\\\\\\\\\": 0, \\\\\\\\\\\\\\\"handleQuotedLineBreaks\\\\\\\\\\\\\\\": false, \\\\\\\\\\\\\\\"preview\\\\\\\\\\\\\\\": false, \\\\\\\\\\\\\\\"separator\\\\\\\\\\\\\\\": \\\\\\\\\\\\\\\",\\\\\\\\\\\\\\\", \\\\\\\\\\\\\\\"skipRows\\\\\\\\\\\\\\\": 0, \\\\\\\\\\\\\\\"skipRowsMode\\\\\\\\\\\\\\\": 0}, \\\\\\\\\\\\\\\"localData\\\\\\\\\\\\\\\": {}, \\\\\\\\\\\\\\\"isEnabled\\\\\\\\\\\\\\\": true, \\\\\\\\\\\\\\\"name\\\\\\\\\\\\\\\": null, \\\\\\\\\\\\\\\"annotation\\\\\\\\\\\\\\\": null}, {\\\\\\\\\\\\\\\"id\\\\\\\\\\\\\\\": \\\\\\\\\\\\\\\"0614eeb0-36c1-4543-b0fd-b2f8e7fb68d9\\\\\\\\\\\\\\\", \\\\\\\\\\\\\\\"type\\\\\\\\\\\\\\\": \\\\\\\\\\\\\\\"Microsoft.DPrep.DropColumnsBlock\\\\\\\\\\\\\\\", \\\\\\\\\\\\\\\"arguments\\\\\\\\\\\\\\\": {\\\\\\\\\\\\\\\"columns\\\\\\\\\\\\\\\": {\\\\\\\\\\\\\\\"type\\\\\\\\\\\\\\\": 0, \\\\\\\\\\\\\\\"details\\\\\\\\\\\\\\\": {\\\\\\\\\\\\\\\"selectedColumns\\\\\\\\\\\\\\\": [\\\\\\\\\\\\\\\"Path\\\\\\\\\\\\\\\"]}}}, \\\\\\\\\\\\\\\"localData\\\\\\\\\\\\\\\": {}, \\\\\\\\\\\\\\\"isEnabled\\\\\\\\\\\\\\\": true, \\\\\\\\\\\\\\\"name\\\\\\\\\\\\\\\": null, \\\\\\\\\\\\\\\"annotation\\\\\\\\\\\\\\\": null}, {\\\\\\\\\\\\\\\"id\\\\\\\\\\\\\\\": \\\\\\\\\\\\\\\"c272c5a2-63a6-4040-b3ce-fcef471e78fe\\\\\\\\\\\\\\\", \\\\\\\\\\\\\\\"type\\\\\\\\\\\\\\\": \\\\\\\\\\\\\\\"Microsoft.DPrep.SetColumnTypesBlock\\\\\\\\\\\\\\\", \\\\\\\\\\\\\\\"arguments\\\\\\\\\\\\\\\": {\\\\\\\\\\\\\\\"columnConversion\\\\\\\\\\\\\\\": [{\\\\\\\\\\\\\\\"column\\\\\\\\\\\\\\\": {\\\\\\\\\\\\\\\"type\\\\\\\\\\\\\\\": 2, \\\\\\\\\\\\\\\"details\\\\\\\\\\\\\\\": {\\\\\\\\\\\\\\\"selectedColumn\\\\\\\\\\\\\\\": \\\\\\\\\\\\\\\"age\\\\\\\\\\\\\\\"}}, \\\\\\\\\\\\\\\"typeProperty\\\\\\\\\\\\\\\": 3}, {\\\\\\\\\\\\\\\"column\\\\\\\\\\\\\\\": {\\\\\\\\\\\\\\\"type\\\\\\\\\\\\\\\": 2, \\\\\\\\\\\\\\\"details\\\\\\\\\\\\\\\": {\\\\\\\\\\\\\\\"selectedColumn\\\\\\\\\\\\\\\": \\\\\\\\\\\\\\\"anaemia\\\\\\\\\\\\\\\"}}, \\\\\\\\\\\\\\\"typeProperty\\\\\\\\\\\\\\\": 2}, {\\\\\\\\\\\\\\\"column\\\\\\\\\\\\\\\": {\\\\\\\\\\\\\\\"type\\\\\\\\\\\\\\\": 2, \\\\\\\\\\\\\\\"details\\\\\\\\\\\\\\\": {\\\\\\\\\\\\\\\"selectedColumn\\\\\\\\\\\\\\\": \\\\\\\\\\\\\\\"creatinine_phosphokinase\\\\\\\\\\\\\\\"}}, \\\\\\\\\\\\\\\"typeProperty\\\\\\\\\\\\\\\": 2}, {\\\\\\\\\\\\\\\"column\\\\\\\\\\\\\\\": {\\\\\\\\\\\\\\\"type\\\\\\\\\\\\\\\": 2, \\\\\\\\\\\\\\\"details\\\\\\\\\\\\\\\": {\\\\\\\\\\\\\\\"selectedColumn\\\\\\\\\\\\\\\": \\\\\\\\\\\\\\\"diabetes\\\\\\\\\\\\\\\"}}, \\\\\\\\\\\\\\\"typeProperty\\\\\\\\\\\\\\\": 2}, {\\\\\\\\\\\\\\\"column\\\\\\\\\\\\\\\": {\\\\\\\\\\\\\\\"type\\\\\\\\\\\\\\\": 2, \\\\\\\\\\\\\\\"details\\\\\\\\\\\\\\\": {\\\\\\\\\\\\\\\"selectedColumn\\\\\\\\\\\\\\\": \\\\\\\\\\\\\\\"ejection_fraction\\\\\\\\\\\\\\\"}}, \\\\\\\\\\\\\\\"typeProperty\\\\\\\\\\\\\\\": 2}, {\\\\\\\\\\\\\\\"column\\\\\\\\\\\\\\\": {\\\\\\\\\\\\\\\"type\\\\\\\\\\\\\\\": 2, \\\\\\\\\\\\\\\"details\\\\\\\\\\\\\\\": {\\\\\\\\\\\\\\\"selectedColumn\\\\\\\\\\\\\\\": \\\\\\\\\\\\\\\"high_blood_pressure\\\\\\\\\\\\\\\"}}, \\\\\\\\\\\\\\\"typeProperty\\\\\\\\\\\\\\\": 2}, {\\\\\\\\\\\\\\\"column\\\\\\\\\\\\\\\": {\\\\\\\\\\\\\\\"type\\\\\\\\\\\\\\\": 2, \\\\\\\\\\\\\\\"details\\\\\\\\\\\\\\\": {\\\\\\\\\\\\\\\"selectedColumn\\\\\\\\\\\\\\\": \\\\\\\\\\\\\\\"platelets\\\\\\\\\\\\\\\"}}, \\\\\\\\\\\\\\\"typeProperty\\\\\\\\\\\\\\\": 3}, {\\\\\\\\\\\\\\\"column\\\\\\\\\\\\\\\": {\\\\\\\\\\\\\\\"type\\\\\\\\\\\\\\\": 2, \\\\\\\\\\\\\\\"details\\\\\\\\\\\\\\\": {\\\\\\\\\\\\\\\"selectedColumn\\\\\\\\\\\\\\\": \\\\\\\\\\\\\\\"serum_creatinine\\\\\\\\\\\\\\\"}}, \\\\\\\\\\\\\\\"typeProperty\\\\\\\\\\\\\\\": 3}, {\\\\\\\\\\\\\\\"column\\\\\\\\\\\\\\\": {\\\\\\\\\\\\\\\"type\\\\\\\\\\\\\\\": 2, \\\\\\\\\\\\\\\"details\\\\\\\\\\\\\\\": {\\\\\\\\\\\\\\\"selectedColumn\\\\\\\\\\\\\\\": \\\\\\\\\\\\\\\"serum_sodium\\\\\\\\\\\\\\\"}}, \\\\\\\\\\\\\\\"typeProperty\\\\\\\\\\\\\\\": 2}, {\\\\\\\\\\\\\\\"column\\\\\\\\\\\\\\\": {\\\\\\\\\\\\\\\"type\\\\\\\\\\\\\\\": 2, \\\\\\\\\\\\\\\"details\\\\\\\\\\\\\\\": {\\\\\\\\\\\\\\\"selectedColumn\\\\\\\\\\\\\\\": \\\\\\\\\\\\\\\"sex\\\\\\\\\\\\\\\"}}, \\\\\\\\\\\\\\\"typeProperty\\\\\\\\\\\\\\\": 2}, {\\\\\\\\\\\\\\\"column\\\\\\\\\\\\\\\": {\\\\\\\\\\\\\\\"type\\\\\\\\\\\\\\\": 2, \\\\\\\\\\\\\\\"details\\\\\\\\\\\\\\\": {\\\\\\\\\\\\\\\"selectedColumn\\\\\\\\\\\\\\\": \\\\\\\\\\\\\\\"smoking\\\\\\\\\\\\\\\"}}, \\\\\\\\\\\\\\\"typeProperty\\\\\\\\\\\\\\\": 2}, {\\\\\\\\\\\\\\\"column\\\\\\\\\\\\\\\": {\\\\\\\\\\\\\\\"type\\\\\\\\\\\\\\\": 2, \\\\\\\\\\\\\\\"details\\\\\\\\\\\\\\\": {\\\\\\\\\\\\\\\"selectedColumn\\\\\\\\\\\\\\\": \\\\\\\\\\\\\\\"time\\\\\\\\\\\\\\\"}}, \\\\\\\\\\\\\\\"typeProperty\\\\\\\\\\\\\\\": 2}, {\\\\\\\\\\\\\\\"column\\\\\\\\\\\\\\\": {\\\\\\\\\\\\\\\"type\\\\\\\\\\\\\\\": 2, \\\\\\\\\\\\\\\"details\\\\\\\\\\\\\\\": {\\\\\\\\\\\\\\\"selectedColumn\\\\\\\\\\\\\\\": \\\\\\\\\\\\\\\"DEATH_EVENT\\\\\\\\\\\\\\\"}}, \\\\\\\\\\\\\\\"typeProperty\\\\\\\\\\\\\\\": 2}]}, \\\\\\\\\\\\\\\"localData\\\\\\\\\\\\\\\": {}, \\\\\\\\\\\\\\\"isEnabled\\\\\\\\\\\\\\\": true, \\\\\\\\\\\\\\\"name\\\\\\\\\\\\\\\": null, \\\\\\\\\\\\\\\"annotation\\\\\\\\\\\\\\\": null}], \\\\\\\\\\\\\\\"inspectors\\\\\\\\\\\\\\\": [], \\\\\\\\\\\\\\\"meta\\\\\\\\\\\\\\\": {\\\\\\\\\\\\\\\"savedDatasetId\\\\\\\\\\\\\\\": \\\\\\\\\\\\\\\"3e399b53-0bfc-4072-a967-5ac746f0d1be\\\\\\\\\\\\\\\", \\\\\\\\\\\\\\\"datasetType\\\\\\\\\\\\\\\": \\\\\\\\\\\\\\\"tabular\\\\\\\\\\\\\\\", \\\\\\\\\\\\\\\"subscriptionId\\\\\\\\\\\\\\\": \\\\\\\\\\\\\\\"3d1a56d2-7c81-4118-9790-f85d1acf0c77\\\\\\\\\\\\\\\", \\\\\\\\\\\\\\\"workspaceId\\\\\\\\\\\\\\\": \\\\\\\\\\\\\\\"028ff419-c53d-40a4-a55e-cfbee4714dee\\\\\\\\\\\\\\\", \\\\\\\\\\\\\\\"workspaceLocation\\\\\\\\\\\\\\\": \\\\\\\\\\\\\\\"southcentralus\\\\\\\\\\\\\\\"}}\\\\\\\", \\\\\\\"activities\\\\\\\": 0}\", \"EnableSubsampling\": null, \"runTemplate\": \"AutoML\", \"azureml.runsource\": \"automl\", \"display_task_type\": \"classification\", \"dependencies_versions\": \"{\\\"azureml-widgets\\\": \\\"1.19.0\\\", \\\"azureml-train\\\": \\\"1.19.0\\\", \\\"azureml-train-restclients-hyperdrive\\\": \\\"1.19.0\\\", \\\"azureml-train-core\\\": \\\"1.19.0\\\", \\\"azureml-train-automl\\\": \\\"1.19.0\\\", \\\"azureml-train-automl-runtime\\\": \\\"1.19.0\\\", \\\"azureml-train-automl-client\\\": \\\"1.19.0\\\", \\\"azureml-tensorboard\\\": \\\"1.19.0\\\", \\\"azureml-telemetry\\\": \\\"1.19.0\\\", \\\"azureml-sdk\\\": \\\"1.19.0\\\", \\\"azureml-samples\\\": \\\"0+unknown\\\", \\\"azureml-pipeline\\\": \\\"1.19.0\\\", \\\"azureml-pipeline-steps\\\": \\\"1.19.0\\\", \\\"azureml-pipeline-core\\\": \\\"1.19.0\\\", \\\"azureml-opendatasets\\\": \\\"1.19.0\\\", \\\"azureml-model-management-sdk\\\": \\\"1.0.1b6.post1\\\", \\\"azureml-mlflow\\\": \\\"1.19.0\\\", \\\"azureml-interpret\\\": \\\"1.19.0\\\", \\\"azureml-explain-model\\\": \\\"1.19.0\\\", \\\"azureml-defaults\\\": \\\"1.19.0\\\", \\\"azureml-dataset-runtime\\\": \\\"1.19.0\\\", \\\"azureml-dataprep\\\": \\\"2.6.1\\\", \\\"azureml-dataprep-rslex\\\": \\\"1.4.0\\\", \\\"azureml-dataprep-native\\\": \\\"26.0.0\\\", \\\"azureml-datadrift\\\": \\\"1.19.0\\\", \\\"azureml-core\\\": \\\"1.19.0\\\", \\\"azureml-contrib-services\\\": \\\"1.19.0\\\", \\\"azureml-contrib-server\\\": \\\"1.19.0\\\", \\\"azureml-contrib-reinforcementlearning\\\": \\\"1.19.0\\\", \\\"azureml-contrib-pipeline-steps\\\": \\\"1.19.0\\\", \\\"azureml-contrib-notebook\\\": \\\"1.19.0\\\", \\\"azureml-contrib-interpret\\\": \\\"1.19.0\\\", \\\"azureml-contrib-gbdt\\\": \\\"1.19.0\\\", \\\"azureml-contrib-fairness\\\": \\\"1.19.0\\\", \\\"azureml-contrib-dataset\\\": \\\"1.19.0\\\", \\\"azureml-cli-common\\\": \\\"1.19.0\\\", \\\"azureml-automl-runtime\\\": \\\"1.19.0\\\", \\\"azureml-automl-core\\\": \\\"1.19.0\\\", \\\"azureml-accel-models\\\": \\\"1.19.0\\\"}\", \"_aml_system_scenario_identification\": \"Remote.Parent\", \"ClientType\": \"SDK\", \"environment_cpu_name\": \"AzureML-AutoML\", \"environment_cpu_label\": \"prod\", \"environment_gpu_name\": \"AzureML-AutoML-GPU\", \"environment_gpu_label\": \"prod\", \"root_attribution\": \"automl\", \"attribution\": \"AutoML\", \"Orchestrator\": \"AutoML\", \"CancelUri\": \"https://southcentralus.experiments.azureml.net/jasmine/v1.0/subscriptions/3d1a56d2-7c81-4118-9790-f85d1acf0c77/resourceGroups/aml-quickstarts-134387/providers/Microsoft.MachineLearningServices/workspaces/quick-starts-ws-134387/experimentids/07161190-8a7d-4764-a8b2-3ed70e651aad/cancel/AutoML_8ec8a7ab-1d94-4e8c-8fad-ebb1d50ee12b\", \"ClientSdkVersion\": \"1.19.0\", \"snapshotId\": \"00000000-0000-0000-0000-000000000000\", \"SetupRunId\": \"AutoML_8ec8a7ab-1d94-4e8c-8fad-ebb1d50ee12b_setup\", \"SetupRunContainerId\": \"dcid.AutoML_8ec8a7ab-1d94-4e8c-8fad-ebb1d50ee12b_setup\", \"FeaturizationRunJsonPath\": \"featurizer_container.json\", \"FeaturizationRunId\": \"AutoML_8ec8a7ab-1d94-4e8c-8fad-ebb1d50ee12b_featurize\", \"ProblemInfoJsonString\": \"{\\\"dataset_num_categorical\\\": 0, \\\"is_sparse\\\": false, \\\"subsampling\\\": false, \\\"dataset_classes\\\": 2, \\\"dataset_features\\\": 12, \\\"dataset_samples\\\": 299, \\\"single_frequency_class_detected\\\": false}\", \"ModelExplainRunId\": \"AutoML_8ec8a7ab-1d94-4e8c-8fad-ebb1d50ee12b_ModelExplain\", \"azureml.git.repository_uri\": \"https://github.com/jhonatantirado/nd00333-capstone.git\", \"mlflow.source.git.repoURL\": \"https://github.com/jhonatantirado/nd00333-capstone.git\", \"azureml.git.branch\": \"master\", \"mlflow.source.git.branch\": \"master\", \"azureml.git.commit\": \"c786c5dc327895d73e93bb7e648b08dfeb84a54f\", \"mlflow.source.git.commit\": \"c786c5dc327895d73e93bb7e648b08dfeb84a54f\", \"azureml.git.dirty\": \"True\"}, \"tags\": {\"model_explain_run\": \"best_run\", \"_aml_system_azureml.automlComponent\": \"AutoML\", \"pipeline_id\": \"\", \"score\": \"\", \"predicted_cost\": \"\", \"fit_time\": \"\", \"training_percent\": \"\", \"iteration\": \"\", \"run_preprocessor\": \"\", \"run_algorithm\": \"\", \"dynamic_whitelisting_iterations\": \"<25>;<30>;\", \"automl_best_child_run_id\": \"AutoML_8ec8a7ab-1d94-4e8c-8fad-ebb1d50ee12b_35\", \"model_explain_best_run_child_id\": \"AutoML_8ec8a7ab-1d94-4e8c-8fad-ebb1d50ee12b_35\"}, \"end_time_utc\": \"2021-01-11T21:19:17.669527Z\", \"status\": \"Completed\", \"log_files\": {}, \"log_groups\": [], \"run_duration\": \"0:23:47\"}, \"child_runs\": [{\"run_id\": \"AutoML_8ec8a7ab-1d94-4e8c-8fad-ebb1d50ee12b_1\", \"run_number\": 6, \"metric\": null, \"status\": \"Completed\", \"run_type\": \"azureml.scriptrun\", \"training_percent\": \"100\", \"start_time\": \"2021-01-11T21:06:24.343924Z\", \"end_time\": \"2021-01-11T21:09:56.363572Z\", \"created_time\": \"2021-01-11T21:04:17.619944Z\", \"created_time_dt\": \"2021-01-11T21:04:17.619944Z\", \"duration\": \"0:05:38\", \"iteration\": \"1\", \"goal\": \"accuracy_max\", \"run_name\": \"MaxAbsScaler, XGBoostClassifier\", \"run_properties\": \"copy=True\", \"primary_metric\": 0.83586207, \"best_metric\": 0.83597701}, {\"run_id\": \"AutoML_8ec8a7ab-1d94-4e8c-8fad-ebb1d50ee12b_2\", \"run_number\": 7, \"metric\": null, \"status\": \"Completed\", \"run_type\": \"azureml.scriptrun\", \"training_percent\": \"100\", \"start_time\": \"2021-01-11T21:04:28.545407Z\", \"end_time\": \"2021-01-11T21:05:18.98453Z\", \"created_time\": \"2021-01-11T21:04:17.625609Z\", \"created_time_dt\": \"2021-01-11T21:04:17.625609Z\", \"duration\": \"0:01:01\", \"iteration\": \"2\", \"goal\": \"accuracy_max\", \"run_name\": \"MinMaxScaler, RandomForest\", \"run_properties\": \"copy=True, feature_range=(0, 1\", \"primary_metric\": 0.81264368, \"best_metric\": 0.83597701}, {\"run_id\": \"AutoML_8ec8a7ab-1d94-4e8c-8fad-ebb1d50ee12b_3\", \"run_number\": 8, \"metric\": null, \"status\": \"Completed\", \"run_type\": \"azureml.scriptrun\", \"training_percent\": \"100\", \"start_time\": \"2021-01-11T21:05:22.150686Z\", \"end_time\": \"2021-01-11T21:06:09.413938Z\", \"created_time\": \"2021-01-11T21:04:17.663665Z\", \"created_time_dt\": \"2021-01-11T21:04:17.663665Z\", \"duration\": \"0:01:51\", \"iteration\": \"3\", \"goal\": \"accuracy_max\", \"run_name\": \"MinMaxScaler, RandomForest\", \"run_properties\": \"copy=True, feature_range=(0, 1\", \"primary_metric\": 0.84264368, \"best_metric\": 0.84264368}, {\"run_id\": \"AutoML_8ec8a7ab-1d94-4e8c-8fad-ebb1d50ee12b_0\", \"run_number\": 9, \"metric\": null, \"status\": \"Completed\", \"run_type\": \"azureml.scriptrun\", \"training_percent\": \"100\", \"start_time\": \"2021-01-11T21:06:12.179706Z\", \"end_time\": \"2021-01-11T21:06:57.367993Z\", \"created_time\": \"2021-01-11T21:04:17.62233Z\", \"created_time_dt\": \"2021-01-11T21:04:17.62233Z\", \"duration\": \"0:02:39\", \"iteration\": \"0\", \"goal\": \"accuracy_max\", \"run_name\": \"MaxAbsScaler, LightGBM\", \"run_properties\": \"copy=True\", \"primary_metric\": 0.83597701, \"best_metric\": 0.83597701}, {\"run_id\": \"AutoML_8ec8a7ab-1d94-4e8c-8fad-ebb1d50ee12b_4\", \"run_number\": 10, \"metric\": null, \"status\": \"Completed\", \"run_type\": \"azureml.scriptrun\", \"training_percent\": \"100\", \"start_time\": \"2021-01-11T21:06:26.011539Z\", \"end_time\": \"2021-01-11T21:09:45.484311Z\", \"created_time\": \"2021-01-11T21:05:22.431373Z\", \"created_time_dt\": \"2021-01-11T21:05:22.431373Z\", \"duration\": \"0:04:23\", \"iteration\": \"4\", \"goal\": \"accuracy_max\", \"run_name\": \"MinMaxScaler, RandomForest\", \"run_properties\": \"copy=True, feature_range=(0, 1\", \"primary_metric\": 0.82229885, \"best_metric\": 0.84264368}, {\"run_id\": \"AutoML_8ec8a7ab-1d94-4e8c-8fad-ebb1d50ee12b_5\", \"run_number\": 11, \"metric\": null, \"status\": \"Completed\", \"run_type\": \"azureml.scriptrun\", \"training_percent\": \"100\", \"start_time\": \"2021-01-11T21:06:29.381072Z\", \"end_time\": \"2021-01-11T21:09:49.215493Z\", \"created_time\": \"2021-01-11T21:06:12.417258Z\", \"created_time_dt\": \"2021-01-11T21:06:12.417258Z\", \"duration\": \"0:03:36\", \"iteration\": \"5\", \"goal\": \"accuracy_max\", \"run_name\": \"MinMaxScaler, SVM\", \"run_properties\": \"copy=True, feature_range=(0, 1\", \"primary_metric\": 0.72597701, \"best_metric\": 0.84264368}, {\"run_id\": \"AutoML_8ec8a7ab-1d94-4e8c-8fad-ebb1d50ee12b_6\", \"run_number\": 12, \"metric\": null, \"status\": \"Completed\", \"run_type\": \"azureml.scriptrun\", \"training_percent\": \"100\", \"start_time\": \"2021-01-11T21:07:12.893106Z\", \"end_time\": \"2021-01-11T21:07:58.568762Z\", \"created_time\": \"2021-01-11T21:06:59.835008Z\", \"created_time_dt\": \"2021-01-11T21:06:59.835008Z\", \"duration\": \"0:00:58\", \"iteration\": \"6\", \"goal\": \"accuracy_max\", \"run_name\": \"MinMaxScaler, SVM\", \"run_properties\": \"copy=True, feature_range=(0, 1\", \"primary_metric\": 0.71275862, \"best_metric\": 0.84264368}, {\"run_id\": \"AutoML_8ec8a7ab-1d94-4e8c-8fad-ebb1d50ee12b_7\", \"run_number\": 13, \"metric\": null, \"status\": \"Completed\", \"run_type\": \"azureml.scriptrun\", \"training_percent\": \"100\", \"start_time\": \"2021-01-11T21:08:54.341051Z\", \"end_time\": \"2021-01-11T21:09:35.139217Z\", \"created_time\": \"2021-01-11T21:08:08.319321Z\", \"created_time_dt\": \"2021-01-11T21:08:08.319321Z\", \"duration\": \"0:01:26\", \"iteration\": \"7\", \"goal\": \"accuracy_max\", \"run_name\": \"MaxAbsScaler, GradientBoosting\", \"run_properties\": \"copy=True\", \"primary_metric\": 0.84264368, \"best_metric\": 0.84264368}, {\"run_id\": \"AutoML_8ec8a7ab-1d94-4e8c-8fad-ebb1d50ee12b_8\", \"run_number\": 14, \"metric\": null, \"status\": \"Completed\", \"run_type\": \"azureml.scriptrun\", \"training_percent\": \"100\", \"start_time\": \"2021-01-11T21:09:50.862554Z\", \"end_time\": \"2021-01-11T21:10:45.630122Z\", \"created_time\": \"2021-01-11T21:09:37.886416Z\", \"created_time_dt\": \"2021-01-11T21:09:37.886416Z\", \"duration\": \"0:01:07\", \"iteration\": \"8\", \"goal\": \"accuracy_max\", \"run_name\": \"SparseNormalizer, XGBoostClassifier\", \"run_properties\": \"<azureml.automl.runtime.shared.model_wrappers.SparseNormalizer object at 0x7f681467b588\", \"primary_metric\": 0.83275862, \"best_metric\": 0.84264368}, {\"run_id\": \"AutoML_8ec8a7ab-1d94-4e8c-8fad-ebb1d50ee12b_9\", \"run_number\": 15, \"metric\": null, \"status\": \"Completed\", \"run_type\": \"azureml.scriptrun\", \"training_percent\": \"100\", \"start_time\": \"2021-01-11T21:10:00.028132Z\", \"end_time\": \"2021-01-11T21:10:45.559716Z\", \"created_time\": \"2021-01-11T21:09:47.815506Z\", \"created_time_dt\": \"2021-01-11T21:09:47.815506Z\", \"duration\": \"0:00:57\", \"iteration\": \"9\", \"goal\": \"accuracy_max\", \"run_name\": \"MaxAbsScaler, LightGBM\", \"run_properties\": \"copy=True\", \"primary_metric\": 0.83275862, \"best_metric\": 0.84264368}, {\"run_id\": \"AutoML_8ec8a7ab-1d94-4e8c-8fad-ebb1d50ee12b_10\", \"run_number\": 16, \"metric\": null, \"status\": \"Completed\", \"run_type\": \"azureml.scriptrun\", \"training_percent\": \"100\", \"start_time\": \"2021-01-11T21:10:03.6947Z\", \"end_time\": \"2021-01-11T21:10:49.119267Z\", \"created_time\": \"2021-01-11T21:09:52.749065Z\", \"created_time_dt\": \"2021-01-11T21:09:52.749065Z\", \"duration\": \"0:00:56\", \"iteration\": \"10\", \"goal\": \"accuracy_max\", \"run_name\": \"RobustScaler, GradientBoosting\", \"run_properties\": \"copy=True, quantile_range=[25, 75], with_centering=False,\\n             with_scaling=False\", \"primary_metric\": 0.84954023, \"best_metric\": 0.84954023}, {\"run_id\": \"AutoML_8ec8a7ab-1d94-4e8c-8fad-ebb1d50ee12b_11\", \"run_number\": 17, \"metric\": null, \"status\": \"Completed\", \"run_type\": \"azureml.scriptrun\", \"training_percent\": \"100\", \"start_time\": \"2021-01-11T21:10:11.176433Z\", \"end_time\": \"2021-01-11T21:10:51.28042Z\", \"created_time\": \"2021-01-11T21:09:58.795953Z\", \"created_time_dt\": \"2021-01-11T21:09:58.795953Z\", \"duration\": \"0:00:52\", \"iteration\": \"11\", \"goal\": \"accuracy_max\", \"run_name\": \"SparseNormalizer, XGBoostClassifier\", \"run_properties\": \"<azureml.automl.runtime.shared.model_wrappers.SparseNormalizer object at 0x7fd31c15d780\", \"primary_metric\": 0.8262069, \"best_metric\": 0.84954023}, {\"run_id\": \"AutoML_8ec8a7ab-1d94-4e8c-8fad-ebb1d50ee12b_12\", \"run_number\": 18, \"metric\": null, \"status\": \"Completed\", \"run_type\": \"azureml.scriptrun\", \"training_percent\": \"100\", \"start_time\": \"2021-01-11T21:11:01.480601Z\", \"end_time\": \"2021-01-11T21:11:47.766156Z\", \"created_time\": \"2021-01-11T21:10:48.018582Z\", \"created_time_dt\": \"2021-01-11T21:10:48.018582Z\", \"duration\": \"0:00:59\", \"iteration\": \"12\", \"goal\": \"accuracy_max\", \"run_name\": \"MaxAbsScaler, LightGBM\", \"run_properties\": \"copy=True\", \"primary_metric\": 0.82252874, \"best_metric\": 0.84954023}, {\"run_id\": \"AutoML_8ec8a7ab-1d94-4e8c-8fad-ebb1d50ee12b_13\", \"run_number\": 19, \"metric\": null, \"status\": \"Completed\", \"run_type\": \"azureml.scriptrun\", \"training_percent\": \"100\", \"start_time\": \"2021-01-11T21:11:01.943357Z\", \"end_time\": \"2021-01-11T21:11:48.277322Z\", \"created_time\": \"2021-01-11T21:10:48.168358Z\", \"created_time_dt\": \"2021-01-11T21:10:48.168358Z\", \"duration\": \"0:01:00\", \"iteration\": \"13\", \"goal\": \"accuracy_max\", \"run_name\": \"MinMaxScaler, LightGBM\", \"run_properties\": \"copy=True, feature_range=(0, 1\", \"primary_metric\": 0.83574713, \"best_metric\": 0.84954023}, {\"run_id\": \"AutoML_8ec8a7ab-1d94-4e8c-8fad-ebb1d50ee12b_15\", \"run_number\": 20, \"metric\": null, \"status\": \"Completed\", \"run_type\": \"azureml.scriptrun\", \"training_percent\": \"100\", \"start_time\": \"2021-01-11T21:11:05.52754Z\", \"end_time\": \"2021-01-11T21:12:08.901205Z\", \"created_time\": \"2021-01-11T21:10:54.493511Z\", \"created_time_dt\": \"2021-01-11T21:10:54.493511Z\", \"duration\": \"0:01:14\", \"iteration\": \"15\", \"goal\": \"accuracy_max\", \"run_name\": \"SparseNormalizer, XGBoostClassifier\", \"run_properties\": \"<azureml.automl.runtime.shared.model_wrappers.SparseNormalizer object at 0x7f22c111cf60\", \"primary_metric\": 0.82942529, \"best_metric\": 0.84954023}, {\"run_id\": \"AutoML_8ec8a7ab-1d94-4e8c-8fad-ebb1d50ee12b_14\", \"run_number\": 21, \"metric\": null, \"status\": \"Completed\", \"run_type\": \"azureml.scriptrun\", \"training_percent\": \"100\", \"start_time\": \"2021-01-11T21:11:05.693768Z\", \"end_time\": \"2021-01-11T21:11:45.180947Z\", \"created_time\": \"2021-01-11T21:10:54.53548Z\", \"created_time_dt\": \"2021-01-11T21:10:54.53548Z\", \"duration\": \"0:00:50\", \"iteration\": \"14\", \"goal\": \"accuracy_max\", \"run_name\": \"StandardScalerWrapper, ExtremeRandomTrees\", \"run_properties\": \"<azureml.automl.runtime.shared.model_wrappers.StandardScalerWrapper object at 0x7f63bc1036d8\", \"primary_metric\": 0.84298851, \"best_metric\": 0.84954023}, {\"run_id\": \"AutoML_8ec8a7ab-1d94-4e8c-8fad-ebb1d50ee12b_16\", \"run_number\": 22, \"metric\": null, \"status\": \"Completed\", \"run_type\": \"azureml.scriptrun\", \"training_percent\": \"100\", \"start_time\": \"2021-01-11T21:11:59.974489Z\", \"end_time\": \"2021-01-11T21:12:45.599629Z\", \"created_time\": \"2021-01-11T21:11:47.552731Z\", \"created_time_dt\": \"2021-01-11T21:11:47.552731Z\", \"duration\": \"0:00:58\", \"iteration\": \"16\", \"goal\": \"accuracy_max\", \"run_name\": \"MinMaxScaler, LightGBM\", \"run_properties\": \"copy=True, feature_range=(0, 1\", \"primary_metric\": 0.79597701, \"best_metric\": 0.84954023}, {\"run_id\": \"AutoML_8ec8a7ab-1d94-4e8c-8fad-ebb1d50ee12b_17\", \"run_number\": 23, \"metric\": null, \"status\": \"Completed\", \"run_type\": \"azureml.scriptrun\", \"training_percent\": \"100\", \"start_time\": \"2021-01-11T21:12:10.366548Z\", \"end_time\": \"2021-01-11T21:12:47.796874Z\", \"created_time\": \"2021-01-11T21:11:57.234111Z\", \"created_time_dt\": \"2021-01-11T21:11:57.234111Z\", \"duration\": \"0:00:50\", \"iteration\": \"17\", \"goal\": \"accuracy_max\", \"run_name\": \"StandardScalerWrapper, LightGBM\", \"run_properties\": \"<azureml.automl.runtime.shared.model_wrappers.StandardScalerWrapper object at 0x7f1bfdacd1d0\", \"primary_metric\": 0.78609195, \"best_metric\": 0.84954023}, {\"run_id\": \"AutoML_8ec8a7ab-1d94-4e8c-8fad-ebb1d50ee12b_18\", \"run_number\": 24, \"metric\": null, \"status\": \"Completed\", \"run_type\": \"azureml.scriptrun\", \"training_percent\": \"100\", \"start_time\": \"2021-01-11T21:12:09.392767Z\", \"end_time\": \"2021-01-11T21:12:51.271378Z\", \"created_time\": \"2021-01-11T21:11:57.361797Z\", \"created_time_dt\": \"2021-01-11T21:11:57.361797Z\", \"duration\": \"0:00:53\", \"iteration\": \"18\", \"goal\": \"accuracy_max\", \"run_name\": \"TruncatedSVDWrapper, XGBoostClassifier\", \"run_properties\": \"n_components=0.6036842105263158, random_state=None\", \"primary_metric\": 0.78218391, \"best_metric\": 0.84954023}, {\"run_id\": \"AutoML_8ec8a7ab-1d94-4e8c-8fad-ebb1d50ee12b_19\", \"run_number\": 25, \"metric\": null, \"status\": \"Completed\", \"run_type\": \"azureml.scriptrun\", \"training_percent\": \"100\", \"start_time\": \"2021-01-11T21:12:22.411558Z\", \"end_time\": \"2021-01-11T21:13:08.034225Z\", \"created_time\": \"2021-01-11T21:12:11.228994Z\", \"created_time_dt\": \"2021-01-11T21:12:11.228994Z\", \"duration\": \"0:00:56\", \"iteration\": \"19\", \"goal\": \"accuracy_max\", \"run_name\": \"RobustScaler, LightGBM\", \"run_properties\": \"copy=True, quantile_range=[25, 75], with_centering=False,\\n             with_scaling=False\", \"primary_metric\": 0.84931034, \"best_metric\": 0.84954023}, {\"run_id\": \"AutoML_8ec8a7ab-1d94-4e8c-8fad-ebb1d50ee12b_20\", \"run_number\": 26, \"metric\": null, \"status\": \"Completed\", \"run_type\": \"azureml.scriptrun\", \"training_percent\": \"100\", \"start_time\": \"2021-01-11T21:12:58.227819Z\", \"end_time\": \"2021-01-11T21:13:43.096029Z\", \"created_time\": \"2021-01-11T21:12:48.046778Z\", \"created_time_dt\": \"2021-01-11T21:12:48.046778Z\", \"duration\": \"0:00:55\", \"iteration\": \"20\", \"goal\": \"accuracy_max\", \"run_name\": \"SparseNormalizer, XGBoostClassifier\", \"run_properties\": \"<azureml.automl.runtime.shared.model_wrappers.SparseNormalizer object at 0x7fb4f8ed2668\", \"primary_metric\": 0.82287356, \"best_metric\": 0.84954023}, {\"run_id\": \"AutoML_8ec8a7ab-1d94-4e8c-8fad-ebb1d50ee12b_21\", \"run_number\": 27, \"metric\": null, \"status\": \"Completed\", \"run_type\": \"azureml.scriptrun\", \"training_percent\": \"100\", \"start_time\": \"2021-01-11T21:13:04.161565Z\", \"end_time\": \"2021-01-11T21:13:44.32507Z\", \"created_time\": \"2021-01-11T21:12:52.24306Z\", \"created_time_dt\": \"2021-01-11T21:12:52.24306Z\", \"duration\": \"0:00:52\", \"iteration\": \"21\", \"goal\": \"accuracy_max\", \"run_name\": \"RobustScaler, LightGBM\", \"run_properties\": \"copy=True, quantile_range=[10, 90], with_centering=True,\\n             with_scaling=False\", \"primary_metric\": 0.76931034, \"best_metric\": 0.84954023}, {\"run_id\": \"AutoML_8ec8a7ab-1d94-4e8c-8fad-ebb1d50ee12b_22\", \"run_number\": 28, \"metric\": null, \"status\": \"Completed\", \"run_type\": \"azureml.scriptrun\", \"training_percent\": \"100\", \"start_time\": \"2021-01-11T21:13:09.44303Z\", \"end_time\": \"2021-01-11T21:13:47.365826Z\", \"created_time\": \"2021-01-11T21:12:56.937072Z\", \"created_time_dt\": \"2021-01-11T21:12:56.937072Z\", \"duration\": \"0:00:50\", \"iteration\": \"22\", \"goal\": \"accuracy_max\", \"run_name\": \"StandardScalerWrapper, LightGBM\", \"run_properties\": \"<azureml.automl.runtime.shared.model_wrappers.StandardScalerWrapper object at 0x7fc55c8293c8\", \"primary_metric\": 0.80609195, \"best_metric\": 0.84954023}, {\"run_id\": \"AutoML_8ec8a7ab-1d94-4e8c-8fad-ebb1d50ee12b_23\", \"run_number\": 29, \"metric\": null, \"status\": \"Completed\", \"run_type\": \"azureml.scriptrun\", \"training_percent\": \"100\", \"start_time\": \"2021-01-11T21:13:20.751284Z\", \"end_time\": \"2021-01-11T21:14:17.491879Z\", \"created_time\": \"2021-01-11T21:13:10.455912Z\", \"created_time_dt\": \"2021-01-11T21:13:10.455912Z\", \"duration\": \"0:01:07\", \"iteration\": \"23\", \"goal\": \"accuracy_max\", \"run_name\": \"MinMaxScaler, RandomForest\", \"run_properties\": \"copy=True, feature_range=(0, 1\", \"primary_metric\": 0.82252874, \"best_metric\": 0.84954023}, {\"run_id\": \"AutoML_8ec8a7ab-1d94-4e8c-8fad-ebb1d50ee12b_24\", \"run_number\": 30, \"metric\": null, \"status\": \"Completed\", \"run_type\": \"azureml.scriptrun\", \"training_percent\": \"100\", \"start_time\": \"2021-01-11T21:13:55.785821Z\", \"end_time\": \"2021-01-11T21:14:43.329098Z\", \"created_time\": \"2021-01-11T21:13:45.52022Z\", \"created_time_dt\": \"2021-01-11T21:13:45.52022Z\", \"duration\": \"0:00:57\", \"iteration\": \"24\", \"goal\": \"accuracy_max\", \"run_name\": \"SparseNormalizer, ExtremeRandomTrees\", \"run_properties\": \"<azureml.automl.runtime.shared.model_wrappers.SparseNormalizer object at 0x7fe11fcc7940\", \"primary_metric\": 0.78563218, \"best_metric\": 0.84954023}, {\"run_id\": \"AutoML_8ec8a7ab-1d94-4e8c-8fad-ebb1d50ee12b_26\", \"run_number\": 31, \"metric\": null, \"status\": \"Completed\", \"run_type\": \"azureml.scriptrun\", \"training_percent\": \"100\", \"start_time\": \"2021-01-11T21:14:22.061637Z\", \"end_time\": \"2021-01-11T21:15:21.052406Z\", \"created_time\": \"2021-01-11T21:13:50.980173Z\", \"created_time_dt\": \"2021-01-11T21:13:50.980173Z\", \"duration\": \"0:01:30\", \"iteration\": \"26\", \"goal\": \"accuracy_max\", \"run_name\": \"StandardScalerWrapper, ExtremeRandomTrees\", \"run_properties\": \"<azureml.automl.runtime.shared.model_wrappers.StandardScalerWrapper object at 0x7fea8c3af668\", \"primary_metric\": 0.6791954, \"best_metric\": 0.84954023}, {\"run_id\": \"AutoML_8ec8a7ab-1d94-4e8c-8fad-ebb1d50ee12b_25\", \"run_number\": 32, \"metric\": null, \"status\": \"Completed\", \"run_type\": \"azureml.scriptrun\", \"training_percent\": \"100\", \"start_time\": \"2021-01-11T21:14:02.841847Z\", \"end_time\": \"2021-01-11T21:14:37.281694Z\", \"created_time\": \"2021-01-11T21:13:50.999919Z\", \"created_time_dt\": \"2021-01-11T21:13:50.999919Z\", \"duration\": \"0:00:46\", \"iteration\": \"25\", \"goal\": \"accuracy_max\", \"run_name\": \"StandardScalerWrapper, GradientBoosting\", \"run_properties\": \"<azureml.automl.runtime.shared.model_wrappers.StandardScalerWrapper object at 0x7f59bcbac2b0\", \"primary_metric\": 0.6791954, \"best_metric\": 0.84954023}, {\"run_id\": \"AutoML_8ec8a7ab-1d94-4e8c-8fad-ebb1d50ee12b_27\", \"run_number\": 33, \"metric\": null, \"status\": \"Completed\", \"run_type\": \"azureml.scriptrun\", \"training_percent\": \"100\", \"start_time\": \"2021-01-11T21:14:30.356348Z\", \"end_time\": \"2021-01-11T21:15:30.516298Z\", \"created_time\": \"2021-01-11T21:14:19.866602Z\", \"created_time_dt\": \"2021-01-11T21:14:19.866602Z\", \"duration\": \"0:01:10\", \"iteration\": \"27\", \"goal\": \"accuracy_max\", \"run_name\": \"StandardScalerWrapper, LightGBM\", \"run_properties\": \"<azureml.automl.runtime.shared.model_wrappers.StandardScalerWrapper object at 0x7f17f9f12898\", \"primary_metric\": 0.82931034, \"best_metric\": 0.84954023}, {\"run_id\": \"AutoML_8ec8a7ab-1d94-4e8c-8fad-ebb1d50ee12b_28\", \"run_number\": 34, \"metric\": null, \"status\": \"Completed\", \"run_type\": \"azureml.scriptrun\", \"training_percent\": \"100\", \"start_time\": \"2021-01-11T21:14:55.300558Z\", \"end_time\": \"2021-01-11T21:15:37.541383Z\", \"created_time\": \"2021-01-11T21:14:39.504428Z\", \"created_time_dt\": \"2021-01-11T21:14:39.504428Z\", \"duration\": \"0:00:58\", \"iteration\": \"28\", \"goal\": \"accuracy_max\", \"run_name\": \"MaxAbsScaler, LightGBM\", \"run_properties\": \"copy=True\", \"primary_metric\": 0.8391954, \"best_metric\": 0.84954023}, {\"run_id\": \"AutoML_8ec8a7ab-1d94-4e8c-8fad-ebb1d50ee12b_29\", \"run_number\": 35, \"metric\": null, \"status\": \"Completed\", \"run_type\": \"azureml.scriptrun\", \"training_percent\": \"100\", \"start_time\": \"2021-01-11T21:14:59.17977Z\", \"end_time\": \"2021-01-11T21:15:44.103907Z\", \"created_time\": \"2021-01-11T21:14:49.244741Z\", \"created_time_dt\": \"2021-01-11T21:14:49.244741Z\", \"duration\": \"0:00:54\", \"iteration\": \"29\", \"goal\": \"accuracy_max\", \"run_name\": \"RobustScaler, RandomForest\", \"run_properties\": \"copy=True, quantile_range=[25, 75], with_centering=False,\\n             with_scaling=True\", \"primary_metric\": 0.84954023, \"best_metric\": 0.84954023}, {\"run_id\": \"AutoML_8ec8a7ab-1d94-4e8c-8fad-ebb1d50ee12b_30\", \"run_number\": 36, \"metric\": null, \"status\": \"Completed\", \"run_type\": \"azureml.scriptrun\", \"training_percent\": \"100\", \"start_time\": \"2021-01-11T21:15:35.617994Z\", \"end_time\": \"2021-01-11T21:16:30.312473Z\", \"created_time\": \"2021-01-11T21:15:24.32553Z\", \"created_time_dt\": \"2021-01-11T21:15:24.32553Z\", \"duration\": \"0:01:05\", \"iteration\": \"30\", \"goal\": \"accuracy_max\", \"run_name\": \"SparseNormalizer, GradientBoosting\", \"run_properties\": \"<azureml.automl.runtime.shared.model_wrappers.SparseNormalizer object at 0x7f70b174cd30\", \"primary_metric\": 0.77942529, \"best_metric\": 0.84954023}, {\"run_id\": \"AutoML_8ec8a7ab-1d94-4e8c-8fad-ebb1d50ee12b_31\", \"run_number\": 37, \"metric\": null, \"status\": \"Completed\", \"run_type\": \"azureml.scriptrun\", \"training_percent\": \"100\", \"start_time\": \"2021-01-11T21:15:48.211102Z\", \"end_time\": \"2021-01-11T21:16:34.213832Z\", \"created_time\": \"2021-01-11T21:15:37.72781Z\", \"created_time_dt\": \"2021-01-11T21:15:37.72781Z\", \"duration\": \"0:00:56\", \"iteration\": \"31\", \"goal\": \"accuracy_max\", \"run_name\": \"StandardScalerWrapper, LightGBM\", \"run_properties\": \"<azureml.automl.runtime.shared.model_wrappers.StandardScalerWrapper object at 0x7fe588ebfc88\", \"primary_metric\": 0.83609195, \"best_metric\": 0.84954023}, {\"run_id\": \"AutoML_8ec8a7ab-1d94-4e8c-8fad-ebb1d50ee12b_32\", \"run_number\": 38, \"metric\": null, \"status\": \"Canceled\", \"run_type\": \"azureml.scriptrun\", \"training_percent\": \"100\", \"start_time\": \"2021-01-11T21:15:53.296206Z\", \"end_time\": \"2021-01-11T21:16:37.968859Z\", \"created_time\": \"2021-01-11T21:15:42.608129Z\", \"created_time_dt\": \"2021-01-11T21:15:42.608129Z\", \"duration\": \"0:00:55\", \"iteration\": \"32\", \"goal\": \"accuracy_max\", \"run_name\": \"StandardScalerWrapper, XGBoostClassifier\", \"run_properties\": \"<azureml.automl.runtime.shared.model_wrappers.StandardScalerWrapper object at 0x7ff5ecdd52e8\", \"primary_metric\": 0.84264368, \"best_metric\": 0.84954023}, {\"run_id\": \"AutoML_8ec8a7ab-1d94-4e8c-8fad-ebb1d50ee12b_33\", \"run_number\": 39, \"metric\": null, \"status\": \"Completed\", \"run_type\": \"azureml.scriptrun\", \"training_percent\": \"100\", \"start_time\": \"2021-01-11T21:15:56.866254Z\", \"end_time\": \"2021-01-11T21:16:35.850096Z\", \"created_time\": \"2021-01-11T21:15:46.658041Z\", \"created_time_dt\": \"2021-01-11T21:15:46.658041Z\", \"duration\": \"0:00:49\", \"iteration\": \"33\", \"goal\": \"accuracy_max\", \"run_name\": \"StandardScalerWrapper, LightGBM\", \"run_properties\": \"<azureml.automl.runtime.shared.model_wrappers.StandardScalerWrapper object at 0x7efc6e0a59b0\", \"primary_metric\": 0.83954023, \"best_metric\": 0.84954023}, {\"run_id\": \"AutoML_8ec8a7ab-1d94-4e8c-8fad-ebb1d50ee12b_34\", \"run_number\": 40, \"metric\": null, \"status\": \"Canceled\", \"run_type\": \"azureml.scriptrun\", \"training_percent\": \"100\", \"start_time\": \"2021-01-11T21:16:32.760258Z\", \"end_time\": \"2021-01-11T21:16:37.37488Z\", \"created_time\": \"2021-01-11T21:16:32.760258Z\", \"created_time_dt\": \"2021-01-11T21:16:32.760258Z\", \"duration\": \"0:00:04\", \"iteration\": \"34\", \"goal\": null, \"run_name\": \"Canceled\", \"run_properties\": null}, {\"run_id\": \"AutoML_8ec8a7ab-1d94-4e8c-8fad-ebb1d50ee12b_35\", \"run_number\": 41, \"metric\": null, \"status\": \"Completed\", \"run_type\": \"azureml.scriptrun\", \"training_percent\": \"100\", \"start_time\": \"2021-01-11T21:16:49.405197Z\", \"end_time\": \"2021-01-11T21:18:48.708046Z\", \"created_time\": \"2021-01-11T21:16:39.474588Z\", \"created_time_dt\": \"2021-01-11T21:16:39.474588Z\", \"duration\": \"0:02:09\", \"iteration\": \"35\", \"goal\": \"accuracy_max\", \"run_name\": \"VotingEnsemble\", \"run_properties\": \"classification_labels=None,\\n                              estimators=[('29',\\n                                           Pipeline(memory=None,\\n                                                    steps=[('robustscaler',\\n                                                            RobustScaler(copy=True,\\n                                                                         quantile_range=[25,\\n                                                                                         75],\\n                                                                         with_centering=False,\\n                                                                         with_scaling=True\", \"primary_metric\": 0.87632184, \"best_metric\": 0.87632184}, {\"run_id\": \"AutoML_8ec8a7ab-1d94-4e8c-8fad-ebb1d50ee12b_36\", \"run_number\": 42, \"metric\": null, \"status\": \"Completed\", \"run_type\": \"azureml.scriptrun\", \"training_percent\": \"100\", \"start_time\": \"2021-01-11T21:16:51.774347Z\", \"end_time\": \"2021-01-11T21:19:08.152413Z\", \"created_time\": \"2021-01-11T21:16:39.625314Z\", \"created_time_dt\": \"2021-01-11T21:16:39.625314Z\", \"duration\": \"0:02:28\", \"iteration\": \"36\", \"goal\": \"accuracy_max\", \"run_name\": \"StackEnsemble\", \"run_properties\": \"base_learners=[('29',\\n                                        Pipeline(memory=None,\\n                                                 steps=[('robustscaler',\\n                                                         RobustScaler(copy=True,\\n                                                                      quantile_range=[25,\\n                                                                                      75],\\n                                                                      with_centering=False,\\n                                                                      with_scaling=True\", \"primary_metric\": 0.86287356, \"best_metric\": 0.87632184}], \"children_metrics\": {\"categories\": [0], \"series\": {\"f1_score_macro\": [{\"categories\": [\"0\", \"1\", \"2\", \"3\", \"4\", \"5\", \"6\", \"7\", \"8\", \"9\", \"10\", \"11\", \"12\", \"13\", \"14\", \"15\", \"16\", \"17\", \"18\", \"19\", \"20\", \"21\", \"22\", \"23\", \"24\", \"25\", \"26\", \"27\", \"28\", \"29\", \"30\", \"31\", \"32\", \"33\", \"35\", \"36\"], \"mode\": \"markers\", \"name\": \"f1_score_macro\", \"stepped\": false, \"type\": \"scatter\", \"data\": [0.8043314151248963, 0.8078501228997539, 0.7778917306560849, 0.8072047717350921, 0.7913083468409756, 0.6247173995028795, 0.5984431883302348, 0.811332145966212, 0.7949782091004657, 0.791706353717789, 0.817077266452363, 0.7921015258921438, 0.768854440839495, 0.7905121890680176, 0.8034509783279304, 0.784615145290539, 0.7323347297906607, 0.6936535716854779, 0.7374019526302135, 0.8176313747420417, 0.7664129848774295, 0.6565784158071135, 0.7379941033942543, 0.7854032008022822, 0.7637686559268949, 0.4024893878511494, 0.4024893878511494, 0.780777939759901, 0.8115710354621019, 0.8155755731649912, 0.6719903030867442, 0.7872210937785472, 0.8058633811832081, 0.7961451093206439, 0.8500660039812397, 0.83328486786477]}, {\"categories\": [\"0\", \"1\", \"2\", \"3\", \"4\", \"5\", \"6\", \"7\", \"8\", \"9\", \"10\", \"11\", \"12\", \"13\", \"14\", \"15\", \"16\", \"17\", \"18\", \"19\", \"20\", \"21\", \"22\", \"23\", \"24\", \"25\", \"26\", \"27\", \"28\", \"29\", \"30\", \"31\", \"32\", \"33\", \"35\", \"36\"], \"mode\": \"lines\", \"name\": \"f1_score_macro_max\", \"stepped\": true, \"type\": \"scatter\", \"data\": [0.8043314151248963, 0.8078501228997539, 0.8078501228997539, 0.8078501228997539, 0.8078501228997539, 0.8078501228997539, 0.8078501228997539, 0.811332145966212, 0.811332145966212, 0.811332145966212, 0.817077266452363, 0.817077266452363, 0.817077266452363, 0.817077266452363, 0.817077266452363, 0.817077266452363, 0.817077266452363, 0.817077266452363, 0.817077266452363, 0.8176313747420417, 0.8176313747420417, 0.8176313747420417, 0.8176313747420417, 0.8176313747420417, 0.8176313747420417, 0.8176313747420417, 0.8176313747420417, 0.8176313747420417, 0.8176313747420417, 0.8176313747420417, 0.8176313747420417, 0.8176313747420417, 0.8176313747420417, 0.8176313747420417, 0.8500660039812397, 0.8500660039812397]}], \"AUC_weighted\": [{\"categories\": [\"0\", \"1\", \"2\", \"3\", \"4\", \"5\", \"6\", \"7\", \"8\", \"9\", \"10\", \"11\", \"12\", \"13\", \"14\", \"15\", \"16\", \"17\", \"18\", \"19\", \"20\", \"21\", \"22\", \"23\", \"24\", \"25\", \"26\", \"27\", \"28\", \"29\", \"30\", \"31\", \"32\", \"33\", \"35\", \"36\"], \"mode\": \"markers\", \"name\": \"AUC_weighted\", \"stepped\": false, \"type\": \"scatter\", \"data\": [0.8840955354735103, 0.8847369443591411, 0.8997083476147549, 0.8993388058970438, 0.9023139266424736, 0.747228730835653, 0.7162697213224101, 0.9128982704620576, 0.8744683358043769, 0.8881343753955596, 0.9108714153906947, 0.8825041112332874, 0.8998198530196813, 0.8969557744548018, 0.8777952986330562, 0.8877285344729854, 0.8687376639611765, 0.8712466771617228, 0.8493337943288172, 0.9068961284964718, 0.875938619591909, 0.8664962772268836, 0.8988219172767227, 0.8886717452254924, 0.8460401028922769, 0.9054588687765748, 0.8561445473037006, 0.887022126187229, 0.9067814953226281, 0.9072338588015934, 0.8740763908838852, 0.8925834064740243, 0.8972454408281353, 0.9042755766777507, 0.9115332855910088, 0.9086830210407442]}, {\"categories\": [\"0\", \"1\", \"2\", \"3\", \"4\", \"5\", \"6\", \"7\", \"8\", \"9\", \"10\", \"11\", \"12\", \"13\", \"14\", \"15\", \"16\", \"17\", \"18\", \"19\", \"20\", \"21\", \"22\", \"23\", \"24\", \"25\", \"26\", \"27\", \"28\", \"29\", \"30\", \"31\", \"32\", \"33\", \"35\", \"36\"], \"mode\": \"lines\", \"name\": \"AUC_weighted_max\", \"stepped\": true, \"type\": \"scatter\", \"data\": [0.8840955354735103, 0.8847369443591411, 0.8997083476147549, 0.8997083476147549, 0.9023139266424736, 0.9023139266424736, 0.9023139266424736, 0.9128982704620576, 0.9128982704620576, 0.9128982704620576, 0.9128982704620576, 0.9128982704620576, 0.9128982704620576, 0.9128982704620576, 0.9128982704620576, 0.9128982704620576, 0.9128982704620576, 0.9128982704620576, 0.9128982704620576, 0.9128982704620576, 0.9128982704620576, 0.9128982704620576, 0.9128982704620576, 0.9128982704620576, 0.9128982704620576, 0.9128982704620576, 0.9128982704620576, 0.9128982704620576, 0.9128982704620576, 0.9128982704620576, 0.9128982704620576, 0.9128982704620576, 0.9128982704620576, 0.9128982704620576, 0.9128982704620576, 0.9128982704620576]}], \"precision_score_micro\": [{\"categories\": [\"0\", \"1\", \"2\", \"3\", \"4\", \"5\", \"6\", \"7\", \"8\", \"9\", \"10\", \"11\", \"12\", \"13\", \"14\", \"15\", \"16\", \"17\", \"18\", \"19\", \"20\", \"21\", \"22\", \"23\", \"24\", \"25\", \"26\", \"27\", \"28\", \"29\", \"30\", \"31\", \"32\", \"33\", \"35\", \"36\"], \"mode\": \"markers\", \"name\": \"precision_score_micro\", \"stepped\": false, \"type\": \"scatter\", \"data\": [0.8359770114942527, 0.8358620689655172, 0.8126436781609195, 0.8426436781609196, 0.8222988505747126, 0.725977011494253, 0.7127586206896551, 0.8426436781609195, 0.8327586206896551, 0.8327586206896551, 0.8495402298850575, 0.8262068965517242, 0.822528735632184, 0.8357471264367815, 0.8429885057471266, 0.8294252873563218, 0.7959770114942529, 0.7860919540229884, 0.782183908045977, 0.8493103448275863, 0.8228735632183908, 0.7693103448275862, 0.8060919540229886, 0.8225287356321838, 0.785632183908046, 0.6791954022988507, 0.6791954022988507, 0.8293103448275861, 0.8391954022988506, 0.8495402298850575, 0.7794252873563219, 0.8360919540229885, 0.8426436781609196, 0.8395402298850575, 0.8763218390804598, 0.8628735632183909]}, {\"categories\": [\"0\", \"1\", \"2\", \"3\", \"4\", \"5\", \"6\", \"7\", \"8\", \"9\", \"10\", \"11\", \"12\", \"13\", \"14\", \"15\", \"16\", \"17\", \"18\", \"19\", \"20\", \"21\", \"22\", \"23\", \"24\", \"25\", \"26\", \"27\", \"28\", \"29\", \"30\", \"31\", \"32\", \"33\", \"35\", \"36\"], \"mode\": \"lines\", \"name\": \"precision_score_micro_max\", \"stepped\": true, \"type\": \"scatter\", \"data\": [0.8359770114942527, 0.8359770114942527, 0.8359770114942527, 0.8426436781609196, 0.8426436781609196, 0.8426436781609196, 0.8426436781609196, 0.8426436781609196, 0.8426436781609196, 0.8426436781609196, 0.8495402298850575, 0.8495402298850575, 0.8495402298850575, 0.8495402298850575, 0.8495402298850575, 0.8495402298850575, 0.8495402298850575, 0.8495402298850575, 0.8495402298850575, 0.8495402298850575, 0.8495402298850575, 0.8495402298850575, 0.8495402298850575, 0.8495402298850575, 0.8495402298850575, 0.8495402298850575, 0.8495402298850575, 0.8495402298850575, 0.8495402298850575, 0.8495402298850575, 0.8495402298850575, 0.8495402298850575, 0.8495402298850575, 0.8495402298850575, 0.8763218390804598, 0.8763218390804598]}], \"precision_score_weighted\": [{\"categories\": [\"0\", \"1\", \"2\", \"3\", \"4\", \"5\", \"6\", \"7\", \"8\", \"9\", \"10\", \"11\", \"12\", \"13\", \"14\", \"15\", \"16\", \"17\", \"18\", \"19\", \"20\", \"21\", \"22\", \"23\", \"24\", \"25\", \"26\", \"27\", \"28\", \"29\", \"30\", \"31\", \"32\", \"33\", \"35\", \"36\"], \"mode\": \"markers\", \"name\": \"precision_score_weighted\", \"stepped\": false, \"type\": \"scatter\", \"data\": [0.8443308716969533, 0.8506678986628277, 0.8266271298732043, 0.8503865600646622, 0.8431986171890891, 0.746960744261569, 0.7345902649823939, 0.8611217267628811, 0.8440797961824948, 0.844735316683194, 0.8628640335315747, 0.8327471299855503, 0.8408448720925732, 0.8455814010077878, 0.8605017339814941, 0.8418969542701177, 0.8082977646458156, 0.8229786783246553, 0.7966037645053071, 0.8620478876122306, 0.8367127477137222, 0.7999024409854494, 0.8371074026312406, 0.834057015503792, 0.8160114651618068, 0.47055053507728895, 0.47055053507728895, 0.8417115597878716, 0.853016558409825, 0.8557181230813165, 0.8285675662779111, 0.8547276278166833, 0.8534679478442596, 0.8551141788644288, 0.8902097224503521, 0.8757733734338814]}, {\"categories\": [\"0\", \"1\", \"2\", \"3\", \"4\", \"5\", \"6\", \"7\", \"8\", \"9\", \"10\", \"11\", \"12\", \"13\", \"14\", \"15\", \"16\", \"17\", \"18\", \"19\", \"20\", \"21\", \"22\", \"23\", \"24\", \"25\", \"26\", \"27\", \"28\", \"29\", \"30\", \"31\", \"32\", \"33\", \"35\", \"36\"], \"mode\": \"lines\", \"name\": \"precision_score_weighted_max\", \"stepped\": true, \"type\": \"scatter\", \"data\": [0.8443308716969533, 0.8506678986628277, 0.8506678986628277, 0.8506678986628277, 0.8506678986628277, 0.8506678986628277, 0.8506678986628277, 0.8611217267628811, 0.8611217267628811, 0.8611217267628811, 0.8628640335315747, 0.8628640335315747, 0.8628640335315747, 0.8628640335315747, 0.8628640335315747, 0.8628640335315747, 0.8628640335315747, 0.8628640335315747, 0.8628640335315747, 0.8628640335315747, 0.8628640335315747, 0.8628640335315747, 0.8628640335315747, 0.8628640335315747, 0.8628640335315747, 0.8628640335315747, 0.8628640335315747, 0.8628640335315747, 0.8628640335315747, 0.8628640335315747, 0.8628640335315747, 0.8628640335315747, 0.8628640335315747, 0.8628640335315747, 0.8902097224503521, 0.8902097224503521]}], \"recall_score_micro\": [{\"categories\": [\"0\", \"1\", \"2\", \"3\", \"4\", \"5\", \"6\", \"7\", \"8\", \"9\", \"10\", \"11\", \"12\", \"13\", \"14\", \"15\", \"16\", \"17\", \"18\", \"19\", \"20\", \"21\", \"22\", \"23\", \"24\", \"25\", \"26\", \"27\", \"28\", \"29\", \"30\", \"31\", \"32\", \"33\", \"35\", \"36\"], \"mode\": \"markers\", \"name\": \"recall_score_micro\", \"stepped\": false, \"type\": \"scatter\", \"data\": [0.8359770114942527, 0.8358620689655172, 0.8126436781609195, 0.8426436781609196, 0.8222988505747126, 0.725977011494253, 0.7127586206896551, 0.8426436781609195, 0.8327586206896551, 0.8327586206896551, 0.8495402298850575, 0.8262068965517242, 0.822528735632184, 0.8357471264367815, 0.8429885057471266, 0.8294252873563218, 0.7959770114942529, 0.7860919540229884, 0.782183908045977, 0.8493103448275863, 0.8228735632183908, 0.7693103448275862, 0.8060919540229886, 0.8225287356321838, 0.785632183908046, 0.6791954022988507, 0.6791954022988507, 0.8293103448275861, 0.8391954022988506, 0.8495402298850575, 0.7794252873563219, 0.8360919540229885, 0.8426436781609196, 0.8395402298850575, 0.8763218390804598, 0.8628735632183909]}, {\"categories\": [\"0\", \"1\", \"2\", \"3\", \"4\", \"5\", \"6\", \"7\", \"8\", \"9\", \"10\", \"11\", \"12\", \"13\", \"14\", \"15\", \"16\", \"17\", \"18\", \"19\", \"20\", \"21\", \"22\", \"23\", \"24\", \"25\", \"26\", \"27\", \"28\", \"29\", \"30\", \"31\", \"32\", \"33\", \"35\", \"36\"], \"mode\": \"lines\", \"name\": \"recall_score_micro_max\", \"stepped\": true, \"type\": \"scatter\", \"data\": [0.8359770114942527, 0.8359770114942527, 0.8359770114942527, 0.8426436781609196, 0.8426436781609196, 0.8426436781609196, 0.8426436781609196, 0.8426436781609196, 0.8426436781609196, 0.8426436781609196, 0.8495402298850575, 0.8495402298850575, 0.8495402298850575, 0.8495402298850575, 0.8495402298850575, 0.8495402298850575, 0.8495402298850575, 0.8495402298850575, 0.8495402298850575, 0.8495402298850575, 0.8495402298850575, 0.8495402298850575, 0.8495402298850575, 0.8495402298850575, 0.8495402298850575, 0.8495402298850575, 0.8495402298850575, 0.8495402298850575, 0.8495402298850575, 0.8495402298850575, 0.8495402298850575, 0.8495402298850575, 0.8495402298850575, 0.8495402298850575, 0.8763218390804598, 0.8763218390804598]}], \"f1_score_micro\": [{\"categories\": [\"0\", \"1\", \"2\", \"3\", \"4\", \"5\", \"6\", \"7\", \"8\", \"9\", \"10\", \"11\", \"12\", \"13\", \"14\", \"15\", \"16\", \"17\", \"18\", \"19\", \"20\", \"21\", \"22\", \"23\", \"24\", \"25\", \"26\", \"27\", \"28\", \"29\", \"30\", \"31\", \"32\", \"33\", \"35\", \"36\"], \"mode\": \"markers\", \"name\": \"f1_score_micro\", \"stepped\": false, \"type\": \"scatter\", \"data\": [0.8359770114942527, 0.8358620689655172, 0.8126436781609195, 0.8426436781609196, 0.8222988505747126, 0.725977011494253, 0.7127586206896551, 0.8426436781609195, 0.8327586206896551, 0.8327586206896551, 0.8495402298850575, 0.8262068965517242, 0.822528735632184, 0.8357471264367815, 0.8429885057471266, 0.8294252873563218, 0.7959770114942529, 0.7860919540229884, 0.782183908045977, 0.8493103448275863, 0.8228735632183908, 0.7693103448275862, 0.8060919540229886, 0.8225287356321838, 0.785632183908046, 0.6791954022988507, 0.6791954022988507, 0.8293103448275865, 0.8391954022988506, 0.8495402298850575, 0.7794252873563219, 0.8360919540229885, 0.8426436781609196, 0.8395402298850575, 0.8763218390804598, 0.8628735632183909]}, {\"categories\": [\"0\", \"1\", \"2\", \"3\", \"4\", \"5\", \"6\", \"7\", \"8\", \"9\", \"10\", \"11\", \"12\", \"13\", \"14\", \"15\", \"16\", \"17\", \"18\", \"19\", \"20\", \"21\", \"22\", \"23\", \"24\", \"25\", \"26\", \"27\", \"28\", \"29\", \"30\", \"31\", \"32\", \"33\", \"35\", \"36\"], \"mode\": \"lines\", \"name\": \"f1_score_micro_max\", \"stepped\": true, \"type\": \"scatter\", \"data\": [0.8359770114942527, 0.8359770114942527, 0.8359770114942527, 0.8426436781609196, 0.8426436781609196, 0.8426436781609196, 0.8426436781609196, 0.8426436781609196, 0.8426436781609196, 0.8426436781609196, 0.8495402298850575, 0.8495402298850575, 0.8495402298850575, 0.8495402298850575, 0.8495402298850575, 0.8495402298850575, 0.8495402298850575, 0.8495402298850575, 0.8495402298850575, 0.8495402298850575, 0.8495402298850575, 0.8495402298850575, 0.8495402298850575, 0.8495402298850575, 0.8495402298850575, 0.8495402298850575, 0.8495402298850575, 0.8495402298850575, 0.8495402298850575, 0.8495402298850575, 0.8495402298850575, 0.8495402298850575, 0.8495402298850575, 0.8495402298850575, 0.8763218390804598, 0.8763218390804598]}], \"average_precision_score_weighted\": [{\"categories\": [\"0\", \"1\", \"2\", \"3\", \"4\", \"5\", \"6\", \"7\", \"8\", \"9\", \"10\", \"11\", \"12\", \"13\", \"14\", \"15\", \"16\", \"17\", \"18\", \"19\", \"20\", \"21\", \"22\", \"23\", \"24\", \"25\", \"26\", \"27\", \"28\", \"29\", \"30\", \"31\", \"32\", \"33\", \"35\", \"36\"], \"mode\": \"markers\", \"name\": \"average_precision_score_weighted\", \"stepped\": false, \"type\": \"scatter\", \"data\": [0.9061112830231934, 0.907154018724502, 0.9190655948899046, 0.917630630150958, 0.9223810332178409, 0.7902984708289256, 0.7667479162726786, 0.9276171336505248, 0.8943327767175836, 0.8986098560062482, 0.9271967890232006, 0.8980553134348908, 0.9157172188960627, 0.9175640468100908, 0.901711114435901, 0.9036263594103066, 0.897923856091402, 0.8991624353381736, 0.8733005243173396, 0.9250907831513097, 0.8984514113871771, 0.8922870723445586, 0.9163807555756925, 0.8998834721190757, 0.8691596190127988, 0.9205267469100151, 0.8798205086661024, 0.8903124111470015, 0.9238264624891048, 0.9261580064094833, 0.8966741833973424, 0.9113930565833384, 0.909288538283883, 0.9195439168873225, 0.9262545518181735, 0.924421124943826]}, {\"categories\": [\"0\", \"1\", \"2\", \"3\", \"4\", \"5\", \"6\", \"7\", \"8\", \"9\", \"10\", \"11\", \"12\", \"13\", \"14\", \"15\", \"16\", \"17\", \"18\", \"19\", \"20\", \"21\", \"22\", \"23\", \"24\", \"25\", \"26\", \"27\", \"28\", \"29\", \"30\", \"31\", \"32\", \"33\", \"35\", \"36\"], \"mode\": \"lines\", \"name\": \"average_precision_score_weighted_max\", \"stepped\": true, \"type\": \"scatter\", \"data\": [0.9061112830231934, 0.907154018724502, 0.9190655948899046, 0.9190655948899046, 0.9223810332178409, 0.9223810332178409, 0.9223810332178409, 0.9276171336505248, 0.9276171336505248, 0.9276171336505248, 0.9276171336505248, 0.9276171336505248, 0.9276171336505248, 0.9276171336505248, 0.9276171336505248, 0.9276171336505248, 0.9276171336505248, 0.9276171336505248, 0.9276171336505248, 0.9276171336505248, 0.9276171336505248, 0.9276171336505248, 0.9276171336505248, 0.9276171336505248, 0.9276171336505248, 0.9276171336505248, 0.9276171336505248, 0.9276171336505248, 0.9276171336505248, 0.9276171336505248, 0.9276171336505248, 0.9276171336505248, 0.9276171336505248, 0.9276171336505248, 0.9276171336505248, 0.9276171336505248]}], \"recall_score_weighted\": [{\"categories\": [\"0\", \"1\", \"2\", \"3\", \"4\", \"5\", \"6\", \"7\", \"8\", \"9\", \"10\", \"11\", \"12\", \"13\", \"14\", \"15\", \"16\", \"17\", \"18\", \"19\", \"20\", \"21\", \"22\", \"23\", \"24\", \"25\", \"26\", \"27\", \"28\", \"29\", \"30\", \"31\", \"32\", \"33\", \"35\", \"36\"], \"mode\": \"markers\", \"name\": \"recall_score_weighted\", \"stepped\": false, \"type\": \"scatter\", \"data\": [0.8359770114942527, 0.8358620689655172, 0.8126436781609195, 0.8426436781609196, 0.8222988505747126, 0.725977011494253, 0.7127586206896551, 0.8426436781609195, 0.8327586206896551, 0.8327586206896551, 0.8495402298850575, 0.8262068965517242, 0.822528735632184, 0.8357471264367815, 0.8429885057471266, 0.8294252873563218, 0.7959770114942529, 0.7860919540229884, 0.782183908045977, 0.8493103448275863, 0.8228735632183908, 0.7693103448275862, 0.8060919540229886, 0.8225287356321838, 0.785632183908046, 0.6791954022988507, 0.6791954022988507, 0.8293103448275861, 0.8391954022988506, 0.8495402298850575, 0.7794252873563219, 0.8360919540229885, 0.8426436781609196, 0.8395402298850575, 0.8763218390804598, 0.8628735632183909]}, {\"categories\": [\"0\", \"1\", \"2\", \"3\", \"4\", \"5\", \"6\", \"7\", \"8\", \"9\", \"10\", \"11\", \"12\", \"13\", \"14\", \"15\", \"16\", \"17\", \"18\", \"19\", \"20\", \"21\", \"22\", \"23\", \"24\", \"25\", \"26\", \"27\", \"28\", \"29\", \"30\", \"31\", \"32\", \"33\", \"35\", \"36\"], \"mode\": \"lines\", \"name\": \"recall_score_weighted_max\", \"stepped\": true, \"type\": \"scatter\", \"data\": [0.8359770114942527, 0.8359770114942527, 0.8359770114942527, 0.8426436781609196, 0.8426436781609196, 0.8426436781609196, 0.8426436781609196, 0.8426436781609196, 0.8426436781609196, 0.8426436781609196, 0.8495402298850575, 0.8495402298850575, 0.8495402298850575, 0.8495402298850575, 0.8495402298850575, 0.8495402298850575, 0.8495402298850575, 0.8495402298850575, 0.8495402298850575, 0.8495402298850575, 0.8495402298850575, 0.8495402298850575, 0.8495402298850575, 0.8495402298850575, 0.8495402298850575, 0.8495402298850575, 0.8495402298850575, 0.8495402298850575, 0.8495402298850575, 0.8495402298850575, 0.8495402298850575, 0.8495402298850575, 0.8495402298850575, 0.8495402298850575, 0.8763218390804598, 0.8763218390804598]}], \"average_precision_score_macro\": [{\"categories\": [\"0\", \"1\", \"2\", \"3\", \"4\", \"5\", \"6\", \"7\", \"8\", \"9\", \"10\", \"11\", \"12\", \"13\", \"14\", \"15\", \"16\", \"17\", \"18\", \"19\", \"20\", \"21\", \"22\", \"23\", \"24\", \"25\", \"26\", \"27\", \"28\", \"29\", \"30\", \"31\", \"32\", \"33\", \"35\", \"36\"], \"mode\": \"markers\", \"name\": \"average_precision_score_macro\", \"stepped\": false, \"type\": \"scatter\", \"data\": [0.8807888197525153, 0.8807340475847678, 0.8978271160203853, 0.8942872725810709, 0.899272649008631, 0.745469896825244, 0.712569040468264, 0.9019414470737054, 0.8675671944561181, 0.8682376237866019, 0.9046196025645775, 0.8727664850369239, 0.8859597078596405, 0.8911590373200327, 0.8778509828070604, 0.8802578526692038, 0.8683149963789148, 0.8671023639082318, 0.8294067592654855, 0.9024463448773032, 0.8727313081917994, 0.8589262136566387, 0.890710444883795, 0.8663240240863196, 0.8358950801593776, 0.8966667450074624, 0.8457562071296026, 0.8568932672844618, 0.8997374770952462, 0.9050633556302123, 0.8689875827412672, 0.8855080745652499, 0.8849156685351682, 0.8956438781005112, 0.9036586228880562, 0.901361946854378]}, {\"categories\": [\"0\", \"1\", \"2\", \"3\", \"4\", \"5\", \"6\", \"7\", \"8\", \"9\", \"10\", \"11\", \"12\", \"13\", \"14\", \"15\", \"16\", \"17\", \"18\", \"19\", \"20\", \"21\", \"22\", \"23\", \"24\", \"25\", \"26\", \"27\", \"28\", \"29\", \"30\", \"31\", \"32\", \"33\", \"35\", \"36\"], \"mode\": \"lines\", \"name\": \"average_precision_score_macro_max\", \"stepped\": true, \"type\": \"scatter\", \"data\": [0.8807888197525153, 0.8807888197525153, 0.8978271160203853, 0.8978271160203853, 0.899272649008631, 0.899272649008631, 0.899272649008631, 0.9019414470737054, 0.9019414470737054, 0.9019414470737054, 0.9046196025645775, 0.9046196025645775, 0.9046196025645775, 0.9046196025645775, 0.9046196025645775, 0.9046196025645775, 0.9046196025645775, 0.9046196025645775, 0.9046196025645775, 0.9046196025645775, 0.9046196025645775, 0.9046196025645775, 0.9046196025645775, 0.9046196025645775, 0.9046196025645775, 0.9046196025645775, 0.9046196025645775, 0.9046196025645775, 0.9046196025645775, 0.9050633556302123, 0.9050633556302123, 0.9050633556302123, 0.9050633556302123, 0.9050633556302123, 0.9050633556302123, 0.9050633556302123]}], \"weighted_accuracy\": [{\"categories\": [\"0\", \"1\", \"2\", \"3\", \"4\", \"5\", \"6\", \"7\", \"8\", \"9\", \"10\", \"11\", \"12\", \"13\", \"14\", \"15\", \"16\", \"17\", \"18\", \"19\", \"20\", \"21\", \"22\", \"23\", \"24\", \"25\", \"26\", \"27\", \"28\", \"29\", \"30\", \"31\", \"32\", \"33\", \"35\", \"36\"], \"mode\": \"markers\", \"name\": \"weighted_accuracy\", \"stepped\": false, \"type\": \"scatter\", \"data\": [0.8541321922200625, 0.8502962163535492, 0.8293312393361415, 0.864024610650536, 0.8346080017103599, 0.7833111310423092, 0.7797369107759002, 0.8580748741213876, 0.8564093306987761, 0.8630499805730715, 0.8706479532251095, 0.8497399958592625, 0.8645782230858627, 0.8685398324129945, 0.8808052730568537, 0.862330355825141, 0.838757930228913, 0.8486916214081333, 0.8046623905773391, 0.8675149321577894, 0.8694065182452562, 0.8384425101423674, 0.8539257399703393, 0.84280199525179, 0.7839947311803883, 0.7931711479234276, 0.7931711479234276, 0.8687591713764522, 0.8540129523600541, 0.8753523142823422, 0.8460552090345596, 0.8734148514751434, 0.8677264374019844, 0.8742251615937725, 0.8983001730942581, 0.8824656871244685]}, {\"categories\": [\"0\", \"1\", \"2\", \"3\", \"4\", \"5\", \"6\", \"7\", \"8\", \"9\", \"10\", \"11\", \"12\", \"13\", \"14\", \"15\", \"16\", \"17\", \"18\", \"19\", \"20\", \"21\", \"22\", \"23\", \"24\", \"25\", \"26\", \"27\", \"28\", \"29\", \"30\", \"31\", \"32\", \"33\", \"35\", \"36\"], \"mode\": \"lines\", \"name\": \"weighted_accuracy_max\", \"stepped\": true, \"type\": \"scatter\", \"data\": [0.8541321922200625, 0.8541321922200625, 0.8541321922200625, 0.864024610650536, 0.864024610650536, 0.864024610650536, 0.864024610650536, 0.864024610650536, 0.864024610650536, 0.864024610650536, 0.8706479532251095, 0.8706479532251095, 0.8706479532251095, 0.8706479532251095, 0.8808052730568537, 0.8808052730568537, 0.8808052730568537, 0.8808052730568537, 0.8808052730568537, 0.8808052730568537, 0.8808052730568537, 0.8808052730568537, 0.8808052730568537, 0.8808052730568537, 0.8808052730568537, 0.8808052730568537, 0.8808052730568537, 0.8808052730568537, 0.8808052730568537, 0.8808052730568537, 0.8808052730568537, 0.8808052730568537, 0.8808052730568537, 0.8808052730568537, 0.8983001730942581, 0.8983001730942581]}], \"matthews_correlation\": [{\"categories\": [\"0\", \"1\", \"2\", \"3\", \"4\", \"5\", \"6\", \"7\", \"8\", \"9\", \"10\", \"11\", \"12\", \"13\", \"14\", \"15\", \"16\", \"17\", \"18\", \"19\", \"20\", \"21\", \"22\", \"23\", \"24\", \"25\", \"26\", \"27\", \"28\", \"29\", \"30\", \"31\", \"32\", \"33\", \"35\", \"36\"], \"mode\": \"markers\", \"name\": \"matthews_correlation\", \"stepped\": false, \"type\": \"scatter\", \"data\": [0.6231314496952846, 0.6345538749068885, 0.5736779029520416, 0.6300264923496957, 0.603935691040355, 0.3355249883545832, 0.28825547764823617, 0.6488252071442824, 0.6105320702162638, 0.6124205757906204, 0.6582366495222021, 0.5973203846262144, 0.584653999511396, 0.6070023575373427, 0.6473401556591816, 0.5966195004889558, 0.5049876684295979, 0.4930251663474037, 0.49467403376201047, 0.6556283631482993, 0.5781756841463165, 0.42383973459612917, 0.5538117873636536, 0.5875641073576654, 0.5508461156131088, 0.0, 0.0, 0.5970333672330524, 0.6417554526066795, 0.6464643115523024, 0.4756667701736898, 0.6223107479606224, 0.6344891163825666, 0.6325083076728506, 0.725983350626622, 0.689187597483231]}, {\"categories\": [\"0\", \"1\", \"2\", \"3\", \"4\", \"5\", \"6\", \"7\", \"8\", \"9\", \"10\", \"11\", \"12\", \"13\", \"14\", \"15\", \"16\", \"17\", \"18\", \"19\", \"20\", \"21\", \"22\", \"23\", \"24\", \"25\", \"26\", \"27\", \"28\", \"29\", \"30\", \"31\", \"32\", \"33\", \"35\", \"36\"], \"mode\": \"lines\", \"name\": \"matthews_correlation_max\", \"stepped\": true, \"type\": \"scatter\", \"data\": [0.6231314496952846, 0.6345538749068885, 0.6345538749068885, 0.6345538749068885, 0.6345538749068885, 0.6345538749068885, 0.6345538749068885, 0.6488252071442824, 0.6488252071442824, 0.6488252071442824, 0.6582366495222021, 0.6582366495222021, 0.6582366495222021, 0.6582366495222021, 0.6582366495222021, 0.6582366495222021, 0.6582366495222021, 0.6582366495222021, 0.6582366495222021, 0.6582366495222021, 0.6582366495222021, 0.6582366495222021, 0.6582366495222021, 0.6582366495222021, 0.6582366495222021, 0.6582366495222021, 0.6582366495222021, 0.6582366495222021, 0.6582366495222021, 0.6582366495222021, 0.6582366495222021, 0.6582366495222021, 0.6582366495222021, 0.6582366495222021, 0.725983350626622, 0.725983350626622]}], \"log_loss\": [{\"categories\": [\"0\", \"1\", \"2\", \"3\", \"4\", \"5\", \"6\", \"7\", \"8\", \"9\", \"10\", \"11\", \"12\", \"13\", \"14\", \"15\", \"16\", \"17\", \"18\", \"19\", \"20\", \"21\", \"22\", \"23\", \"24\", \"25\", \"26\", \"27\", \"28\", \"29\", \"30\", \"31\", \"32\", \"33\", \"35\", \"36\"], \"mode\": \"markers\", \"name\": \"log_loss\", \"stepped\": false, \"type\": \"scatter\", \"data\": [0.4772179826627182, 0.41764279466886123, 0.3801594559776723, 0.3985864123867711, 0.38240390110483347, 0.5805418308880514, 0.5957080072536465, 0.35805841094743773, 0.4082601292493286, 0.4535510198846657, 0.36665302580299697, 0.469153743708854, 0.4341878324575381, 0.39685344607398343, 0.42951319325210635, 0.401084531008709, 0.42597590771582833, 0.4640878516000558, 0.440906974630766, 0.3588604760844265, 0.49579854194534956, 0.487415086090117, 0.451293186846474, 0.5071020768660258, 0.6113752027494531, 0.6285469270867234, 0.5670333577359903, 0.4736790175103818, 0.36046339325424015, 0.39568572680634884, 0.5057290722728656, 0.4304139584369743, 0.4059707170162333, 0.4101190354793447, 0.37497019476619836, 0.3687833992700561]}, {\"categories\": [\"0\", \"1\", \"2\", \"3\", \"4\", \"5\", \"6\", \"7\", \"8\", \"9\", \"10\", \"11\", \"12\", \"13\", \"14\", \"15\", \"16\", \"17\", \"18\", \"19\", \"20\", \"21\", \"22\", \"23\", \"24\", \"25\", \"26\", \"27\", \"28\", \"29\", \"30\", \"31\", \"32\", \"33\", \"35\", \"36\"], \"mode\": \"lines\", \"name\": \"log_loss_min\", \"stepped\": true, \"type\": \"scatter\", \"data\": [0.4772179826627182, 0.41764279466886123, 0.3801594559776723, 0.3801594559776723, 0.3801594559776723, 0.3801594559776723, 0.3801594559776723, 0.35805841094743773, 0.35805841094743773, 0.35805841094743773, 0.35805841094743773, 0.35805841094743773, 0.35805841094743773, 0.35805841094743773, 0.35805841094743773, 0.35805841094743773, 0.35805841094743773, 0.35805841094743773, 0.35805841094743773, 0.35805841094743773, 0.35805841094743773, 0.35805841094743773, 0.35805841094743773, 0.35805841094743773, 0.35805841094743773, 0.35805841094743773, 0.35805841094743773, 0.35805841094743773, 0.35805841094743773, 0.35805841094743773, 0.35805841094743773, 0.35805841094743773, 0.35805841094743773, 0.35805841094743773, 0.35805841094743773, 0.35805841094743773]}], \"norm_macro_recall\": [{\"categories\": [\"0\", \"1\", \"2\", \"3\", \"4\", \"5\", \"6\", \"7\", \"8\", \"9\", \"10\", \"11\", \"12\", \"13\", \"14\", \"15\", \"16\", \"17\", \"18\", \"19\", \"20\", \"21\", \"22\", \"23\", \"24\", \"25\", \"26\", \"27\", \"28\", \"29\", \"30\", \"31\", \"32\", \"33\", \"35\", \"36\"], \"mode\": \"markers\", \"name\": \"norm_macro_recall\", \"stepped\": false, \"type\": \"scatter\", \"data\": [0.6154165791620023, 0.626049804187676, 0.574081929956644, 0.6163364925819158, 0.6038303788126442, 0.3002451847669239, 0.2321767676767677, 0.6369127190505909, 0.5882549002611932, 0.5759098330477049, 0.6351630798009517, 0.5789026370273509, 0.5112333617310734, 0.5655606894376917, 0.5716321807483135, 0.5518333539712258, 0.4535641260595494, 0.3687081092058208, 0.48954212193857494, 0.6341883323262042, 0.4915528156689484, 0.3169770391063297, 0.4670449873035684, 0.5826820286883215, 0.5740773689824034, 0.0, 0.0, 0.5387000018161345, 0.6314686543433682, 0.6178305934467263, 0.3405884028252449, 0.5594926785012597, 0.6081797370567393, 0.5690879165964979, 0.6826883950653974, 0.6640419304189328]}, {\"categories\": [\"0\", \"1\", \"2\", \"3\", \"4\", \"5\", \"6\", \"7\", \"8\", \"9\", \"10\", \"11\", \"12\", \"13\", \"14\", \"15\", \"16\", \"17\", \"18\", \"19\", \"20\", \"21\", \"22\", \"23\", \"24\", \"25\", \"26\", \"27\", \"28\", \"29\", \"30\", \"31\", \"32\", \"33\", \"35\", \"36\"], \"mode\": \"lines\", \"name\": \"norm_macro_recall_max\", \"stepped\": true, \"type\": \"scatter\", \"data\": [0.6154165791620023, 0.626049804187676, 0.626049804187676, 0.626049804187676, 0.626049804187676, 0.626049804187676, 0.626049804187676, 0.6369127190505909, 0.6369127190505909, 0.6369127190505909, 0.6369127190505909, 0.6369127190505909, 0.6369127190505909, 0.6369127190505909, 0.6369127190505909, 0.6369127190505909, 0.6369127190505909, 0.6369127190505909, 0.6369127190505909, 0.6369127190505909, 0.6369127190505909, 0.6369127190505909, 0.6369127190505909, 0.6369127190505909, 0.6369127190505909, 0.6369127190505909, 0.6369127190505909, 0.6369127190505909, 0.6369127190505909, 0.6369127190505909, 0.6369127190505909, 0.6369127190505909, 0.6369127190505909, 0.6369127190505909, 0.6826883950653974, 0.6826883950653974]}], \"AUC_macro\": [{\"categories\": [\"0\", \"1\", \"2\", \"3\", \"4\", \"5\", \"6\", \"7\", \"8\", \"9\", \"10\", \"11\", \"12\", \"13\", \"14\", \"15\", \"16\", \"17\", \"18\", \"19\", \"20\", \"21\", \"22\", \"23\", \"24\", \"25\", \"26\", \"27\", \"28\", \"29\", \"30\", \"31\", \"32\", \"33\", \"35\", \"36\"], \"mode\": \"markers\", \"name\": \"AUC_macro\", \"stepped\": false, \"type\": \"scatter\", \"data\": [0.8840955354735103, 0.8847369443591411, 0.8997083476147549, 0.8993388058970438, 0.9023139266424736, 0.7472287308356531, 0.7162697213224101, 0.9128982704620576, 0.8744683358043769, 0.8881343753955596, 0.9108714153906947, 0.8825041112332874, 0.8998198530196813, 0.8969557744548018, 0.8777952986330562, 0.8877285344729853, 0.8687376639611765, 0.871246677161723, 0.8493337943288172, 0.9068961284964718, 0.875938619591909, 0.8664962772268836, 0.8988219172767227, 0.8886717452254924, 0.8460401028922769, 0.9054588687765748, 0.8561445473037006, 0.8870221261872292, 0.9067814953226281, 0.9072338588015934, 0.8740763908838851, 0.8925834064740243, 0.8972454408281353, 0.9042755766777507, 0.9115332855910088, 0.9086830210407442]}, {\"categories\": [\"0\", \"1\", \"2\", \"3\", \"4\", \"5\", \"6\", \"7\", \"8\", \"9\", \"10\", \"11\", \"12\", \"13\", \"14\", \"15\", \"16\", \"17\", \"18\", \"19\", \"20\", \"21\", \"22\", \"23\", \"24\", \"25\", \"26\", \"27\", \"28\", \"29\", \"30\", \"31\", \"32\", \"33\", \"35\", \"36\"], \"mode\": \"lines\", \"name\": \"AUC_macro_max\", \"stepped\": true, \"type\": \"scatter\", \"data\": [0.8840955354735103, 0.8847369443591411, 0.8997083476147549, 0.8997083476147549, 0.9023139266424736, 0.9023139266424736, 0.9023139266424736, 0.9128982704620576, 0.9128982704620576, 0.9128982704620576, 0.9128982704620576, 0.9128982704620576, 0.9128982704620576, 0.9128982704620576, 0.9128982704620576, 0.9128982704620576, 0.9128982704620576, 0.9128982704620576, 0.9128982704620576, 0.9128982704620576, 0.9128982704620576, 0.9128982704620576, 0.9128982704620576, 0.9128982704620576, 0.9128982704620576, 0.9128982704620576, 0.9128982704620576, 0.9128982704620576, 0.9128982704620576, 0.9128982704620576, 0.9128982704620576, 0.9128982704620576, 0.9128982704620576, 0.9128982704620576, 0.9128982704620576, 0.9128982704620576]}], \"accuracy\": [{\"categories\": [\"0\", \"1\", \"2\", \"3\", \"4\", \"5\", \"6\", \"7\", \"8\", \"9\", \"10\", \"11\", \"12\", \"13\", \"14\", \"15\", \"16\", \"17\", \"18\", \"19\", \"20\", \"21\", \"22\", \"23\", \"24\", \"25\", \"26\", \"27\", \"28\", \"29\", \"30\", \"31\", \"32\", \"33\", \"35\", \"36\"], \"mode\": \"markers\", \"name\": \"accuracy\", \"stepped\": false, \"type\": \"scatter\", \"data\": [0.8359770114942527, 0.8358620689655172, 0.8126436781609195, 0.8426436781609196, 0.8222988505747126, 0.725977011494253, 0.7127586206896551, 0.8426436781609195, 0.8327586206896551, 0.8327586206896551, 0.8495402298850575, 0.8262068965517242, 0.822528735632184, 0.8357471264367815, 0.8429885057471266, 0.8294252873563218, 0.7959770114942529, 0.7860919540229884, 0.782183908045977, 0.8493103448275863, 0.8228735632183908, 0.7693103448275862, 0.8060919540229886, 0.8225287356321838, 0.785632183908046, 0.6791954022988507, 0.6791954022988507, 0.8293103448275861, 0.8391954022988506, 0.8495402298850575, 0.7794252873563219, 0.8360919540229885, 0.8426436781609196, 0.8395402298850575, 0.8763218390804598, 0.8628735632183909]}, {\"categories\": [\"0\", \"1\", \"2\", \"3\", \"4\", \"5\", \"6\", \"7\", \"8\", \"9\", \"10\", \"11\", \"12\", \"13\", \"14\", \"15\", \"16\", \"17\", \"18\", \"19\", \"20\", \"21\", \"22\", \"23\", \"24\", \"25\", \"26\", \"27\", \"28\", \"29\", \"30\", \"31\", \"32\", \"33\", \"35\", \"36\"], \"mode\": \"lines\", \"name\": \"accuracy_max\", \"stepped\": true, \"type\": \"scatter\", \"data\": [0.8359770114942527, 0.8359770114942527, 0.8359770114942527, 0.8426436781609196, 0.8426436781609196, 0.8426436781609196, 0.8426436781609196, 0.8426436781609196, 0.8426436781609196, 0.8426436781609196, 0.8495402298850575, 0.8495402298850575, 0.8495402298850575, 0.8495402298850575, 0.8495402298850575, 0.8495402298850575, 0.8495402298850575, 0.8495402298850575, 0.8495402298850575, 0.8495402298850575, 0.8495402298850575, 0.8495402298850575, 0.8495402298850575, 0.8495402298850575, 0.8495402298850575, 0.8495402298850575, 0.8495402298850575, 0.8495402298850575, 0.8495402298850575, 0.8495402298850575, 0.8495402298850575, 0.8495402298850575, 0.8495402298850575, 0.8495402298850575, 0.8763218390804598, 0.8763218390804598]}], \"balanced_accuracy\": [{\"categories\": [\"0\", \"1\", \"2\", \"3\", \"4\", \"5\", \"6\", \"7\", \"8\", \"9\", \"10\", \"11\", \"12\", \"13\", \"14\", \"15\", \"16\", \"17\", \"18\", \"19\", \"20\", \"21\", \"22\", \"23\", \"24\", \"25\", \"26\", \"27\", \"28\", \"29\", \"30\", \"31\", \"32\", \"33\", \"35\", \"36\"], \"mode\": \"markers\", \"name\": \"balanced_accuracy\", \"stepped\": false, \"type\": \"scatter\", \"data\": [0.8077082895810014, 0.8130249020938379, 0.7870409649783219, 0.808168246290958, 0.8019151894063221, 0.6415101521920743, 0.610468603161395, 0.8184563595252954, 0.7941274501305966, 0.7879549165238524, 0.8175815399004758, 0.7894513185136754, 0.7556166808655367, 0.7827803447188458, 0.7858160903741567, 0.775916676985613, 0.7267820630297747, 0.6843540546029105, 0.7447710609692876, 0.8170941661631022, 0.7457764078344742, 0.6584885195531649, 0.7335224936517843, 0.7913410143441608, 0.7870386844912016, 0.5, 0.5, 0.7693500009080673, 0.815734327171684, 0.808915296723363, 0.6702942014126225, 0.7797463392506299, 0.8040898685283697, 0.784543958298249, 0.8413441975326986, 0.8320209652094663]}, {\"categories\": [\"0\", \"1\", \"2\", \"3\", \"4\", \"5\", \"6\", \"7\", \"8\", \"9\", \"10\", \"11\", \"12\", \"13\", \"14\", \"15\", \"16\", \"17\", \"18\", \"19\", \"20\", \"21\", \"22\", \"23\", \"24\", \"25\", \"26\", \"27\", \"28\", \"29\", \"30\", \"31\", \"32\", \"33\", \"35\", \"36\"], \"mode\": \"lines\", \"name\": \"balanced_accuracy_max\", \"stepped\": true, \"type\": \"scatter\", \"data\": [0.8077082895810014, 0.8130249020938379, 0.8130249020938379, 0.8130249020938379, 0.8130249020938379, 0.8130249020938379, 0.8130249020938379, 0.8184563595252954, 0.8184563595252954, 0.8184563595252954, 0.8184563595252954, 0.8184563595252954, 0.8184563595252954, 0.8184563595252954, 0.8184563595252954, 0.8184563595252954, 0.8184563595252954, 0.8184563595252954, 0.8184563595252954, 0.8184563595252954, 0.8184563595252954, 0.8184563595252954, 0.8184563595252954, 0.8184563595252954, 0.8184563595252954, 0.8184563595252954, 0.8184563595252954, 0.8184563595252954, 0.8184563595252954, 0.8184563595252954, 0.8184563595252954, 0.8184563595252954, 0.8184563595252954, 0.8184563595252954, 0.8413441975326986, 0.8413441975326986]}], \"average_precision_score_micro\": [{\"categories\": [\"0\", \"1\", \"2\", \"3\", \"4\", \"5\", \"6\", \"7\", \"8\", \"9\", \"10\", \"11\", \"12\", \"13\", \"14\", \"15\", \"16\", \"17\", \"18\", \"19\", \"20\", \"21\", \"22\", \"23\", \"24\", \"25\", \"26\", \"27\", \"28\", \"29\", \"30\", \"31\", \"32\", \"33\", \"35\", \"36\"], \"mode\": \"markers\", \"name\": \"average_precision_score_micro\", \"stepped\": false, \"type\": \"scatter\", \"data\": [0.9020054536251629, 0.9033793522124445, 0.9141385429987923, 0.9150335133178196, 0.9158685867872876, 0.779911570001427, 0.7611864774120043, 0.9267693214838161, 0.8958303391331229, 0.8883775922958298, 0.9215694373798848, 0.8927921507595282, 0.9088523550199694, 0.9141533591259563, 0.8944251937851723, 0.8999261335605832, 0.8890492038165612, 0.8821753864044453, 0.8781634456814766, 0.9230751485262324, 0.8922277188526962, 0.8722778474810158, 0.8943828254003539, 0.8985964460676614, 0.8517241860867489, 0.8660490776334164, 0.8417262261656585, 0.87975173342615, 0.9201780842074478, 0.9200692567689777, 0.865673941065978, 0.9015625650250838, 0.9071019066709797, 0.9096540769187407, 0.9225586366088295, 0.9204821466761318]}, {\"categories\": [\"0\", \"1\", \"2\", \"3\", \"4\", \"5\", \"6\", \"7\", \"8\", \"9\", \"10\", \"11\", \"12\", \"13\", \"14\", \"15\", \"16\", \"17\", \"18\", \"19\", \"20\", \"21\", \"22\", \"23\", \"24\", \"25\", \"26\", \"27\", \"28\", \"29\", \"30\", \"31\", \"32\", \"33\", \"35\", \"36\"], \"mode\": \"lines\", \"name\": \"average_precision_score_micro_max\", \"stepped\": true, \"type\": \"scatter\", \"data\": [0.9020054536251629, 0.9033793522124445, 0.9141385429987923, 0.9150335133178196, 0.9158685867872876, 0.9158685867872876, 0.9158685867872876, 0.9267693214838161, 0.9267693214838161, 0.9267693214838161, 0.9267693214838161, 0.9267693214838161, 0.9267693214838161, 0.9267693214838161, 0.9267693214838161, 0.9267693214838161, 0.9267693214838161, 0.9267693214838161, 0.9267693214838161, 0.9267693214838161, 0.9267693214838161, 0.9267693214838161, 0.9267693214838161, 0.9267693214838161, 0.9267693214838161, 0.9267693214838161, 0.9267693214838161, 0.9267693214838161, 0.9267693214838161, 0.9267693214838161, 0.9267693214838161, 0.9267693214838161, 0.9267693214838161, 0.9267693214838161, 0.9267693214838161, 0.9267693214838161]}], \"recall_score_macro\": [{\"categories\": [\"0\", \"1\", \"2\", \"3\", \"4\", \"5\", \"6\", \"7\", \"8\", \"9\", \"10\", \"11\", \"12\", \"13\", \"14\", \"15\", \"16\", \"17\", \"18\", \"19\", \"20\", \"21\", \"22\", \"23\", \"24\", \"25\", \"26\", \"27\", \"28\", \"29\", \"30\", \"31\", \"32\", \"33\", \"35\", \"36\"], \"mode\": \"markers\", \"name\": \"recall_score_macro\", \"stepped\": false, \"type\": \"scatter\", \"data\": [0.8077082895810014, 0.8130249020938379, 0.7870409649783219, 0.808168246290958, 0.8019151894063221, 0.6415101521920743, 0.610468603161395, 0.8184563595252954, 0.7941274501305966, 0.7879549165238524, 0.8175815399004758, 0.7894513185136754, 0.7556166808655367, 0.7827803447188458, 0.7858160903741567, 0.775916676985613, 0.7267820630297747, 0.6843540546029105, 0.7447710609692876, 0.8170941661631022, 0.7457764078344742, 0.6584885195531649, 0.7335224936517843, 0.7913410143441608, 0.7870386844912016, 0.5, 0.5, 0.7693500009080673, 0.815734327171684, 0.808915296723363, 0.6702942014126225, 0.7797463392506299, 0.8040898685283697, 0.784543958298249, 0.8413441975326986, 0.8320209652094663]}, {\"categories\": [\"0\", \"1\", \"2\", \"3\", \"4\", \"5\", \"6\", \"7\", \"8\", \"9\", \"10\", \"11\", \"12\", \"13\", \"14\", \"15\", \"16\", \"17\", \"18\", \"19\", \"20\", \"21\", \"22\", \"23\", \"24\", \"25\", \"26\", \"27\", \"28\", \"29\", \"30\", \"31\", \"32\", \"33\", \"35\", \"36\"], \"mode\": \"lines\", \"name\": \"recall_score_macro_max\", \"stepped\": true, \"type\": \"scatter\", \"data\": [0.8077082895810014, 0.8130249020938379, 0.8130249020938379, 0.8130249020938379, 0.8130249020938379, 0.8130249020938379, 0.8130249020938379, 0.8184563595252954, 0.8184563595252954, 0.8184563595252954, 0.8184563595252954, 0.8184563595252954, 0.8184563595252954, 0.8184563595252954, 0.8184563595252954, 0.8184563595252954, 0.8184563595252954, 0.8184563595252954, 0.8184563595252954, 0.8184563595252954, 0.8184563595252954, 0.8184563595252954, 0.8184563595252954, 0.8184563595252954, 0.8184563595252954, 0.8184563595252954, 0.8184563595252954, 0.8184563595252954, 0.8184563595252954, 0.8184563595252954, 0.8184563595252954, 0.8184563595252954, 0.8184563595252954, 0.8184563595252954, 0.8413441975326986, 0.8413441975326986]}], \"AUC_micro\": [{\"categories\": [\"0\", \"1\", \"2\", \"3\", \"4\", \"5\", \"6\", \"7\", \"8\", \"9\", \"10\", \"11\", \"12\", \"13\", \"14\", \"15\", \"16\", \"17\", \"18\", \"19\", \"20\", \"21\", \"22\", \"23\", \"24\", \"25\", \"26\", \"27\", \"28\", \"29\", \"30\", \"31\", \"32\", \"33\", \"35\", \"36\"], \"mode\": \"markers\", \"name\": \"AUC_micro\", \"stepped\": false, \"type\": \"scatter\", \"data\": [0.9035422116527941, 0.9042166732725592, 0.9096181794160392, 0.9134447086801426, 0.9119320914255518, 0.786341524639979, 0.7749009776720835, 0.9228404016382614, 0.8938130532434932, 0.8894233055885851, 0.9190938036728763, 0.8911074118113358, 0.9035655965120888, 0.9097644338750165, 0.8923413925221297, 0.8977331219447748, 0.8847468622010833, 0.8738637864975558, 0.8692227506936187, 0.9199826925617651, 0.888105430043599, 0.8662400581318537, 0.8876922975293964, 0.898339542872242, 0.8523161580129475, 0.8487156823886908, 0.8285851499537588, 0.8806377328577092, 0.9151191702999075, 0.9171757167393315, 0.8560684370458448, 0.8988014268727706, 0.9085090500726649, 0.9063160258950985, 0.9193394107543931, 0.9173316158012946]}, {\"categories\": [\"0\", \"1\", \"2\", \"3\", \"4\", \"5\", \"6\", \"7\", \"8\", \"9\", \"10\", \"11\", \"12\", \"13\", \"14\", \"15\", \"16\", \"17\", \"18\", \"19\", \"20\", \"21\", \"22\", \"23\", \"24\", \"25\", \"26\", \"27\", \"28\", \"29\", \"30\", \"31\", \"32\", \"33\", \"35\", \"36\"], \"mode\": \"lines\", \"name\": \"AUC_micro_max\", \"stepped\": true, \"type\": \"scatter\", \"data\": [0.9035422116527941, 0.9042166732725592, 0.9096181794160392, 0.9134447086801426, 0.9134447086801426, 0.9134447086801426, 0.9134447086801426, 0.9228404016382614, 0.9228404016382614, 0.9228404016382614, 0.9228404016382614, 0.9228404016382614, 0.9228404016382614, 0.9228404016382614, 0.9228404016382614, 0.9228404016382614, 0.9228404016382614, 0.9228404016382614, 0.9228404016382614, 0.9228404016382614, 0.9228404016382614, 0.9228404016382614, 0.9228404016382614, 0.9228404016382614, 0.9228404016382614, 0.9228404016382614, 0.9228404016382614, 0.9228404016382614, 0.9228404016382614, 0.9228404016382614, 0.9228404016382614, 0.9228404016382614, 0.9228404016382614, 0.9228404016382614, 0.9228404016382614, 0.9228404016382614]}], \"precision_score_macro\": [{\"categories\": [\"0\", \"1\", \"2\", \"3\", \"4\", \"5\", \"6\", \"7\", \"8\", \"9\", \"10\", \"11\", \"12\", \"13\", \"14\", \"15\", \"16\", \"17\", \"18\", \"19\", \"20\", \"21\", \"22\", \"23\", \"24\", \"25\", \"26\", \"27\", \"28\", \"29\", \"30\", \"31\", \"32\", \"33\", \"35\", \"36\"], \"mode\": \"markers\", \"name\": \"precision_score_macro\", \"stepped\": false, \"type\": \"scatter\", \"data\": [0.8167365852764965, 0.8232986049897815, 0.7879836386915906, 0.823029797213301, 0.8035186925647452, 0.7167085591819475, 0.7038109552865924, 0.8334343042223477, 0.8186434941869724, 0.8278038475635731, 0.8430542694020955, 0.8086735547696644, 0.8368872053872053, 0.8275665288817462, 0.8686651898825813, 0.8241883081322442, 0.7841509348139784, 0.8425080066804206, 0.7518589655958077, 0.8414696917414309, 0.8441436606871389, 0.7964232273362709, 0.8371988587097283, 0.7974537174622988, 0.7651855604835481, 0.33959770114942534, 0.33959770114942534, 0.8328725380899293, 0.8277559585200249, 0.838943882268253, 0.8529416901744487, 0.8535180479745698, 0.832486479703871, 0.8557506100984362, 0.8885654888589671, 0.8595801898442563]}, {\"categories\": [\"0\", \"1\", \"2\", \"3\", \"4\", \"5\", \"6\", \"7\", \"8\", \"9\", \"10\", \"11\", \"12\", \"13\", \"14\", \"15\", \"16\", \"17\", \"18\", \"19\", \"20\", \"21\", \"22\", \"23\", \"24\", \"25\", \"26\", \"27\", \"28\", \"29\", \"30\", \"31\", \"32\", \"33\", \"35\", \"36\"], \"mode\": \"lines\", \"name\": \"precision_score_macro_max\", \"stepped\": true, \"type\": \"scatter\", \"data\": [0.8167365852764965, 0.8232986049897815, 0.8232986049897815, 0.8232986049897815, 0.8232986049897815, 0.8232986049897815, 0.8232986049897815, 0.8334343042223477, 0.8334343042223477, 0.8334343042223477, 0.8430542694020955, 0.8430542694020955, 0.8430542694020955, 0.8430542694020955, 0.8686651898825813, 0.8686651898825813, 0.8686651898825813, 0.8686651898825813, 0.8686651898825813, 0.8686651898825813, 0.8686651898825813, 0.8686651898825813, 0.8686651898825813, 0.8686651898825813, 0.8686651898825813, 0.8686651898825813, 0.8686651898825813, 0.8686651898825813, 0.8686651898825813, 0.8686651898825813, 0.8686651898825813, 0.8686651898825813, 0.8686651898825813, 0.8686651898825813, 0.8885654888589671, 0.8885654888589671]}], \"f1_score_weighted\": [{\"categories\": [\"0\", \"1\", \"2\", \"3\", \"4\", \"5\", \"6\", \"7\", \"8\", \"9\", \"10\", \"11\", \"12\", \"13\", \"14\", \"15\", \"16\", \"17\", \"18\", \"19\", \"20\", \"21\", \"22\", \"23\", \"24\", \"25\", \"26\", \"27\", \"28\", \"29\", \"30\", \"31\", \"32\", \"33\", \"35\", \"36\"], \"mode\": \"markers\", \"name\": \"f1_score_weighted\", \"stepped\": false, \"type\": \"scatter\", \"data\": [0.8333388901455894, 0.8342588560383983, 0.8108575914662332, 0.8389144350987758, 0.8227337524575408, 0.6909543159064384, 0.6765398823029158, 0.8392276990938253, 0.8286307725549988, 0.8247469224158721, 0.8443316803136893, 0.8229647025166239, 0.8090083135111428, 0.8282878284741845, 0.8328720085228252, 0.82231607080928, 0.7825780109504534, 0.7563026505826744, 0.7803393404970617, 0.8464189691731505, 0.8105104186501653, 0.731607739223283, 0.7834064014706724, 0.8199758639137423, 0.7908014958124987, 0.5534120288954022, 0.5534120288954022, 0.8187591214196928, 0.8371452789528459, 0.8452225605887845, 0.7399707125134596, 0.823330510448041, 0.8366710140616063, 0.8288665417919528, 0.8711476223256016, 0.8583177623675059]}, {\"categories\": [\"0\", \"1\", \"2\", \"3\", \"4\", \"5\", \"6\", \"7\", \"8\", \"9\", \"10\", \"11\", \"12\", \"13\", \"14\", \"15\", \"16\", \"17\", \"18\", \"19\", \"20\", \"21\", \"22\", \"23\", \"24\", \"25\", \"26\", \"27\", \"28\", \"29\", \"30\", \"31\", \"32\", \"33\", \"35\", \"36\"], \"mode\": \"lines\", \"name\": \"f1_score_weighted_max\", \"stepped\": true, \"type\": \"scatter\", \"data\": [0.8333388901455894, 0.8342588560383983, 0.8342588560383983, 0.8389144350987758, 0.8389144350987758, 0.8389144350987758, 0.8389144350987758, 0.8392276990938253, 0.8392276990938253, 0.8392276990938253, 0.8443316803136893, 0.8443316803136893, 0.8443316803136893, 0.8443316803136893, 0.8443316803136893, 0.8443316803136893, 0.8443316803136893, 0.8443316803136893, 0.8443316803136893, 0.8464189691731505, 0.8464189691731505, 0.8464189691731505, 0.8464189691731505, 0.8464189691731505, 0.8464189691731505, 0.8464189691731505, 0.8464189691731505, 0.8464189691731505, 0.8464189691731505, 0.8464189691731505, 0.8464189691731505, 0.8464189691731505, 0.8464189691731505, 0.8464189691731505, 0.8711476223256016, 0.8711476223256016]}]}, \"metricName\": null, \"primaryMetricName\": \"accuracy\", \"showLegend\": false}, \"run_metrics\": [{\"name\": \"experiment_status\", \"run_id\": \"AutoML_8ec8a7ab-1d94-4e8c-8fad-ebb1d50ee12b\", \"categories\": [0, 1, 2, 3, 4, 5, 6, 7, 8, 9, 10, 11, 12, 13], \"series\": [{\"data\": [\"DatasetEvaluation\", \"FeaturesGeneration\", \"DatasetFeaturization\", \"DatasetFeaturizationCompleted\", \"DatasetCrossValidationSplit\", \"ModelSelection\", \"BestRunExplainModel\", \"ModelExplanationDataSetSetup\", \"PickSurrogateModel\", \"EngineeredFeatureExplanations\", \"EngineeredFeatureExplanations\", \"RawFeaturesExplanations\", \"RawFeaturesExplanations\", \"BestRunExplainModel\"]}]}, {\"name\": \"experiment_status_description\", \"run_id\": \"AutoML_8ec8a7ab-1d94-4e8c-8fad-ebb1d50ee12b\", \"categories\": [0, 1, 2, 3, 4, 5, 6, 7, 8, 9, 10, 11, 12, 13], \"series\": [{\"data\": [\"Gathering dataset statistics.\", \"Generating features for the dataset.\", \"Beginning to fit featurizers and featurize the dataset.\", \"Completed fit featurizers and featurizing the dataset.\", \"Generating individually featurized CV splits.\", \"Beginning model selection.\", \"Best run model explanations started\", \"Model explanations data setup completed\", \"Choosing LightGBM as the surrogate model for explanations\", \"Computation of engineered features started\", \"Computation of engineered features completed\", \"Computation of raw features started\", \"Computation of raw features completed\", \"Best run model explanations completed\"]}]}, {\"name\": \"accuracy\", \"run_id\": \"AutoML_8ec8a7ab-1d94-4e8c-8fad-ebb1d50ee12b\", \"categories\": [0], \"series\": [{\"data\": [0.8763218390804598]}]}, {\"name\": \"precision_score_macro\", \"run_id\": \"AutoML_8ec8a7ab-1d94-4e8c-8fad-ebb1d50ee12b\", \"categories\": [0], \"series\": [{\"data\": [0.8885654888589671]}]}, {\"name\": \"average_precision_score_micro\", \"run_id\": \"AutoML_8ec8a7ab-1d94-4e8c-8fad-ebb1d50ee12b\", \"categories\": [0], \"series\": [{\"data\": [0.9225586366088295]}]}, {\"name\": \"f1_score_macro\", \"run_id\": \"AutoML_8ec8a7ab-1d94-4e8c-8fad-ebb1d50ee12b\", \"categories\": [0], \"series\": [{\"data\": [0.8500660039812397]}]}, {\"name\": \"norm_macro_recall\", \"run_id\": \"AutoML_8ec8a7ab-1d94-4e8c-8fad-ebb1d50ee12b\", \"categories\": [0], \"series\": [{\"data\": [0.6826883950653974]}]}, {\"name\": \"log_loss\", \"run_id\": \"AutoML_8ec8a7ab-1d94-4e8c-8fad-ebb1d50ee12b\", \"categories\": [0], \"series\": [{\"data\": [0.37497019476619836]}]}, {\"name\": \"average_precision_score_macro\", \"run_id\": \"AutoML_8ec8a7ab-1d94-4e8c-8fad-ebb1d50ee12b\", \"categories\": [0], \"series\": [{\"data\": [0.9036586228880562]}]}, {\"name\": \"f1_score_micro\", \"run_id\": \"AutoML_8ec8a7ab-1d94-4e8c-8fad-ebb1d50ee12b\", \"categories\": [0], \"series\": [{\"data\": [0.8763218390804598]}]}, {\"name\": \"recall_score_macro\", \"run_id\": \"AutoML_8ec8a7ab-1d94-4e8c-8fad-ebb1d50ee12b\", \"categories\": [0], \"series\": [{\"data\": [0.8413441975326986]}]}, {\"name\": \"balanced_accuracy\", \"run_id\": \"AutoML_8ec8a7ab-1d94-4e8c-8fad-ebb1d50ee12b\", \"categories\": [0], \"series\": [{\"data\": [0.8413441975326986]}]}, {\"name\": \"AUC_micro\", \"run_id\": \"AutoML_8ec8a7ab-1d94-4e8c-8fad-ebb1d50ee12b\", \"categories\": [0], \"series\": [{\"data\": [0.9193394107543931]}]}, {\"name\": \"average_precision_score_weighted\", \"run_id\": \"AutoML_8ec8a7ab-1d94-4e8c-8fad-ebb1d50ee12b\", \"categories\": [0], \"series\": [{\"data\": [0.9262545518181735]}]}, {\"name\": \"precision_score_weighted\", \"run_id\": \"AutoML_8ec8a7ab-1d94-4e8c-8fad-ebb1d50ee12b\", \"categories\": [0], \"series\": [{\"data\": [0.8902097224503521]}]}, {\"name\": \"weighted_accuracy\", \"run_id\": \"AutoML_8ec8a7ab-1d94-4e8c-8fad-ebb1d50ee12b\", \"categories\": [0], \"series\": [{\"data\": [0.8983001730942581]}]}, {\"name\": \"AUC_weighted\", \"run_id\": \"AutoML_8ec8a7ab-1d94-4e8c-8fad-ebb1d50ee12b\", \"categories\": [0], \"series\": [{\"data\": [0.9115332855910088]}]}, {\"name\": \"recall_score_micro\", \"run_id\": \"AutoML_8ec8a7ab-1d94-4e8c-8fad-ebb1d50ee12b\", \"categories\": [0], \"series\": [{\"data\": [0.8763218390804598]}]}, {\"name\": \"f1_score_weighted\", \"run_id\": \"AutoML_8ec8a7ab-1d94-4e8c-8fad-ebb1d50ee12b\", \"categories\": [0], \"series\": [{\"data\": [0.8711476223256016]}]}, {\"name\": \"recall_score_weighted\", \"run_id\": \"AutoML_8ec8a7ab-1d94-4e8c-8fad-ebb1d50ee12b\", \"categories\": [0], \"series\": [{\"data\": [0.8763218390804598]}]}, {\"name\": \"precision_score_micro\", \"run_id\": \"AutoML_8ec8a7ab-1d94-4e8c-8fad-ebb1d50ee12b\", \"categories\": [0], \"series\": [{\"data\": [0.8763218390804598]}]}, {\"name\": \"AUC_macro\", \"run_id\": \"AutoML_8ec8a7ab-1d94-4e8c-8fad-ebb1d50ee12b\", \"categories\": [0], \"series\": [{\"data\": [0.9115332855910088]}]}, {\"name\": \"matthews_correlation\", \"run_id\": \"AutoML_8ec8a7ab-1d94-4e8c-8fad-ebb1d50ee12b\", \"categories\": [0], \"series\": [{\"data\": [0.725983350626622]}]}], \"run_logs\": \"\\nRun is completed.\", \"graph\": {}, \"widget_settings\": {\"childWidgetDisplay\": \"popup\", \"send_telemetry\": false, \"log_level\": \"INFO\", \"sdk_version\": \"1.19.0\"}, \"loading\": false}"
     },
     "metadata": {},
     "output_type": "display_data"
    },
    {
     "name": "stdout",
     "output_type": "stream",
     "text": [
      "\n",
      "\n",
      "****************************************************************************************************\n",
      "DATA GUARDRAILS: \n",
      "\n",
      "TYPE:         Cross validation\n",
      "STATUS:       DONE\n",
      "DESCRIPTION:  Each iteration of the trained model was validated through cross-validation.\n",
      "              \n",
      "DETAILS:      \n",
      "+---------------------------------+\n",
      "|Number of folds                  |\n",
      "+=================================+\n",
      "|10                               |\n",
      "+---------------------------------+\n",
      "\n",
      "****************************************************************************************************\n",
      "\n",
      "TYPE:         Class balancing detection\n",
      "STATUS:       PASSED\n",
      "DESCRIPTION:  Your inputs were analyzed, and all classes are balanced in your training data.\n",
      "              Learn more about imbalanced data: https://aka.ms/AutomatedMLImbalancedData\n",
      "\n",
      "****************************************************************************************************\n",
      "\n",
      "TYPE:         Missing feature values imputation\n",
      "STATUS:       PASSED\n",
      "DESCRIPTION:  No feature missing values were detected in the training data.\n",
      "              Learn more about missing value imputation: https://aka.ms/AutomatedMLFeaturization\n",
      "\n",
      "****************************************************************************************************\n",
      "\n",
      "TYPE:         High cardinality feature detection\n",
      "STATUS:       PASSED\n",
      "DESCRIPTION:  Your inputs were analyzed, and no high cardinality features were detected.\n",
      "              Learn more about high cardinality feature handling: https://aka.ms/AutomatedMLFeaturization\n",
      "\n",
      "****************************************************************************************************\n",
      "\n",
      "****************************************************************************************************\n",
      "ITERATION: The iteration being evaluated.\n",
      "PIPELINE: A summary description of the pipeline being evaluated.\n",
      "DURATION: Time taken for the current iteration.\n",
      "METRIC: The result of computing score on the fitted pipeline.\n",
      "BEST: The best observed score thus far.\n",
      "****************************************************************************************************\n",
      "\n",
      " ITERATION   PIPELINE                                       DURATION      METRIC      BEST\n",
      "         0   MaxAbsScaler LightGBM                          0:00:45       0.8360    0.8360\n",
      "         1   MaxAbsScaler XGBoostClassifier                 0:03:32       0.8359    0.8360\n",
      "         2   MinMaxScaler RandomForest                      0:00:50       0.8126    0.8360\n",
      "         3   MinMaxScaler RandomForest                      0:00:47       0.8426    0.8426\n",
      "         4   MinMaxScaler RandomForest                      0:03:19       0.8223    0.8426\n",
      "         5   MinMaxScaler SVM                               0:03:20       0.7260    0.8426\n",
      "         6   MinMaxScaler SVM                               0:00:46       0.7128    0.8426\n",
      "         7   MaxAbsScaler GradientBoosting                  0:00:41       0.8426    0.8426\n",
      "        10   RobustScaler GradientBoosting                  0:00:45       0.8495    0.8495\n",
      "        11   SparseNormalizer XGBoostClassifier             0:00:40       0.8262    0.8495\n",
      "         8   SparseNormalizer XGBoostClassifier             0:00:55       0.8328    0.8495\n",
      "         9   MaxAbsScaler LightGBM                          0:00:46       0.8328    0.8495\n",
      "        12   MaxAbsScaler LightGBM                          0:00:46       0.8225    0.8495\n",
      "        13   MinMaxScaler LightGBM                          0:00:46       0.8357    0.8495\n",
      "        14   StandardScalerWrapper ExtremeRandomTrees       0:00:39       0.8430    0.8495\n",
      "        15   SparseNormalizer XGBoostClassifier             0:01:03       0.8294    0.8495\n",
      "        16   MinMaxScaler LightGBM                          0:00:46       0.7960    0.8495\n",
      "        17   StandardScalerWrapper LightGBM                 0:00:37       0.7861    0.8495\n",
      "        18   TruncatedSVDWrapper XGBoostClassifier          0:00:42       0.7822    0.8495\n",
      "        19   RobustScaler LightGBM                          0:00:46       0.8493    0.8495\n",
      "        20   SparseNormalizer XGBoostClassifier             0:00:45       0.8229    0.8495\n",
      "        21   RobustScaler LightGBM                          0:00:40       0.7693    0.8495\n",
      "        22   StandardScalerWrapper LightGBM                 0:00:38       0.8061    0.8495\n",
      "        23   MinMaxScaler RandomForest                      0:00:57       0.8225    0.8495\n",
      "        24   SparseNormalizer ExtremeRandomTrees            0:00:48       0.7856    0.8495\n",
      "        25   StandardScalerWrapper GradientBoosting         0:00:34       0.6792    0.8495\n",
      "        26   StandardScalerWrapper ExtremeRandomTrees       0:00:59       0.6792    0.8495\n",
      "        27   StandardScalerWrapper LightGBM                 0:01:00       0.8293    0.8495\n",
      "        28   MaxAbsScaler LightGBM                          0:00:42       0.8392    0.8495\n",
      "        29   RobustScaler RandomForest                      0:00:45       0.8495    0.8495\n",
      "        30   SparseNormalizer GradientBoosting              0:00:55       0.7794    0.8495\n",
      "        31   StandardScalerWrapper LightGBM                 0:00:46       0.8361    0.8495\n",
      "        32   StandardScalerWrapper XGBoostClassifier        0:00:45       0.8426    0.8495\n",
      "        33   StandardScalerWrapper LightGBM                 0:00:39       0.8395    0.8495\n",
      "        34                                                  0:00:05          nan    0.8495\n",
      "        35    VotingEnsemble                                0:01:59       0.8763    0.8763\n",
      "        36    StackEnsemble                                 0:02:16       0.8629    0.8763\n"
     ]
    },
    {
     "data": {
      "text/plain": [
       "{'runId': 'AutoML_8ec8a7ab-1d94-4e8c-8fad-ebb1d50ee12b',\n",
       " 'target': 'simba-cluster',\n",
       " 'status': 'Completed',\n",
       " 'startTimeUtc': '2021-01-11T20:55:46.781983Z',\n",
       " 'endTimeUtc': '2021-01-11T21:19:17.669527Z',\n",
       " 'properties': {'num_iterations': '1000',\n",
       "  'training_type': 'TrainFull',\n",
       "  'acquisition_function': 'EI',\n",
       "  'primary_metric': 'accuracy',\n",
       "  'train_split': '0',\n",
       "  'acquisition_parameter': '0',\n",
       "  'num_cross_validation': None,\n",
       "  'target': 'simba-cluster',\n",
       "  'AMLSettingsJsonString': '{\"path\":null,\"name\":\"heart-failure-prediction-automl\",\"subscription_id\":\"3d1a56d2-7c81-4118-9790-f85d1acf0c77\",\"resource_group\":\"aml-quickstarts-134387\",\"workspace_name\":\"quick-starts-ws-134387\",\"region\":\"southcentralus\",\"compute_target\":\"simba-cluster\",\"spark_service\":null,\"azure_service\":\"remote\",\"many_models\":false,\"pipeline_fetch_max_batch_size\":1,\"iterations\":1000,\"primary_metric\":\"accuracy\",\"task_type\":\"classification\",\"data_script\":null,\"validation_size\":0.0,\"n_cross_validations\":null,\"y_min\":null,\"y_max\":null,\"num_classes\":null,\"featurization\":\"auto\",\"_ignore_package_version_incompatibilities\":false,\"is_timeseries\":false,\"max_cores_per_iteration\":1,\"max_concurrent_iterations\":4,\"iteration_timeout_minutes\":null,\"mem_in_mb\":null,\"enforce_time_on_windows\":false,\"experiment_timeout_minutes\":20,\"experiment_exit_score\":null,\"whitelist_models\":null,\"blacklist_algos\":[\"TensorFlowLinearClassifier\",\"TensorFlowDNN\"],\"supported_models\":[\"TensorFlowDNN\",\"AveragedPerceptronClassifier\",\"TensorFlowLinearClassifier\",\"GradientBoosting\",\"BernoulliNaiveBayes\",\"RandomForest\",\"KNN\",\"SVM\",\"LinearSVM\",\"ExtremeRandomTrees\",\"XGBoostClassifier\",\"DecisionTree\",\"MultinomialNaiveBayes\",\"LogisticRegression\",\"LightGBM\",\"SGD\"],\"auto_blacklist\":true,\"blacklist_samples_reached\":false,\"exclude_nan_labels\":true,\"verbosity\":20,\"_debug_log\":\"azureml_automl.log\",\"show_warnings\":false,\"model_explainability\":true,\"service_url\":null,\"sdk_url\":null,\"sdk_packages\":null,\"enable_onnx_compatible_models\":false,\"enable_split_onnx_featurizer_estimator_models\":false,\"vm_type\":\"STANDARD_D2_V2\",\"telemetry_verbosity\":20,\"send_telemetry\":true,\"enable_dnn\":false,\"scenario\":\"SDK-1.13.0\",\"environment_label\":null,\"force_text_dnn\":false,\"enable_feature_sweeping\":true,\"enable_early_stopping\":true,\"early_stopping_n_iters\":10,\"metrics\":null,\"enable_ensembling\":true,\"enable_stack_ensembling\":true,\"ensemble_iterations\":15,\"enable_tf\":false,\"enable_subsampling\":null,\"subsample_seed\":null,\"enable_nimbusml\":false,\"enable_streaming\":false,\"force_streaming\":false,\"track_child_runs\":true,\"allowed_private_models\":[],\"label_column_name\":\"DEATH_EVENT\",\"weight_column_name\":null,\"cv_split_column_names\":null,\"enable_local_managed\":false,\"_local_managed_run_id\":null,\"cost_mode\":1,\"lag_length\":0,\"metric_operation\":\"maximize\",\"preprocess\":true}',\n",
       "  'DataPrepJsonString': '{\\\\\"training_data\\\\\": \\\\\"{\\\\\\\\\\\\\"blocks\\\\\\\\\\\\\": [{\\\\\\\\\\\\\"id\\\\\\\\\\\\\": \\\\\\\\\\\\\"eca40a7d-c713-4db6-a187-d9d64b1125f3\\\\\\\\\\\\\", \\\\\\\\\\\\\"type\\\\\\\\\\\\\": \\\\\\\\\\\\\"Microsoft.DPrep.GetFilesBlock\\\\\\\\\\\\\", \\\\\\\\\\\\\"arguments\\\\\\\\\\\\\": {\\\\\\\\\\\\\"isArchive\\\\\\\\\\\\\": false, \\\\\\\\\\\\\"path\\\\\\\\\\\\\": {\\\\\\\\\\\\\"target\\\\\\\\\\\\\": 4, \\\\\\\\\\\\\"resourceDetails\\\\\\\\\\\\\": [{\\\\\\\\\\\\\"path\\\\\\\\\\\\\": \\\\\\\\\\\\\"https://raw.githubusercontent.com/jhonatantirado/nd00333-capstone/master/starter_file/heart_failure_clinical_records_dataset.csv\\\\\\\\\\\\\"}]}}, \\\\\\\\\\\\\"localData\\\\\\\\\\\\\": {}, \\\\\\\\\\\\\"isEnabled\\\\\\\\\\\\\": true, \\\\\\\\\\\\\"name\\\\\\\\\\\\\": null, \\\\\\\\\\\\\"annotation\\\\\\\\\\\\\": null}, {\\\\\\\\\\\\\"id\\\\\\\\\\\\\": \\\\\\\\\\\\\"71f1db04-222f-4e97-ac64-66698fd9b593\\\\\\\\\\\\\", \\\\\\\\\\\\\"type\\\\\\\\\\\\\": \\\\\\\\\\\\\"Microsoft.DPrep.ParseDelimitedBlock\\\\\\\\\\\\\", \\\\\\\\\\\\\"arguments\\\\\\\\\\\\\": {\\\\\\\\\\\\\"columnHeadersMode\\\\\\\\\\\\\": 3, \\\\\\\\\\\\\"fileEncoding\\\\\\\\\\\\\": 0, \\\\\\\\\\\\\"handleQuotedLineBreaks\\\\\\\\\\\\\": false, \\\\\\\\\\\\\"preview\\\\\\\\\\\\\": false, \\\\\\\\\\\\\"separator\\\\\\\\\\\\\": \\\\\\\\\\\\\",\\\\\\\\\\\\\", \\\\\\\\\\\\\"skipRows\\\\\\\\\\\\\": 0, \\\\\\\\\\\\\"skipRowsMode\\\\\\\\\\\\\": 0}, \\\\\\\\\\\\\"localData\\\\\\\\\\\\\": {}, \\\\\\\\\\\\\"isEnabled\\\\\\\\\\\\\": true, \\\\\\\\\\\\\"name\\\\\\\\\\\\\": null, \\\\\\\\\\\\\"annotation\\\\\\\\\\\\\": null}, {\\\\\\\\\\\\\"id\\\\\\\\\\\\\": \\\\\\\\\\\\\"0614eeb0-36c1-4543-b0fd-b2f8e7fb68d9\\\\\\\\\\\\\", \\\\\\\\\\\\\"type\\\\\\\\\\\\\": \\\\\\\\\\\\\"Microsoft.DPrep.DropColumnsBlock\\\\\\\\\\\\\", \\\\\\\\\\\\\"arguments\\\\\\\\\\\\\": {\\\\\\\\\\\\\"columns\\\\\\\\\\\\\": {\\\\\\\\\\\\\"type\\\\\\\\\\\\\": 0, \\\\\\\\\\\\\"details\\\\\\\\\\\\\": {\\\\\\\\\\\\\"selectedColumns\\\\\\\\\\\\\": [\\\\\\\\\\\\\"Path\\\\\\\\\\\\\"]}}}, \\\\\\\\\\\\\"localData\\\\\\\\\\\\\": {}, \\\\\\\\\\\\\"isEnabled\\\\\\\\\\\\\": true, \\\\\\\\\\\\\"name\\\\\\\\\\\\\": null, \\\\\\\\\\\\\"annotation\\\\\\\\\\\\\": null}, {\\\\\\\\\\\\\"id\\\\\\\\\\\\\": \\\\\\\\\\\\\"c272c5a2-63a6-4040-b3ce-fcef471e78fe\\\\\\\\\\\\\", \\\\\\\\\\\\\"type\\\\\\\\\\\\\": \\\\\\\\\\\\\"Microsoft.DPrep.SetColumnTypesBlock\\\\\\\\\\\\\", \\\\\\\\\\\\\"arguments\\\\\\\\\\\\\": {\\\\\\\\\\\\\"columnConversion\\\\\\\\\\\\\": [{\\\\\\\\\\\\\"column\\\\\\\\\\\\\": {\\\\\\\\\\\\\"type\\\\\\\\\\\\\": 2, \\\\\\\\\\\\\"details\\\\\\\\\\\\\": {\\\\\\\\\\\\\"selectedColumn\\\\\\\\\\\\\": \\\\\\\\\\\\\"age\\\\\\\\\\\\\"}}, \\\\\\\\\\\\\"typeProperty\\\\\\\\\\\\\": 3}, {\\\\\\\\\\\\\"column\\\\\\\\\\\\\": {\\\\\\\\\\\\\"type\\\\\\\\\\\\\": 2, \\\\\\\\\\\\\"details\\\\\\\\\\\\\": {\\\\\\\\\\\\\"selectedColumn\\\\\\\\\\\\\": \\\\\\\\\\\\\"anaemia\\\\\\\\\\\\\"}}, \\\\\\\\\\\\\"typeProperty\\\\\\\\\\\\\": 2}, {\\\\\\\\\\\\\"column\\\\\\\\\\\\\": {\\\\\\\\\\\\\"type\\\\\\\\\\\\\": 2, \\\\\\\\\\\\\"details\\\\\\\\\\\\\": {\\\\\\\\\\\\\"selectedColumn\\\\\\\\\\\\\": \\\\\\\\\\\\\"creatinine_phosphokinase\\\\\\\\\\\\\"}}, \\\\\\\\\\\\\"typeProperty\\\\\\\\\\\\\": 2}, {\\\\\\\\\\\\\"column\\\\\\\\\\\\\": {\\\\\\\\\\\\\"type\\\\\\\\\\\\\": 2, \\\\\\\\\\\\\"details\\\\\\\\\\\\\": {\\\\\\\\\\\\\"selectedColumn\\\\\\\\\\\\\": \\\\\\\\\\\\\"diabetes\\\\\\\\\\\\\"}}, \\\\\\\\\\\\\"typeProperty\\\\\\\\\\\\\": 2}, {\\\\\\\\\\\\\"column\\\\\\\\\\\\\": {\\\\\\\\\\\\\"type\\\\\\\\\\\\\": 2, \\\\\\\\\\\\\"details\\\\\\\\\\\\\": {\\\\\\\\\\\\\"selectedColumn\\\\\\\\\\\\\": \\\\\\\\\\\\\"ejection_fraction\\\\\\\\\\\\\"}}, \\\\\\\\\\\\\"typeProperty\\\\\\\\\\\\\": 2}, {\\\\\\\\\\\\\"column\\\\\\\\\\\\\": {\\\\\\\\\\\\\"type\\\\\\\\\\\\\": 2, \\\\\\\\\\\\\"details\\\\\\\\\\\\\": {\\\\\\\\\\\\\"selectedColumn\\\\\\\\\\\\\": \\\\\\\\\\\\\"high_blood_pressure\\\\\\\\\\\\\"}}, \\\\\\\\\\\\\"typeProperty\\\\\\\\\\\\\": 2}, {\\\\\\\\\\\\\"column\\\\\\\\\\\\\": {\\\\\\\\\\\\\"type\\\\\\\\\\\\\": 2, \\\\\\\\\\\\\"details\\\\\\\\\\\\\": {\\\\\\\\\\\\\"selectedColumn\\\\\\\\\\\\\": \\\\\\\\\\\\\"platelets\\\\\\\\\\\\\"}}, \\\\\\\\\\\\\"typeProperty\\\\\\\\\\\\\": 3}, {\\\\\\\\\\\\\"column\\\\\\\\\\\\\": {\\\\\\\\\\\\\"type\\\\\\\\\\\\\": 2, \\\\\\\\\\\\\"details\\\\\\\\\\\\\": {\\\\\\\\\\\\\"selectedColumn\\\\\\\\\\\\\": \\\\\\\\\\\\\"serum_creatinine\\\\\\\\\\\\\"}}, \\\\\\\\\\\\\"typeProperty\\\\\\\\\\\\\": 3}, {\\\\\\\\\\\\\"column\\\\\\\\\\\\\": {\\\\\\\\\\\\\"type\\\\\\\\\\\\\": 2, \\\\\\\\\\\\\"details\\\\\\\\\\\\\": {\\\\\\\\\\\\\"selectedColumn\\\\\\\\\\\\\": \\\\\\\\\\\\\"serum_sodium\\\\\\\\\\\\\"}}, \\\\\\\\\\\\\"typeProperty\\\\\\\\\\\\\": 2}, {\\\\\\\\\\\\\"column\\\\\\\\\\\\\": {\\\\\\\\\\\\\"type\\\\\\\\\\\\\": 2, \\\\\\\\\\\\\"details\\\\\\\\\\\\\": {\\\\\\\\\\\\\"selectedColumn\\\\\\\\\\\\\": \\\\\\\\\\\\\"sex\\\\\\\\\\\\\"}}, \\\\\\\\\\\\\"typeProperty\\\\\\\\\\\\\": 2}, {\\\\\\\\\\\\\"column\\\\\\\\\\\\\": {\\\\\\\\\\\\\"type\\\\\\\\\\\\\": 2, \\\\\\\\\\\\\"details\\\\\\\\\\\\\": {\\\\\\\\\\\\\"selectedColumn\\\\\\\\\\\\\": \\\\\\\\\\\\\"smoking\\\\\\\\\\\\\"}}, \\\\\\\\\\\\\"typeProperty\\\\\\\\\\\\\": 2}, {\\\\\\\\\\\\\"column\\\\\\\\\\\\\": {\\\\\\\\\\\\\"type\\\\\\\\\\\\\": 2, \\\\\\\\\\\\\"details\\\\\\\\\\\\\": {\\\\\\\\\\\\\"selectedColumn\\\\\\\\\\\\\": \\\\\\\\\\\\\"time\\\\\\\\\\\\\"}}, \\\\\\\\\\\\\"typeProperty\\\\\\\\\\\\\": 2}, {\\\\\\\\\\\\\"column\\\\\\\\\\\\\": {\\\\\\\\\\\\\"type\\\\\\\\\\\\\": 2, \\\\\\\\\\\\\"details\\\\\\\\\\\\\": {\\\\\\\\\\\\\"selectedColumn\\\\\\\\\\\\\": \\\\\\\\\\\\\"DEATH_EVENT\\\\\\\\\\\\\"}}, \\\\\\\\\\\\\"typeProperty\\\\\\\\\\\\\": 2}]}, \\\\\\\\\\\\\"localData\\\\\\\\\\\\\": {}, \\\\\\\\\\\\\"isEnabled\\\\\\\\\\\\\": true, \\\\\\\\\\\\\"name\\\\\\\\\\\\\": null, \\\\\\\\\\\\\"annotation\\\\\\\\\\\\\": null}], \\\\\\\\\\\\\"inspectors\\\\\\\\\\\\\": [], \\\\\\\\\\\\\"meta\\\\\\\\\\\\\": {\\\\\\\\\\\\\"savedDatasetId\\\\\\\\\\\\\": \\\\\\\\\\\\\"3e399b53-0bfc-4072-a967-5ac746f0d1be\\\\\\\\\\\\\", \\\\\\\\\\\\\"datasetType\\\\\\\\\\\\\": \\\\\\\\\\\\\"tabular\\\\\\\\\\\\\", \\\\\\\\\\\\\"subscriptionId\\\\\\\\\\\\\": \\\\\\\\\\\\\"3d1a56d2-7c81-4118-9790-f85d1acf0c77\\\\\\\\\\\\\", \\\\\\\\\\\\\"workspaceId\\\\\\\\\\\\\": \\\\\\\\\\\\\"028ff419-c53d-40a4-a55e-cfbee4714dee\\\\\\\\\\\\\", \\\\\\\\\\\\\"workspaceLocation\\\\\\\\\\\\\": \\\\\\\\\\\\\"southcentralus\\\\\\\\\\\\\"}}\\\\\", \\\\\"activities\\\\\": 0}',\n",
       "  'EnableSubsampling': None,\n",
       "  'runTemplate': 'AutoML',\n",
       "  'azureml.runsource': 'automl',\n",
       "  'display_task_type': 'classification',\n",
       "  'dependencies_versions': '{\"azureml-widgets\": \"1.19.0\", \"azureml-train\": \"1.19.0\", \"azureml-train-restclients-hyperdrive\": \"1.19.0\", \"azureml-train-core\": \"1.19.0\", \"azureml-train-automl\": \"1.19.0\", \"azureml-train-automl-runtime\": \"1.19.0\", \"azureml-train-automl-client\": \"1.19.0\", \"azureml-tensorboard\": \"1.19.0\", \"azureml-telemetry\": \"1.19.0\", \"azureml-sdk\": \"1.19.0\", \"azureml-samples\": \"0+unknown\", \"azureml-pipeline\": \"1.19.0\", \"azureml-pipeline-steps\": \"1.19.0\", \"azureml-pipeline-core\": \"1.19.0\", \"azureml-opendatasets\": \"1.19.0\", \"azureml-model-management-sdk\": \"1.0.1b6.post1\", \"azureml-mlflow\": \"1.19.0\", \"azureml-interpret\": \"1.19.0\", \"azureml-explain-model\": \"1.19.0\", \"azureml-defaults\": \"1.19.0\", \"azureml-dataset-runtime\": \"1.19.0\", \"azureml-dataprep\": \"2.6.1\", \"azureml-dataprep-rslex\": \"1.4.0\", \"azureml-dataprep-native\": \"26.0.0\", \"azureml-datadrift\": \"1.19.0\", \"azureml-core\": \"1.19.0\", \"azureml-contrib-services\": \"1.19.0\", \"azureml-contrib-server\": \"1.19.0\", \"azureml-contrib-reinforcementlearning\": \"1.19.0\", \"azureml-contrib-pipeline-steps\": \"1.19.0\", \"azureml-contrib-notebook\": \"1.19.0\", \"azureml-contrib-interpret\": \"1.19.0\", \"azureml-contrib-gbdt\": \"1.19.0\", \"azureml-contrib-fairness\": \"1.19.0\", \"azureml-contrib-dataset\": \"1.19.0\", \"azureml-cli-common\": \"1.19.0\", \"azureml-automl-runtime\": \"1.19.0\", \"azureml-automl-core\": \"1.19.0\", \"azureml-accel-models\": \"1.19.0\"}',\n",
       "  '_aml_system_scenario_identification': 'Remote.Parent',\n",
       "  'ClientType': 'SDK',\n",
       "  'environment_cpu_name': 'AzureML-AutoML',\n",
       "  'environment_cpu_label': 'prod',\n",
       "  'environment_gpu_name': 'AzureML-AutoML-GPU',\n",
       "  'environment_gpu_label': 'prod',\n",
       "  'root_attribution': 'automl',\n",
       "  'attribution': 'AutoML',\n",
       "  'Orchestrator': 'AutoML',\n",
       "  'CancelUri': 'https://southcentralus.experiments.azureml.net/jasmine/v1.0/subscriptions/3d1a56d2-7c81-4118-9790-f85d1acf0c77/resourceGroups/aml-quickstarts-134387/providers/Microsoft.MachineLearningServices/workspaces/quick-starts-ws-134387/experimentids/07161190-8a7d-4764-a8b2-3ed70e651aad/cancel/AutoML_8ec8a7ab-1d94-4e8c-8fad-ebb1d50ee12b',\n",
       "  'ClientSdkVersion': '1.19.0',\n",
       "  'snapshotId': '00000000-0000-0000-0000-000000000000',\n",
       "  'SetupRunId': 'AutoML_8ec8a7ab-1d94-4e8c-8fad-ebb1d50ee12b_setup',\n",
       "  'SetupRunContainerId': 'dcid.AutoML_8ec8a7ab-1d94-4e8c-8fad-ebb1d50ee12b_setup',\n",
       "  'FeaturizationRunJsonPath': 'featurizer_container.json',\n",
       "  'FeaturizationRunId': 'AutoML_8ec8a7ab-1d94-4e8c-8fad-ebb1d50ee12b_featurize',\n",
       "  'ProblemInfoJsonString': '{\"dataset_num_categorical\": 0, \"is_sparse\": false, \"subsampling\": false, \"dataset_classes\": 2, \"dataset_features\": 12, \"dataset_samples\": 299, \"single_frequency_class_detected\": false}',\n",
       "  'ModelExplainRunId': 'AutoML_8ec8a7ab-1d94-4e8c-8fad-ebb1d50ee12b_ModelExplain',\n",
       "  'azureml.git.repository_uri': 'https://github.com/jhonatantirado/nd00333-capstone.git',\n",
       "  'mlflow.source.git.repoURL': 'https://github.com/jhonatantirado/nd00333-capstone.git',\n",
       "  'azureml.git.branch': 'master',\n",
       "  'mlflow.source.git.branch': 'master',\n",
       "  'azureml.git.commit': 'c786c5dc327895d73e93bb7e648b08dfeb84a54f',\n",
       "  'mlflow.source.git.commit': 'c786c5dc327895d73e93bb7e648b08dfeb84a54f',\n",
       "  'azureml.git.dirty': 'True'},\n",
       " 'inputDatasets': [{'dataset': {'id': '3e399b53-0bfc-4072-a967-5ac746f0d1be'}, 'consumptionDetails': {'type': 'RunInput', 'inputName': 'training_data', 'mechanism': 'Direct'}}],\n",
       " 'outputDatasets': [],\n",
       " 'logFiles': {}}"
      ]
     },
     "execution_count": 6,
     "metadata": {},
     "output_type": "execute_result"
    }
   ],
   "source": [
    "RunDetails(remote_run).show()\n",
    "remote_run.wait_for_completion(show_output=True)"
   ]
  },
  {
   "cell_type": "markdown",
   "metadata": {},
   "source": [
    "## Best Model\n",
    "\n",
    "TODO: In the cell below, get the best model from the automl experiments and display all the properties of the model.\n",
    "\n"
   ]
  },
  {
   "cell_type": "code",
   "execution_count": 7,
   "metadata": {
    "gather": {
     "logged": 1598431425670
    },
    "jupyter": {
     "outputs_hidden": false,
     "source_hidden": false
    },
    "nteract": {
     "transient": {
      "deleting": false
     }
    },
    "scrolled": true
   },
   "outputs": [
    {
     "name": "stdout",
     "output_type": "stream",
     "text": [
      "Best Run Id:  AutoML_8ec8a7ab-1d94-4e8c-8fad-ebb1d50ee12b_35\n",
      "Run(Experiment: heart-failure-prediction-automl,\n",
      "Id: AutoML_8ec8a7ab-1d94-4e8c-8fad-ebb1d50ee12b_35,\n",
      "Type: azureml.scriptrun,\n",
      "Status: Completed)\n",
      "Pipeline(memory=None,\n",
      "         steps=[('datatransformer',\n",
      "                 DataTransformer(enable_dnn=None, enable_feature_sweeping=None,\n",
      "                                 feature_sweeping_config=None,\n",
      "                                 feature_sweeping_timeout=None,\n",
      "                                 featurization_config=None, force_text_dnn=None,\n",
      "                                 is_cross_validation=None,\n",
      "                                 is_onnx_compatible=None, logger=None,\n",
      "                                 observer=None, task=None, working_dir=None)),\n",
      "                ('prefittedsoftvotingclassifier',...\n",
      "                                                                                                    min_samples_split=0.10368421052631578,\n",
      "                                                                                                    min_weight_fraction_leaf=0.0,\n",
      "                                                                                                    n_estimators=10,\n",
      "                                                                                                    n_jobs=1,\n",
      "                                                                                                    oob_score=False,\n",
      "                                                                                                    random_state=None,\n",
      "                                                                                                    verbose=0,\n",
      "                                                                                                    warm_start=False))],\n",
      "                                                                     verbose=False))],\n",
      "                                               flatten_transform=None,\n",
      "                                               weights=[0.14285714285714285,\n",
      "                                                        0.14285714285714285,\n",
      "                                                        0.14285714285714285,\n",
      "                                                        0.14285714285714285,\n",
      "                                                        0.14285714285714285,\n",
      "                                                        0.14285714285714285,\n",
      "                                                        0.14285714285714285]))],\n",
      "         verbose=False)\n",
      "{'recall_score_micro': 0.8763218390804598, 'matthews_correlation': 0.725983350626622, 'norm_macro_recall': 0.6826883950653974, 'AUC_weighted': 0.9115332855910088, 'f1_score_micro': 0.8763218390804598, 'log_loss': 0.37497019476619836, 'precision_score_macro': 0.8885654888589671, 'AUC_micro': 0.9193394107543931, 'average_precision_score_weighted': 0.9262545518181735, 'precision_score_micro': 0.8763218390804598, 'balanced_accuracy': 0.8413441975326986, 'average_precision_score_macro': 0.9036586228880562, 'AUC_macro': 0.9115332855910088, 'recall_score_macro': 0.8413441975326986, 'f1_score_macro': 0.8500660039812397, 'recall_score_weighted': 0.8763218390804598, 'precision_score_weighted': 0.8902097224503521, 'weighted_accuracy': 0.8983001730942581, 'accuracy': 0.8763218390804598, 'f1_score_weighted': 0.8711476223256016, 'average_precision_score_micro': 0.9225586366088295, 'confusion_matrix': 'aml://artifactId/ExperimentRun/dcid.AutoML_8ec8a7ab-1d94-4e8c-8fad-ebb1d50ee12b_35/confusion_matrix', 'accuracy_table': 'aml://artifactId/ExperimentRun/dcid.AutoML_8ec8a7ab-1d94-4e8c-8fad-ebb1d50ee12b_35/accuracy_table'}\n"
     ]
    }
   ],
   "source": [
    "best_run, fitted_model = remote_run.get_output()\n",
    "print('Best Run Id: ', best_run.id)\n",
    "print(best_run)\n",
    "print(fitted_model)\n",
    "best_run_metrics = best_run.get_metrics()\n",
    "print(best_run_metrics)"
   ]
  },
  {
   "cell_type": "code",
   "execution_count": 8,
   "metadata": {
    "gather": {
     "logged": 1598431426111
    },
    "jupyter": {
     "outputs_hidden": false,
     "source_hidden": false
    },
    "nteract": {
     "transient": {
      "deleting": false
     }
    },
    "scrolled": true
   },
   "outputs": [
    {
     "name": "stdout",
     "output_type": "stream",
     "text": [
      "Model(workspace=Workspace.create(name='quick-starts-ws-134387', subscription_id='3d1a56d2-7c81-4118-9790-f85d1acf0c77', resource_group='aml-quickstarts-134387'), name=heart-failure-prediction-automl-model, id=heart-failure-prediction-automl-model:1, version=1, tags={'Method': 'AutoML'}, properties={'accuracy': '0.8763218390804598'})\n"
     ]
    }
   ],
   "source": [
    "#TODO: Save the best model\n",
    "model = best_run.register_model(model_name='heart-failure-prediction-automl-model',model_path='outputs/model.pkl', tags={'Method':'AutoML'}, properties={'accuracy': best_run_metrics['accuracy']})\n",
    "print(model)"
   ]
  },
  {
   "cell_type": "markdown",
   "metadata": {},
   "source": [
    "## Model Deployment\n",
    "\n",
    "Remember you have to deploy only one of the two models you trained.. Perform the steps in the rest of this notebook only if you wish to deploy this model.\n",
    "\n",
    "TODO: In the cell below, register the model, create an inference config and deploy the model as a web service."
   ]
  },
  {
   "cell_type": "code",
   "execution_count": 9,
   "metadata": {
    "gather": {
     "logged": 1598431435189
    },
    "jupyter": {
     "outputs_hidden": false,
     "source_hidden": false
    },
    "nteract": {
     "transient": {
      "deleting": false
     }
    },
    "scrolled": true
   },
   "outputs": [
    {
     "name": "stdout",
     "output_type": "stream",
     "text": [
      "Transitioning\n",
      "Tips: You can try get_logs(): https://aka.ms/debugimage#dockerlog or local deployment: https://aka.ms/debugimage#debug-locally to debug if deployment takes longer than 10 minutes.\n",
      "Running....................................................................................................................................................................................\n",
      "Succeeded\n",
      "ACI service creation operation finished, operation \"Succeeded\"\n",
      "http://7051685b-ce89-48c2-8d32-c053f66cb584.southcentralus.azurecontainer.io/score\n"
     ]
    }
   ],
   "source": [
    "from azureml.core.webservice import AciWebservice, Webservice\n",
    "from azureml.core.model import Model, InferenceConfig\n",
    "from azureml.core import Environment\n",
    "from azureml.core.conda_dependencies import CondaDependencies\n",
    "\n",
    "env = Environment.from_conda_specification(name='automlv2',file_path='conda_env_v_1_0_0.yml')\n",
    "\n",
    "inference_config = InferenceConfig(entry_script='score.py',\n",
    "                                    environment=env)\n",
    "\n",
    "service_name = 'heartfailurepredictionautomlv2'\n",
    "\n",
    "deployment_config = AciWebservice.deploy_configuration(cpu_cores = 1.8, memory_gb = 4, auth_enabled = True, enable_app_insights = True)\n",
    "service = Model.deploy(ws, service_name, [model], inference_config, deployment_config)\n",
    "print(service.state)\n",
    "\n",
    "service.wait_for_deployment(show_output = True)\n",
    "url = service.scoring_uri\n",
    "print(url)"
   ]
  },
  {
   "cell_type": "markdown",
   "metadata": {
    "collapsed": true,
    "gather": {
     "logged": 1598431657736
    },
    "jupyter": {
     "outputs_hidden": false,
     "source_hidden": false
    },
    "nteract": {
     "transient": {
      "deleting": false
     }
    }
   },
   "source": [
    "TODO: In the cell below, send a request to the web service you deployed to test it.\n",
    "\n",
    "From experiment\n",
    "http://0878f6f1-158e-481c-9f42-af66bfbea7b1.southcentralus.azurecontainer.io/score\n",
    "gPeQJfR4mzui9qvglQyYvFhhHubcH5hB\n",
    "\n",
    "From model\n",
    "http://48a2179d-06c5-42bb-b937-c4c051f0673b.southcentralus.azurecontainer.io/score\n",
    "iu1pgeSfgs7HbkRFmPgioTapNfOZsiwI\n",
    "\n",
    "From code\n",
    "http://a10dc4c0-4353-4824-9eb8-293d64e7fe81.southcentralus.azurecontainer.io/score\n",
    "\n",
    "http://7051685b-ce89-48c2-8d32-c053f66cb584.southcentralus.azurecontainer.io/score"
   ]
  },
  {
   "cell_type": "code",
   "execution_count": null,
   "metadata": {
    "gather": {
     "logged": 1598432707604
    },
    "jupyter": {
     "outputs_hidden": false,
     "source_hidden": false
    },
    "nteract": {
     "transient": {
      "deleting": false
     }
    },
    "scrolled": true
   },
   "outputs": [],
   "source": [
    "import json\n",
    "\n",
    "data = {\"data\":\n",
    "        [\n",
    "          {\n",
    "            \"age\": 36,\n",
    "            \"anaemia\": 0,\n",
    "            \"creatinine_phosphokinase\": 200,\n",
    "            \"diabetes\": 0,\n",
    "            \"ejection_fraction\": 30,\n",
    "            \"high_blood_pressure\": 0,\n",
    "            \"platelets\": 120000,\n",
    "            \"serum_creatinine\": 1.1,\n",
    "            \"serum_sodium\": 135,\n",
    "            \"sex\": 1,\n",
    "            \"smoking\": 0,\n",
    "            \"time\": 7\n",
    "          },\n",
    "          {\n",
    "            \"age\": 39,\n",
    "            \"anaemia\": 0,\n",
    "            \"creatinine_phosphokinase\": 300,\n",
    "            \"diabetes\": 0,\n",
    "            \"ejection_fraction\": 50,\n",
    "            \"high_blood_pressure\": 0,\n",
    "            \"platelets\": 200000,\n",
    "            \"serum_creatinine\": 0.9,\n",
    "            \"serum_sodium\": 250,\n",
    "            \"sex\": 0,\n",
    "            \"smoking\": 0,\n",
    "            \"time\": 1\n",
    "          }\n",
    "      ]\n",
    "    }\n",
    "\n",
    "input_payload = json.dumps(data)\n",
    "\n",
    "output = service.run(input_payload)\n",
    "\n",
    "print(output)"
   ]
  },
  {
   "cell_type": "markdown",
   "metadata": {
    "collapsed": true,
    "gather": {
     "logged": 1598432765711
    },
    "jupyter": {
     "outputs_hidden": false,
     "source_hidden": false
    },
    "nteract": {
     "transient": {
      "deleting": false
     }
    }
   },
   "source": [
    "TODO: In the cell below, print the logs of the web service and delete the service"
   ]
  },
  {
   "cell_type": "code",
   "execution_count": 14,
   "metadata": {
    "jupyter": {
     "outputs_hidden": false,
     "source_hidden": false
    },
    "nteract": {
     "transient": {
      "deleting": false
     }
    },
    "scrolled": true
   },
   "outputs": [],
   "source": [
    "service.delete()"
   ]
  },
  {
   "cell_type": "code",
   "execution_count": null,
   "metadata": {},
   "outputs": [],
   "source": []
  }
 ],
 "metadata": {
  "kernel_info": {
   "name": "python3-azureml"
  },
  "kernelspec": {
   "display_name": "Python 3",
   "language": "python",
   "name": "python3"
  },
  "language_info": {
   "codemirror_mode": {
    "name": "ipython",
    "version": 3
   },
   "file_extension": ".py",
   "mimetype": "text/x-python",
   "name": "python",
   "nbconvert_exporter": "python",
   "pygments_lexer": "ipython3",
   "version": "3.6.9"
  },
  "nteract": {
   "version": "nteract-front-end@1.0.0"
  }
 },
 "nbformat": 4,
 "nbformat_minor": 2
}
