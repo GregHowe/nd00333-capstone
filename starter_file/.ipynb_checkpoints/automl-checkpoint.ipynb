{
 "cells": [
  {
   "cell_type": "markdown",
   "metadata": {},
   "source": [
    "# Automated ML\n",
    "\n",
    "TODO: Import Dependencies. In the cell below, import all the dependencies that you will need to complete the project."
   ]
  },
  {
   "cell_type": "code",
   "execution_count": 3,
   "metadata": {
    "gather": {
     "logged": 1598423888013
    },
    "jupyter": {
     "outputs_hidden": false,
     "source_hidden": false
    },
    "nteract": {
     "transient": {
      "deleting": false
     }
    },
    "scrolled": true
   },
   "outputs": [],
   "source": [
    "from azureml.core import Workspace, Experiment\n",
    "from azureml.core.compute import ComputeTarget, AmlCompute\n",
    "from azureml.core.compute_target import ComputeTargetException\n",
    "from azureml.widgets import RunDetails\n",
    "from azureml.train.automl import AutoMLConfig\n",
    "from azureml.core.dataset import Dataset"
   ]
  },
  {
   "cell_type": "markdown",
   "metadata": {},
   "source": [
    "## Dataset\n",
    "\n",
    "### Overview\n",
    "TODO: In this markdown cell, give an overview of the dataset you are using. Also mention the task you will be performing.\n",
    "\n",
    "\n",
    "TODO: Get data. In the cell below, write code to access the data you will be using in this project. Remember that the dataset needs to be external."
   ]
  },
  {
   "cell_type": "code",
   "execution_count": 6,
   "metadata": {
    "gather": {
     "logged": 1598423890461
    },
    "jupyter": {
     "outputs_hidden": false,
     "source_hidden": false
    },
    "nteract": {
     "transient": {
      "deleting": false
     }
    },
    "scrolled": true
   },
   "outputs": [
    {
     "name": "stdout",
     "output_type": "stream",
     "text": [
      "Workspace name: quick-starts-ws-134024\n",
      "Azure region: southcentralus\n",
      "Subscription id: 81cefad3-d2c9-4f77-a466-99a7f541c7bb\n",
      "Resource group: aml-quickstarts-134024\n"
     ]
    }
   ],
   "source": [
    "ws = Workspace.from_config()\n",
    "\n",
    "# choose a name for experiment\n",
    "experiment_name = 'heart-failure-prediction-automl'\n",
    "\n",
    "experiment=Experiment(ws, experiment_name)\n",
    "\n",
    "print('Workspace name: ' + ws.name, \n",
    "      'Azure region: ' + ws.location, \n",
    "      'Subscription id: ' + ws.subscription_id, \n",
    "      'Resource group: ' + ws.resource_group, sep = '\\n')\n",
    "\n",
    "run = experiment.start_logging()\n",
    "\n",
    "path = \"https://raw.githubusercontent.com/jhonatantirado/nd00333-capstone/master/starter_file/heart_failure_clinical_records_dataset.csv\"\n",
    "dataset = Dataset.Tabular.from_delimited_files(path)"
   ]
  },
  {
   "cell_type": "code",
   "execution_count": 7,
   "metadata": {
    "scrolled": true
   },
   "outputs": [
    {
     "name": "stdout",
     "output_type": "stream",
     "text": [
      "Creating\n",
      "Succeeded\n",
      "AmlCompute wait for completion finished\n",
      "\n",
      "Minimum number of nodes requested have been provisioned\n"
     ]
    }
   ],
   "source": [
    "cpu_cluster_name = \"simba-cluster\"\n",
    "\n",
    "try:\n",
    "    cpu_cluster = ComputeTarget(workspace=ws, name=cpu_cluster_name)\n",
    "    print('Use existing cluster.')\n",
    "except ComputeTargetException:\n",
    "    compute_config = AmlCompute.provisioning_configuration(vm_size='Standard_D2_V2',\n",
    "                                                           max_nodes=4)\n",
    "    cpu_cluster = ComputeTarget.create(ws, cpu_cluster_name, compute_config)\n",
    "\n",
    "cpu_cluster.wait_for_completion(show_output=True)"
   ]
  },
  {
   "cell_type": "markdown",
   "metadata": {},
   "source": [
    "## AutoML Configuration\n",
    "\n",
    "TODO: Explain why you chose the automl settings and cofiguration you used below."
   ]
  },
  {
   "cell_type": "code",
   "execution_count": 8,
   "metadata": {
    "gather": {
     "logged": 1598429217746
    },
    "jupyter": {
     "outputs_hidden": false,
     "source_hidden": false
    },
    "nteract": {
     "transient": {
      "deleting": false
     }
    },
    "scrolled": true
   },
   "outputs": [],
   "source": [
    "# TODO: Put your automl settings here\n",
    "automl_settings = {\"experiment_timeout_minutes\": 20,\n",
    "    \"max_concurrent_iterations\": 4,\n",
    "    \"primary_metric\" : 'accuracy'}\n",
    "\n",
    "# TODO: Put your automl config here\n",
    "automl_config = AutoMLConfig(compute_target=cpu_cluster,\n",
    "                             task = \"classification\",\n",
    "                             training_data=dataset,\n",
    "                             label_column_name=\"DEATH_EVENT\",   \n",
    "                             enable_early_stopping= True,\n",
    "                             featurization= 'auto',\n",
    "                             debug_log = \"automl_errors.log\",\n",
    "                             **automl_settings)"
   ]
  },
  {
   "cell_type": "code",
   "execution_count": 9,
   "metadata": {
    "gather": {
     "logged": 1598431107951
    },
    "jupyter": {
     "outputs_hidden": false,
     "source_hidden": false
    },
    "nteract": {
     "transient": {
      "deleting": false
     }
    },
    "scrolled": true
   },
   "outputs": [
    {
     "name": "stdout",
     "output_type": "stream",
     "text": [
      "Running on remote.\n",
      "No run_configuration provided, running on simba-cluster with default configuration\n",
      "Running on remote compute: simba-cluster\n",
      "Parent Run ID: AutoML_8c8dd2ca-7084-4f07-942d-b5295be4288a\n",
      "\n",
      "Current status: FeaturesGeneration. Generating features for the dataset.\n",
      "Current status: ModelSelection. Beginning model selection.\n",
      "\n",
      "****************************************************************************************************\n",
      "DATA GUARDRAILS: \n",
      "\n",
      "TYPE:         Cross validation\n",
      "STATUS:       DONE\n",
      "DESCRIPTION:  Each iteration of the trained model was validated through cross-validation.\n",
      "              \n",
      "DETAILS:      \n",
      "+---------------------------------+\n",
      "|Number of folds                  |\n",
      "+=================================+\n",
      "|10                               |\n",
      "+---------------------------------+\n",
      "\n",
      "****************************************************************************************************\n",
      "\n",
      "TYPE:         Class balancing detection\n",
      "STATUS:       PASSED\n",
      "DESCRIPTION:  Your inputs were analyzed, and all classes are balanced in your training data.\n",
      "              Learn more about imbalanced data: https://aka.ms/AutomatedMLImbalancedData\n",
      "\n",
      "****************************************************************************************************\n",
      "\n",
      "TYPE:         Missing feature values imputation\n",
      "STATUS:       PASSED\n",
      "DESCRIPTION:  No feature missing values were detected in the training data.\n",
      "              Learn more about missing value imputation: https://aka.ms/AutomatedMLFeaturization\n",
      "\n",
      "****************************************************************************************************\n",
      "\n",
      "TYPE:         High cardinality feature detection\n",
      "STATUS:       PASSED\n",
      "DESCRIPTION:  Your inputs were analyzed, and no high cardinality features were detected.\n",
      "              Learn more about high cardinality feature handling: https://aka.ms/AutomatedMLFeaturization\n",
      "\n",
      "****************************************************************************************************\n",
      "\n",
      "****************************************************************************************************\n",
      "ITERATION: The iteration being evaluated.\n",
      "PIPELINE: A summary description of the pipeline being evaluated.\n",
      "DURATION: Time taken for the current iteration.\n",
      "METRIC: The result of computing score on the fitted pipeline.\n",
      "BEST: The best observed score thus far.\n",
      "****************************************************************************************************\n",
      "\n",
      " ITERATION   PIPELINE                                       DURATION      METRIC      BEST\n",
      "         3   MinMaxScaler RandomForest                      0:00:50       0.8492    0.8492\n",
      "         0   MaxAbsScaler LightGBM                          0:00:52       0.8360    0.8492\n",
      "         1   MaxAbsScaler XGBoostClassifier                 0:00:56       0.8359    0.8492\n",
      "         6   StandardScalerWrapper SVM                      0:00:48       0.7591    0.8492\n",
      "         7   MinMaxScaler SVM                               0:00:39       0.7160    0.8492\n",
      "         2   MinMaxScaler RandomForest                      0:03:13       0.8359    0.8492\n",
      "         8   SparseNormalizer XGBoostClassifier             0:00:44       0.8262    0.8492\n",
      "         4   MinMaxScaler RandomForest                      0:03:23       0.8392    0.8492\n",
      "         5   StandardScalerWrapper XGBoostClassifier        0:03:27       0.8528    0.8528\n",
      "         9   StandardScalerWrapper LightGBM                 0:00:44       0.8193    0.8528\n",
      "        10   MaxAbsScaler LightGBM                          0:00:59       0.8328    0.8528\n",
      "        11   MinMaxScaler LightGBM                          0:00:43       0.8192    0.8528\n",
      "        12   MaxAbsScaler LightGBM                          0:00:45       0.8225    0.8528\n",
      "        13   StandardScalerWrapper LightGBM                 0:00:41       0.8425    0.8528\n",
      "        14   MinMaxScaler LightGBM                          0:00:43       0.8093    0.8528\n",
      "        15   MinMaxScaler RandomForest                      0:00:51       0.7693    0.8528\n",
      "        16   StandardScalerWrapper RandomForest             0:00:45       0.8426    0.8528\n",
      "        17   MinMaxScaler LightGBM                          0:00:44       0.8224    0.8528\n",
      "        18   MaxAbsScaler LightGBM                          0:00:46       0.7359    0.8528\n",
      "        19   StandardScalerWrapper RandomForest             0:00:47       0.8090    0.8528\n",
      "        20   SparseNormalizer XGBoostClassifier             0:00:43       0.8328    0.8528\n",
      "        21   MaxAbsScaler LightGBM                          0:00:49       0.8191    0.8528\n",
      "        22   MaxAbsScaler LightGBM                          0:00:42       0.8528    0.8528\n",
      "        23   StandardScalerWrapper LightGBM                 0:00:43       0.8361    0.8528\n",
      "        24   MinMaxScaler LightGBM                          0:00:45       0.7359    0.8528\n",
      "        25   PCA XGBoostClassifier                          0:00:45       0.6792    0.8528\n",
      "        26   StandardScalerWrapper KNN                      0:00:41       0.6323    0.8528\n",
      "        27   TruncatedSVDWrapper XGBoostClassifier          0:00:45       0.7789    0.8528\n",
      "        28   StandardScalerWrapper XGBoostClassifier        0:00:39       0.8357    0.8528\n",
      "        29   MaxAbsScaler LightGBM                          0:00:45       0.8160    0.8528\n",
      "        30   SparseNormalizer XGBoostClassifier             0:00:51       0.8128    0.8528\n",
      "        31   StandardScalerWrapper XGBoostClassifier        0:00:46       0.8457    0.8528\n",
      "        32   StandardScalerWrapper XGBoostClassifier        0:00:40       0.8393    0.8528\n",
      "        33   RobustScaler LightGBM                          0:00:24          nan    0.8528\n",
      "        34                                                  0:00:19          nan    0.8528\n",
      "        35    VotingEnsemble                                0:01:48       0.8662    0.8662\n",
      "        36    StackEnsemble                                 0:02:00       0.8529    0.8662\n"
     ]
    }
   ],
   "source": [
    "# TODO: Submit your experiment\n",
    "remote_run = experiment.submit(automl_config, show_output=True)"
   ]
  },
  {
   "cell_type": "markdown",
   "metadata": {},
   "source": [
    "## Run Details\n",
    "\n",
    "OPTIONAL: Write about the different models trained and their performance. Why do you think some models did better than others?\n",
    "\n",
    "TODO: In the cell below, use the `RunDetails` widget to show the different experiments."
   ]
  },
  {
   "cell_type": "code",
   "execution_count": 10,
   "metadata": {
    "gather": {
     "logged": 1598431121770
    },
    "jupyter": {
     "outputs_hidden": false,
     "source_hidden": false
    },
    "nteract": {
     "transient": {
      "deleting": false
     }
    },
    "scrolled": true
   },
   "outputs": [
    {
     "data": {
      "application/vnd.jupyter.widget-view+json": {
       "model_id": "620b7d5435db4b62a7c0b88d86d912f8",
       "version_major": 2,
       "version_minor": 0
      },
      "text/plain": [
       "_AutoMLWidget(widget_settings={'childWidgetDisplay': 'popup', 'send_telemetry': False, 'log_level': 'INFO', 's…"
      ]
     },
     "metadata": {},
     "output_type": "display_data"
    },
    {
     "data": {
      "application/aml.mini.widget.v1": "{\"status\": \"Completed\", \"workbench_run_details_uri\": \"https://ml.azure.com/experiments/heart-failure-prediction-automl/runs/AutoML_8c8dd2ca-7084-4f07-942d-b5295be4288a?wsid=/subscriptions/81cefad3-d2c9-4f77-a466-99a7f541c7bb/resourcegroups/aml-quickstarts-134024/workspaces/quick-starts-ws-134024\", \"run_id\": \"AutoML_8c8dd2ca-7084-4f07-942d-b5295be4288a\", \"run_properties\": {\"run_id\": \"AutoML_8c8dd2ca-7084-4f07-942d-b5295be4288a\", \"created_utc\": \"2021-01-08T21:42:07.286868Z\", \"properties\": {\"num_iterations\": \"1000\", \"training_type\": \"TrainFull\", \"acquisition_function\": \"EI\", \"primary_metric\": \"accuracy\", \"train_split\": \"0\", \"acquisition_parameter\": \"0\", \"num_cross_validation\": null, \"target\": \"simba-cluster\", \"AMLSettingsJsonString\": \"{\\\"path\\\":null,\\\"name\\\":\\\"heart-failure-prediction-automl\\\",\\\"subscription_id\\\":\\\"81cefad3-d2c9-4f77-a466-99a7f541c7bb\\\",\\\"resource_group\\\":\\\"aml-quickstarts-134024\\\",\\\"workspace_name\\\":\\\"quick-starts-ws-134024\\\",\\\"region\\\":\\\"southcentralus\\\",\\\"compute_target\\\":\\\"simba-cluster\\\",\\\"spark_service\\\":null,\\\"azure_service\\\":\\\"remote\\\",\\\"many_models\\\":false,\\\"pipeline_fetch_max_batch_size\\\":1,\\\"iterations\\\":1000,\\\"primary_metric\\\":\\\"accuracy\\\",\\\"task_type\\\":\\\"classification\\\",\\\"data_script\\\":null,\\\"validation_size\\\":0.0,\\\"n_cross_validations\\\":null,\\\"y_min\\\":null,\\\"y_max\\\":null,\\\"num_classes\\\":null,\\\"featurization\\\":\\\"auto\\\",\\\"_ignore_package_version_incompatibilities\\\":false,\\\"is_timeseries\\\":false,\\\"max_cores_per_iteration\\\":1,\\\"max_concurrent_iterations\\\":4,\\\"iteration_timeout_minutes\\\":null,\\\"mem_in_mb\\\":null,\\\"enforce_time_on_windows\\\":false,\\\"experiment_timeout_minutes\\\":20,\\\"experiment_exit_score\\\":null,\\\"whitelist_models\\\":null,\\\"blacklist_algos\\\":[\\\"TensorFlowLinearClassifier\\\",\\\"TensorFlowDNN\\\"],\\\"supported_models\\\":[\\\"SVM\\\",\\\"LightGBM\\\",\\\"LinearSVM\\\",\\\"SGD\\\",\\\"DecisionTree\\\",\\\"ExtremeRandomTrees\\\",\\\"BernoulliNaiveBayes\\\",\\\"AveragedPerceptronClassifier\\\",\\\"XGBoostClassifier\\\",\\\"TensorFlowDNN\\\",\\\"MultinomialNaiveBayes\\\",\\\"GradientBoosting\\\",\\\"TensorFlowLinearClassifier\\\",\\\"RandomForest\\\",\\\"KNN\\\",\\\"LogisticRegression\\\"],\\\"auto_blacklist\\\":true,\\\"blacklist_samples_reached\\\":false,\\\"exclude_nan_labels\\\":true,\\\"verbosity\\\":20,\\\"_debug_log\\\":\\\"azureml_automl.log\\\",\\\"show_warnings\\\":false,\\\"model_explainability\\\":true,\\\"service_url\\\":null,\\\"sdk_url\\\":null,\\\"sdk_packages\\\":null,\\\"enable_onnx_compatible_models\\\":false,\\\"enable_split_onnx_featurizer_estimator_models\\\":false,\\\"vm_type\\\":\\\"STANDARD_D2_V2\\\",\\\"telemetry_verbosity\\\":20,\\\"send_telemetry\\\":true,\\\"enable_dnn\\\":false,\\\"scenario\\\":\\\"SDK-1.13.0\\\",\\\"environment_label\\\":null,\\\"force_text_dnn\\\":false,\\\"enable_feature_sweeping\\\":true,\\\"enable_early_stopping\\\":true,\\\"early_stopping_n_iters\\\":10,\\\"metrics\\\":null,\\\"enable_ensembling\\\":true,\\\"enable_stack_ensembling\\\":true,\\\"ensemble_iterations\\\":15,\\\"enable_tf\\\":false,\\\"enable_subsampling\\\":null,\\\"subsample_seed\\\":null,\\\"enable_nimbusml\\\":false,\\\"enable_streaming\\\":false,\\\"force_streaming\\\":false,\\\"track_child_runs\\\":true,\\\"allowed_private_models\\\":[],\\\"label_column_name\\\":\\\"DEATH_EVENT\\\",\\\"weight_column_name\\\":null,\\\"cv_split_column_names\\\":null,\\\"enable_local_managed\\\":false,\\\"_local_managed_run_id\\\":null,\\\"cost_mode\\\":1,\\\"lag_length\\\":0,\\\"metric_operation\\\":\\\"maximize\\\",\\\"preprocess\\\":true}\", \"DataPrepJsonString\": \"{\\\\\\\"training_data\\\\\\\": \\\\\\\"{\\\\\\\\\\\\\\\"blocks\\\\\\\\\\\\\\\": [{\\\\\\\\\\\\\\\"id\\\\\\\\\\\\\\\": \\\\\\\\\\\\\\\"29b3f8da-a729-4dd9-88e6-ef53a81da0e8\\\\\\\\\\\\\\\", \\\\\\\\\\\\\\\"type\\\\\\\\\\\\\\\": \\\\\\\\\\\\\\\"Microsoft.DPrep.GetFilesBlock\\\\\\\\\\\\\\\", \\\\\\\\\\\\\\\"arguments\\\\\\\\\\\\\\\": {\\\\\\\\\\\\\\\"isArchive\\\\\\\\\\\\\\\": false, \\\\\\\\\\\\\\\"path\\\\\\\\\\\\\\\": {\\\\\\\\\\\\\\\"target\\\\\\\\\\\\\\\": 4, \\\\\\\\\\\\\\\"resourceDetails\\\\\\\\\\\\\\\": [{\\\\\\\\\\\\\\\"path\\\\\\\\\\\\\\\": \\\\\\\\\\\\\\\"https://raw.githubusercontent.com/jhonatantirado/nd00333-capstone/master/starter_file/heart_failure_clinical_records_dataset.csv\\\\\\\\\\\\\\\"}]}}, \\\\\\\\\\\\\\\"localData\\\\\\\\\\\\\\\": {}, \\\\\\\\\\\\\\\"isEnabled\\\\\\\\\\\\\\\": true, \\\\\\\\\\\\\\\"name\\\\\\\\\\\\\\\": null, \\\\\\\\\\\\\\\"annotation\\\\\\\\\\\\\\\": null}, {\\\\\\\\\\\\\\\"id\\\\\\\\\\\\\\\": \\\\\\\\\\\\\\\"e8a7d23d-7160-43cb-b1a1-7bc5bc9d925f\\\\\\\\\\\\\\\", \\\\\\\\\\\\\\\"type\\\\\\\\\\\\\\\": \\\\\\\\\\\\\\\"Microsoft.DPrep.ParseDelimitedBlock\\\\\\\\\\\\\\\", \\\\\\\\\\\\\\\"arguments\\\\\\\\\\\\\\\": {\\\\\\\\\\\\\\\"columnHeadersMode\\\\\\\\\\\\\\\": 3, \\\\\\\\\\\\\\\"fileEncoding\\\\\\\\\\\\\\\": 0, \\\\\\\\\\\\\\\"handleQuotedLineBreaks\\\\\\\\\\\\\\\": false, \\\\\\\\\\\\\\\"preview\\\\\\\\\\\\\\\": false, \\\\\\\\\\\\\\\"separator\\\\\\\\\\\\\\\": \\\\\\\\\\\\\\\",\\\\\\\\\\\\\\\", \\\\\\\\\\\\\\\"skipRows\\\\\\\\\\\\\\\": 0, \\\\\\\\\\\\\\\"skipRowsMode\\\\\\\\\\\\\\\": 0}, \\\\\\\\\\\\\\\"localData\\\\\\\\\\\\\\\": {}, \\\\\\\\\\\\\\\"isEnabled\\\\\\\\\\\\\\\": true, \\\\\\\\\\\\\\\"name\\\\\\\\\\\\\\\": null, \\\\\\\\\\\\\\\"annotation\\\\\\\\\\\\\\\": null}, {\\\\\\\\\\\\\\\"id\\\\\\\\\\\\\\\": \\\\\\\\\\\\\\\"13e22cfe-4530-4309-9817-c8060982813f\\\\\\\\\\\\\\\", \\\\\\\\\\\\\\\"type\\\\\\\\\\\\\\\": \\\\\\\\\\\\\\\"Microsoft.DPrep.DropColumnsBlock\\\\\\\\\\\\\\\", \\\\\\\\\\\\\\\"arguments\\\\\\\\\\\\\\\": {\\\\\\\\\\\\\\\"columns\\\\\\\\\\\\\\\": {\\\\\\\\\\\\\\\"type\\\\\\\\\\\\\\\": 0, \\\\\\\\\\\\\\\"details\\\\\\\\\\\\\\\": {\\\\\\\\\\\\\\\"selectedColumns\\\\\\\\\\\\\\\": [\\\\\\\\\\\\\\\"Path\\\\\\\\\\\\\\\"]}}}, \\\\\\\\\\\\\\\"localData\\\\\\\\\\\\\\\": {}, \\\\\\\\\\\\\\\"isEnabled\\\\\\\\\\\\\\\": true, \\\\\\\\\\\\\\\"name\\\\\\\\\\\\\\\": null, \\\\\\\\\\\\\\\"annotation\\\\\\\\\\\\\\\": null}, {\\\\\\\\\\\\\\\"id\\\\\\\\\\\\\\\": \\\\\\\\\\\\\\\"d02c734c-b506-49a2-903a-4466aedf89c3\\\\\\\\\\\\\\\", \\\\\\\\\\\\\\\"type\\\\\\\\\\\\\\\": \\\\\\\\\\\\\\\"Microsoft.DPrep.SetColumnTypesBlock\\\\\\\\\\\\\\\", \\\\\\\\\\\\\\\"arguments\\\\\\\\\\\\\\\": {\\\\\\\\\\\\\\\"columnConversion\\\\\\\\\\\\\\\": [{\\\\\\\\\\\\\\\"column\\\\\\\\\\\\\\\": {\\\\\\\\\\\\\\\"type\\\\\\\\\\\\\\\": 2, \\\\\\\\\\\\\\\"details\\\\\\\\\\\\\\\": {\\\\\\\\\\\\\\\"selectedColumn\\\\\\\\\\\\\\\": \\\\\\\\\\\\\\\"age\\\\\\\\\\\\\\\"}}, \\\\\\\\\\\\\\\"typeProperty\\\\\\\\\\\\\\\": 3}, {\\\\\\\\\\\\\\\"column\\\\\\\\\\\\\\\": {\\\\\\\\\\\\\\\"type\\\\\\\\\\\\\\\": 2, \\\\\\\\\\\\\\\"details\\\\\\\\\\\\\\\": {\\\\\\\\\\\\\\\"selectedColumn\\\\\\\\\\\\\\\": \\\\\\\\\\\\\\\"anaemia\\\\\\\\\\\\\\\"}}, \\\\\\\\\\\\\\\"typeProperty\\\\\\\\\\\\\\\": 2}, {\\\\\\\\\\\\\\\"column\\\\\\\\\\\\\\\": {\\\\\\\\\\\\\\\"type\\\\\\\\\\\\\\\": 2, \\\\\\\\\\\\\\\"details\\\\\\\\\\\\\\\": {\\\\\\\\\\\\\\\"selectedColumn\\\\\\\\\\\\\\\": \\\\\\\\\\\\\\\"creatinine_phosphokinase\\\\\\\\\\\\\\\"}}, \\\\\\\\\\\\\\\"typeProperty\\\\\\\\\\\\\\\": 2}, {\\\\\\\\\\\\\\\"column\\\\\\\\\\\\\\\": {\\\\\\\\\\\\\\\"type\\\\\\\\\\\\\\\": 2, \\\\\\\\\\\\\\\"details\\\\\\\\\\\\\\\": {\\\\\\\\\\\\\\\"selectedColumn\\\\\\\\\\\\\\\": \\\\\\\\\\\\\\\"diabetes\\\\\\\\\\\\\\\"}}, \\\\\\\\\\\\\\\"typeProperty\\\\\\\\\\\\\\\": 2}, {\\\\\\\\\\\\\\\"column\\\\\\\\\\\\\\\": {\\\\\\\\\\\\\\\"type\\\\\\\\\\\\\\\": 2, \\\\\\\\\\\\\\\"details\\\\\\\\\\\\\\\": {\\\\\\\\\\\\\\\"selectedColumn\\\\\\\\\\\\\\\": \\\\\\\\\\\\\\\"ejection_fraction\\\\\\\\\\\\\\\"}}, \\\\\\\\\\\\\\\"typeProperty\\\\\\\\\\\\\\\": 2}, {\\\\\\\\\\\\\\\"column\\\\\\\\\\\\\\\": {\\\\\\\\\\\\\\\"type\\\\\\\\\\\\\\\": 2, \\\\\\\\\\\\\\\"details\\\\\\\\\\\\\\\": {\\\\\\\\\\\\\\\"selectedColumn\\\\\\\\\\\\\\\": \\\\\\\\\\\\\\\"high_blood_pressure\\\\\\\\\\\\\\\"}}, \\\\\\\\\\\\\\\"typeProperty\\\\\\\\\\\\\\\": 2}, {\\\\\\\\\\\\\\\"column\\\\\\\\\\\\\\\": {\\\\\\\\\\\\\\\"type\\\\\\\\\\\\\\\": 2, \\\\\\\\\\\\\\\"details\\\\\\\\\\\\\\\": {\\\\\\\\\\\\\\\"selectedColumn\\\\\\\\\\\\\\\": \\\\\\\\\\\\\\\"platelets\\\\\\\\\\\\\\\"}}, \\\\\\\\\\\\\\\"typeProperty\\\\\\\\\\\\\\\": 3}, {\\\\\\\\\\\\\\\"column\\\\\\\\\\\\\\\": {\\\\\\\\\\\\\\\"type\\\\\\\\\\\\\\\": 2, \\\\\\\\\\\\\\\"details\\\\\\\\\\\\\\\": {\\\\\\\\\\\\\\\"selectedColumn\\\\\\\\\\\\\\\": \\\\\\\\\\\\\\\"serum_creatinine\\\\\\\\\\\\\\\"}}, \\\\\\\\\\\\\\\"typeProperty\\\\\\\\\\\\\\\": 3}, {\\\\\\\\\\\\\\\"column\\\\\\\\\\\\\\\": {\\\\\\\\\\\\\\\"type\\\\\\\\\\\\\\\": 2, \\\\\\\\\\\\\\\"details\\\\\\\\\\\\\\\": {\\\\\\\\\\\\\\\"selectedColumn\\\\\\\\\\\\\\\": \\\\\\\\\\\\\\\"serum_sodium\\\\\\\\\\\\\\\"}}, \\\\\\\\\\\\\\\"typeProperty\\\\\\\\\\\\\\\": 2}, {\\\\\\\\\\\\\\\"column\\\\\\\\\\\\\\\": {\\\\\\\\\\\\\\\"type\\\\\\\\\\\\\\\": 2, \\\\\\\\\\\\\\\"details\\\\\\\\\\\\\\\": {\\\\\\\\\\\\\\\"selectedColumn\\\\\\\\\\\\\\\": \\\\\\\\\\\\\\\"sex\\\\\\\\\\\\\\\"}}, \\\\\\\\\\\\\\\"typeProperty\\\\\\\\\\\\\\\": 2}, {\\\\\\\\\\\\\\\"column\\\\\\\\\\\\\\\": {\\\\\\\\\\\\\\\"type\\\\\\\\\\\\\\\": 2, \\\\\\\\\\\\\\\"details\\\\\\\\\\\\\\\": {\\\\\\\\\\\\\\\"selectedColumn\\\\\\\\\\\\\\\": \\\\\\\\\\\\\\\"smoking\\\\\\\\\\\\\\\"}}, \\\\\\\\\\\\\\\"typeProperty\\\\\\\\\\\\\\\": 2}, {\\\\\\\\\\\\\\\"column\\\\\\\\\\\\\\\": {\\\\\\\\\\\\\\\"type\\\\\\\\\\\\\\\": 2, \\\\\\\\\\\\\\\"details\\\\\\\\\\\\\\\": {\\\\\\\\\\\\\\\"selectedColumn\\\\\\\\\\\\\\\": \\\\\\\\\\\\\\\"time\\\\\\\\\\\\\\\"}}, \\\\\\\\\\\\\\\"typeProperty\\\\\\\\\\\\\\\": 2}, {\\\\\\\\\\\\\\\"column\\\\\\\\\\\\\\\": {\\\\\\\\\\\\\\\"type\\\\\\\\\\\\\\\": 2, \\\\\\\\\\\\\\\"details\\\\\\\\\\\\\\\": {\\\\\\\\\\\\\\\"selectedColumn\\\\\\\\\\\\\\\": \\\\\\\\\\\\\\\"DEATH_EVENT\\\\\\\\\\\\\\\"}}, \\\\\\\\\\\\\\\"typeProperty\\\\\\\\\\\\\\\": 2}]}, \\\\\\\\\\\\\\\"localData\\\\\\\\\\\\\\\": {}, \\\\\\\\\\\\\\\"isEnabled\\\\\\\\\\\\\\\": true, \\\\\\\\\\\\\\\"name\\\\\\\\\\\\\\\": null, \\\\\\\\\\\\\\\"annotation\\\\\\\\\\\\\\\": null}], \\\\\\\\\\\\\\\"inspectors\\\\\\\\\\\\\\\": [], \\\\\\\\\\\\\\\"meta\\\\\\\\\\\\\\\": {\\\\\\\\\\\\\\\"savedDatasetId\\\\\\\\\\\\\\\": \\\\\\\\\\\\\\\"ae13ce58-5150-4be9-9cee-e68573c3f24d\\\\\\\\\\\\\\\", \\\\\\\\\\\\\\\"datasetType\\\\\\\\\\\\\\\": \\\\\\\\\\\\\\\"tabular\\\\\\\\\\\\\\\", \\\\\\\\\\\\\\\"subscriptionId\\\\\\\\\\\\\\\": \\\\\\\\\\\\\\\"81cefad3-d2c9-4f77-a466-99a7f541c7bb\\\\\\\\\\\\\\\", \\\\\\\\\\\\\\\"workspaceId\\\\\\\\\\\\\\\": \\\\\\\\\\\\\\\"5c65b991-cadc-49ed-8c5a-8ab16f4e0727\\\\\\\\\\\\\\\", \\\\\\\\\\\\\\\"workspaceLocation\\\\\\\\\\\\\\\": \\\\\\\\\\\\\\\"southcentralus\\\\\\\\\\\\\\\"}}\\\\\\\", \\\\\\\"activities\\\\\\\": 0}\", \"EnableSubsampling\": null, \"runTemplate\": \"AutoML\", \"azureml.runsource\": \"automl\", \"display_task_type\": \"classification\", \"dependencies_versions\": \"{\\\"azureml-widgets\\\": \\\"1.19.0\\\", \\\"azureml-train\\\": \\\"1.19.0\\\", \\\"azureml-train-restclients-hyperdrive\\\": \\\"1.19.0\\\", \\\"azureml-train-core\\\": \\\"1.19.0\\\", \\\"azureml-train-automl\\\": \\\"1.19.0\\\", \\\"azureml-train-automl-runtime\\\": \\\"1.19.0\\\", \\\"azureml-train-automl-client\\\": \\\"1.19.0\\\", \\\"azureml-tensorboard\\\": \\\"1.19.0\\\", \\\"azureml-telemetry\\\": \\\"1.19.0\\\", \\\"azureml-sdk\\\": \\\"1.19.0\\\", \\\"azureml-samples\\\": \\\"0+unknown\\\", \\\"azureml-pipeline\\\": \\\"1.19.0\\\", \\\"azureml-pipeline-steps\\\": \\\"1.19.0\\\", \\\"azureml-pipeline-core\\\": \\\"1.19.0\\\", \\\"azureml-opendatasets\\\": \\\"1.19.0\\\", \\\"azureml-model-management-sdk\\\": \\\"1.0.1b6.post1\\\", \\\"azureml-mlflow\\\": \\\"1.19.0\\\", \\\"azureml-interpret\\\": \\\"1.19.0\\\", \\\"azureml-explain-model\\\": \\\"1.19.0\\\", \\\"azureml-defaults\\\": \\\"1.19.0\\\", \\\"azureml-dataset-runtime\\\": \\\"1.19.0\\\", \\\"azureml-dataprep\\\": \\\"2.6.1\\\", \\\"azureml-dataprep-rslex\\\": \\\"1.4.0\\\", \\\"azureml-dataprep-native\\\": \\\"26.0.0\\\", \\\"azureml-datadrift\\\": \\\"1.19.0\\\", \\\"azureml-core\\\": \\\"1.19.0\\\", \\\"azureml-contrib-services\\\": \\\"1.19.0\\\", \\\"azureml-contrib-server\\\": \\\"1.19.0\\\", \\\"azureml-contrib-reinforcementlearning\\\": \\\"1.19.0\\\", \\\"azureml-contrib-pipeline-steps\\\": \\\"1.19.0\\\", \\\"azureml-contrib-notebook\\\": \\\"1.19.0\\\", \\\"azureml-contrib-interpret\\\": \\\"1.19.0\\\", \\\"azureml-contrib-gbdt\\\": \\\"1.19.0\\\", \\\"azureml-contrib-fairness\\\": \\\"1.19.0\\\", \\\"azureml-contrib-dataset\\\": \\\"1.19.0\\\", \\\"azureml-cli-common\\\": \\\"1.19.0\\\", \\\"azureml-automl-runtime\\\": \\\"1.19.0\\\", \\\"azureml-automl-core\\\": \\\"1.19.0\\\", \\\"azureml-accel-models\\\": \\\"1.19.0\\\"}\", \"_aml_system_scenario_identification\": \"Remote.Parent\", \"ClientType\": \"SDK\", \"environment_cpu_name\": \"AzureML-AutoML\", \"environment_cpu_label\": \"prod\", \"environment_gpu_name\": \"AzureML-AutoML-GPU\", \"environment_gpu_label\": \"prod\", \"root_attribution\": \"automl\", \"attribution\": \"AutoML\", \"Orchestrator\": \"AutoML\", \"CancelUri\": \"https://southcentralus.experiments.azureml.net/jasmine/v1.0/subscriptions/81cefad3-d2c9-4f77-a466-99a7f541c7bb/resourceGroups/aml-quickstarts-134024/providers/Microsoft.MachineLearningServices/workspaces/quick-starts-ws-134024/experimentids/e25248a2-2971-4764-89b9-ca6c61d2f739/cancel/AutoML_8c8dd2ca-7084-4f07-942d-b5295be4288a\", \"ClientSdkVersion\": \"1.19.0\", \"snapshotId\": \"00000000-0000-0000-0000-000000000000\", \"SetupRunId\": \"AutoML_8c8dd2ca-7084-4f07-942d-b5295be4288a_setup\", \"SetupRunContainerId\": \"dcid.AutoML_8c8dd2ca-7084-4f07-942d-b5295be4288a_setup\", \"FeaturizationRunJsonPath\": \"featurizer_container.json\", \"FeaturizationRunId\": \"AutoML_8c8dd2ca-7084-4f07-942d-b5295be4288a_featurize\", \"ProblemInfoJsonString\": \"{\\\"dataset_num_categorical\\\": 0, \\\"is_sparse\\\": false, \\\"subsampling\\\": false, \\\"dataset_classes\\\": 2, \\\"dataset_features\\\": 12, \\\"dataset_samples\\\": 299, \\\"single_frequency_class_detected\\\": false}\", \"ModelExplainRunId\": \"AutoML_8c8dd2ca-7084-4f07-942d-b5295be4288a_ModelExplain\", \"azureml.git.repository_uri\": \"https://github.com/jhonatantirado/nd00333-capstone.git\", \"mlflow.source.git.repoURL\": \"https://github.com/jhonatantirado/nd00333-capstone.git\", \"azureml.git.branch\": \"master\", \"mlflow.source.git.branch\": \"master\", \"azureml.git.commit\": \"aad82a40f893a28c7285a165c14099bd2bf5077c\", \"mlflow.source.git.commit\": \"aad82a40f893a28c7285a165c14099bd2bf5077c\", \"azureml.git.dirty\": \"True\"}, \"tags\": {\"model_explain_run\": \"best_run\", \"_aml_system_azureml.automlComponent\": \"AutoML\", \"pipeline_id\": \"\", \"score\": \"\", \"predicted_cost\": \"\", \"fit_time\": \"\", \"training_percent\": \"\", \"iteration\": \"\", \"run_preprocessor\": \"\", \"run_algorithm\": \"\", \"dynamic_whitelisting_iterations\": \"<25>;<30>;\", \"automl_best_child_run_id\": \"AutoML_8c8dd2ca-7084-4f07-942d-b5295be4288a_35\", \"model_explain_best_run_child_id\": \"AutoML_8c8dd2ca-7084-4f07-942d-b5295be4288a_35\"}, \"end_time_utc\": \"2021-01-08T22:05:26.23965Z\", \"status\": \"Completed\", \"log_files\": {}, \"log_groups\": [], \"run_duration\": \"0:23:18\"}, \"child_runs\": [{\"run_id\": \"AutoML_8c8dd2ca-7084-4f07-942d-b5295be4288a_3\", \"run_number\": 8, \"metric\": null, \"status\": \"Completed\", \"run_type\": \"azureml.scriptrun\", \"training_percent\": \"100\", \"start_time\": \"2021-01-08T21:50:57.150158Z\", \"end_time\": \"2021-01-08T21:51:47.440688Z\", \"created_time\": \"2021-01-08T21:50:47.269827Z\", \"created_time_dt\": \"2021-01-08T21:50:47.269827Z\", \"duration\": \"0:01:00\", \"iteration\": \"3\", \"goal\": \"accuracy_max\", \"run_name\": \"MinMaxScaler, RandomForest\", \"run_properties\": \"copy=True, feature_range=(0, 1\", \"primary_metric\": 0.8491954, \"best_metric\": 0.8491954}, {\"run_id\": \"AutoML_8c8dd2ca-7084-4f07-942d-b5295be4288a_0\", \"run_number\": 9, \"metric\": null, \"status\": \"Completed\", \"run_type\": \"azureml.scriptrun\", \"training_percent\": \"100\", \"start_time\": \"2021-01-08T21:51:54.551073Z\", \"end_time\": \"2021-01-08T21:52:46.680958Z\", \"created_time\": \"2021-01-08T21:50:47.276746Z\", \"created_time_dt\": \"2021-01-08T21:50:47.276746Z\", \"duration\": \"0:01:59\", \"iteration\": \"0\", \"goal\": \"accuracy_max\", \"run_name\": \"MaxAbsScaler, LightGBM\", \"run_properties\": \"copy=True\", \"primary_metric\": 0.83597701, \"best_metric\": 0.83597701}, {\"run_id\": \"AutoML_8c8dd2ca-7084-4f07-942d-b5295be4288a_1\", \"run_number\": 10, \"metric\": null, \"status\": \"Completed\", \"run_type\": \"azureml.scriptrun\", \"training_percent\": \"100\", \"start_time\": \"2021-01-08T21:52:52.689435Z\", \"end_time\": \"2021-01-08T21:53:49.104003Z\", \"created_time\": \"2021-01-08T21:50:47.269145Z\", \"created_time_dt\": \"2021-01-08T21:50:47.269145Z\", \"duration\": \"0:03:01\", \"iteration\": \"1\", \"goal\": \"accuracy_max\", \"run_name\": \"MaxAbsScaler, XGBoostClassifier\", \"run_properties\": \"copy=True\", \"primary_metric\": 0.83586207, \"best_metric\": 0.83597701}, {\"run_id\": \"AutoML_8c8dd2ca-7084-4f07-942d-b5295be4288a_2\", \"run_number\": 11, \"metric\": null, \"status\": \"Completed\", \"run_type\": \"azureml.scriptrun\", \"training_percent\": \"100\", \"start_time\": \"2021-01-08T21:53:28.290193Z\", \"end_time\": \"2021-01-08T21:56:41.745491Z\", \"created_time\": \"2021-01-08T21:50:47.277618Z\", \"created_time_dt\": \"2021-01-08T21:50:47.277618Z\", \"duration\": \"0:05:54\", \"iteration\": \"2\", \"goal\": \"accuracy_max\", \"run_name\": \"MinMaxScaler, RandomForest\", \"run_properties\": \"copy=True, feature_range=(0, 1\", \"primary_metric\": 0.83586207, \"best_metric\": 0.83597701}, {\"run_id\": \"AutoML_8c8dd2ca-7084-4f07-942d-b5295be4288a_4\", \"run_number\": 12, \"metric\": null, \"status\": \"Completed\", \"run_type\": \"azureml.scriptrun\", \"training_percent\": \"100\", \"start_time\": \"2021-01-08T21:53:30.339951Z\", \"end_time\": \"2021-01-08T21:56:53.433483Z\", \"created_time\": \"2021-01-08T21:51:50.271327Z\", \"created_time_dt\": \"2021-01-08T21:51:50.271327Z\", \"duration\": \"0:05:03\", \"iteration\": \"4\", \"goal\": \"accuracy_max\", \"run_name\": \"MinMaxScaler, RandomForest\", \"run_properties\": \"copy=True, feature_range=(0, 1\", \"primary_metric\": 0.8391954, \"best_metric\": 0.8491954}, {\"run_id\": \"AutoML_8c8dd2ca-7084-4f07-942d-b5295be4288a_5\", \"run_number\": 13, \"metric\": null, \"status\": \"Completed\", \"run_type\": \"azureml.scriptrun\", \"training_percent\": \"100\", \"start_time\": \"2021-01-08T21:53:38.354614Z\", \"end_time\": \"2021-01-08T21:57:05.364899Z\", \"created_time\": \"2021-01-08T21:52:49.766158Z\", \"created_time_dt\": \"2021-01-08T21:52:49.766158Z\", \"duration\": \"0:04:15\", \"iteration\": \"5\", \"goal\": \"accuracy_max\", \"run_name\": \"StandardScalerWrapper, XGBoostClassifier\", \"run_properties\": \"<azureml.automl.runtime.shared.model_wrappers.StandardScalerWrapper object at 0x7f3947ab2898\", \"primary_metric\": 0.85275862, \"best_metric\": 0.85275862}, {\"run_id\": \"AutoML_8c8dd2ca-7084-4f07-942d-b5295be4288a_6\", \"run_number\": 14, \"metric\": null, \"status\": \"Completed\", \"run_type\": \"azureml.scriptrun\", \"training_percent\": \"100\", \"start_time\": \"2021-01-08T21:54:03.187084Z\", \"end_time\": \"2021-01-08T21:54:50.824843Z\", \"created_time\": \"2021-01-08T21:53:52.613533Z\", \"created_time_dt\": \"2021-01-08T21:53:52.613533Z\", \"duration\": \"0:00:58\", \"iteration\": \"6\", \"goal\": \"accuracy_max\", \"run_name\": \"StandardScalerWrapper, SVM\", \"run_properties\": \"<azureml.automl.runtime.shared.model_wrappers.StandardScalerWrapper object at 0x7f7aed397be0\", \"primary_metric\": 0.75908046, \"best_metric\": 0.85275862}, {\"run_id\": \"AutoML_8c8dd2ca-7084-4f07-942d-b5295be4288a_7\", \"run_number\": 15, \"metric\": null, \"status\": \"Completed\", \"run_type\": \"azureml.scriptrun\", \"training_percent\": \"100\", \"start_time\": \"2021-01-08T21:55:03.891781Z\", \"end_time\": \"2021-01-08T21:55:42.884967Z\", \"created_time\": \"2021-01-08T21:54:53.106341Z\", \"created_time_dt\": \"2021-01-08T21:54:53.106341Z\", \"duration\": \"0:00:49\", \"iteration\": \"7\", \"goal\": \"accuracy_max\", \"run_name\": \"MinMaxScaler, SVM\", \"run_properties\": \"copy=True, feature_range=(0, 1\", \"primary_metric\": 0.71597701, \"best_metric\": 0.85275862}, {\"run_id\": \"AutoML_8c8dd2ca-7084-4f07-942d-b5295be4288a_8\", \"run_number\": 16, \"metric\": null, \"status\": \"Completed\", \"run_type\": \"azureml.scriptrun\", \"training_percent\": \"100\", \"start_time\": \"2021-01-08T21:55:57.311718Z\", \"end_time\": \"2021-01-08T21:56:41.544496Z\", \"created_time\": \"2021-01-08T21:55:45.195814Z\", \"created_time_dt\": \"2021-01-08T21:55:45.195814Z\", \"duration\": \"0:00:56\", \"iteration\": \"8\", \"goal\": \"accuracy_max\", \"run_name\": \"SparseNormalizer, XGBoostClassifier\", \"run_properties\": \"<azureml.automl.runtime.shared.model_wrappers.SparseNormalizer object at 0x7fe755a29cf8\", \"primary_metric\": 0.8262069, \"best_metric\": 0.85275862}, {\"run_id\": \"AutoML_8c8dd2ca-7084-4f07-942d-b5295be4288a_9\", \"run_number\": 17, \"metric\": null, \"status\": \"Completed\", \"run_type\": \"azureml.scriptrun\", \"training_percent\": \"100\", \"start_time\": \"2021-01-08T21:56:54.895203Z\", \"end_time\": \"2021-01-08T21:57:38.623381Z\", \"created_time\": \"2021-01-08T21:56:43.586447Z\", \"created_time_dt\": \"2021-01-08T21:56:43.586447Z\", \"duration\": \"0:00:55\", \"iteration\": \"9\", \"goal\": \"accuracy_max\", \"run_name\": \"StandardScalerWrapper, LightGBM\", \"run_properties\": \"<azureml.automl.runtime.shared.model_wrappers.StandardScalerWrapper object at 0x7f2041aa7550\", \"primary_metric\": 0.81931034, \"best_metric\": 0.85275862}, {\"run_id\": \"AutoML_8c8dd2ca-7084-4f07-942d-b5295be4288a_10\", \"run_number\": 18, \"metric\": null, \"status\": \"Completed\", \"run_type\": \"azureml.scriptrun\", \"training_percent\": \"100\", \"start_time\": \"2021-01-08T21:56:53.304778Z\", \"end_time\": \"2021-01-08T21:57:52.507008Z\", \"created_time\": \"2021-01-08T21:56:43.637555Z\", \"created_time_dt\": \"2021-01-08T21:56:43.637555Z\", \"duration\": \"0:01:08\", \"iteration\": \"10\", \"goal\": \"accuracy_max\", \"run_name\": \"MaxAbsScaler, LightGBM\", \"run_properties\": \"copy=True\", \"primary_metric\": 0.83275862, \"best_metric\": 0.85275862}, {\"run_id\": \"AutoML_8c8dd2ca-7084-4f07-942d-b5295be4288a_11\", \"run_number\": 19, \"metric\": null, \"status\": \"Completed\", \"run_type\": \"azureml.scriptrun\", \"training_percent\": \"100\", \"start_time\": \"2021-01-08T21:57:08.283312Z\", \"end_time\": \"2021-01-08T21:57:51.772648Z\", \"created_time\": \"2021-01-08T21:56:55.960861Z\", \"created_time_dt\": \"2021-01-08T21:56:55.960861Z\", \"duration\": \"0:00:55\", \"iteration\": \"11\", \"goal\": \"accuracy_max\", \"run_name\": \"MinMaxScaler, LightGBM\", \"run_properties\": \"copy=True, feature_range=(0, 1\", \"primary_metric\": 0.8191954, \"best_metric\": 0.85275862}, {\"run_id\": \"AutoML_8c8dd2ca-7084-4f07-942d-b5295be4288a_12\", \"run_number\": 20, \"metric\": null, \"status\": \"Completed\", \"run_type\": \"azureml.scriptrun\", \"training_percent\": \"100\", \"start_time\": \"2021-01-08T21:57:17.260232Z\", \"end_time\": \"2021-01-08T21:58:01.872615Z\", \"created_time\": \"2021-01-08T21:57:07.22167Z\", \"created_time_dt\": \"2021-01-08T21:57:07.22167Z\", \"duration\": \"0:00:54\", \"iteration\": \"12\", \"goal\": \"accuracy_max\", \"run_name\": \"MaxAbsScaler, LightGBM\", \"run_properties\": \"copy=True\", \"primary_metric\": 0.82252874, \"best_metric\": 0.85275862}, {\"run_id\": \"AutoML_8c8dd2ca-7084-4f07-942d-b5295be4288a_13\", \"run_number\": 21, \"metric\": null, \"status\": \"Completed\", \"run_type\": \"azureml.scriptrun\", \"training_percent\": \"100\", \"start_time\": \"2021-01-08T21:57:50.720235Z\", \"end_time\": \"2021-01-08T21:58:31.370897Z\", \"created_time\": \"2021-01-08T21:57:40.816777Z\", \"created_time_dt\": \"2021-01-08T21:57:40.816777Z\", \"duration\": \"0:00:50\", \"iteration\": \"13\", \"goal\": \"accuracy_max\", \"run_name\": \"StandardScalerWrapper, LightGBM\", \"run_properties\": \"<azureml.automl.runtime.shared.model_wrappers.StandardScalerWrapper object at 0x7fd2cd3559e8\", \"primary_metric\": 0.84252874, \"best_metric\": 0.85275862}, {\"run_id\": \"AutoML_8c8dd2ca-7084-4f07-942d-b5295be4288a_14\", \"run_number\": 22, \"metric\": null, \"status\": \"Completed\", \"run_type\": \"azureml.scriptrun\", \"training_percent\": \"100\", \"start_time\": \"2021-01-08T21:58:06.951847Z\", \"end_time\": \"2021-01-08T21:58:49.917857Z\", \"created_time\": \"2021-01-08T21:57:53.479596Z\", \"created_time_dt\": \"2021-01-08T21:57:53.479596Z\", \"duration\": \"0:00:56\", \"iteration\": \"14\", \"goal\": \"accuracy_max\", \"run_name\": \"MinMaxScaler, LightGBM\", \"run_properties\": \"copy=True, feature_range=(0, 1\", \"primary_metric\": 0.80931034, \"best_metric\": 0.85275862}, {\"run_id\": \"AutoML_8c8dd2ca-7084-4f07-942d-b5295be4288a_15\", \"run_number\": 23, \"metric\": null, \"status\": \"Completed\", \"run_type\": \"azureml.scriptrun\", \"training_percent\": \"100\", \"start_time\": \"2021-01-08T21:58:10.506218Z\", \"end_time\": \"2021-01-08T21:59:01.94308Z\", \"created_time\": \"2021-01-08T21:57:57.64556Z\", \"created_time_dt\": \"2021-01-08T21:57:57.64556Z\", \"duration\": \"0:01:04\", \"iteration\": \"15\", \"goal\": \"accuracy_max\", \"run_name\": \"MinMaxScaler, RandomForest\", \"run_properties\": \"copy=True, feature_range=(0, 1\", \"primary_metric\": 0.76931034, \"best_metric\": 0.85275862}, {\"run_id\": \"AutoML_8c8dd2ca-7084-4f07-942d-b5295be4288a_16\", \"run_number\": 24, \"metric\": null, \"status\": \"Completed\", \"run_type\": \"azureml.scriptrun\", \"training_percent\": \"100\", \"start_time\": \"2021-01-08T21:58:13.67164Z\", \"end_time\": \"2021-01-08T21:58:58.719066Z\", \"created_time\": \"2021-01-08T21:58:03.596958Z\", \"created_time_dt\": \"2021-01-08T21:58:03.596958Z\", \"duration\": \"0:00:55\", \"iteration\": \"16\", \"goal\": \"accuracy_max\", \"run_name\": \"StandardScalerWrapper, RandomForest\", \"run_properties\": \"<azureml.automl.runtime.shared.model_wrappers.StandardScalerWrapper object at 0x7fc77a289b38\", \"primary_metric\": 0.84264368, \"best_metric\": 0.85275862}, {\"run_id\": \"AutoML_8c8dd2ca-7084-4f07-942d-b5295be4288a_17\", \"run_number\": 25, \"metric\": null, \"status\": \"Completed\", \"run_type\": \"azureml.scriptrun\", \"training_percent\": \"100\", \"start_time\": \"2021-01-08T21:58:43.642524Z\", \"end_time\": \"2021-01-08T21:59:28.126568Z\", \"created_time\": \"2021-01-08T21:58:33.489731Z\", \"created_time_dt\": \"2021-01-08T21:58:33.489731Z\", \"duration\": \"0:00:54\", \"iteration\": \"17\", \"goal\": \"accuracy_max\", \"run_name\": \"MinMaxScaler, LightGBM\", \"run_properties\": \"copy=True, feature_range=(0, 1\", \"primary_metric\": 0.82241379, \"best_metric\": 0.85275862}, {\"run_id\": \"AutoML_8c8dd2ca-7084-4f07-942d-b5295be4288a_18\", \"run_number\": 26, \"metric\": null, \"status\": \"Completed\", \"run_type\": \"azureml.scriptrun\", \"training_percent\": \"100\", \"start_time\": \"2021-01-08T21:59:01.99449Z\", \"end_time\": \"2021-01-08T21:59:47.677911Z\", \"created_time\": \"2021-01-08T21:58:51.763008Z\", \"created_time_dt\": \"2021-01-08T21:58:51.763008Z\", \"duration\": \"0:00:55\", \"iteration\": \"18\", \"goal\": \"accuracy_max\", \"run_name\": \"MaxAbsScaler, LightGBM\", \"run_properties\": \"copy=True\", \"primary_metric\": 0.73586207, \"best_metric\": 0.85275862}, {\"run_id\": \"AutoML_8c8dd2ca-7084-4f07-942d-b5295be4288a_19\", \"run_number\": 27, \"metric\": null, \"status\": \"Completed\", \"run_type\": \"azureml.scriptrun\", \"training_percent\": \"100\", \"start_time\": \"2021-01-08T21:59:11.443328Z\", \"end_time\": \"2021-01-08T21:59:58.838103Z\", \"created_time\": \"2021-01-08T21:59:00.777719Z\", \"created_time_dt\": \"2021-01-08T21:59:00.777719Z\", \"duration\": \"0:00:58\", \"iteration\": \"19\", \"goal\": \"accuracy_max\", \"run_name\": \"StandardScalerWrapper, RandomForest\", \"run_properties\": \"<azureml.automl.runtime.shared.model_wrappers.StandardScalerWrapper object at 0x7f043d874438\", \"primary_metric\": 0.80896552, \"best_metric\": 0.85275862}, {\"run_id\": \"AutoML_8c8dd2ca-7084-4f07-942d-b5295be4288a_20\", \"run_number\": 28, \"metric\": null, \"status\": \"Completed\", \"run_type\": \"azureml.scriptrun\", \"training_percent\": \"100\", \"start_time\": \"2021-01-08T21:59:16.525849Z\", \"end_time\": \"2021-01-08T21:59:59.790723Z\", \"created_time\": \"2021-01-08T21:59:06.009388Z\", \"created_time_dt\": \"2021-01-08T21:59:06.009388Z\", \"duration\": \"0:00:53\", \"iteration\": \"20\", \"goal\": \"accuracy_max\", \"run_name\": \"SparseNormalizer, XGBoostClassifier\", \"run_properties\": \"<azureml.automl.runtime.shared.model_wrappers.SparseNormalizer object at 0x7f25ee018780\", \"primary_metric\": 0.83275862, \"best_metric\": 0.85275862}, {\"run_id\": \"AutoML_8c8dd2ca-7084-4f07-942d-b5295be4288a_21\", \"run_number\": 29, \"metric\": null, \"status\": \"Completed\", \"run_type\": \"azureml.scriptrun\", \"training_percent\": \"100\", \"start_time\": \"2021-01-08T21:59:41.930791Z\", \"end_time\": \"2021-01-08T22:00:30.466654Z\", \"created_time\": \"2021-01-08T21:59:29.918684Z\", \"created_time_dt\": \"2021-01-08T21:59:29.918684Z\", \"duration\": \"0:01:00\", \"iteration\": \"21\", \"goal\": \"accuracy_max\", \"run_name\": \"MaxAbsScaler, LightGBM\", \"run_properties\": \"copy=True\", \"primary_metric\": 0.81908046, \"best_metric\": 0.85275862}, {\"run_id\": \"AutoML_8c8dd2ca-7084-4f07-942d-b5295be4288a_22\", \"run_number\": 30, \"metric\": null, \"status\": \"Completed\", \"run_type\": \"azureml.scriptrun\", \"training_percent\": \"100\", \"start_time\": \"2021-01-08T22:00:00.25419Z\", \"end_time\": \"2021-01-08T22:00:41.937022Z\", \"created_time\": \"2021-01-08T21:59:49.546262Z\", \"created_time_dt\": \"2021-01-08T21:59:49.546262Z\", \"duration\": \"0:00:52\", \"iteration\": \"22\", \"goal\": \"accuracy_max\", \"run_name\": \"MaxAbsScaler, LightGBM\", \"run_properties\": \"copy=True\", \"primary_metric\": 0.85275862, \"best_metric\": 0.85275862}, {\"run_id\": \"AutoML_8c8dd2ca-7084-4f07-942d-b5295be4288a_23\", \"run_number\": 31, \"metric\": null, \"status\": \"Completed\", \"run_type\": \"azureml.scriptrun\", \"training_percent\": \"100\", \"start_time\": \"2021-01-08T22:00:18.399671Z\", \"end_time\": \"2021-01-08T22:01:01.791981Z\", \"created_time\": \"2021-01-08T22:00:01.056103Z\", \"created_time_dt\": \"2021-01-08T22:00:01.056103Z\", \"duration\": \"0:01:00\", \"iteration\": \"23\", \"goal\": \"accuracy_max\", \"run_name\": \"StandardScalerWrapper, LightGBM\", \"run_properties\": \"<azureml.automl.runtime.shared.model_wrappers.StandardScalerWrapper object at 0x7fa96d5f8f28\", \"primary_metric\": 0.83609195, \"best_metric\": 0.85275862}, {\"run_id\": \"AutoML_8c8dd2ca-7084-4f07-942d-b5295be4288a_24\", \"run_number\": 32, \"metric\": null, \"status\": \"Completed\", \"run_type\": \"azureml.scriptrun\", \"training_percent\": \"100\", \"start_time\": \"2021-01-08T22:00:19.703414Z\", \"end_time\": \"2021-01-08T22:01:04.264626Z\", \"created_time\": \"2021-01-08T22:00:09.368144Z\", \"created_time_dt\": \"2021-01-08T22:00:09.368144Z\", \"duration\": \"0:00:54\", \"iteration\": \"24\", \"goal\": \"accuracy_max\", \"run_name\": \"MinMaxScaler, LightGBM\", \"run_properties\": \"copy=True, feature_range=(0, 1\", \"primary_metric\": 0.73586207, \"best_metric\": 0.85275862}, {\"run_id\": \"AutoML_8c8dd2ca-7084-4f07-942d-b5295be4288a_25\", \"run_number\": 33, \"metric\": null, \"status\": \"Completed\", \"run_type\": \"azureml.scriptrun\", \"training_percent\": \"100\", \"start_time\": \"2021-01-08T22:00:43.351485Z\", \"end_time\": \"2021-01-08T22:01:27.944094Z\", \"created_time\": \"2021-01-08T22:00:33.095575Z\", \"created_time_dt\": \"2021-01-08T22:00:33.095575Z\", \"duration\": \"0:00:54\", \"iteration\": \"25\", \"goal\": \"accuracy_max\", \"run_name\": \"PCA, XGBoostClassifier\", \"run_properties\": \"copy=True, iterated_power='auto', n_components=0.05947368421052632,\\n    random_state=None, svd_solver='auto', tol=0.0, whiten=False\", \"primary_metric\": 0.6791954, \"best_metric\": 0.85275862}, {\"run_id\": \"AutoML_8c8dd2ca-7084-4f07-942d-b5295be4288a_26\", \"run_number\": 34, \"metric\": null, \"status\": \"Completed\", \"run_type\": \"azureml.scriptrun\", \"training_percent\": \"100\", \"start_time\": \"2021-01-08T22:00:56.680965Z\", \"end_time\": \"2021-01-08T22:01:37.660314Z\", \"created_time\": \"2021-01-08T22:00:43.718777Z\", \"created_time_dt\": \"2021-01-08T22:00:43.718777Z\", \"duration\": \"0:00:53\", \"iteration\": \"26\", \"goal\": \"accuracy_max\", \"run_name\": \"StandardScalerWrapper, KNN\", \"run_properties\": \"<azureml.automl.runtime.shared.model_wrappers.StandardScalerWrapper object at 0x7f8526920748\", \"primary_metric\": 0.63229885, \"best_metric\": 0.85275862}, {\"run_id\": \"AutoML_8c8dd2ca-7084-4f07-942d-b5295be4288a_27\", \"run_number\": 35, \"metric\": null, \"status\": \"Completed\", \"run_type\": \"azureml.scriptrun\", \"training_percent\": \"100\", \"start_time\": \"2021-01-08T22:01:13.626517Z\", \"end_time\": \"2021-01-08T22:01:58.166201Z\", \"created_time\": \"2021-01-08T22:01:03.674369Z\", \"created_time_dt\": \"2021-01-08T22:01:03.674369Z\", \"duration\": \"0:00:54\", \"iteration\": \"27\", \"goal\": \"accuracy_max\", \"run_name\": \"TruncatedSVDWrapper, XGBoostClassifier\", \"run_properties\": \"n_components=0.9005263157894737, random_state=None\", \"primary_metric\": 0.77885057, \"best_metric\": 0.85275862}, {\"run_id\": \"AutoML_8c8dd2ca-7084-4f07-942d-b5295be4288a_28\", \"run_number\": 36, \"metric\": null, \"status\": \"Completed\", \"run_type\": \"azureml.scriptrun\", \"training_percent\": \"100\", \"start_time\": \"2021-01-08T22:01:17.068928Z\", \"end_time\": \"2021-01-08T22:01:56.068777Z\", \"created_time\": \"2021-01-08T22:01:07.181924Z\", \"created_time_dt\": \"2021-01-08T22:01:07.181924Z\", \"duration\": \"0:00:48\", \"iteration\": \"28\", \"goal\": \"accuracy_max\", \"run_name\": \"StandardScalerWrapper, XGBoostClassifier\", \"run_properties\": \"<azureml.automl.runtime.shared.model_wrappers.StandardScalerWrapper object at 0x7f8c49785400\", \"primary_metric\": 0.83574713, \"best_metric\": 0.85275862}, {\"run_id\": \"AutoML_8c8dd2ca-7084-4f07-942d-b5295be4288a_29\", \"run_number\": 37, \"metric\": null, \"status\": \"Completed\", \"run_type\": \"azureml.scriptrun\", \"training_percent\": \"100\", \"start_time\": \"2021-01-08T22:01:40.383114Z\", \"end_time\": \"2021-01-08T22:02:25.43569Z\", \"created_time\": \"2021-01-08T22:01:29.703561Z\", \"created_time_dt\": \"2021-01-08T22:01:29.703561Z\", \"duration\": \"0:00:55\", \"iteration\": \"29\", \"goal\": \"accuracy_max\", \"run_name\": \"MaxAbsScaler, LightGBM\", \"run_properties\": \"copy=True\", \"primary_metric\": 0.81597701, \"best_metric\": 0.85275862}, {\"run_id\": \"AutoML_8c8dd2ca-7084-4f07-942d-b5295be4288a_30\", \"run_number\": 38, \"metric\": null, \"status\": \"Completed\", \"run_type\": \"azureml.scriptrun\", \"training_percent\": \"100\", \"start_time\": \"2021-01-08T22:01:51.453562Z\", \"end_time\": \"2021-01-08T22:02:42.480154Z\", \"created_time\": \"2021-01-08T22:01:40.868824Z\", \"created_time_dt\": \"2021-01-08T22:01:40.868824Z\", \"duration\": \"0:01:01\", \"iteration\": \"30\", \"goal\": \"accuracy_max\", \"run_name\": \"SparseNormalizer, XGBoostClassifier\", \"run_properties\": \"<azureml.automl.runtime.shared.model_wrappers.SparseNormalizer object at 0x7f07c67c5128\", \"primary_metric\": 0.81275862, \"best_metric\": 0.85275862}, {\"run_id\": \"AutoML_8c8dd2ca-7084-4f07-942d-b5295be4288a_31\", \"run_number\": 39, \"metric\": null, \"status\": \"Completed\", \"run_type\": \"azureml.scriptrun\", \"training_percent\": \"100\", \"start_time\": \"2021-01-08T22:02:08.62256Z\", \"end_time\": \"2021-01-08T22:02:54.755611Z\", \"created_time\": \"2021-01-08T22:01:57.923566Z\", \"created_time_dt\": \"2021-01-08T22:01:57.923566Z\", \"duration\": \"0:00:56\", \"iteration\": \"31\", \"goal\": \"accuracy_max\", \"run_name\": \"StandardScalerWrapper, XGBoostClassifier\", \"run_properties\": \"<azureml.automl.runtime.shared.model_wrappers.StandardScalerWrapper object at 0x7faf36378940\", \"primary_metric\": 0.84574713, \"best_metric\": 0.85275862}, {\"run_id\": \"AutoML_8c8dd2ca-7084-4f07-942d-b5295be4288a_32\", \"run_number\": 40, \"metric\": null, \"status\": \"Completed\", \"run_type\": \"azureml.scriptrun\", \"training_percent\": \"100\", \"start_time\": \"2021-01-08T22:02:14.174345Z\", \"end_time\": \"2021-01-08T22:02:54.258618Z\", \"created_time\": \"2021-01-08T22:02:01.155603Z\", \"created_time_dt\": \"2021-01-08T22:02:01.155603Z\", \"duration\": \"0:00:53\", \"iteration\": \"32\", \"goal\": \"accuracy_max\", \"run_name\": \"StandardScalerWrapper, XGBoostClassifier\", \"run_properties\": \"<azureml.automl.runtime.shared.model_wrappers.StandardScalerWrapper object at 0x7fab2ec62630\", \"primary_metric\": 0.83931034, \"best_metric\": 0.85275862}, {\"run_id\": \"AutoML_8c8dd2ca-7084-4f07-942d-b5295be4288a_33\", \"run_number\": 41, \"metric\": null, \"status\": \"Canceled\", \"run_type\": \"azureml.scriptrun\", \"training_percent\": \"100\", \"start_time\": \"2021-01-08T22:02:40.033843Z\", \"end_time\": \"2021-01-08T22:03:04.055952Z\", \"created_time\": \"2021-01-08T22:02:27.516094Z\", \"created_time_dt\": \"2021-01-08T22:02:27.516094Z\", \"duration\": \"0:00:36\", \"iteration\": \"33\", \"goal\": null, \"run_name\": \"RobustScaler, LightGBM\", \"run_properties\": null}, {\"run_id\": \"AutoML_8c8dd2ca-7084-4f07-942d-b5295be4288a_34\", \"run_number\": 42, \"metric\": null, \"status\": \"Canceled\", \"run_type\": \"azureml.scriptrun\", \"training_percent\": \"100\", \"start_time\": \"2021-01-08T22:02:44.725513Z\", \"end_time\": \"2021-01-08T22:03:03.553117Z\", \"created_time\": \"2021-01-08T22:02:44.725513Z\", \"created_time_dt\": \"2021-01-08T22:02:44.725513Z\", \"duration\": \"0:00:18\", \"iteration\": \"34\", \"goal\": null, \"run_name\": \"Canceled\", \"run_properties\": null}, {\"run_id\": \"AutoML_8c8dd2ca-7084-4f07-942d-b5295be4288a_36\", \"run_number\": 43, \"metric\": null, \"status\": \"Completed\", \"run_type\": \"azureml.scriptrun\", \"training_percent\": \"100\", \"start_time\": \"2021-01-08T22:03:17.372641Z\", \"end_time\": \"2021-01-08T22:05:17.153757Z\", \"created_time\": \"2021-01-08T22:03:06.717831Z\", \"created_time_dt\": \"2021-01-08T22:03:06.717831Z\", \"duration\": \"0:02:10\", \"iteration\": \"36\", \"goal\": \"accuracy_max\", \"run_name\": \"StackEnsemble\", \"run_properties\": \"base_learners=[('22',\\n                                        Pipeline(memory=None,\\n                                                 steps=[('maxabsscaler',\\n                                                         MaxAbsScaler(copy=True\", \"primary_metric\": 0.85287356, \"best_metric\": 0.8662069}, {\"run_id\": \"AutoML_8c8dd2ca-7084-4f07-942d-b5295be4288a_35\", \"run_number\": 44, \"metric\": null, \"status\": \"Completed\", \"run_type\": \"azureml.scriptrun\", \"training_percent\": \"100\", \"start_time\": \"2021-01-08T22:03:17.294119Z\", \"end_time\": \"2021-01-08T22:05:05.419774Z\", \"created_time\": \"2021-01-08T22:03:06.720984Z\", \"created_time_dt\": \"2021-01-08T22:03:06.720984Z\", \"duration\": \"0:01:58\", \"iteration\": \"35\", \"goal\": \"accuracy_max\", \"run_name\": \"VotingEnsemble\", \"run_properties\": \"classification_labels=None,\\n                              estimators=[('22',\\n                                           Pipeline(memory=None,\\n                                                    steps=[('maxabsscaler',\\n                                                            MaxAbsScaler(copy=True\", \"primary_metric\": 0.8662069, \"best_metric\": 0.8662069}], \"children_metrics\": {\"categories\": [0], \"series\": {\"f1_score_macro\": [{\"categories\": [\"0\", \"1\", \"2\", \"3\", \"4\", \"5\", \"6\", \"7\", \"8\", \"9\", \"10\", \"11\", \"12\", \"13\", \"14\", \"15\", \"16\", \"17\", \"18\", \"19\", \"20\", \"21\", \"22\", \"23\", \"24\", \"25\", \"26\", \"27\", \"28\", \"29\", \"30\", \"31\", \"32\", \"35\", \"36\"], \"mode\": \"markers\", \"name\": \"f1_score_macro\", \"stepped\": false, \"type\": \"scatter\", \"data\": [0.8043314151248963, 0.8078501228997539, 0.8012730733191191, 0.8176100901956914, 0.8112943531684307, 0.8238235640260811, 0.682458443352641, 0.5916978537926101, 0.7921015258921438, 0.7645522708239937, 0.791706353717789, 0.7629441235350116, 0.768854440839495, 0.8048117304939767, 0.7351467590123727, 0.6462429098182456, 0.8058224626250942, 0.7807691498603527, 0.5613834315732401, 0.7843019792647643, 0.7949782091004657, 0.7621855979178976, 0.8215170080618857, 0.7872210937785472, 0.564394732393854, 0.4024893878511494, 0.5157594347858914, 0.7402895447918659, 0.8030003546793546, 0.753292833021183, 0.7567765348848277, 0.8144514609077932, 0.8026096581295047, 0.8365105334337797, 0.8189485253300095]}, {\"categories\": [\"0\", \"1\", \"2\", \"3\", \"4\", \"5\", \"6\", \"7\", \"8\", \"9\", \"10\", \"11\", \"12\", \"13\", \"14\", \"15\", \"16\", \"17\", \"18\", \"19\", \"20\", \"21\", \"22\", \"23\", \"24\", \"25\", \"26\", \"27\", \"28\", \"29\", \"30\", \"31\", \"32\", \"35\", \"36\"], \"mode\": \"lines\", \"name\": \"f1_score_macro_max\", \"stepped\": true, \"type\": \"scatter\", \"data\": [0.8043314151248963, 0.8078501228997539, 0.8078501228997539, 0.8176100901956914, 0.8176100901956914, 0.8238235640260811, 0.8238235640260811, 0.8238235640260811, 0.8238235640260811, 0.8238235640260811, 0.8238235640260811, 0.8238235640260811, 0.8238235640260811, 0.8238235640260811, 0.8238235640260811, 0.8238235640260811, 0.8238235640260811, 0.8238235640260811, 0.8238235640260811, 0.8238235640260811, 0.8238235640260811, 0.8238235640260811, 0.8238235640260811, 0.8238235640260811, 0.8238235640260811, 0.8238235640260811, 0.8238235640260811, 0.8238235640260811, 0.8238235640260811, 0.8238235640260811, 0.8238235640260811, 0.8238235640260811, 0.8238235640260811, 0.8365105334337797, 0.8365105334337797]}], \"weighted_accuracy\": [{\"categories\": [\"0\", \"1\", \"2\", \"3\", \"4\", \"5\", \"6\", \"7\", \"8\", \"9\", \"10\", \"11\", \"12\", \"13\", \"14\", \"15\", \"16\", \"17\", \"18\", \"19\", \"20\", \"21\", \"22\", \"23\", \"24\", \"25\", \"26\", \"27\", \"28\", \"29\", \"30\", \"31\", \"32\", \"35\", \"36\"], \"mode\": \"markers\", \"name\": \"weighted_accuracy\", \"stepped\": false, \"type\": \"scatter\", \"data\": [0.8541321922200625, 0.8502962163535492, 0.8578183049010434, 0.8711702897732903, 0.8497064204620379, 0.8686252631329389, 0.807770233321941, 0.7832740727183367, 0.8497399958592625, 0.8622240193597154, 0.8630499805730715, 0.8645105488477217, 0.8645782230858627, 0.8691402624427287, 0.8584774408508468, 0.8445829597052962, 0.8699128792899529, 0.8497860708661626, 0.8301801207924877, 0.8071242703312365, 0.8564093306987761, 0.8593743936256344, 0.873982355604922, 0.8734148514751434, 0.8270651146884263, 0.7931711479234276, 0.6926149153213841, 0.7961984927699992, 0.8548330351806916, 0.8656750096917115, 0.8567613029107408, 0.8629903015808429, 0.8613171490646818, 0.8880442818344199, 0.879245043632959]}, {\"categories\": [\"0\", \"1\", \"2\", \"3\", \"4\", \"5\", \"6\", \"7\", \"8\", \"9\", \"10\", \"11\", \"12\", \"13\", \"14\", \"15\", \"16\", \"17\", \"18\", \"19\", \"20\", \"21\", \"22\", \"23\", \"24\", \"25\", \"26\", \"27\", \"28\", \"29\", \"30\", \"31\", \"32\", \"35\", \"36\"], \"mode\": \"lines\", \"name\": \"weighted_accuracy_max\", \"stepped\": true, \"type\": \"scatter\", \"data\": [0.8541321922200625, 0.8541321922200625, 0.8578183049010434, 0.8711702897732903, 0.8711702897732903, 0.8711702897732903, 0.8711702897732903, 0.8711702897732903, 0.8711702897732903, 0.8711702897732903, 0.8711702897732903, 0.8711702897732903, 0.8711702897732903, 0.8711702897732903, 0.8711702897732903, 0.8711702897732903, 0.8711702897732903, 0.8711702897732903, 0.8711702897732903, 0.8711702897732903, 0.8711702897732903, 0.8711702897732903, 0.873982355604922, 0.873982355604922, 0.873982355604922, 0.873982355604922, 0.873982355604922, 0.873982355604922, 0.873982355604922, 0.873982355604922, 0.873982355604922, 0.873982355604922, 0.873982355604922, 0.8880442818344199, 0.8880442818344199]}], \"accuracy\": [{\"categories\": [\"0\", \"1\", \"2\", \"3\", \"4\", \"5\", \"6\", \"7\", \"8\", \"9\", \"10\", \"11\", \"12\", \"13\", \"14\", \"15\", \"16\", \"17\", \"18\", \"19\", \"20\", \"21\", \"22\", \"23\", \"24\", \"25\", \"26\", \"27\", \"28\", \"29\", \"30\", \"31\", \"32\", \"35\", \"36\"], \"mode\": \"markers\", \"name\": \"accuracy\", \"stepped\": false, \"type\": \"scatter\", \"data\": [0.8359770114942527, 0.8358620689655172, 0.8358620689655172, 0.8491954022988505, 0.8391954022988506, 0.8527586206896552, 0.759080459770115, 0.7159770114942529, 0.8262068965517242, 0.8193103448275864, 0.8327586206896551, 0.8191954022988506, 0.822528735632184, 0.8425287356321839, 0.8093103448275862, 0.7693103448275862, 0.8426436781609196, 0.8224137931034482, 0.7358620689655173, 0.8089655172413794, 0.8327586206896551, 0.8190804597701149, 0.8527586206896552, 0.8360919540229885, 0.7358620689655173, 0.6791954022988507, 0.6322988505747127, 0.7788505747126437, 0.8357471264367817, 0.8159770114942528, 0.8127586206896552, 0.8457471264367816, 0.8393103448275863, 0.8662068965517242, 0.8528735632183908]}, {\"categories\": [\"0\", \"1\", \"2\", \"3\", \"4\", \"5\", \"6\", \"7\", \"8\", \"9\", \"10\", \"11\", \"12\", \"13\", \"14\", \"15\", \"16\", \"17\", \"18\", \"19\", \"20\", \"21\", \"22\", \"23\", \"24\", \"25\", \"26\", \"27\", \"28\", \"29\", \"30\", \"31\", \"32\", \"35\", \"36\"], \"mode\": \"lines\", \"name\": \"accuracy_max\", \"stepped\": true, \"type\": \"scatter\", \"data\": [0.8359770114942527, 0.8359770114942527, 0.8359770114942527, 0.8491954022988505, 0.8491954022988505, 0.8527586206896552, 0.8527586206896552, 0.8527586206896552, 0.8527586206896552, 0.8527586206896552, 0.8527586206896552, 0.8527586206896552, 0.8527586206896552, 0.8527586206896552, 0.8527586206896552, 0.8527586206896552, 0.8527586206896552, 0.8527586206896552, 0.8527586206896552, 0.8527586206896552, 0.8527586206896552, 0.8527586206896552, 0.8527586206896552, 0.8527586206896552, 0.8527586206896552, 0.8527586206896552, 0.8527586206896552, 0.8527586206896552, 0.8527586206896552, 0.8527586206896552, 0.8527586206896552, 0.8527586206896552, 0.8527586206896552, 0.8662068965517242, 0.8662068965517242]}], \"precision_score_weighted\": [{\"categories\": [\"0\", \"1\", \"2\", \"3\", \"4\", \"5\", \"6\", \"7\", \"8\", \"9\", \"10\", \"11\", \"12\", \"13\", \"14\", \"15\", \"16\", \"17\", \"18\", \"19\", \"20\", \"21\", \"22\", \"23\", \"24\", \"25\", \"26\", \"27\", \"28\", \"29\", \"30\", \"31\", \"32\", \"35\", \"36\"], \"mode\": \"markers\", \"name\": \"precision_score_weighted\", \"stepped\": false, \"type\": \"scatter\", \"data\": [0.8443308716969533, 0.8506678986628277, 0.8471379694890366, 0.8598825111792303, 0.8533215719763476, 0.8641817857500899, 0.7743455000382063, 0.7079833487074867, 0.8327471299855503, 0.833450517689873, 0.844735316683194, 0.8347166300447659, 0.8408448720925732, 0.8530694491526575, 0.8236452403927167, 0.8162423369613524, 0.8561299382776145, 0.8393658262554814, 0.7932400382093209, 0.8374228846370407, 0.8440797961824948, 0.8375350070635678, 0.8664131488349393, 0.8547276278166833, 0.7573271586702544, 0.47055053507728895, 0.6180074456642732, 0.7931209708049446, 0.8466724750520616, 0.8314714021194531, 0.8244983613171769, 0.856055451009812, 0.8520676351939469, 0.8777449911407931, 0.8635269129700296]}, {\"categories\": [\"0\", \"1\", \"2\", \"3\", \"4\", \"5\", \"6\", \"7\", \"8\", \"9\", \"10\", \"11\", \"12\", \"13\", \"14\", \"15\", \"16\", \"17\", \"18\", \"19\", \"20\", \"21\", \"22\", \"23\", \"24\", \"25\", \"26\", \"27\", \"28\", \"29\", \"30\", \"31\", \"32\", \"35\", \"36\"], \"mode\": \"lines\", \"name\": \"precision_score_weighted_max\", \"stepped\": true, \"type\": \"scatter\", \"data\": [0.8443308716969533, 0.8506678986628277, 0.8506678986628277, 0.8598825111792303, 0.8598825111792303, 0.8641817857500899, 0.8641817857500899, 0.8641817857500899, 0.8641817857500899, 0.8641817857500899, 0.8641817857500899, 0.8641817857500899, 0.8641817857500899, 0.8641817857500899, 0.8641817857500899, 0.8641817857500899, 0.8641817857500899, 0.8641817857500899, 0.8641817857500899, 0.8641817857500899, 0.8641817857500899, 0.8641817857500899, 0.8664131488349393, 0.8664131488349393, 0.8664131488349393, 0.8664131488349393, 0.8664131488349393, 0.8664131488349393, 0.8664131488349393, 0.8664131488349393, 0.8664131488349393, 0.8664131488349393, 0.8664131488349393, 0.8777449911407931, 0.8777449911407931]}], \"AUC_weighted\": [{\"categories\": [\"0\", \"1\", \"2\", \"3\", \"4\", \"5\", \"6\", \"7\", \"8\", \"9\", \"10\", \"11\", \"12\", \"13\", \"14\", \"15\", \"16\", \"17\", \"18\", \"19\", \"20\", \"21\", \"22\", \"23\", \"24\", \"25\", \"26\", \"27\", \"28\", \"29\", \"30\", \"31\", \"32\", \"35\", \"36\"], \"mode\": \"markers\", \"name\": \"AUC_weighted\", \"stepped\": false, \"type\": \"scatter\", \"data\": [0.8840955354735103, 0.8847369443591411, 0.8772922744388418, 0.9012693026483645, 0.904633289828656, 0.8985853525584933, 0.7996258755419511, 0.7162697213224101, 0.8825041112332874, 0.8998569687283645, 0.8881343753955596, 0.8804468959509005, 0.8998198530196813, 0.9019662305192053, 0.8581191510836821, 0.8944430598344788, 0.9036145782220153, 0.8886791326691783, 0.8581287519138205, 0.909632632002712, 0.8744683358043769, 0.8777493499339037, 0.9057782285093496, 0.8925834064740243, 0.8627513298232404, 0.5, 0.5185534616625005, 0.8493684002496359, 0.8760148104808574, 0.8866186786960814, 0.8592520413627394, 0.902944538085442, 0.8890898286146856, 0.9082779576851661, 0.9088035772897328]}, {\"categories\": [\"0\", \"1\", \"2\", \"3\", \"4\", \"5\", \"6\", \"7\", \"8\", \"9\", \"10\", \"11\", \"12\", \"13\", \"14\", \"15\", \"16\", \"17\", \"18\", \"19\", \"20\", \"21\", \"22\", \"23\", \"24\", \"25\", \"26\", \"27\", \"28\", \"29\", \"30\", \"31\", \"32\", \"35\", \"36\"], \"mode\": \"lines\", \"name\": \"AUC_weighted_max\", \"stepped\": true, \"type\": \"scatter\", \"data\": [0.8840955354735103, 0.8847369443591411, 0.8847369443591411, 0.9012693026483645, 0.904633289828656, 0.904633289828656, 0.904633289828656, 0.904633289828656, 0.904633289828656, 0.904633289828656, 0.904633289828656, 0.904633289828656, 0.904633289828656, 0.904633289828656, 0.904633289828656, 0.904633289828656, 0.904633289828656, 0.904633289828656, 0.904633289828656, 0.909632632002712, 0.909632632002712, 0.909632632002712, 0.909632632002712, 0.909632632002712, 0.909632632002712, 0.909632632002712, 0.909632632002712, 0.909632632002712, 0.909632632002712, 0.909632632002712, 0.909632632002712, 0.909632632002712, 0.909632632002712, 0.909632632002712, 0.909632632002712]}], \"average_precision_score_micro\": [{\"categories\": [\"0\", \"1\", \"2\", \"3\", \"4\", \"5\", \"6\", \"7\", \"8\", \"9\", \"10\", \"11\", \"12\", \"13\", \"14\", \"15\", \"16\", \"17\", \"18\", \"19\", \"20\", \"21\", \"22\", \"23\", \"24\", \"25\", \"26\", \"27\", \"28\", \"29\", \"30\", \"31\", \"32\", \"35\", \"36\"], \"mode\": \"markers\", \"name\": \"average_precision_score_micro\", \"stepped\": false, \"type\": \"scatter\", \"data\": [0.9020054536251629, 0.9033793522124445, 0.8928062565492821, 0.9158481536128406, 0.9195413018589443, 0.9099307740177895, 0.816797085309471, 0.7573957748609113, 0.8927921507595282, 0.8892588332031425, 0.8883775922958298, 0.8957612634970736, 0.9088523550199694, 0.9140532860276398, 0.8804914442473584, 0.8780302255489902, 0.9125937900996914, 0.911005246768371, 0.8542521787824322, 0.9073727927494474, 0.8958303391331229, 0.8992848479548743, 0.9204716753880373, 0.9015625650250838, 0.857271860680519, 0.6309528339278636, 0.6459527360801512, 0.8707398338500306, 0.8954280357310583, 0.874213726671546, 0.8717809065406301, 0.914299203250013, 0.8950673049215215, 0.9209556938792456, 0.9218592491593522]}, {\"categories\": [\"0\", \"1\", \"2\", \"3\", \"4\", \"5\", \"6\", \"7\", \"8\", \"9\", \"10\", \"11\", \"12\", \"13\", \"14\", \"15\", \"16\", \"17\", \"18\", \"19\", \"20\", \"21\", \"22\", \"23\", \"24\", \"25\", \"26\", \"27\", \"28\", \"29\", \"30\", \"31\", \"32\", \"35\", \"36\"], \"mode\": \"lines\", \"name\": \"average_precision_score_micro_max\", \"stepped\": true, \"type\": \"scatter\", \"data\": [0.9020054536251629, 0.9033793522124445, 0.9033793522124445, 0.9158481536128406, 0.9195413018589443, 0.9195413018589443, 0.9195413018589443, 0.9195413018589443, 0.9195413018589443, 0.9195413018589443, 0.9195413018589443, 0.9195413018589443, 0.9195413018589443, 0.9195413018589443, 0.9195413018589443, 0.9195413018589443, 0.9195413018589443, 0.9195413018589443, 0.9195413018589443, 0.9195413018589443, 0.9195413018589443, 0.9195413018589443, 0.9204716753880373, 0.9204716753880373, 0.9204716753880373, 0.9204716753880373, 0.9204716753880373, 0.9204716753880373, 0.9204716753880373, 0.9204716753880373, 0.9204716753880373, 0.9204716753880373, 0.9204716753880373, 0.9209556938792456, 0.9218592491593522]}], \"precision_score_micro\": [{\"categories\": [\"0\", \"1\", \"2\", \"3\", \"4\", \"5\", \"6\", \"7\", \"8\", \"9\", \"10\", \"11\", \"12\", \"13\", \"14\", \"15\", \"16\", \"17\", \"18\", \"19\", \"20\", \"21\", \"22\", \"23\", \"24\", \"25\", \"26\", \"27\", \"28\", \"29\", \"30\", \"31\", \"32\", \"35\", \"36\"], \"mode\": \"markers\", \"name\": \"precision_score_micro\", \"stepped\": false, \"type\": \"scatter\", \"data\": [0.8359770114942527, 0.8358620689655172, 0.8358620689655172, 0.8491954022988505, 0.8391954022988506, 0.8527586206896552, 0.759080459770115, 0.7159770114942529, 0.8262068965517242, 0.8193103448275864, 0.8327586206896551, 0.8191954022988506, 0.822528735632184, 0.8425287356321839, 0.8093103448275862, 0.7693103448275862, 0.8426436781609196, 0.8224137931034482, 0.7358620689655173, 0.8089655172413794, 0.8327586206896551, 0.8190804597701149, 0.8527586206896552, 0.8360919540229885, 0.7358620689655173, 0.6791954022988507, 0.6322988505747127, 0.7788505747126437, 0.8357471264367817, 0.8159770114942528, 0.8127586206896552, 0.8457471264367816, 0.8393103448275863, 0.8662068965517242, 0.8528735632183908]}, {\"categories\": [\"0\", \"1\", \"2\", \"3\", \"4\", \"5\", \"6\", \"7\", \"8\", \"9\", \"10\", \"11\", \"12\", \"13\", \"14\", \"15\", \"16\", \"17\", \"18\", \"19\", \"20\", \"21\", \"22\", \"23\", \"24\", \"25\", \"26\", \"27\", \"28\", \"29\", \"30\", \"31\", \"32\", \"35\", \"36\"], \"mode\": \"lines\", \"name\": \"precision_score_micro_max\", \"stepped\": true, \"type\": \"scatter\", \"data\": [0.8359770114942527, 0.8359770114942527, 0.8359770114942527, 0.8491954022988505, 0.8491954022988505, 0.8527586206896552, 0.8527586206896552, 0.8527586206896552, 0.8527586206896552, 0.8527586206896552, 0.8527586206896552, 0.8527586206896552, 0.8527586206896552, 0.8527586206896552, 0.8527586206896552, 0.8527586206896552, 0.8527586206896552, 0.8527586206896552, 0.8527586206896552, 0.8527586206896552, 0.8527586206896552, 0.8527586206896552, 0.8527586206896552, 0.8527586206896552, 0.8527586206896552, 0.8527586206896552, 0.8527586206896552, 0.8527586206896552, 0.8527586206896552, 0.8527586206896552, 0.8527586206896552, 0.8527586206896552, 0.8527586206896552, 0.8662068965517242, 0.8662068965517242]}], \"recall_score_weighted\": [{\"categories\": [\"0\", \"1\", \"2\", \"3\", \"4\", \"5\", \"6\", \"7\", \"8\", \"9\", \"10\", \"11\", \"12\", \"13\", \"14\", \"15\", \"16\", \"17\", \"18\", \"19\", \"20\", \"21\", \"22\", \"23\", \"24\", \"25\", \"26\", \"27\", \"28\", \"29\", \"30\", \"31\", \"32\", \"35\", \"36\"], \"mode\": \"markers\", \"name\": \"recall_score_weighted\", \"stepped\": false, \"type\": \"scatter\", \"data\": [0.8359770114942527, 0.8358620689655172, 0.8358620689655172, 0.8491954022988505, 0.8391954022988506, 0.8527586206896552, 0.759080459770115, 0.7159770114942529, 0.8262068965517242, 0.8193103448275864, 0.8327586206896551, 0.8191954022988506, 0.822528735632184, 0.8425287356321839, 0.8093103448275862, 0.7693103448275862, 0.8426436781609196, 0.8224137931034482, 0.7358620689655173, 0.8089655172413794, 0.8327586206896551, 0.8190804597701149, 0.8527586206896552, 0.8360919540229885, 0.7358620689655173, 0.6791954022988507, 0.6322988505747127, 0.7788505747126437, 0.8357471264367817, 0.8159770114942528, 0.8127586206896552, 0.8457471264367816, 0.8393103448275863, 0.8662068965517242, 0.8528735632183908]}, {\"categories\": [\"0\", \"1\", \"2\", \"3\", \"4\", \"5\", \"6\", \"7\", \"8\", \"9\", \"10\", \"11\", \"12\", \"13\", \"14\", \"15\", \"16\", \"17\", \"18\", \"19\", \"20\", \"21\", \"22\", \"23\", \"24\", \"25\", \"26\", \"27\", \"28\", \"29\", \"30\", \"31\", \"32\", \"35\", \"36\"], \"mode\": \"lines\", \"name\": \"recall_score_weighted_max\", \"stepped\": true, \"type\": \"scatter\", \"data\": [0.8359770114942527, 0.8359770114942527, 0.8359770114942527, 0.8491954022988505, 0.8491954022988505, 0.8527586206896552, 0.8527586206896552, 0.8527586206896552, 0.8527586206896552, 0.8527586206896552, 0.8527586206896552, 0.8527586206896552, 0.8527586206896552, 0.8527586206896552, 0.8527586206896552, 0.8527586206896552, 0.8527586206896552, 0.8527586206896552, 0.8527586206896552, 0.8527586206896552, 0.8527586206896552, 0.8527586206896552, 0.8527586206896552, 0.8527586206896552, 0.8527586206896552, 0.8527586206896552, 0.8527586206896552, 0.8527586206896552, 0.8527586206896552, 0.8527586206896552, 0.8527586206896552, 0.8527586206896552, 0.8527586206896552, 0.8662068965517242, 0.8662068965517242]}], \"average_precision_score_weighted\": [{\"categories\": [\"0\", \"1\", \"2\", \"3\", \"4\", \"5\", \"6\", \"7\", \"8\", \"9\", \"10\", \"11\", \"12\", \"13\", \"14\", \"15\", \"16\", \"17\", \"18\", \"19\", \"20\", \"21\", \"22\", \"23\", \"24\", \"25\", \"26\", \"27\", \"28\", \"29\", \"30\", \"31\", \"32\", \"35\", \"36\"], \"mode\": \"markers\", \"name\": \"average_precision_score_weighted\", \"stepped\": false, \"type\": \"scatter\", \"data\": [0.9061112830231934, 0.907154018724502, 0.896583631720296, 0.9196191215529655, 0.9235886157507966, 0.9145117195769952, 0.8273529911223733, 0.7667479162726786, 0.8980553134348908, 0.910404859517751, 0.8986098560062482, 0.9059058288252114, 0.9157172188960627, 0.917727660232195, 0.8884572486473212, 0.913442465888693, 0.923867678410403, 0.9135603639486272, 0.892000229707491, 0.9254383361563274, 0.8943327767175836, 0.905233108733427, 0.921705100510869, 0.9113930565833384, 0.8889567946854197, 0.5827102655568768, 0.6326290656427421, 0.8694672795200964, 0.8992117925057537, 0.888324275117038, 0.8783338337428319, 0.9178248691605291, 0.8970735335670106, 0.9252446620997656, 0.9236773482157681]}, {\"categories\": [\"0\", \"1\", \"2\", \"3\", \"4\", \"5\", \"6\", \"7\", \"8\", \"9\", \"10\", \"11\", \"12\", \"13\", \"14\", \"15\", \"16\", \"17\", \"18\", \"19\", \"20\", \"21\", \"22\", \"23\", \"24\", \"25\", \"26\", \"27\", \"28\", \"29\", \"30\", \"31\", \"32\", \"35\", \"36\"], \"mode\": \"lines\", \"name\": \"average_precision_score_weighted_max\", \"stepped\": true, \"type\": \"scatter\", \"data\": [0.9061112830231934, 0.907154018724502, 0.907154018724502, 0.9196191215529655, 0.9235886157507966, 0.9235886157507966, 0.9235886157507966, 0.9235886157507966, 0.9235886157507966, 0.9235886157507966, 0.9235886157507966, 0.9235886157507966, 0.9235886157507966, 0.9235886157507966, 0.9235886157507966, 0.9235886157507966, 0.923867678410403, 0.923867678410403, 0.923867678410403, 0.9254383361563274, 0.9254383361563274, 0.9254383361563274, 0.9254383361563274, 0.9254383361563274, 0.9254383361563274, 0.9254383361563274, 0.9254383361563274, 0.9254383361563274, 0.9254383361563274, 0.9254383361563274, 0.9254383361563274, 0.9254383361563274, 0.9254383361563274, 0.9254383361563274, 0.9254383361563274]}], \"recall_score_micro\": [{\"categories\": [\"0\", \"1\", \"2\", \"3\", \"4\", \"5\", \"6\", \"7\", \"8\", \"9\", \"10\", \"11\", \"12\", \"13\", \"14\", \"15\", \"16\", \"17\", \"18\", \"19\", \"20\", \"21\", \"22\", \"23\", \"24\", \"25\", \"26\", \"27\", \"28\", \"29\", \"30\", \"31\", \"32\", \"35\", \"36\"], \"mode\": \"markers\", \"name\": \"recall_score_micro\", \"stepped\": false, \"type\": \"scatter\", \"data\": [0.8359770114942527, 0.8358620689655172, 0.8358620689655172, 0.8491954022988505, 0.8391954022988506, 0.8527586206896552, 0.759080459770115, 0.7159770114942529, 0.8262068965517242, 0.8193103448275864, 0.8327586206896551, 0.8191954022988506, 0.822528735632184, 0.8425287356321839, 0.8093103448275862, 0.7693103448275862, 0.8426436781609196, 0.8224137931034482, 0.7358620689655173, 0.8089655172413794, 0.8327586206896551, 0.8190804597701149, 0.8527586206896552, 0.8360919540229885, 0.7358620689655173, 0.6791954022988507, 0.6322988505747127, 0.7788505747126437, 0.8357471264367817, 0.8159770114942528, 0.8127586206896552, 0.8457471264367816, 0.8393103448275863, 0.8662068965517242, 0.8528735632183908]}, {\"categories\": [\"0\", \"1\", \"2\", \"3\", \"4\", \"5\", \"6\", \"7\", \"8\", \"9\", \"10\", \"11\", \"12\", \"13\", \"14\", \"15\", \"16\", \"17\", \"18\", \"19\", \"20\", \"21\", \"22\", \"23\", \"24\", \"25\", \"26\", \"27\", \"28\", \"29\", \"30\", \"31\", \"32\", \"35\", \"36\"], \"mode\": \"lines\", \"name\": \"recall_score_micro_max\", \"stepped\": true, \"type\": \"scatter\", \"data\": [0.8359770114942527, 0.8359770114942527, 0.8359770114942527, 0.8491954022988505, 0.8491954022988505, 0.8527586206896552, 0.8527586206896552, 0.8527586206896552, 0.8527586206896552, 0.8527586206896552, 0.8527586206896552, 0.8527586206896552, 0.8527586206896552, 0.8527586206896552, 0.8527586206896552, 0.8527586206896552, 0.8527586206896552, 0.8527586206896552, 0.8527586206896552, 0.8527586206896552, 0.8527586206896552, 0.8527586206896552, 0.8527586206896552, 0.8527586206896552, 0.8527586206896552, 0.8527586206896552, 0.8527586206896552, 0.8527586206896552, 0.8527586206896552, 0.8527586206896552, 0.8527586206896552, 0.8527586206896552, 0.8527586206896552, 0.8662068965517242, 0.8662068965517242]}], \"f1_score_micro\": [{\"categories\": [\"0\", \"1\", \"2\", \"3\", \"4\", \"5\", \"6\", \"7\", \"8\", \"9\", \"10\", \"11\", \"12\", \"13\", \"14\", \"15\", \"16\", \"17\", \"18\", \"19\", \"20\", \"21\", \"22\", \"23\", \"24\", \"25\", \"26\", \"27\", \"28\", \"29\", \"30\", \"31\", \"32\", \"35\", \"36\"], \"mode\": \"markers\", \"name\": \"f1_score_micro\", \"stepped\": false, \"type\": \"scatter\", \"data\": [0.8359770114942527, 0.8358620689655172, 0.8358620689655172, 0.8491954022988505, 0.8391954022988506, 0.8527586206896552, 0.7590804597701151, 0.7159770114942529, 0.8262068965517242, 0.8193103448275864, 0.8327586206896551, 0.8191954022988506, 0.822528735632184, 0.8425287356321839, 0.8093103448275862, 0.7693103448275862, 0.8426436781609196, 0.8224137931034482, 0.7358620689655173, 0.8089655172413794, 0.8327586206896551, 0.8190804597701149, 0.8527586206896552, 0.8360919540229885, 0.7358620689655173, 0.6791954022988507, 0.6322988505747127, 0.7788505747126437, 0.8357471264367817, 0.8159770114942528, 0.8127586206896552, 0.8457471264367816, 0.8393103448275863, 0.8662068965517242, 0.8528735632183908]}, {\"categories\": [\"0\", \"1\", \"2\", \"3\", \"4\", \"5\", \"6\", \"7\", \"8\", \"9\", \"10\", \"11\", \"12\", \"13\", \"14\", \"15\", \"16\", \"17\", \"18\", \"19\", \"20\", \"21\", \"22\", \"23\", \"24\", \"25\", \"26\", \"27\", \"28\", \"29\", \"30\", \"31\", \"32\", \"35\", \"36\"], \"mode\": \"lines\", \"name\": \"f1_score_micro_max\", \"stepped\": true, \"type\": \"scatter\", \"data\": [0.8359770114942527, 0.8359770114942527, 0.8359770114942527, 0.8491954022988505, 0.8491954022988505, 0.8527586206896552, 0.8527586206896552, 0.8527586206896552, 0.8527586206896552, 0.8527586206896552, 0.8527586206896552, 0.8527586206896552, 0.8527586206896552, 0.8527586206896552, 0.8527586206896552, 0.8527586206896552, 0.8527586206896552, 0.8527586206896552, 0.8527586206896552, 0.8527586206896552, 0.8527586206896552, 0.8527586206896552, 0.8527586206896552, 0.8527586206896552, 0.8527586206896552, 0.8527586206896552, 0.8527586206896552, 0.8527586206896552, 0.8527586206896552, 0.8527586206896552, 0.8527586206896552, 0.8527586206896552, 0.8527586206896552, 0.8662068965517242, 0.8662068965517242]}], \"log_loss\": [{\"categories\": [\"0\", \"1\", \"2\", \"3\", \"4\", \"5\", \"6\", \"7\", \"8\", \"9\", \"10\", \"11\", \"12\", \"13\", \"14\", \"15\", \"16\", \"17\", \"18\", \"19\", \"20\", \"21\", \"22\", \"23\", \"24\", \"25\", \"26\", \"27\", \"28\", \"29\", \"30\", \"31\", \"32\", \"35\", \"36\"], \"mode\": \"markers\", \"name\": \"log_loss\", \"stepped\": false, \"type\": \"scatter\", \"data\": [0.4772179826627182, 0.41764279466886123, 0.5004002610226046, 0.3808215199084126, 0.3654912559444149, 0.38786769717833075, 0.5312672495897554, 0.5932818967885185, 0.469153743708854, 0.45897500339555064, 0.4535510198846657, 0.4291812945413257, 0.4341878324575381, 0.39194241036319355, 0.4486507523509813, 0.48337227493269797, 0.4009500935151973, 0.3953672105438936, 0.5222909606896676, 0.41556329577295015, 0.4082601292493286, 0.44586102318159054, 0.36903592130522106, 0.4304139584369743, 0.5183580075301054, 0.6324674928197027, 0.7571091765555136, 0.46058400150339374, 0.4643724950237275, 0.4774572179243627, 0.4562901419172462, 0.38202342185016824, 0.4630721184303791, 0.38917620035312883, 0.3835711299775598]}, {\"categories\": [\"0\", \"1\", \"2\", \"3\", \"4\", \"5\", \"6\", \"7\", \"8\", \"9\", \"10\", \"11\", \"12\", \"13\", \"14\", \"15\", \"16\", \"17\", \"18\", \"19\", \"20\", \"21\", \"22\", \"23\", \"24\", \"25\", \"26\", \"27\", \"28\", \"29\", \"30\", \"31\", \"32\", \"35\", \"36\"], \"mode\": \"lines\", \"name\": \"log_loss_min\", \"stepped\": true, \"type\": \"scatter\", \"data\": [0.4772179826627182, 0.41764279466886123, 0.41764279466886123, 0.3808215199084126, 0.3654912559444149, 0.3654912559444149, 0.3654912559444149, 0.3654912559444149, 0.3654912559444149, 0.3654912559444149, 0.3654912559444149, 0.3654912559444149, 0.3654912559444149, 0.3654912559444149, 0.3654912559444149, 0.3654912559444149, 0.3654912559444149, 0.3654912559444149, 0.3654912559444149, 0.3654912559444149, 0.3654912559444149, 0.3654912559444149, 0.3654912559444149, 0.3654912559444149, 0.3654912559444149, 0.3654912559444149, 0.3654912559444149, 0.3654912559444149, 0.3654912559444149, 0.3654912559444149, 0.3654912559444149, 0.3654912559444149, 0.3654912559444149, 0.3654912559444149, 0.3654912559444149]}], \"AUC_micro\": [{\"categories\": [\"0\", \"1\", \"2\", \"3\", \"4\", \"5\", \"6\", \"7\", \"8\", \"9\", \"10\", \"11\", \"12\", \"13\", \"14\", \"15\", \"16\", \"17\", \"18\", \"19\", \"20\", \"21\", \"22\", \"23\", \"24\", \"25\", \"26\", \"27\", \"28\", \"29\", \"30\", \"31\", \"32\", \"35\", \"36\"], \"mode\": \"markers\", \"name\": \"AUC_micro\", \"stepped\": false, \"type\": \"scatter\", \"data\": [0.9035422116527941, 0.9042166732725592, 0.8972050469018364, 0.9116319196723477, 0.9150763641167922, 0.9079788611441405, 0.8169634033557933, 0.7730637468622011, 0.8911074118113358, 0.8889398863786496, 0.8894233055885851, 0.8889320914255517, 0.9035655965120888, 0.9126922975293963, 0.8769067247985202, 0.8673355793367683, 0.9123843308230942, 0.905004227771172, 0.8422322631787555, 0.9040959175584622, 0.8938130532434932, 0.8901913066455279, 0.9178170167789668, 0.8988014268727706, 0.8434408772625183, 0.6791954022988507, 0.64607068304928, 0.8657743427137007, 0.8957859690844232, 0.876479852028009, 0.8722652926410358, 0.911115338882283, 0.8984388954947814, 0.9182536662703132, 0.919395957193817]}, {\"categories\": [\"0\", \"1\", \"2\", \"3\", \"4\", \"5\", \"6\", \"7\", \"8\", \"9\", \"10\", \"11\", \"12\", \"13\", \"14\", \"15\", \"16\", \"17\", \"18\", \"19\", \"20\", \"21\", \"22\", \"23\", \"24\", \"25\", \"26\", \"27\", \"28\", \"29\", \"30\", \"31\", \"32\", \"35\", \"36\"], \"mode\": \"lines\", \"name\": \"AUC_micro_max\", \"stepped\": true, \"type\": \"scatter\", \"data\": [0.9035422116527941, 0.9042166732725592, 0.9042166732725592, 0.9116319196723477, 0.9150763641167922, 0.9150763641167922, 0.9150763641167922, 0.9150763641167922, 0.9150763641167922, 0.9150763641167922, 0.9150763641167922, 0.9150763641167922, 0.9150763641167922, 0.9150763641167922, 0.9150763641167922, 0.9150763641167922, 0.9150763641167922, 0.9150763641167922, 0.9150763641167922, 0.9150763641167922, 0.9150763641167922, 0.9150763641167922, 0.9178170167789668, 0.9178170167789668, 0.9178170167789668, 0.9178170167789668, 0.9178170167789668, 0.9178170167789668, 0.9178170167789668, 0.9178170167789668, 0.9178170167789668, 0.9178170167789668, 0.9178170167789668, 0.9182536662703132, 0.919395957193817]}], \"norm_macro_recall\": [{\"categories\": [\"0\", \"1\", \"2\", \"3\", \"4\", \"5\", \"6\", \"7\", \"8\", \"9\", \"10\", \"11\", \"12\", \"13\", \"14\", \"15\", \"16\", \"17\", \"18\", \"19\", \"20\", \"21\", \"22\", \"23\", \"24\", \"25\", \"26\", \"27\", \"28\", \"29\", \"30\", \"31\", \"32\", \"35\", \"36\"], \"mode\": \"markers\", \"name\": \"norm_macro_recall\", \"stepped\": false, \"type\": \"scatter\", \"data\": [0.6154165791620023, 0.626049804187676, 0.6025467018996766, 0.6285705114234862, 0.643788026555189, 0.6552614565068798, 0.37024834401550655, 0.24294359746533653, 0.5789026370273509, 0.5107380514857631, 0.5759098330477049, 0.4960089122674935, 0.5112333617310734, 0.6019382241836475, 0.4536368705030032, 0.3039467988152198, 0.6052989555575368, 0.5574670652256465, 0.1753210678210678, 0.6191867564167335, 0.5882549002611932, 0.5067989555575367, 0.6420030965093895, 0.5594926785012597, 0.18143578643578642, 0.0, 0.12730674760022584, 0.5010470453142079, 0.6131062083733708, 0.4814413248206154, 0.4812886836656859, 0.6369315408085431, 0.6119178322948345, 0.6650520314290338, 0.6236198524968547]}, {\"categories\": [\"0\", \"1\", \"2\", \"3\", \"4\", \"5\", \"6\", \"7\", \"8\", \"9\", \"10\", \"11\", \"12\", \"13\", \"14\", \"15\", \"16\", \"17\", \"18\", \"19\", \"20\", \"21\", \"22\", \"23\", \"24\", \"25\", \"26\", \"27\", \"28\", \"29\", \"30\", \"31\", \"32\", \"35\", \"36\"], \"mode\": \"lines\", \"name\": \"norm_macro_recall_max\", \"stepped\": true, \"type\": \"scatter\", \"data\": [0.6154165791620023, 0.626049804187676, 0.626049804187676, 0.6285705114234862, 0.643788026555189, 0.6552614565068798, 0.6552614565068798, 0.6552614565068798, 0.6552614565068798, 0.6552614565068798, 0.6552614565068798, 0.6552614565068798, 0.6552614565068798, 0.6552614565068798, 0.6552614565068798, 0.6552614565068798, 0.6552614565068798, 0.6552614565068798, 0.6552614565068798, 0.6552614565068798, 0.6552614565068798, 0.6552614565068798, 0.6552614565068798, 0.6552614565068798, 0.6552614565068798, 0.6552614565068798, 0.6552614565068798, 0.6552614565068798, 0.6552614565068798, 0.6552614565068798, 0.6552614565068798, 0.6552614565068798, 0.6552614565068798, 0.6650520314290338, 0.6650520314290338]}], \"precision_score_macro\": [{\"categories\": [\"0\", \"1\", \"2\", \"3\", \"4\", \"5\", \"6\", \"7\", \"8\", \"9\", \"10\", \"11\", \"12\", \"13\", \"14\", \"15\", \"16\", \"17\", \"18\", \"19\", \"20\", \"21\", \"22\", \"23\", \"24\", \"25\", \"26\", \"27\", \"28\", \"29\", \"30\", \"31\", \"32\", \"35\", \"36\"], \"mode\": \"markers\", \"name\": \"precision_score_macro\", \"stepped\": false, \"type\": \"scatter\", \"data\": [0.8167365852764965, 0.8232986049897815, 0.8198251414683639, 0.8405979785346792, 0.8166683318812474, 0.8390723160755131, 0.7554591922612517, 0.6528134643134644, 0.8086735547696644, 0.8252034559643254, 0.8278038475635731, 0.8300858063031976, 0.8368872053872053, 0.8393855718398052, 0.8099331859766643, 0.8435561561404888, 0.8368487358052574, 0.8151379731379731, 0.8093299580368545, 0.7807081789899126, 0.8186434941869724, 0.8303142292490119, 0.8478375574971686, 0.8535180479745698, 0.7467297898669714, 0.33959770114942534, 0.543180272034492, 0.7459072945869284, 0.814545208541776, 0.8258595317725753, 0.8199808959156785, 0.8268581426313624, 0.82479852876592, 0.8647630208591307, 0.8507763125621182]}, {\"categories\": [\"0\", \"1\", \"2\", \"3\", \"4\", \"5\", \"6\", \"7\", \"8\", \"9\", \"10\", \"11\", \"12\", \"13\", \"14\", \"15\", \"16\", \"17\", \"18\", \"19\", \"20\", \"21\", \"22\", \"23\", \"24\", \"25\", \"26\", \"27\", \"28\", \"29\", \"30\", \"31\", \"32\", \"35\", \"36\"], \"mode\": \"lines\", \"name\": \"precision_score_macro_max\", \"stepped\": true, \"type\": \"scatter\", \"data\": [0.8167365852764965, 0.8232986049897815, 0.8232986049897815, 0.8405979785346792, 0.8405979785346792, 0.8405979785346792, 0.8405979785346792, 0.8405979785346792, 0.8405979785346792, 0.8405979785346792, 0.8405979785346792, 0.8405979785346792, 0.8405979785346792, 0.8405979785346792, 0.8405979785346792, 0.8435561561404888, 0.8435561561404888, 0.8435561561404888, 0.8435561561404888, 0.8435561561404888, 0.8435561561404888, 0.8435561561404888, 0.8478375574971686, 0.8535180479745698, 0.8535180479745698, 0.8535180479745698, 0.8535180479745698, 0.8535180479745698, 0.8535180479745698, 0.8535180479745698, 0.8535180479745698, 0.8535180479745698, 0.8535180479745698, 0.8647630208591307, 0.8647630208591307]}], \"f1_score_weighted\": [{\"categories\": [\"0\", \"1\", \"2\", \"3\", \"4\", \"5\", \"6\", \"7\", \"8\", \"9\", \"10\", \"11\", \"12\", \"13\", \"14\", \"15\", \"16\", \"17\", \"18\", \"19\", \"20\", \"21\", \"22\", \"23\", \"24\", \"25\", \"26\", \"27\", \"28\", \"29\", \"30\", \"31\", \"32\", \"35\", \"36\"], \"mode\": \"markers\", \"name\": \"f1_score_weighted\", \"stepped\": false, \"type\": \"scatter\", \"data\": [0.8333388901455894, 0.8342588560383983, 0.833337876621252, 0.8458142819006159, 0.8393836612317502, 0.8497602690822845, 0.7383697947266225, 0.6740682894076678, 0.8229647025166239, 0.8047447842556688, 0.8247469224158721, 0.8060638413163295, 0.8090083135111428, 0.8346577286556638, 0.7914471767375965, 0.7208040161096847, 0.836853318910034, 0.8167162937777398, 0.6655635124483615, 0.8146272463050035, 0.8286307725549988, 0.8055392337430973, 0.8485369705447816, 0.823330510448041, 0.6681754634595956, 0.5534120288954022, 0.6001736142938805, 0.7793121738300526, 0.8345564753167605, 0.7999966834924516, 0.801819052638837, 0.8431099475757711, 0.8341644215726021, 0.8612790206510506, 0.8473019754740054]}, {\"categories\": [\"0\", \"1\", \"2\", \"3\", \"4\", \"5\", \"6\", \"7\", \"8\", \"9\", \"10\", \"11\", \"12\", \"13\", \"14\", \"15\", \"16\", \"17\", \"18\", \"19\", \"20\", \"21\", \"22\", \"23\", \"24\", \"25\", \"26\", \"27\", \"28\", \"29\", \"30\", \"31\", \"32\", \"35\", \"36\"], \"mode\": \"lines\", \"name\": \"f1_score_weighted_max\", \"stepped\": true, \"type\": \"scatter\", \"data\": [0.8333388901455894, 0.8342588560383983, 0.8342588560383983, 0.8458142819006159, 0.8458142819006159, 0.8497602690822845, 0.8497602690822845, 0.8497602690822845, 0.8497602690822845, 0.8497602690822845, 0.8497602690822845, 0.8497602690822845, 0.8497602690822845, 0.8497602690822845, 0.8497602690822845, 0.8497602690822845, 0.8497602690822845, 0.8497602690822845, 0.8497602690822845, 0.8497602690822845, 0.8497602690822845, 0.8497602690822845, 0.8497602690822845, 0.8497602690822845, 0.8497602690822845, 0.8497602690822845, 0.8497602690822845, 0.8497602690822845, 0.8497602690822845, 0.8497602690822845, 0.8497602690822845, 0.8497602690822845, 0.8497602690822845, 0.8612790206510506, 0.8612790206510506]}], \"average_precision_score_macro\": [{\"categories\": [\"0\", \"1\", \"2\", \"3\", \"4\", \"5\", \"6\", \"7\", \"8\", \"9\", \"10\", \"11\", \"12\", \"13\", \"14\", \"15\", \"16\", \"17\", \"18\", \"19\", \"20\", \"21\", \"22\", \"23\", \"24\", \"25\", \"26\", \"27\", \"28\", \"29\", \"30\", \"31\", \"32\", \"35\", \"36\"], \"mode\": \"markers\", \"name\": \"average_precision_score_macro\", \"stepped\": false, \"type\": \"scatter\", \"data\": [0.8807888197525153, 0.8807340475847678, 0.8718769089448861, 0.8940961617007301, 0.8961875146005568, 0.8889535479761967, 0.7828607569198942, 0.712569040468264, 0.8727664850369239, 0.88752486052677, 0.8682376237866019, 0.8775012050433307, 0.8859597078596405, 0.8933037380400819, 0.8556468141796285, 0.8868125234715125, 0.9058245666476452, 0.8847444866367191, 0.8576889092101302, 0.9027096087937674, 0.8675671944561181, 0.8718806391763405, 0.899131377411606, 0.8855080745652499, 0.8526159757214687, 0.5, 0.5762250897632245, 0.830299579288211, 0.8734316856116371, 0.8540226811644409, 0.8505395543307996, 0.8917566102845415, 0.8670051871471305, 0.9031835651437067, 0.9003146134985307]}, {\"categories\": [\"0\", \"1\", \"2\", \"3\", \"4\", \"5\", \"6\", \"7\", \"8\", \"9\", \"10\", \"11\", \"12\", \"13\", \"14\", \"15\", \"16\", \"17\", \"18\", \"19\", \"20\", \"21\", \"22\", \"23\", \"24\", \"25\", \"26\", \"27\", \"28\", \"29\", \"30\", \"31\", \"32\", \"35\", \"36\"], \"mode\": \"lines\", \"name\": \"average_precision_score_macro_max\", \"stepped\": true, \"type\": \"scatter\", \"data\": [0.8807888197525153, 0.8807888197525153, 0.8807888197525153, 0.8940961617007301, 0.8961875146005568, 0.8961875146005568, 0.8961875146005568, 0.8961875146005568, 0.8961875146005568, 0.8961875146005568, 0.8961875146005568, 0.8961875146005568, 0.8961875146005568, 0.8961875146005568, 0.8961875146005568, 0.8961875146005568, 0.9058245666476452, 0.9058245666476452, 0.9058245666476452, 0.9058245666476452, 0.9058245666476452, 0.9058245666476452, 0.9058245666476452, 0.9058245666476452, 0.9058245666476452, 0.9058245666476452, 0.9058245666476452, 0.9058245666476452, 0.9058245666476452, 0.9058245666476452, 0.9058245666476452, 0.9058245666476452, 0.9058245666476452, 0.9058245666476452, 0.9058245666476452]}], \"matthews_correlation\": [{\"categories\": [\"0\", \"1\", \"2\", \"3\", \"4\", \"5\", \"6\", \"7\", \"8\", \"9\", \"10\", \"11\", \"12\", \"13\", \"14\", \"15\", \"16\", \"17\", \"18\", \"19\", \"20\", \"21\", \"22\", \"23\", \"24\", \"25\", \"26\", \"27\", \"28\", \"29\", \"30\", \"31\", \"32\", \"35\", \"36\"], \"mode\": \"markers\", \"name\": \"matthews_correlation\", \"stepped\": false, \"type\": \"scatter\", \"data\": [0.6231314496952846, 0.6345538749068885, 0.6195382627919326, 0.653193633916388, 0.6374164094252048, 0.6653230746703412, 0.4260208601484612, 0.26730042888816874, 0.5973203846262144, 0.5741316338171555, 0.6124205757906204, 0.5706697663609377, 0.584653999511396, 0.6370809402213962, 0.5250110591469854, 0.4425012750443143, 0.637001229338655, 0.5901762992691009, 0.33184793890521797, 0.5886671663665218, 0.6105320702162638, 0.573460887637029, 0.6659591868805537, 0.6223107479606224, 0.3093700765335642, 0.0, 0.0849762586698942, 0.4952979859671672, 0.6200102870564018, 0.5576406829489285, 0.5519642903801243, 0.6443210665178174, 0.6284918095534159, 0.6949375410029542, 0.6602176837286036]}, {\"categories\": [\"0\", \"1\", \"2\", \"3\", \"4\", \"5\", \"6\", \"7\", \"8\", \"9\", \"10\", \"11\", \"12\", \"13\", \"14\", \"15\", \"16\", \"17\", \"18\", \"19\", \"20\", \"21\", \"22\", \"23\", \"24\", \"25\", \"26\", \"27\", \"28\", \"29\", \"30\", \"31\", \"32\", \"35\", \"36\"], \"mode\": \"lines\", \"name\": \"matthews_correlation_max\", \"stepped\": true, \"type\": \"scatter\", \"data\": [0.6231314496952846, 0.6345538749068885, 0.6345538749068885, 0.653193633916388, 0.653193633916388, 0.6653230746703412, 0.6653230746703412, 0.6653230746703412, 0.6653230746703412, 0.6653230746703412, 0.6653230746703412, 0.6653230746703412, 0.6653230746703412, 0.6653230746703412, 0.6653230746703412, 0.6653230746703412, 0.6653230746703412, 0.6653230746703412, 0.6653230746703412, 0.6653230746703412, 0.6653230746703412, 0.6653230746703412, 0.6659591868805537, 0.6659591868805537, 0.6659591868805537, 0.6659591868805537, 0.6659591868805537, 0.6659591868805537, 0.6659591868805537, 0.6659591868805537, 0.6659591868805537, 0.6659591868805537, 0.6659591868805537, 0.6949375410029542, 0.6949375410029542]}], \"balanced_accuracy\": [{\"categories\": [\"0\", \"1\", \"2\", \"3\", \"4\", \"5\", \"6\", \"7\", \"8\", \"9\", \"10\", \"11\", \"12\", \"13\", \"14\", \"15\", \"16\", \"17\", \"18\", \"19\", \"20\", \"21\", \"22\", \"23\", \"24\", \"25\", \"26\", \"27\", \"28\", \"29\", \"30\", \"31\", \"32\", \"35\", \"36\"], \"mode\": \"markers\", \"name\": \"balanced_accuracy\", \"stepped\": false, \"type\": \"scatter\", \"data\": [0.8077082895810014, 0.8130249020938379, 0.8012733509498384, 0.8142852557117433, 0.8218940132775945, 0.8276307282534399, 0.6851241720077533, 0.6128593585412807, 0.7894513185136754, 0.7553690257428815, 0.7879549165238524, 0.7480044561337468, 0.7556166808655367, 0.8009691120918238, 0.7268184352515016, 0.6519733994076098, 0.8026494777787685, 0.7787335326128233, 0.5876605339105339, 0.8095933782083667, 0.7941274501305966, 0.7533994777787684, 0.8210015482546946, 0.7797463392506299, 0.5907178932178931, 0.5, 0.5432928133079734, 0.7505235226571039, 0.8065531041866854, 0.7407206624103077, 0.7406443418328429, 0.8184657704042715, 0.8059589161474173, 0.8325260157145168, 0.8118099262484273]}, {\"categories\": [\"0\", \"1\", \"2\", \"3\", \"4\", \"5\", \"6\", \"7\", \"8\", \"9\", \"10\", \"11\", \"12\", \"13\", \"14\", \"15\", \"16\", \"17\", \"18\", \"19\", \"20\", \"21\", \"22\", \"23\", \"24\", \"25\", \"26\", \"27\", \"28\", \"29\", \"30\", \"31\", \"32\", \"35\", \"36\"], \"mode\": \"lines\", \"name\": \"balanced_accuracy_max\", \"stepped\": true, \"type\": \"scatter\", \"data\": [0.8077082895810014, 0.8130249020938379, 0.8130249020938379, 0.8142852557117433, 0.8218940132775945, 0.8276307282534399, 0.8276307282534399, 0.8276307282534399, 0.8276307282534399, 0.8276307282534399, 0.8276307282534399, 0.8276307282534399, 0.8276307282534399, 0.8276307282534399, 0.8276307282534399, 0.8276307282534399, 0.8276307282534399, 0.8276307282534399, 0.8276307282534399, 0.8276307282534399, 0.8276307282534399, 0.8276307282534399, 0.8276307282534399, 0.8276307282534399, 0.8276307282534399, 0.8276307282534399, 0.8276307282534399, 0.8276307282534399, 0.8276307282534399, 0.8276307282534399, 0.8276307282534399, 0.8276307282534399, 0.8276307282534399, 0.8325260157145168, 0.8325260157145168]}], \"AUC_macro\": [{\"categories\": [\"0\", \"1\", \"2\", \"3\", \"4\", \"5\", \"6\", \"7\", \"8\", \"9\", \"10\", \"11\", \"12\", \"13\", \"14\", \"15\", \"16\", \"17\", \"18\", \"19\", \"20\", \"21\", \"22\", \"23\", \"24\", \"25\", \"26\", \"27\", \"28\", \"29\", \"30\", \"31\", \"32\", \"35\", \"36\"], \"mode\": \"markers\", \"name\": \"AUC_macro\", \"stepped\": false, \"type\": \"scatter\", \"data\": [0.8840955354735103, 0.8847369443591411, 0.8772922744388418, 0.9012693026483645, 0.904633289828656, 0.8985853525584933, 0.7996258755419511, 0.7162697213224101, 0.8825041112332874, 0.8998569687283645, 0.8881343753955596, 0.8804468959509005, 0.8998198530196813, 0.9019662305192053, 0.8581191510836821, 0.8944430598344786, 0.9036145782220153, 0.8886791326691783, 0.8581287519138205, 0.909632632002712, 0.8744683358043769, 0.8777493499339037, 0.9057782285093499, 0.8925834064740243, 0.8627513298232404, 0.5, 0.5185534616625006, 0.8493684002496359, 0.8760148104808574, 0.8866186786960814, 0.8592520413627394, 0.902944538085442, 0.8890898286146856, 0.9082779576851661, 0.9088035772897328]}, {\"categories\": [\"0\", \"1\", \"2\", \"3\", \"4\", \"5\", \"6\", \"7\", \"8\", \"9\", \"10\", \"11\", \"12\", \"13\", \"14\", \"15\", \"16\", \"17\", \"18\", \"19\", \"20\", \"21\", \"22\", \"23\", \"24\", \"25\", \"26\", \"27\", \"28\", \"29\", \"30\", \"31\", \"32\", \"35\", \"36\"], \"mode\": \"lines\", \"name\": \"AUC_macro_max\", \"stepped\": true, \"type\": \"scatter\", \"data\": [0.8840955354735103, 0.8847369443591411, 0.8847369443591411, 0.9012693026483645, 0.904633289828656, 0.904633289828656, 0.904633289828656, 0.904633289828656, 0.904633289828656, 0.904633289828656, 0.904633289828656, 0.904633289828656, 0.904633289828656, 0.904633289828656, 0.904633289828656, 0.904633289828656, 0.904633289828656, 0.904633289828656, 0.904633289828656, 0.909632632002712, 0.909632632002712, 0.909632632002712, 0.909632632002712, 0.909632632002712, 0.909632632002712, 0.909632632002712, 0.909632632002712, 0.909632632002712, 0.909632632002712, 0.909632632002712, 0.909632632002712, 0.909632632002712, 0.909632632002712, 0.909632632002712, 0.909632632002712]}], \"recall_score_macro\": [{\"categories\": [\"0\", \"1\", \"2\", \"3\", \"4\", \"5\", \"6\", \"7\", \"8\", \"9\", \"10\", \"11\", \"12\", \"13\", \"14\", \"15\", \"16\", \"17\", \"18\", \"19\", \"20\", \"21\", \"22\", \"23\", \"24\", \"25\", \"26\", \"27\", \"28\", \"29\", \"30\", \"31\", \"32\", \"35\", \"36\"], \"mode\": \"markers\", \"name\": \"recall_score_macro\", \"stepped\": false, \"type\": \"scatter\", \"data\": [0.8077082895810014, 0.8130249020938379, 0.8012733509498384, 0.8142852557117433, 0.8218940132775945, 0.8276307282534399, 0.6851241720077533, 0.6128593585412807, 0.7894513185136754, 0.7553690257428815, 0.7879549165238524, 0.7480044561337468, 0.7556166808655367, 0.8009691120918238, 0.7268184352515016, 0.6519733994076098, 0.8026494777787685, 0.7787335326128233, 0.5876605339105339, 0.8095933782083667, 0.7941274501305966, 0.7533994777787684, 0.8210015482546946, 0.7797463392506299, 0.5907178932178931, 0.5, 0.5432928133079734, 0.7505235226571039, 0.8065531041866854, 0.7407206624103077, 0.7406443418328429, 0.8184657704042715, 0.8059589161474173, 0.8325260157145168, 0.8118099262484273]}, {\"categories\": [\"0\", \"1\", \"2\", \"3\", \"4\", \"5\", \"6\", \"7\", \"8\", \"9\", \"10\", \"11\", \"12\", \"13\", \"14\", \"15\", \"16\", \"17\", \"18\", \"19\", \"20\", \"21\", \"22\", \"23\", \"24\", \"25\", \"26\", \"27\", \"28\", \"29\", \"30\", \"31\", \"32\", \"35\", \"36\"], \"mode\": \"lines\", \"name\": \"recall_score_macro_max\", \"stepped\": true, \"type\": \"scatter\", \"data\": [0.8077082895810014, 0.8130249020938379, 0.8130249020938379, 0.8142852557117433, 0.8218940132775945, 0.8276307282534399, 0.8276307282534399, 0.8276307282534399, 0.8276307282534399, 0.8276307282534399, 0.8276307282534399, 0.8276307282534399, 0.8276307282534399, 0.8276307282534399, 0.8276307282534399, 0.8276307282534399, 0.8276307282534399, 0.8276307282534399, 0.8276307282534399, 0.8276307282534399, 0.8276307282534399, 0.8276307282534399, 0.8276307282534399, 0.8276307282534399, 0.8276307282534399, 0.8276307282534399, 0.8276307282534399, 0.8276307282534399, 0.8276307282534399, 0.8276307282534399, 0.8276307282534399, 0.8276307282534399, 0.8276307282534399, 0.8325260157145168, 0.8325260157145168]}]}, \"metricName\": null, \"primaryMetricName\": \"accuracy\", \"showLegend\": false}, \"run_metrics\": [{\"name\": \"experiment_status\", \"run_id\": \"AutoML_8c8dd2ca-7084-4f07-942d-b5295be4288a\", \"categories\": [0, 1, 2, 3, 4, 5, 6, 7, 8, 9, 10, 11, 12, 13], \"series\": [{\"data\": [\"DatasetEvaluation\", \"FeaturesGeneration\", \"DatasetFeaturization\", \"DatasetFeaturizationCompleted\", \"DatasetCrossValidationSplit\", \"ModelSelection\", \"BestRunExplainModel\", \"ModelExplanationDataSetSetup\", \"PickSurrogateModel\", \"EngineeredFeatureExplanations\", \"EngineeredFeatureExplanations\", \"RawFeaturesExplanations\", \"RawFeaturesExplanations\", \"BestRunExplainModel\"]}]}, {\"name\": \"experiment_status_description\", \"run_id\": \"AutoML_8c8dd2ca-7084-4f07-942d-b5295be4288a\", \"categories\": [0, 1, 2, 3, 4, 5, 6, 7, 8, 9, 10, 11, 12, 13], \"series\": [{\"data\": [\"Gathering dataset statistics.\", \"Generating features for the dataset.\", \"Beginning to fit featurizers and featurize the dataset.\", \"Completed fit featurizers and featurizing the dataset.\", \"Generating individually featurized CV splits.\", \"Beginning model selection.\", \"Best run model explanations started\", \"Model explanations data setup completed\", \"Choosing LightGBM as the surrogate model for explanations\", \"Computation of engineered features started\", \"Computation of engineered features completed\", \"Computation of raw features started\", \"Computation of raw features completed\", \"Best run model explanations completed\"]}]}, {\"name\": \"AUC_weighted\", \"run_id\": \"AutoML_8c8dd2ca-7084-4f07-942d-b5295be4288a\", \"categories\": [0], \"series\": [{\"data\": [0.9082779576851661]}]}, {\"name\": \"precision_score_macro\", \"run_id\": \"AutoML_8c8dd2ca-7084-4f07-942d-b5295be4288a\", \"categories\": [0], \"series\": [{\"data\": [0.8647630208591307]}]}, {\"name\": \"matthews_correlation\", \"run_id\": \"AutoML_8c8dd2ca-7084-4f07-942d-b5295be4288a\", \"categories\": [0], \"series\": [{\"data\": [0.6949375410029542]}]}, {\"name\": \"balanced_accuracy\", \"run_id\": \"AutoML_8c8dd2ca-7084-4f07-942d-b5295be4288a\", \"categories\": [0], \"series\": [{\"data\": [0.8325260157145168]}]}, {\"name\": \"average_precision_score_macro\", \"run_id\": \"AutoML_8c8dd2ca-7084-4f07-942d-b5295be4288a\", \"categories\": [0], \"series\": [{\"data\": [0.9031835651437067]}]}, {\"name\": \"AUC_micro\", \"run_id\": \"AutoML_8c8dd2ca-7084-4f07-942d-b5295be4288a\", \"categories\": [0], \"series\": [{\"data\": [0.9182536662703132]}]}, {\"name\": \"average_precision_score_micro\", \"run_id\": \"AutoML_8c8dd2ca-7084-4f07-942d-b5295be4288a\", \"categories\": [0], \"series\": [{\"data\": [0.9209556938792456]}]}, {\"name\": \"precision_score_weighted\", \"run_id\": \"AutoML_8c8dd2ca-7084-4f07-942d-b5295be4288a\", \"categories\": [0], \"series\": [{\"data\": [0.8777449911407931]}]}, {\"name\": \"recall_score_macro\", \"run_id\": \"AutoML_8c8dd2ca-7084-4f07-942d-b5295be4288a\", \"categories\": [0], \"series\": [{\"data\": [0.8325260157145168]}]}, {\"name\": \"f1_score_weighted\", \"run_id\": \"AutoML_8c8dd2ca-7084-4f07-942d-b5295be4288a\", \"categories\": [0], \"series\": [{\"data\": [0.8612790206510506]}]}, {\"name\": \"weighted_accuracy\", \"run_id\": \"AutoML_8c8dd2ca-7084-4f07-942d-b5295be4288a\", \"categories\": [0], \"series\": [{\"data\": [0.8880442818344199]}]}, {\"name\": \"recall_score_weighted\", \"run_id\": \"AutoML_8c8dd2ca-7084-4f07-942d-b5295be4288a\", \"categories\": [0], \"series\": [{\"data\": [0.8662068965517242]}]}, {\"name\": \"accuracy\", \"run_id\": \"AutoML_8c8dd2ca-7084-4f07-942d-b5295be4288a\", \"categories\": [0], \"series\": [{\"data\": [0.8662068965517242]}]}, {\"name\": \"norm_macro_recall\", \"run_id\": \"AutoML_8c8dd2ca-7084-4f07-942d-b5295be4288a\", \"categories\": [0], \"series\": [{\"data\": [0.6650520314290338]}]}, {\"name\": \"AUC_macro\", \"run_id\": \"AutoML_8c8dd2ca-7084-4f07-942d-b5295be4288a\", \"categories\": [0], \"series\": [{\"data\": [0.9082779576851661]}]}, {\"name\": \"precision_score_micro\", \"run_id\": \"AutoML_8c8dd2ca-7084-4f07-942d-b5295be4288a\", \"categories\": [0], \"series\": [{\"data\": [0.8662068965517242]}]}, {\"name\": \"recall_score_micro\", \"run_id\": \"AutoML_8c8dd2ca-7084-4f07-942d-b5295be4288a\", \"categories\": [0], \"series\": [{\"data\": [0.8662068965517242]}]}, {\"name\": \"f1_score_micro\", \"run_id\": \"AutoML_8c8dd2ca-7084-4f07-942d-b5295be4288a\", \"categories\": [0], \"series\": [{\"data\": [0.8662068965517242]}]}, {\"name\": \"f1_score_macro\", \"run_id\": \"AutoML_8c8dd2ca-7084-4f07-942d-b5295be4288a\", \"categories\": [0], \"series\": [{\"data\": [0.8365105334337797]}]}, {\"name\": \"average_precision_score_weighted\", \"run_id\": \"AutoML_8c8dd2ca-7084-4f07-942d-b5295be4288a\", \"categories\": [0], \"series\": [{\"data\": [0.9252446620997656]}]}, {\"name\": \"log_loss\", \"run_id\": \"AutoML_8c8dd2ca-7084-4f07-942d-b5295be4288a\", \"categories\": [0], \"series\": [{\"data\": [0.38917620035312883]}]}], \"run_logs\": \"\\nRun is completed.\", \"graph\": {}, \"widget_settings\": {\"childWidgetDisplay\": \"popup\", \"send_telemetry\": false, \"log_level\": \"INFO\", \"sdk_version\": \"1.19.0\"}, \"loading\": false}"
     },
     "metadata": {},
     "output_type": "display_data"
    },
    {
     "name": "stdout",
     "output_type": "stream",
     "text": [
      "\n",
      "\n",
      "****************************************************************************************************\n",
      "DATA GUARDRAILS: \n",
      "\n",
      "TYPE:         Cross validation\n",
      "STATUS:       DONE\n",
      "DESCRIPTION:  Each iteration of the trained model was validated through cross-validation.\n",
      "              \n",
      "DETAILS:      \n",
      "+---------------------------------+\n",
      "|Number of folds                  |\n",
      "+=================================+\n",
      "|10                               |\n",
      "+---------------------------------+\n",
      "\n",
      "****************************************************************************************************\n",
      "\n",
      "TYPE:         Class balancing detection\n",
      "STATUS:       PASSED\n",
      "DESCRIPTION:  Your inputs were analyzed, and all classes are balanced in your training data.\n",
      "              Learn more about imbalanced data: https://aka.ms/AutomatedMLImbalancedData\n",
      "\n",
      "****************************************************************************************************\n",
      "\n",
      "TYPE:         Missing feature values imputation\n",
      "STATUS:       PASSED\n",
      "DESCRIPTION:  No feature missing values were detected in the training data.\n",
      "              Learn more about missing value imputation: https://aka.ms/AutomatedMLFeaturization\n",
      "\n",
      "****************************************************************************************************\n",
      "\n",
      "TYPE:         High cardinality feature detection\n",
      "STATUS:       PASSED\n",
      "DESCRIPTION:  Your inputs were analyzed, and no high cardinality features were detected.\n",
      "              Learn more about high cardinality feature handling: https://aka.ms/AutomatedMLFeaturization\n",
      "\n",
      "****************************************************************************************************\n",
      "\n",
      "****************************************************************************************************\n",
      "ITERATION: The iteration being evaluated.\n",
      "PIPELINE: A summary description of the pipeline being evaluated.\n",
      "DURATION: Time taken for the current iteration.\n",
      "METRIC: The result of computing score on the fitted pipeline.\n",
      "BEST: The best observed score thus far.\n",
      "****************************************************************************************************\n",
      "\n",
      " ITERATION   PIPELINE                                       DURATION      METRIC      BEST\n",
      "         0   MaxAbsScaler LightGBM                          0:00:52       0.8360    0.8360\n",
      "         1   MaxAbsScaler XGBoostClassifier                 0:00:56       0.8359    0.8360\n",
      "         2   MinMaxScaler RandomForest                      0:03:13       0.8359    0.8360\n",
      "         3   MinMaxScaler RandomForest                      0:00:50       0.8492    0.8492\n",
      "         4   MinMaxScaler RandomForest                      0:03:23       0.8392    0.8492\n",
      "         5   StandardScalerWrapper XGBoostClassifier        0:03:27       0.8528    0.8528\n",
      "         6   StandardScalerWrapper SVM                      0:00:48       0.7591    0.8528\n",
      "         7   MinMaxScaler SVM                               0:00:39       0.7160    0.8528\n",
      "        10   MaxAbsScaler LightGBM                          0:00:59       0.8328    0.8528\n",
      "        11   MinMaxScaler LightGBM                          0:00:43       0.8192    0.8528\n",
      "         8   SparseNormalizer XGBoostClassifier             0:00:44       0.8262    0.8528\n",
      "         9   StandardScalerWrapper LightGBM                 0:00:44       0.8193    0.8528\n",
      "        12   MaxAbsScaler LightGBM                          0:00:45       0.8225    0.8528\n",
      "        13   StandardScalerWrapper LightGBM                 0:00:41       0.8425    0.8528\n",
      "        14   MinMaxScaler LightGBM                          0:00:43       0.8093    0.8528\n",
      "        15   MinMaxScaler RandomForest                      0:00:51       0.7693    0.8528\n",
      "        16   StandardScalerWrapper RandomForest             0:00:45       0.8426    0.8528\n",
      "        17   MinMaxScaler LightGBM                          0:00:44       0.8224    0.8528\n",
      "        18   MaxAbsScaler LightGBM                          0:00:46       0.7359    0.8528\n",
      "        19   StandardScalerWrapper RandomForest             0:00:47       0.8090    0.8528\n",
      "        20   SparseNormalizer XGBoostClassifier             0:00:43       0.8328    0.8528\n",
      "        21   MaxAbsScaler LightGBM                          0:00:49       0.8191    0.8528\n",
      "        22   MaxAbsScaler LightGBM                          0:00:42       0.8528    0.8528\n",
      "        23   StandardScalerWrapper LightGBM                 0:00:43       0.8361    0.8528\n",
      "        24   MinMaxScaler LightGBM                          0:00:45       0.7359    0.8528\n",
      "        25   PCA XGBoostClassifier                          0:00:45       0.6792    0.8528\n",
      "        26   StandardScalerWrapper KNN                      0:00:41       0.6323    0.8528\n",
      "        27   TruncatedSVDWrapper XGBoostClassifier          0:00:45       0.7789    0.8528\n",
      "        28   StandardScalerWrapper XGBoostClassifier        0:00:39       0.8357    0.8528\n",
      "        29   MaxAbsScaler LightGBM                          0:00:45       0.8160    0.8528\n",
      "        30   SparseNormalizer XGBoostClassifier             0:00:51       0.8128    0.8528\n",
      "        31   StandardScalerWrapper XGBoostClassifier        0:00:46       0.8457    0.8528\n",
      "        32   StandardScalerWrapper XGBoostClassifier        0:00:40       0.8393    0.8528\n",
      "        33   RobustScaler LightGBM                          0:00:24          nan    0.8528\n",
      "        34                                                  0:00:19          nan    0.8528\n",
      "        35    VotingEnsemble                                0:01:48       0.8662    0.8662\n",
      "        36    StackEnsemble                                 0:02:00       0.8529    0.8662\n"
     ]
    },
    {
     "data": {
      "text/plain": [
       "{'runId': 'AutoML_8c8dd2ca-7084-4f07-942d-b5295be4288a',\n",
       " 'target': 'simba-cluster',\n",
       " 'status': 'Completed',\n",
       " 'startTimeUtc': '2021-01-08T21:42:33.353689Z',\n",
       " 'endTimeUtc': '2021-01-08T22:05:26.23965Z',\n",
       " 'properties': {'num_iterations': '1000',\n",
       "  'training_type': 'TrainFull',\n",
       "  'acquisition_function': 'EI',\n",
       "  'primary_metric': 'accuracy',\n",
       "  'train_split': '0',\n",
       "  'acquisition_parameter': '0',\n",
       "  'num_cross_validation': None,\n",
       "  'target': 'simba-cluster',\n",
       "  'AMLSettingsJsonString': '{\"path\":null,\"name\":\"heart-failure-prediction-automl\",\"subscription_id\":\"81cefad3-d2c9-4f77-a466-99a7f541c7bb\",\"resource_group\":\"aml-quickstarts-134024\",\"workspace_name\":\"quick-starts-ws-134024\",\"region\":\"southcentralus\",\"compute_target\":\"simba-cluster\",\"spark_service\":null,\"azure_service\":\"remote\",\"many_models\":false,\"pipeline_fetch_max_batch_size\":1,\"iterations\":1000,\"primary_metric\":\"accuracy\",\"task_type\":\"classification\",\"data_script\":null,\"validation_size\":0.0,\"n_cross_validations\":null,\"y_min\":null,\"y_max\":null,\"num_classes\":null,\"featurization\":\"auto\",\"_ignore_package_version_incompatibilities\":false,\"is_timeseries\":false,\"max_cores_per_iteration\":1,\"max_concurrent_iterations\":4,\"iteration_timeout_minutes\":null,\"mem_in_mb\":null,\"enforce_time_on_windows\":false,\"experiment_timeout_minutes\":20,\"experiment_exit_score\":null,\"whitelist_models\":null,\"blacklist_algos\":[\"TensorFlowLinearClassifier\",\"TensorFlowDNN\"],\"supported_models\":[\"SVM\",\"LightGBM\",\"LinearSVM\",\"SGD\",\"DecisionTree\",\"ExtremeRandomTrees\",\"BernoulliNaiveBayes\",\"AveragedPerceptronClassifier\",\"XGBoostClassifier\",\"TensorFlowDNN\",\"MultinomialNaiveBayes\",\"GradientBoosting\",\"TensorFlowLinearClassifier\",\"RandomForest\",\"KNN\",\"LogisticRegression\"],\"auto_blacklist\":true,\"blacklist_samples_reached\":false,\"exclude_nan_labels\":true,\"verbosity\":20,\"_debug_log\":\"azureml_automl.log\",\"show_warnings\":false,\"model_explainability\":true,\"service_url\":null,\"sdk_url\":null,\"sdk_packages\":null,\"enable_onnx_compatible_models\":false,\"enable_split_onnx_featurizer_estimator_models\":false,\"vm_type\":\"STANDARD_D2_V2\",\"telemetry_verbosity\":20,\"send_telemetry\":true,\"enable_dnn\":false,\"scenario\":\"SDK-1.13.0\",\"environment_label\":null,\"force_text_dnn\":false,\"enable_feature_sweeping\":true,\"enable_early_stopping\":true,\"early_stopping_n_iters\":10,\"metrics\":null,\"enable_ensembling\":true,\"enable_stack_ensembling\":true,\"ensemble_iterations\":15,\"enable_tf\":false,\"enable_subsampling\":null,\"subsample_seed\":null,\"enable_nimbusml\":false,\"enable_streaming\":false,\"force_streaming\":false,\"track_child_runs\":true,\"allowed_private_models\":[],\"label_column_name\":\"DEATH_EVENT\",\"weight_column_name\":null,\"cv_split_column_names\":null,\"enable_local_managed\":false,\"_local_managed_run_id\":null,\"cost_mode\":1,\"lag_length\":0,\"metric_operation\":\"maximize\",\"preprocess\":true}',\n",
       "  'DataPrepJsonString': '{\\\\\"training_data\\\\\": \\\\\"{\\\\\\\\\\\\\"blocks\\\\\\\\\\\\\": [{\\\\\\\\\\\\\"id\\\\\\\\\\\\\": \\\\\\\\\\\\\"29b3f8da-a729-4dd9-88e6-ef53a81da0e8\\\\\\\\\\\\\", \\\\\\\\\\\\\"type\\\\\\\\\\\\\": \\\\\\\\\\\\\"Microsoft.DPrep.GetFilesBlock\\\\\\\\\\\\\", \\\\\\\\\\\\\"arguments\\\\\\\\\\\\\": {\\\\\\\\\\\\\"isArchive\\\\\\\\\\\\\": false, \\\\\\\\\\\\\"path\\\\\\\\\\\\\": {\\\\\\\\\\\\\"target\\\\\\\\\\\\\": 4, \\\\\\\\\\\\\"resourceDetails\\\\\\\\\\\\\": [{\\\\\\\\\\\\\"path\\\\\\\\\\\\\": \\\\\\\\\\\\\"https://raw.githubusercontent.com/jhonatantirado/nd00333-capstone/master/starter_file/heart_failure_clinical_records_dataset.csv\\\\\\\\\\\\\"}]}}, \\\\\\\\\\\\\"localData\\\\\\\\\\\\\": {}, \\\\\\\\\\\\\"isEnabled\\\\\\\\\\\\\": true, \\\\\\\\\\\\\"name\\\\\\\\\\\\\": null, \\\\\\\\\\\\\"annotation\\\\\\\\\\\\\": null}, {\\\\\\\\\\\\\"id\\\\\\\\\\\\\": \\\\\\\\\\\\\"e8a7d23d-7160-43cb-b1a1-7bc5bc9d925f\\\\\\\\\\\\\", \\\\\\\\\\\\\"type\\\\\\\\\\\\\": \\\\\\\\\\\\\"Microsoft.DPrep.ParseDelimitedBlock\\\\\\\\\\\\\", \\\\\\\\\\\\\"arguments\\\\\\\\\\\\\": {\\\\\\\\\\\\\"columnHeadersMode\\\\\\\\\\\\\": 3, \\\\\\\\\\\\\"fileEncoding\\\\\\\\\\\\\": 0, \\\\\\\\\\\\\"handleQuotedLineBreaks\\\\\\\\\\\\\": false, \\\\\\\\\\\\\"preview\\\\\\\\\\\\\": false, \\\\\\\\\\\\\"separator\\\\\\\\\\\\\": \\\\\\\\\\\\\",\\\\\\\\\\\\\", \\\\\\\\\\\\\"skipRows\\\\\\\\\\\\\": 0, \\\\\\\\\\\\\"skipRowsMode\\\\\\\\\\\\\": 0}, \\\\\\\\\\\\\"localData\\\\\\\\\\\\\": {}, \\\\\\\\\\\\\"isEnabled\\\\\\\\\\\\\": true, \\\\\\\\\\\\\"name\\\\\\\\\\\\\": null, \\\\\\\\\\\\\"annotation\\\\\\\\\\\\\": null}, {\\\\\\\\\\\\\"id\\\\\\\\\\\\\": \\\\\\\\\\\\\"13e22cfe-4530-4309-9817-c8060982813f\\\\\\\\\\\\\", \\\\\\\\\\\\\"type\\\\\\\\\\\\\": \\\\\\\\\\\\\"Microsoft.DPrep.DropColumnsBlock\\\\\\\\\\\\\", \\\\\\\\\\\\\"arguments\\\\\\\\\\\\\": {\\\\\\\\\\\\\"columns\\\\\\\\\\\\\": {\\\\\\\\\\\\\"type\\\\\\\\\\\\\": 0, \\\\\\\\\\\\\"details\\\\\\\\\\\\\": {\\\\\\\\\\\\\"selectedColumns\\\\\\\\\\\\\": [\\\\\\\\\\\\\"Path\\\\\\\\\\\\\"]}}}, \\\\\\\\\\\\\"localData\\\\\\\\\\\\\": {}, \\\\\\\\\\\\\"isEnabled\\\\\\\\\\\\\": true, \\\\\\\\\\\\\"name\\\\\\\\\\\\\": null, \\\\\\\\\\\\\"annotation\\\\\\\\\\\\\": null}, {\\\\\\\\\\\\\"id\\\\\\\\\\\\\": \\\\\\\\\\\\\"d02c734c-b506-49a2-903a-4466aedf89c3\\\\\\\\\\\\\", \\\\\\\\\\\\\"type\\\\\\\\\\\\\": \\\\\\\\\\\\\"Microsoft.DPrep.SetColumnTypesBlock\\\\\\\\\\\\\", \\\\\\\\\\\\\"arguments\\\\\\\\\\\\\": {\\\\\\\\\\\\\"columnConversion\\\\\\\\\\\\\": [{\\\\\\\\\\\\\"column\\\\\\\\\\\\\": {\\\\\\\\\\\\\"type\\\\\\\\\\\\\": 2, \\\\\\\\\\\\\"details\\\\\\\\\\\\\": {\\\\\\\\\\\\\"selectedColumn\\\\\\\\\\\\\": \\\\\\\\\\\\\"age\\\\\\\\\\\\\"}}, \\\\\\\\\\\\\"typeProperty\\\\\\\\\\\\\": 3}, {\\\\\\\\\\\\\"column\\\\\\\\\\\\\": {\\\\\\\\\\\\\"type\\\\\\\\\\\\\": 2, \\\\\\\\\\\\\"details\\\\\\\\\\\\\": {\\\\\\\\\\\\\"selectedColumn\\\\\\\\\\\\\": \\\\\\\\\\\\\"anaemia\\\\\\\\\\\\\"}}, \\\\\\\\\\\\\"typeProperty\\\\\\\\\\\\\": 2}, {\\\\\\\\\\\\\"column\\\\\\\\\\\\\": {\\\\\\\\\\\\\"type\\\\\\\\\\\\\": 2, \\\\\\\\\\\\\"details\\\\\\\\\\\\\": {\\\\\\\\\\\\\"selectedColumn\\\\\\\\\\\\\": \\\\\\\\\\\\\"creatinine_phosphokinase\\\\\\\\\\\\\"}}, \\\\\\\\\\\\\"typeProperty\\\\\\\\\\\\\": 2}, {\\\\\\\\\\\\\"column\\\\\\\\\\\\\": {\\\\\\\\\\\\\"type\\\\\\\\\\\\\": 2, \\\\\\\\\\\\\"details\\\\\\\\\\\\\": {\\\\\\\\\\\\\"selectedColumn\\\\\\\\\\\\\": \\\\\\\\\\\\\"diabetes\\\\\\\\\\\\\"}}, \\\\\\\\\\\\\"typeProperty\\\\\\\\\\\\\": 2}, {\\\\\\\\\\\\\"column\\\\\\\\\\\\\": {\\\\\\\\\\\\\"type\\\\\\\\\\\\\": 2, \\\\\\\\\\\\\"details\\\\\\\\\\\\\": {\\\\\\\\\\\\\"selectedColumn\\\\\\\\\\\\\": \\\\\\\\\\\\\"ejection_fraction\\\\\\\\\\\\\"}}, \\\\\\\\\\\\\"typeProperty\\\\\\\\\\\\\": 2}, {\\\\\\\\\\\\\"column\\\\\\\\\\\\\": {\\\\\\\\\\\\\"type\\\\\\\\\\\\\": 2, \\\\\\\\\\\\\"details\\\\\\\\\\\\\": {\\\\\\\\\\\\\"selectedColumn\\\\\\\\\\\\\": \\\\\\\\\\\\\"high_blood_pressure\\\\\\\\\\\\\"}}, \\\\\\\\\\\\\"typeProperty\\\\\\\\\\\\\": 2}, {\\\\\\\\\\\\\"column\\\\\\\\\\\\\": {\\\\\\\\\\\\\"type\\\\\\\\\\\\\": 2, \\\\\\\\\\\\\"details\\\\\\\\\\\\\": {\\\\\\\\\\\\\"selectedColumn\\\\\\\\\\\\\": \\\\\\\\\\\\\"platelets\\\\\\\\\\\\\"}}, \\\\\\\\\\\\\"typeProperty\\\\\\\\\\\\\": 3}, {\\\\\\\\\\\\\"column\\\\\\\\\\\\\": {\\\\\\\\\\\\\"type\\\\\\\\\\\\\": 2, \\\\\\\\\\\\\"details\\\\\\\\\\\\\": {\\\\\\\\\\\\\"selectedColumn\\\\\\\\\\\\\": \\\\\\\\\\\\\"serum_creatinine\\\\\\\\\\\\\"}}, \\\\\\\\\\\\\"typeProperty\\\\\\\\\\\\\": 3}, {\\\\\\\\\\\\\"column\\\\\\\\\\\\\": {\\\\\\\\\\\\\"type\\\\\\\\\\\\\": 2, \\\\\\\\\\\\\"details\\\\\\\\\\\\\": {\\\\\\\\\\\\\"selectedColumn\\\\\\\\\\\\\": \\\\\\\\\\\\\"serum_sodium\\\\\\\\\\\\\"}}, \\\\\\\\\\\\\"typeProperty\\\\\\\\\\\\\": 2}, {\\\\\\\\\\\\\"column\\\\\\\\\\\\\": {\\\\\\\\\\\\\"type\\\\\\\\\\\\\": 2, \\\\\\\\\\\\\"details\\\\\\\\\\\\\": {\\\\\\\\\\\\\"selectedColumn\\\\\\\\\\\\\": \\\\\\\\\\\\\"sex\\\\\\\\\\\\\"}}, \\\\\\\\\\\\\"typeProperty\\\\\\\\\\\\\": 2}, {\\\\\\\\\\\\\"column\\\\\\\\\\\\\": {\\\\\\\\\\\\\"type\\\\\\\\\\\\\": 2, \\\\\\\\\\\\\"details\\\\\\\\\\\\\": {\\\\\\\\\\\\\"selectedColumn\\\\\\\\\\\\\": \\\\\\\\\\\\\"smoking\\\\\\\\\\\\\"}}, \\\\\\\\\\\\\"typeProperty\\\\\\\\\\\\\": 2}, {\\\\\\\\\\\\\"column\\\\\\\\\\\\\": {\\\\\\\\\\\\\"type\\\\\\\\\\\\\": 2, \\\\\\\\\\\\\"details\\\\\\\\\\\\\": {\\\\\\\\\\\\\"selectedColumn\\\\\\\\\\\\\": \\\\\\\\\\\\\"time\\\\\\\\\\\\\"}}, \\\\\\\\\\\\\"typeProperty\\\\\\\\\\\\\": 2}, {\\\\\\\\\\\\\"column\\\\\\\\\\\\\": {\\\\\\\\\\\\\"type\\\\\\\\\\\\\": 2, \\\\\\\\\\\\\"details\\\\\\\\\\\\\": {\\\\\\\\\\\\\"selectedColumn\\\\\\\\\\\\\": \\\\\\\\\\\\\"DEATH_EVENT\\\\\\\\\\\\\"}}, \\\\\\\\\\\\\"typeProperty\\\\\\\\\\\\\": 2}]}, \\\\\\\\\\\\\"localData\\\\\\\\\\\\\": {}, \\\\\\\\\\\\\"isEnabled\\\\\\\\\\\\\": true, \\\\\\\\\\\\\"name\\\\\\\\\\\\\": null, \\\\\\\\\\\\\"annotation\\\\\\\\\\\\\": null}], \\\\\\\\\\\\\"inspectors\\\\\\\\\\\\\": [], \\\\\\\\\\\\\"meta\\\\\\\\\\\\\": {\\\\\\\\\\\\\"savedDatasetId\\\\\\\\\\\\\": \\\\\\\\\\\\\"ae13ce58-5150-4be9-9cee-e68573c3f24d\\\\\\\\\\\\\", \\\\\\\\\\\\\"datasetType\\\\\\\\\\\\\": \\\\\\\\\\\\\"tabular\\\\\\\\\\\\\", \\\\\\\\\\\\\"subscriptionId\\\\\\\\\\\\\": \\\\\\\\\\\\\"81cefad3-d2c9-4f77-a466-99a7f541c7bb\\\\\\\\\\\\\", \\\\\\\\\\\\\"workspaceId\\\\\\\\\\\\\": \\\\\\\\\\\\\"5c65b991-cadc-49ed-8c5a-8ab16f4e0727\\\\\\\\\\\\\", \\\\\\\\\\\\\"workspaceLocation\\\\\\\\\\\\\": \\\\\\\\\\\\\"southcentralus\\\\\\\\\\\\\"}}\\\\\", \\\\\"activities\\\\\": 0}',\n",
       "  'EnableSubsampling': None,\n",
       "  'runTemplate': 'AutoML',\n",
       "  'azureml.runsource': 'automl',\n",
       "  'display_task_type': 'classification',\n",
       "  'dependencies_versions': '{\"azureml-widgets\": \"1.19.0\", \"azureml-train\": \"1.19.0\", \"azureml-train-restclients-hyperdrive\": \"1.19.0\", \"azureml-train-core\": \"1.19.0\", \"azureml-train-automl\": \"1.19.0\", \"azureml-train-automl-runtime\": \"1.19.0\", \"azureml-train-automl-client\": \"1.19.0\", \"azureml-tensorboard\": \"1.19.0\", \"azureml-telemetry\": \"1.19.0\", \"azureml-sdk\": \"1.19.0\", \"azureml-samples\": \"0+unknown\", \"azureml-pipeline\": \"1.19.0\", \"azureml-pipeline-steps\": \"1.19.0\", \"azureml-pipeline-core\": \"1.19.0\", \"azureml-opendatasets\": \"1.19.0\", \"azureml-model-management-sdk\": \"1.0.1b6.post1\", \"azureml-mlflow\": \"1.19.0\", \"azureml-interpret\": \"1.19.0\", \"azureml-explain-model\": \"1.19.0\", \"azureml-defaults\": \"1.19.0\", \"azureml-dataset-runtime\": \"1.19.0\", \"azureml-dataprep\": \"2.6.1\", \"azureml-dataprep-rslex\": \"1.4.0\", \"azureml-dataprep-native\": \"26.0.0\", \"azureml-datadrift\": \"1.19.0\", \"azureml-core\": \"1.19.0\", \"azureml-contrib-services\": \"1.19.0\", \"azureml-contrib-server\": \"1.19.0\", \"azureml-contrib-reinforcementlearning\": \"1.19.0\", \"azureml-contrib-pipeline-steps\": \"1.19.0\", \"azureml-contrib-notebook\": \"1.19.0\", \"azureml-contrib-interpret\": \"1.19.0\", \"azureml-contrib-gbdt\": \"1.19.0\", \"azureml-contrib-fairness\": \"1.19.0\", \"azureml-contrib-dataset\": \"1.19.0\", \"azureml-cli-common\": \"1.19.0\", \"azureml-automl-runtime\": \"1.19.0\", \"azureml-automl-core\": \"1.19.0\", \"azureml-accel-models\": \"1.19.0\"}',\n",
       "  '_aml_system_scenario_identification': 'Remote.Parent',\n",
       "  'ClientType': 'SDK',\n",
       "  'environment_cpu_name': 'AzureML-AutoML',\n",
       "  'environment_cpu_label': 'prod',\n",
       "  'environment_gpu_name': 'AzureML-AutoML-GPU',\n",
       "  'environment_gpu_label': 'prod',\n",
       "  'root_attribution': 'automl',\n",
       "  'attribution': 'AutoML',\n",
       "  'Orchestrator': 'AutoML',\n",
       "  'CancelUri': 'https://southcentralus.experiments.azureml.net/jasmine/v1.0/subscriptions/81cefad3-d2c9-4f77-a466-99a7f541c7bb/resourceGroups/aml-quickstarts-134024/providers/Microsoft.MachineLearningServices/workspaces/quick-starts-ws-134024/experimentids/e25248a2-2971-4764-89b9-ca6c61d2f739/cancel/AutoML_8c8dd2ca-7084-4f07-942d-b5295be4288a',\n",
       "  'ClientSdkVersion': '1.19.0',\n",
       "  'snapshotId': '00000000-0000-0000-0000-000000000000',\n",
       "  'SetupRunId': 'AutoML_8c8dd2ca-7084-4f07-942d-b5295be4288a_setup',\n",
       "  'SetupRunContainerId': 'dcid.AutoML_8c8dd2ca-7084-4f07-942d-b5295be4288a_setup',\n",
       "  'FeaturizationRunJsonPath': 'featurizer_container.json',\n",
       "  'FeaturizationRunId': 'AutoML_8c8dd2ca-7084-4f07-942d-b5295be4288a_featurize',\n",
       "  'ProblemInfoJsonString': '{\"dataset_num_categorical\": 0, \"is_sparse\": false, \"subsampling\": false, \"dataset_classes\": 2, \"dataset_features\": 12, \"dataset_samples\": 299, \"single_frequency_class_detected\": false}',\n",
       "  'ModelExplainRunId': 'AutoML_8c8dd2ca-7084-4f07-942d-b5295be4288a_ModelExplain',\n",
       "  'azureml.git.repository_uri': 'https://github.com/jhonatantirado/nd00333-capstone.git',\n",
       "  'mlflow.source.git.repoURL': 'https://github.com/jhonatantirado/nd00333-capstone.git',\n",
       "  'azureml.git.branch': 'master',\n",
       "  'mlflow.source.git.branch': 'master',\n",
       "  'azureml.git.commit': 'aad82a40f893a28c7285a165c14099bd2bf5077c',\n",
       "  'mlflow.source.git.commit': 'aad82a40f893a28c7285a165c14099bd2bf5077c',\n",
       "  'azureml.git.dirty': 'True'},\n",
       " 'inputDatasets': [{'dataset': {'id': 'ae13ce58-5150-4be9-9cee-e68573c3f24d'}, 'consumptionDetails': {'type': 'RunInput', 'inputName': 'training_data', 'mechanism': 'Direct'}}],\n",
       " 'outputDatasets': [],\n",
       " 'logFiles': {}}"
      ]
     },
     "execution_count": 10,
     "metadata": {},
     "output_type": "execute_result"
    }
   ],
   "source": [
    "RunDetails(remote_run).show()\n",
    "remote_run.wait_for_completion(show_output=True)"
   ]
  },
  {
   "cell_type": "markdown",
   "metadata": {},
   "source": [
    "## Best Model\n",
    "\n",
    "TODO: In the cell below, get the best model from the automl experiments and display all the properties of the model.\n",
    "\n"
   ]
  },
  {
   "cell_type": "code",
   "execution_count": 11,
   "metadata": {
    "gather": {
     "logged": 1598431425670
    },
    "jupyter": {
     "outputs_hidden": false,
     "source_hidden": false
    },
    "nteract": {
     "transient": {
      "deleting": false
     }
    },
    "scrolled": true
   },
   "outputs": [
    {
     "name": "stdout",
     "output_type": "stream",
     "text": [
      "Best Run Id:  AutoML_8c8dd2ca-7084-4f07-942d-b5295be4288a_35\n",
      "Run(Experiment: heart-failure-prediction-automl,\n",
      "Id: AutoML_8c8dd2ca-7084-4f07-942d-b5295be4288a_35,\n",
      "Type: azureml.scriptrun,\n",
      "Status: Completed)\n",
      "Pipeline(memory=None,\n",
      "         steps=[('datatransformer',\n",
      "                 DataTransformer(enable_dnn=None, enable_feature_sweeping=None,\n",
      "                                 feature_sweeping_config=None,\n",
      "                                 feature_sweeping_timeout=None,\n",
      "                                 featurization_config=None, force_text_dnn=None,\n",
      "                                 is_cross_validation=None,\n",
      "                                 is_onnx_compatible=None, logger=None,\n",
      "                                 observer=None, task=None, working_dir=None)),\n",
      "                ('prefittedsoftvotingclassifier',...\n",
      "                                                                                                reg_lambda=0.21052631578947367,\n",
      "                                                                                                silent=True,\n",
      "                                                                                                subsample=1,\n",
      "                                                                                                subsample_for_bin=200000,\n",
      "                                                                                                subsample_freq=0,\n",
      "                                                                                                verbose=-10))],\n",
      "                                                                     verbose=False))],\n",
      "                                               flatten_transform=None,\n",
      "                                               weights=[0.23076923076923078,\n",
      "                                                        0.07692307692307693,\n",
      "                                                        0.07692307692307693,\n",
      "                                                        0.07692307692307693,\n",
      "                                                        0.15384615384615385,\n",
      "                                                        0.07692307692307693,\n",
      "                                                        0.07692307692307693,\n",
      "                                                        0.07692307692307693,\n",
      "                                                        0.07692307692307693,\n",
      "                                                        0.07692307692307693]))],\n",
      "         verbose=False)\n",
      "{'log_loss': 0.38917620035312883, 'average_precision_score_weighted': 0.9252446620997656, 'f1_score_macro': 0.8365105334337797, 'f1_score_micro': 0.8662068965517242, 'norm_macro_recall': 0.6650520314290338, 'recall_score_micro': 0.8662068965517242, 'average_precision_score_macro': 0.9031835651437067, 'accuracy': 0.8662068965517242, 'precision_score_micro': 0.8662068965517242, 'AUC_weighted': 0.9082779576851661, 'recall_score_macro': 0.8325260157145168, 'weighted_accuracy': 0.8880442818344199, 'f1_score_weighted': 0.8612790206510506, 'precision_score_weighted': 0.8777449911407931, 'AUC_micro': 0.9182536662703132, 'precision_score_macro': 0.8647630208591307, 'matthews_correlation': 0.6949375410029542, 'balanced_accuracy': 0.8325260157145168, 'recall_score_weighted': 0.8662068965517242, 'average_precision_score_micro': 0.9209556938792456, 'AUC_macro': 0.9082779576851661, 'confusion_matrix': 'aml://artifactId/ExperimentRun/dcid.AutoML_8c8dd2ca-7084-4f07-942d-b5295be4288a_35/confusion_matrix', 'accuracy_table': 'aml://artifactId/ExperimentRun/dcid.AutoML_8c8dd2ca-7084-4f07-942d-b5295be4288a_35/accuracy_table'}\n"
     ]
    }
   ],
   "source": [
    "best_run, fitted_model = remote_run.get_output()\n",
    "print('Best Run Id: ', best_run.id)\n",
    "print(best_run)\n",
    "print(fitted_model)\n",
    "best_run_metrics = best_run.get_metrics()\n",
    "print(best_run_metrics)"
   ]
  },
  {
   "cell_type": "code",
   "execution_count": 12,
   "metadata": {
    "gather": {
     "logged": 1598431426111
    },
    "jupyter": {
     "outputs_hidden": false,
     "source_hidden": false
    },
    "nteract": {
     "transient": {
      "deleting": false
     }
    },
    "scrolled": true
   },
   "outputs": [
    {
     "name": "stdout",
     "output_type": "stream",
     "text": [
      "Model(workspace=Workspace.create(name='quick-starts-ws-134024', subscription_id='81cefad3-d2c9-4f77-a466-99a7f541c7bb', resource_group='aml-quickstarts-134024'), name=heart-failure-prediction-automl-model, id=heart-failure-prediction-automl-model:1, version=1, tags={'Method': 'AutoML'}, properties={'accuracy': '0.8662068965517242'})\n"
     ]
    }
   ],
   "source": [
    "#TODO: Save the best model\n",
    "model = best_run.register_model(model_name='heart-failure-prediction-automl-model',model_path='outputs/model.pkl', tags={'Method':'AutoML'}, properties={'accuracy': best_run_metrics['accuracy']})\n",
    "print(model)"
   ]
  },
  {
   "cell_type": "markdown",
   "metadata": {},
   "source": [
    "## Model Deployment\n",
    "\n",
    "Remember you have to deploy only one of the two models you trained.. Perform the steps in the rest of this notebook only if you wish to deploy this model.\n",
    "\n",
    "TODO: In the cell below, register the model, create an inference config and deploy the model as a web service."
   ]
  },
  {
   "cell_type": "code",
   "execution_count": 18,
   "metadata": {
    "gather": {
     "logged": 1598431435189
    },
    "jupyter": {
     "outputs_hidden": false,
     "source_hidden": false
    },
    "nteract": {
     "transient": {
      "deleting": false
     }
    },
    "scrolled": true
   },
   "outputs": [
    {
     "name": "stdout",
     "output_type": "stream",
     "text": [
      "Tips: You can try get_logs(): https://aka.ms/debugimage#dockerlog or local deployment: https://aka.ms/debugimage#debug-locally to debug if deployment takes longer than 10 minutes.\n",
      "Running..............................................................................................................................\n",
      "Failed\n"
     ]
    },
    {
     "name": "stderr",
     "output_type": "stream",
     "text": [
      "ERROR:azureml.core.webservice.webservice:Service deployment polling reached non-successful terminal state, current service state: Failed\n",
      "Operation ID: d301e5a6-fd80-4795-8c64-d864921c0935\n",
      "More information can be found using '.get_logs()'\n",
      "Error:\n",
      "{\n",
      "  \"code\": \"AciDeploymentFailed\",\n",
      "  \"message\": \"Aci Deployment failed with exception: Your container application crashed. This may be caused by errors in your scoring file's init() function.\\nPlease check the logs for your container instance: heartfailurepredictionautoml. From the AML SDK, you can run print(service.get_logs()) if you have service object to fetch the logs. \\nYou can interactively debug your scoring file locally. Please refer to https://docs.microsoft.com/azure/machine-learning/how-to-debug-visual-studio-code#debug-and-troubleshoot-deployments for more information.\\nYou can also try to run image 5c65b991cadc49ed8c5a8ab16f4e0727.azurecr.io/azureml/azureml_332af2f613f1ab6ba8a19ed285985ed3 locally. Please refer to https://aka.ms/debugimage#service-launch-fails for more information.\",\n",
      "  \"details\": [\n",
      "    {\n",
      "      \"code\": \"CrashLoopBackOff\",\n",
      "      \"message\": \"Your container application crashed. This may be caused by errors in your scoring file's init() function.\\nPlease check the logs for your container instance: heartfailurepredictionautoml. From the AML SDK, you can run print(service.get_logs()) if you have service object to fetch the logs. \\nYou can interactively debug your scoring file locally. Please refer to https://docs.microsoft.com/azure/machine-learning/how-to-debug-visual-studio-code#debug-and-troubleshoot-deployments for more information.\\nYou can also try to run image 5c65b991cadc49ed8c5a8ab16f4e0727.azurecr.io/azureml/azureml_332af2f613f1ab6ba8a19ed285985ed3 locally. Please refer to https://aka.ms/debugimage#service-launch-fails for more information.\"\n",
      "    },\n",
      "    {\n",
      "      \"code\": \"AciDeploymentFailed\",\n",
      "      \"message\": \"Your container application crashed. Please follow the steps to debug:\\n1. From the AML SDK, you can run print(service.get_logs()) if you have service object to fetch the logs. Please refer to https://aka.ms/debugimage#dockerlog for more information.\\n2. If your container application crashed. This may be caused by errors in your scoring file's init() function. You can try debugging locally first. Please refer to https://aka.ms/debugimage#debug-locally for more information.\\n3. You can also interactively debug your scoring file locally. Please refer to https://docs.microsoft.com/azure/machine-learning/how-to-debug-visual-studio-code#debug-and-troubleshoot-deployments for more information.\\n4. View the diagnostic events to check status of container, it may help you to debug the issue. {\\\"restartCount\\\":5,\\\"currentState\\\":{\\\"state\\\":\\\"Waiting\\\",\\\"startTime\\\":null,\\\"exitCode\\\":null,\\\"finishTime\\\":null,\\\"detailStatus\\\":\\\"CrashLoopBackOff: Back-off restarting failed\\\"},\\\"previousState\\\":{\\\"state\\\":\\\"Terminated\\\",\\\"startTime\\\":\\\"2021-01-08T22:38:00.25Z\\\",\\\"exitCode\\\":111,\\\"finishTime\\\":\\\"2021-01-08T22:38:04.966Z\\\",\\\"detailStatus\\\":\\\"Error\\\"},\\\"events\\\":null}\"\n",
      "    }\n",
      "  ]\n",
      "}\n",
      "\n"
     ]
    },
    {
     "ename": "WebserviceException",
     "evalue": "WebserviceException:\n\tMessage: Service deployment polling reached non-successful terminal state, current service state: Failed\nOperation ID: d301e5a6-fd80-4795-8c64-d864921c0935\nMore information can be found using '.get_logs()'\nError:\n{\n  \"code\": \"AciDeploymentFailed\",\n  \"message\": \"Aci Deployment failed with exception: Your container application crashed. This may be caused by errors in your scoring file's init() function.\\nPlease check the logs for your container instance: heartfailurepredictionautoml. From the AML SDK, you can run print(service.get_logs()) if you have service object to fetch the logs. \\nYou can interactively debug your scoring file locally. Please refer to https://docs.microsoft.com/azure/machine-learning/how-to-debug-visual-studio-code#debug-and-troubleshoot-deployments for more information.\\nYou can also try to run image 5c65b991cadc49ed8c5a8ab16f4e0727.azurecr.io/azureml/azureml_332af2f613f1ab6ba8a19ed285985ed3 locally. Please refer to https://aka.ms/debugimage#service-launch-fails for more information.\",\n  \"details\": [\n    {\n      \"code\": \"CrashLoopBackOff\",\n      \"message\": \"Your container application crashed. This may be caused by errors in your scoring file's init() function.\\nPlease check the logs for your container instance: heartfailurepredictionautoml. From the AML SDK, you can run print(service.get_logs()) if you have service object to fetch the logs. \\nYou can interactively debug your scoring file locally. Please refer to https://docs.microsoft.com/azure/machine-learning/how-to-debug-visual-studio-code#debug-and-troubleshoot-deployments for more information.\\nYou can also try to run image 5c65b991cadc49ed8c5a8ab16f4e0727.azurecr.io/azureml/azureml_332af2f613f1ab6ba8a19ed285985ed3 locally. Please refer to https://aka.ms/debugimage#service-launch-fails for more information.\"\n    },\n    {\n      \"code\": \"AciDeploymentFailed\",\n      \"message\": \"Your container application crashed. Please follow the steps to debug:\\n1. From the AML SDK, you can run print(service.get_logs()) if you have service object to fetch the logs. Please refer to https://aka.ms/debugimage#dockerlog for more information.\\n2. If your container application crashed. This may be caused by errors in your scoring file's init() function. You can try debugging locally first. Please refer to https://aka.ms/debugimage#debug-locally for more information.\\n3. You can also interactively debug your scoring file locally. Please refer to https://docs.microsoft.com/azure/machine-learning/how-to-debug-visual-studio-code#debug-and-troubleshoot-deployments for more information.\\n4. View the diagnostic events to check status of container, it may help you to debug the issue. {\\\"restartCount\\\":5,\\\"currentState\\\":{\\\"state\\\":\\\"Waiting\\\",\\\"startTime\\\":null,\\\"exitCode\\\":null,\\\"finishTime\\\":null,\\\"detailStatus\\\":\\\"CrashLoopBackOff: Back-off restarting failed\\\"},\\\"previousState\\\":{\\\"state\\\":\\\"Terminated\\\",\\\"startTime\\\":\\\"2021-01-08T22:38:00.25Z\\\",\\\"exitCode\\\":111,\\\"finishTime\\\":\\\"2021-01-08T22:38:04.966Z\\\",\\\"detailStatus\\\":\\\"Error\\\"},\\\"events\\\":null}\"\n    }\n  ]\n}\n\tInnerException None\n\tErrorResponse \n{\n    \"error\": {\n        \"message\": \"Service deployment polling reached non-successful terminal state, current service state: Failed\\nOperation ID: d301e5a6-fd80-4795-8c64-d864921c0935\\nMore information can be found using '.get_logs()'\\nError:\\n{\\n  \\\"code\\\": \\\"AciDeploymentFailed\\\",\\n  \\\"message\\\": \\\"Aci Deployment failed with exception: Your container application crashed. This may be caused by errors in your scoring file's init() function.\\\\nPlease check the logs for your container instance: heartfailurepredictionautoml. From the AML SDK, you can run print(service.get_logs()) if you have service object to fetch the logs. \\\\nYou can interactively debug your scoring file locally. Please refer to https://docs.microsoft.com/azure/machine-learning/how-to-debug-visual-studio-code#debug-and-troubleshoot-deployments for more information.\\\\nYou can also try to run image 5c65b991cadc49ed8c5a8ab16f4e0727.azurecr.io/azureml/azureml_332af2f613f1ab6ba8a19ed285985ed3 locally. Please refer to https://aka.ms/debugimage#service-launch-fails for more information.\\\",\\n  \\\"details\\\": [\\n    {\\n      \\\"code\\\": \\\"CrashLoopBackOff\\\",\\n      \\\"message\\\": \\\"Your container application crashed. This may be caused by errors in your scoring file's init() function.\\\\nPlease check the logs for your container instance: heartfailurepredictionautoml. From the AML SDK, you can run print(service.get_logs()) if you have service object to fetch the logs. \\\\nYou can interactively debug your scoring file locally. Please refer to https://docs.microsoft.com/azure/machine-learning/how-to-debug-visual-studio-code#debug-and-troubleshoot-deployments for more information.\\\\nYou can also try to run image 5c65b991cadc49ed8c5a8ab16f4e0727.azurecr.io/azureml/azureml_332af2f613f1ab6ba8a19ed285985ed3 locally. Please refer to https://aka.ms/debugimage#service-launch-fails for more information.\\\"\\n    },\\n    {\\n      \\\"code\\\": \\\"AciDeploymentFailed\\\",\\n      \\\"message\\\": \\\"Your container application crashed. Please follow the steps to debug:\\\\n1. From the AML SDK, you can run print(service.get_logs()) if you have service object to fetch the logs. Please refer to https://aka.ms/debugimage#dockerlog for more information.\\\\n2. If your container application crashed. This may be caused by errors in your scoring file's init() function. You can try debugging locally first. Please refer to https://aka.ms/debugimage#debug-locally for more information.\\\\n3. You can also interactively debug your scoring file locally. Please refer to https://docs.microsoft.com/azure/machine-learning/how-to-debug-visual-studio-code#debug-and-troubleshoot-deployments for more information.\\\\n4. View the diagnostic events to check status of container, it may help you to debug the issue. {\\\\\\\"restartCount\\\\\\\":5,\\\\\\\"currentState\\\\\\\":{\\\\\\\"state\\\\\\\":\\\\\\\"Waiting\\\\\\\",\\\\\\\"startTime\\\\\\\":null,\\\\\\\"exitCode\\\\\\\":null,\\\\\\\"finishTime\\\\\\\":null,\\\\\\\"detailStatus\\\\\\\":\\\\\\\"CrashLoopBackOff: Back-off restarting failed\\\\\\\"},\\\\\\\"previousState\\\\\\\":{\\\\\\\"state\\\\\\\":\\\\\\\"Terminated\\\\\\\",\\\\\\\"startTime\\\\\\\":\\\\\\\"2021-01-08T22:38:00.25Z\\\\\\\",\\\\\\\"exitCode\\\\\\\":111,\\\\\\\"finishTime\\\\\\\":\\\\\\\"2021-01-08T22:38:04.966Z\\\\\\\",\\\\\\\"detailStatus\\\\\\\":\\\\\\\"Error\\\\\\\"},\\\\\\\"events\\\\\\\":null}\\\"\\n    }\\n  ]\\n}\"\n    }\n}",
     "output_type": "error",
     "traceback": [
      "\u001b[0;31m---------------------------------------------------------------------------\u001b[0m",
      "\u001b[0;31mWebserviceException\u001b[0m                       Traceback (most recent call last)",
      "\u001b[0;32m<ipython-input-18-06cc4c405c9b>\u001b[0m in \u001b[0;36m<module>\u001b[0;34m\u001b[0m\n\u001b[1;32m     19\u001b[0m \u001b[0mdeployment_config\u001b[0m \u001b[0;34m=\u001b[0m \u001b[0mAciWebservice\u001b[0m\u001b[0;34m.\u001b[0m\u001b[0mdeploy_configuration\u001b[0m\u001b[0;34m(\u001b[0m\u001b[0mcpu_cores\u001b[0m \u001b[0;34m=\u001b[0m \u001b[0;36m1\u001b[0m\u001b[0;34m,\u001b[0m \u001b[0mmemory_gb\u001b[0m \u001b[0;34m=\u001b[0m \u001b[0;36m1\u001b[0m\u001b[0;34m)\u001b[0m\u001b[0;34m\u001b[0m\u001b[0;34m\u001b[0m\u001b[0m\n\u001b[1;32m     20\u001b[0m \u001b[0mservice\u001b[0m \u001b[0;34m=\u001b[0m \u001b[0mModel\u001b[0m\u001b[0;34m.\u001b[0m\u001b[0mdeploy\u001b[0m\u001b[0;34m(\u001b[0m\u001b[0mws\u001b[0m\u001b[0;34m,\u001b[0m \u001b[0mservice_name\u001b[0m\u001b[0;34m,\u001b[0m \u001b[0;34m[\u001b[0m\u001b[0mmodel\u001b[0m\u001b[0;34m]\u001b[0m\u001b[0;34m,\u001b[0m \u001b[0minference_config\u001b[0m\u001b[0;34m,\u001b[0m \u001b[0mdeployment_config\u001b[0m\u001b[0;34m)\u001b[0m\u001b[0;34m\u001b[0m\u001b[0;34m\u001b[0m\u001b[0m\n\u001b[0;32m---> 21\u001b[0;31m \u001b[0mservice\u001b[0m\u001b[0;34m.\u001b[0m\u001b[0mwait_for_deployment\u001b[0m\u001b[0;34m(\u001b[0m\u001b[0mshow_output\u001b[0m \u001b[0;34m=\u001b[0m \u001b[0;32mTrue\u001b[0m\u001b[0;34m)\u001b[0m\u001b[0;34m\u001b[0m\u001b[0;34m\u001b[0m\u001b[0m\n\u001b[0m\u001b[1;32m     22\u001b[0m \u001b[0mprint\u001b[0m\u001b[0;34m(\u001b[0m\u001b[0mservice\u001b[0m\u001b[0;34m.\u001b[0m\u001b[0mstate\u001b[0m\u001b[0;34m)\u001b[0m\u001b[0;34m\u001b[0m\u001b[0;34m\u001b[0m\u001b[0m\n",
      "\u001b[0;32m/anaconda/envs/azureml_py36/lib/python3.6/site-packages/azureml/core/webservice/webservice.py\u001b[0m in \u001b[0;36mwait_for_deployment\u001b[0;34m(self, show_output, timeout_sec)\u001b[0m\n\u001b[1;32m    913\u001b[0m                                           \u001b[0;34m'Error:\\n'\u001b[0m\u001b[0;34m\u001b[0m\u001b[0;34m\u001b[0m\u001b[0m\n\u001b[1;32m    914\u001b[0m                                           '{}'.format(self.state, self._operation_endpoint.split('/')[-1],\n\u001b[0;32m--> 915\u001b[0;31m                                                       logs_response, error_response), logger=module_logger)\n\u001b[0m\u001b[1;32m    916\u001b[0m             print('{} service creation operation finished, operation \"{}\"'.format(self._webservice_type,\n\u001b[1;32m    917\u001b[0m                                                                                   operation_state))\n",
      "\u001b[0;31mWebserviceException\u001b[0m: WebserviceException:\n\tMessage: Service deployment polling reached non-successful terminal state, current service state: Failed\nOperation ID: d301e5a6-fd80-4795-8c64-d864921c0935\nMore information can be found using '.get_logs()'\nError:\n{\n  \"code\": \"AciDeploymentFailed\",\n  \"message\": \"Aci Deployment failed with exception: Your container application crashed. This may be caused by errors in your scoring file's init() function.\\nPlease check the logs for your container instance: heartfailurepredictionautoml. From the AML SDK, you can run print(service.get_logs()) if you have service object to fetch the logs. \\nYou can interactively debug your scoring file locally. Please refer to https://docs.microsoft.com/azure/machine-learning/how-to-debug-visual-studio-code#debug-and-troubleshoot-deployments for more information.\\nYou can also try to run image 5c65b991cadc49ed8c5a8ab16f4e0727.azurecr.io/azureml/azureml_332af2f613f1ab6ba8a19ed285985ed3 locally. Please refer to https://aka.ms/debugimage#service-launch-fails for more information.\",\n  \"details\": [\n    {\n      \"code\": \"CrashLoopBackOff\",\n      \"message\": \"Your container application crashed. This may be caused by errors in your scoring file's init() function.\\nPlease check the logs for your container instance: heartfailurepredictionautoml. From the AML SDK, you can run print(service.get_logs()) if you have service object to fetch the logs. \\nYou can interactively debug your scoring file locally. Please refer to https://docs.microsoft.com/azure/machine-learning/how-to-debug-visual-studio-code#debug-and-troubleshoot-deployments for more information.\\nYou can also try to run image 5c65b991cadc49ed8c5a8ab16f4e0727.azurecr.io/azureml/azureml_332af2f613f1ab6ba8a19ed285985ed3 locally. Please refer to https://aka.ms/debugimage#service-launch-fails for more information.\"\n    },\n    {\n      \"code\": \"AciDeploymentFailed\",\n      \"message\": \"Your container application crashed. Please follow the steps to debug:\\n1. From the AML SDK, you can run print(service.get_logs()) if you have service object to fetch the logs. Please refer to https://aka.ms/debugimage#dockerlog for more information.\\n2. If your container application crashed. This may be caused by errors in your scoring file's init() function. You can try debugging locally first. Please refer to https://aka.ms/debugimage#debug-locally for more information.\\n3. You can also interactively debug your scoring file locally. Please refer to https://docs.microsoft.com/azure/machine-learning/how-to-debug-visual-studio-code#debug-and-troubleshoot-deployments for more information.\\n4. View the diagnostic events to check status of container, it may help you to debug the issue. {\\\"restartCount\\\":5,\\\"currentState\\\":{\\\"state\\\":\\\"Waiting\\\",\\\"startTime\\\":null,\\\"exitCode\\\":null,\\\"finishTime\\\":null,\\\"detailStatus\\\":\\\"CrashLoopBackOff: Back-off restarting failed\\\"},\\\"previousState\\\":{\\\"state\\\":\\\"Terminated\\\",\\\"startTime\\\":\\\"2021-01-08T22:38:00.25Z\\\",\\\"exitCode\\\":111,\\\"finishTime\\\":\\\"2021-01-08T22:38:04.966Z\\\",\\\"detailStatus\\\":\\\"Error\\\"},\\\"events\\\":null}\"\n    }\n  ]\n}\n\tInnerException None\n\tErrorResponse \n{\n    \"error\": {\n        \"message\": \"Service deployment polling reached non-successful terminal state, current service state: Failed\\nOperation ID: d301e5a6-fd80-4795-8c64-d864921c0935\\nMore information can be found using '.get_logs()'\\nError:\\n{\\n  \\\"code\\\": \\\"AciDeploymentFailed\\\",\\n  \\\"message\\\": \\\"Aci Deployment failed with exception: Your container application crashed. This may be caused by errors in your scoring file's init() function.\\\\nPlease check the logs for your container instance: heartfailurepredictionautoml. From the AML SDK, you can run print(service.get_logs()) if you have service object to fetch the logs. \\\\nYou can interactively debug your scoring file locally. Please refer to https://docs.microsoft.com/azure/machine-learning/how-to-debug-visual-studio-code#debug-and-troubleshoot-deployments for more information.\\\\nYou can also try to run image 5c65b991cadc49ed8c5a8ab16f4e0727.azurecr.io/azureml/azureml_332af2f613f1ab6ba8a19ed285985ed3 locally. Please refer to https://aka.ms/debugimage#service-launch-fails for more information.\\\",\\n  \\\"details\\\": [\\n    {\\n      \\\"code\\\": \\\"CrashLoopBackOff\\\",\\n      \\\"message\\\": \\\"Your container application crashed. This may be caused by errors in your scoring file's init() function.\\\\nPlease check the logs for your container instance: heartfailurepredictionautoml. From the AML SDK, you can run print(service.get_logs()) if you have service object to fetch the logs. \\\\nYou can interactively debug your scoring file locally. Please refer to https://docs.microsoft.com/azure/machine-learning/how-to-debug-visual-studio-code#debug-and-troubleshoot-deployments for more information.\\\\nYou can also try to run image 5c65b991cadc49ed8c5a8ab16f4e0727.azurecr.io/azureml/azureml_332af2f613f1ab6ba8a19ed285985ed3 locally. Please refer to https://aka.ms/debugimage#service-launch-fails for more information.\\\"\\n    },\\n    {\\n      \\\"code\\\": \\\"AciDeploymentFailed\\\",\\n      \\\"message\\\": \\\"Your container application crashed. Please follow the steps to debug:\\\\n1. From the AML SDK, you can run print(service.get_logs()) if you have service object to fetch the logs. Please refer to https://aka.ms/debugimage#dockerlog for more information.\\\\n2. If your container application crashed. This may be caused by errors in your scoring file's init() function. You can try debugging locally first. Please refer to https://aka.ms/debugimage#debug-locally for more information.\\\\n3. You can also interactively debug your scoring file locally. Please refer to https://docs.microsoft.com/azure/machine-learning/how-to-debug-visual-studio-code#debug-and-troubleshoot-deployments for more information.\\\\n4. View the diagnostic events to check status of container, it may help you to debug the issue. {\\\\\\\"restartCount\\\\\\\":5,\\\\\\\"currentState\\\\\\\":{\\\\\\\"state\\\\\\\":\\\\\\\"Waiting\\\\\\\",\\\\\\\"startTime\\\\\\\":null,\\\\\\\"exitCode\\\\\\\":null,\\\\\\\"finishTime\\\\\\\":null,\\\\\\\"detailStatus\\\\\\\":\\\\\\\"CrashLoopBackOff: Back-off restarting failed\\\\\\\"},\\\\\\\"previousState\\\\\\\":{\\\\\\\"state\\\\\\\":\\\\\\\"Terminated\\\\\\\",\\\\\\\"startTime\\\\\\\":\\\\\\\"2021-01-08T22:38:00.25Z\\\\\\\",\\\\\\\"exitCode\\\\\\\":111,\\\\\\\"finishTime\\\\\\\":\\\\\\\"2021-01-08T22:38:04.966Z\\\\\\\",\\\\\\\"detailStatus\\\\\\\":\\\\\\\"Error\\\\\\\"},\\\\\\\"events\\\\\\\":null}\\\"\\n    }\\n  ]\\n}\"\n    }\n}"
     ]
    }
   ],
   "source": [
    "from azureml.core.webservice import AciWebservice, Webservice\n",
    "from azureml.core.model import Model, InferenceConfig\n",
    "from azureml.core import Environment\n",
    "from azureml.core.conda_dependencies import CondaDependencies\n",
    "\n",
    "env = Environment('automl-environment')\n",
    "env.python.conda_dependencies = CondaDependencies.create(pip_packages=[\n",
    "    'azureml-defaults',\n",
    "    'inference-schema[numpy-support]',\n",
    "    'joblib',\n",
    "    'numpy'\n",
    "])\n",
    "\n",
    "inference_config = InferenceConfig(entry_script='score.py',\n",
    "                                    environment=env)\n",
    "\n",
    "service_name = 'heartfailurepredictionautoml'\n",
    "\n",
    "deployment_config = AciWebservice.deploy_configuration(cpu_cores = 1, memory_gb = 1)\n",
    "service = Model.deploy(ws, service_name, [model], inference_config, deployment_config)\n",
    "service.wait_for_deployment(show_output = True)\n",
    "print(service.state)"
   ]
  },
  {
   "cell_type": "markdown",
   "metadata": {
    "collapsed": true,
    "gather": {
     "logged": 1598431657736
    },
    "jupyter": {
     "outputs_hidden": false,
     "source_hidden": false
    },
    "nteract": {
     "transient": {
      "deleting": false
     }
    }
   },
   "source": [
    "TODO: In the cell below, send a request to the web service you deployed to test it."
   ]
  },
  {
   "cell_type": "code",
   "execution_count": null,
   "metadata": {
    "gather": {
     "logged": 1598432707604
    },
    "jupyter": {
     "outputs_hidden": false,
     "source_hidden": false
    },
    "nteract": {
     "transient": {
      "deleting": false
     }
    },
    "scrolled": true
   },
   "outputs": [],
   "source": [
    "input_payload = json.dumps({\n",
    "    'data': dataset_x[0:2].tolist()\n",
    "})\n",
    "\n",
    "output = service.run(input_payload)\n",
    "\n",
    "print(output)"
   ]
  },
  {
   "cell_type": "markdown",
   "metadata": {
    "collapsed": true,
    "gather": {
     "logged": 1598432765711
    },
    "jupyter": {
     "outputs_hidden": false,
     "source_hidden": false
    },
    "nteract": {
     "transient": {
      "deleting": false
     }
    }
   },
   "source": [
    "TODO: In the cell below, print the logs of the web service and delete the service"
   ]
  },
  {
   "cell_type": "code",
   "execution_count": null,
   "metadata": {
    "jupyter": {
     "outputs_hidden": false,
     "source_hidden": false
    },
    "nteract": {
     "transient": {
      "deleting": false
     }
    },
    "scrolled": true
   },
   "outputs": [],
   "source": [
    "service.delete()"
   ]
  }
 ],
 "metadata": {
  "kernel_info": {
   "name": "python3-azureml"
  },
  "kernelspec": {
   "display_name": "Python 3",
   "language": "python",
   "name": "python3"
  },
  "language_info": {
   "codemirror_mode": {
    "name": "ipython",
    "version": 3
   },
   "file_extension": ".py",
   "mimetype": "text/x-python",
   "name": "python",
   "nbconvert_exporter": "python",
   "pygments_lexer": "ipython3",
   "version": "3.6.9"
  },
  "nteract": {
   "version": "nteract-front-end@1.0.0"
  }
 },
 "nbformat": 4,
 "nbformat_minor": 2
}
